{
  "cells": [
    {
      "metadata": {},
      "cell_type": "markdown",
      "source": "# Part 4"
    },
    {
      "metadata": {},
      "cell_type": "markdown",
      "source": "## Reading and writing text files"
    },
    {
      "metadata": {
        "trusted": true
      },
      "cell_type": "code",
      "source": "import numpy as np\nimport pandas as pd\nfrom pandas import Series,DataFrame",
      "execution_count": 1,
      "outputs": []
    },
    {
      "metadata": {
        "trusted": true
      },
      "cell_type": "code",
      "source": "import os\nos.getcwd()",
      "execution_count": 2,
      "outputs": [
        {
          "output_type": "execute_result",
          "execution_count": 2,
          "data": {
            "text/plain": "'/home/nbuser/library'"
          },
          "metadata": {}
        }
      ]
    },
    {
      "metadata": {
        "trusted": true
      },
      "cell_type": "code",
      "source": "os.chdir(\"data/\") # same as R:setwd('')",
      "execution_count": 4,
      "outputs": []
    },
    {
      "metadata": {
        "trusted": true
      },
      "cell_type": "code",
      "source": "os.listdir()",
      "execution_count": 5,
      "outputs": [
        {
          "output_type": "execute_result",
          "execution_count": 5,
          "data": {
            "text/plain": "['nfl_frame.csv',\n 'test3.csv',\n 'dummydata2.csv',\n 'test.csv',\n 'dummydata1.csv',\n 'dummydata11.csv',\n 'tips.csv',\n 'flights.csv',\n 'test2.txt',\n 'redwines.csv']"
          },
          "metadata": {}
        }
      ]
    },
    {
      "metadata": {},
      "cell_type": "markdown",
      "source": "Files can be read using functions such as *read()* and *readlines()*, or by treating the file as an iterable object  of lines and working with the lines directly.\n\nHowever in data science and analytics, we most commonly work with rectangular data stored in a familiar format such as CSV"
    },
    {
      "metadata": {
        "trusted": true
      },
      "cell_type": "code",
      "source": "dframe = pd.read_csv(\"dummydata1.csv\",header = None) # R:read.csv",
      "execution_count": 6,
      "outputs": []
    },
    {
      "metadata": {
        "trusted": true
      },
      "cell_type": "code",
      "source": "dframe",
      "execution_count": 8,
      "outputs": [
        {
          "output_type": "execute_result",
          "execution_count": 8,
          "data": {
            "text/plain": "   0  1  2  3       4\n0  q  r  s  t   apple\n1  2  3  4  5    pear\n2  a  s  d  f  rabbit\n3  5  2  5  7     dog",
            "text/html": "<div>\n<table border=\"1\" class=\"dataframe\">\n  <thead>\n    <tr style=\"text-align: right;\">\n      <th></th>\n      <th>0</th>\n      <th>1</th>\n      <th>2</th>\n      <th>3</th>\n      <th>4</th>\n    </tr>\n  </thead>\n  <tbody>\n    <tr>\n      <th>0</th>\n      <td>q</td>\n      <td>r</td>\n      <td>s</td>\n      <td>t</td>\n      <td>apple</td>\n    </tr>\n    <tr>\n      <th>1</th>\n      <td>2</td>\n      <td>3</td>\n      <td>4</td>\n      <td>5</td>\n      <td>pear</td>\n    </tr>\n    <tr>\n      <th>2</th>\n      <td>a</td>\n      <td>s</td>\n      <td>d</td>\n      <td>f</td>\n      <td>rabbit</td>\n    </tr>\n    <tr>\n      <th>3</th>\n      <td>5</td>\n      <td>2</td>\n      <td>5</td>\n      <td>7</td>\n      <td>dog</td>\n    </tr>\n  </tbody>\n</table>\n</div>"
          },
          "metadata": {}
        }
      ]
    },
    {
      "metadata": {
        "collapsed": true
      },
      "cell_type": "markdown",
      "source": "You don't actually HAVE to change directory; instead, you can leave your working directory unchanged and specify the file path when reading:\n\n*e.g.* `read_csv(\"D:/Training/Datasets/dummydata1.csv\")`"
    },
    {
      "metadata": {},
      "cell_type": "markdown",
      "source": "#### File modes\n\nWhen you open a file, by default it is opened in read mode. However this is not the only mode available. The mode of a file object states whether the file connection that we have opened will treat the file as containing text or binary data and whether we will be reading from or writing to the file or both. The following is a table of modes that file objects can have in Python3.\n\n| Character | Meaning                                                         |\n|-----------|-----------------------------------------------------------------|\n| r         | open for reading (default)                                      |\n| w         | open for writing, truncating the file first                     |\n| x         | open for exclusive creation, failing if the file already exists |\n| a         | open for writing, appending to the end of the file if it exists |\n| b         | binary mode                                                     |\n| t         | text mode (default)                                             |\n| +         | open a disk file for updating (reading and writing)             |"
    },
    {
      "metadata": {
        "trusted": true
      },
      "cell_type": "code",
      "source": "dframe # first row taken as headers",
      "execution_count": 9,
      "outputs": [
        {
          "output_type": "execute_result",
          "execution_count": 9,
          "data": {
            "text/plain": "   0  1  2  3       4\n0  q  r  s  t   apple\n1  2  3  4  5    pear\n2  a  s  d  f  rabbit\n3  5  2  5  7     dog",
            "text/html": "<div>\n<table border=\"1\" class=\"dataframe\">\n  <thead>\n    <tr style=\"text-align: right;\">\n      <th></th>\n      <th>0</th>\n      <th>1</th>\n      <th>2</th>\n      <th>3</th>\n      <th>4</th>\n    </tr>\n  </thead>\n  <tbody>\n    <tr>\n      <th>0</th>\n      <td>q</td>\n      <td>r</td>\n      <td>s</td>\n      <td>t</td>\n      <td>apple</td>\n    </tr>\n    <tr>\n      <th>1</th>\n      <td>2</td>\n      <td>3</td>\n      <td>4</td>\n      <td>5</td>\n      <td>pear</td>\n    </tr>\n    <tr>\n      <th>2</th>\n      <td>a</td>\n      <td>s</td>\n      <td>d</td>\n      <td>f</td>\n      <td>rabbit</td>\n    </tr>\n    <tr>\n      <th>3</th>\n      <td>5</td>\n      <td>2</td>\n      <td>5</td>\n      <td>7</td>\n      <td>dog</td>\n    </tr>\n  </tbody>\n</table>\n</div>"
          },
          "metadata": {}
        }
      ]
    },
    {
      "metadata": {
        "trusted": true
      },
      "cell_type": "code",
      "source": "dframe = pd.read_csv(\"dummydata1.csv\",header = None)\ndframe",
      "execution_count": 11,
      "outputs": [
        {
          "output_type": "execute_result",
          "execution_count": 11,
          "data": {
            "text/plain": "   0  1  2  3       4\n0  q  r  s  t   apple\n1  2  3  4  5    pear\n2  a  s  d  f  rabbit\n3  5  2  5  7     dog",
            "text/html": "<div>\n<table border=\"1\" class=\"dataframe\">\n  <thead>\n    <tr style=\"text-align: right;\">\n      <th></th>\n      <th>0</th>\n      <th>1</th>\n      <th>2</th>\n      <th>3</th>\n      <th>4</th>\n    </tr>\n  </thead>\n  <tbody>\n    <tr>\n      <th>0</th>\n      <td>q</td>\n      <td>r</td>\n      <td>s</td>\n      <td>t</td>\n      <td>apple</td>\n    </tr>\n    <tr>\n      <th>1</th>\n      <td>2</td>\n      <td>3</td>\n      <td>4</td>\n      <td>5</td>\n      <td>pear</td>\n    </tr>\n    <tr>\n      <th>2</th>\n      <td>a</td>\n      <td>s</td>\n      <td>d</td>\n      <td>f</td>\n      <td>rabbit</td>\n    </tr>\n    <tr>\n      <th>3</th>\n      <td>5</td>\n      <td>2</td>\n      <td>5</td>\n      <td>7</td>\n      <td>dog</td>\n    </tr>\n  </tbody>\n</table>\n</div>"
          },
          "metadata": {}
        }
      ]
    },
    {
      "metadata": {
        "trusted": true
      },
      "cell_type": "code",
      "source": "dframe",
      "execution_count": 12,
      "outputs": [
        {
          "output_type": "execute_result",
          "execution_count": 12,
          "data": {
            "text/plain": "   0  1  2  3       4\n0  q  r  s  t   apple\n1  2  3  4  5    pear\n2  a  s  d  f  rabbit\n3  5  2  5  7     dog",
            "text/html": "<div>\n<table border=\"1\" class=\"dataframe\">\n  <thead>\n    <tr style=\"text-align: right;\">\n      <th></th>\n      <th>0</th>\n      <th>1</th>\n      <th>2</th>\n      <th>3</th>\n      <th>4</th>\n    </tr>\n  </thead>\n  <tbody>\n    <tr>\n      <th>0</th>\n      <td>q</td>\n      <td>r</td>\n      <td>s</td>\n      <td>t</td>\n      <td>apple</td>\n    </tr>\n    <tr>\n      <th>1</th>\n      <td>2</td>\n      <td>3</td>\n      <td>4</td>\n      <td>5</td>\n      <td>pear</td>\n    </tr>\n    <tr>\n      <th>2</th>\n      <td>a</td>\n      <td>s</td>\n      <td>d</td>\n      <td>f</td>\n      <td>rabbit</td>\n    </tr>\n    <tr>\n      <th>3</th>\n      <td>5</td>\n      <td>2</td>\n      <td>5</td>\n      <td>7</td>\n      <td>dog</td>\n    </tr>\n  </tbody>\n</table>\n</div>"
          },
          "metadata": {}
        }
      ]
    },
    {
      "metadata": {
        "trusted": true
      },
      "cell_type": "code",
      "source": "dframe = pd.read_table(\"dummydata11.csv\",sep = '|') # generic delimited file input; R:read.table\ndframe",
      "execution_count": 13,
      "outputs": [
        {
          "output_type": "execute_result",
          "execution_count": 13,
          "data": {
            "text/plain": "  Col1 Col2 Col3    Col4\nq    r    s    t   apple\n2    3    4    5    pear\na    s    d    f  rabbit\n5    2    5    7     dog",
            "text/html": "<div>\n<table border=\"1\" class=\"dataframe\">\n  <thead>\n    <tr style=\"text-align: right;\">\n      <th></th>\n      <th>Col1</th>\n      <th>Col2</th>\n      <th>Col3</th>\n      <th>Col4</th>\n    </tr>\n  </thead>\n  <tbody>\n    <tr>\n      <th>q</th>\n      <td>r</td>\n      <td>s</td>\n      <td>t</td>\n      <td>apple</td>\n    </tr>\n    <tr>\n      <th>2</th>\n      <td>3</td>\n      <td>4</td>\n      <td>5</td>\n      <td>pear</td>\n    </tr>\n    <tr>\n      <th>a</th>\n      <td>s</td>\n      <td>d</td>\n      <td>f</td>\n      <td>rabbit</td>\n    </tr>\n    <tr>\n      <th>5</th>\n      <td>2</td>\n      <td>5</td>\n      <td>7</td>\n      <td>dog</td>\n    </tr>\n  </tbody>\n</table>\n</div>"
          },
          "metadata": {}
        }
      ]
    },
    {
      "metadata": {
        "trusted": true
      },
      "cell_type": "code",
      "source": "pd.read_csv(\"dummydata1.csv\",header = None,nrows = 2) # read only a specific number of rows",
      "execution_count": 14,
      "outputs": [
        {
          "output_type": "execute_result",
          "execution_count": 14,
          "data": {
            "text/plain": "   0  1  2  3      4\n0  q  r  s  t  apple\n1  2  3  4  5   pear",
            "text/html": "<div>\n<table border=\"1\" class=\"dataframe\">\n  <thead>\n    <tr style=\"text-align: right;\">\n      <th></th>\n      <th>0</th>\n      <th>1</th>\n      <th>2</th>\n      <th>3</th>\n      <th>4</th>\n    </tr>\n  </thead>\n  <tbody>\n    <tr>\n      <th>0</th>\n      <td>q</td>\n      <td>r</td>\n      <td>s</td>\n      <td>t</td>\n      <td>apple</td>\n    </tr>\n    <tr>\n      <th>1</th>\n      <td>2</td>\n      <td>3</td>\n      <td>4</td>\n      <td>5</td>\n      <td>pear</td>\n    </tr>\n  </tbody>\n</table>\n</div>"
          },
          "metadata": {}
        }
      ]
    },
    {
      "metadata": {
        "trusted": true
      },
      "cell_type": "code",
      "source": "dframe",
      "execution_count": 15,
      "outputs": [
        {
          "output_type": "execute_result",
          "execution_count": 15,
          "data": {
            "text/plain": "  Col1 Col2 Col3    Col4\nq    r    s    t   apple\n2    3    4    5    pear\na    s    d    f  rabbit\n5    2    5    7     dog",
            "text/html": "<div>\n<table border=\"1\" class=\"dataframe\">\n  <thead>\n    <tr style=\"text-align: right;\">\n      <th></th>\n      <th>Col1</th>\n      <th>Col2</th>\n      <th>Col3</th>\n      <th>Col4</th>\n    </tr>\n  </thead>\n  <tbody>\n    <tr>\n      <th>q</th>\n      <td>r</td>\n      <td>s</td>\n      <td>t</td>\n      <td>apple</td>\n    </tr>\n    <tr>\n      <th>2</th>\n      <td>3</td>\n      <td>4</td>\n      <td>5</td>\n      <td>pear</td>\n    </tr>\n    <tr>\n      <th>a</th>\n      <td>s</td>\n      <td>d</td>\n      <td>f</td>\n      <td>rabbit</td>\n    </tr>\n    <tr>\n      <th>5</th>\n      <td>2</td>\n      <td>5</td>\n      <td>7</td>\n      <td>dog</td>\n    </tr>\n  </tbody>\n</table>\n</div>"
          },
          "metadata": {}
        }
      ]
    },
    {
      "metadata": {
        "trusted": true
      },
      "cell_type": "code",
      "source": "dframe.to_csv('test.csv')",
      "execution_count": 16,
      "outputs": []
    },
    {
      "metadata": {
        "trusted": true
      },
      "cell_type": "code",
      "source": "dframe.to_csv('test2.txt',sep=\"~\")",
      "execution_count": 17,
      "outputs": []
    },
    {
      "metadata": {
        "trusted": true
      },
      "cell_type": "code",
      "source": "dframe.columns",
      "execution_count": 18,
      "outputs": [
        {
          "output_type": "execute_result",
          "execution_count": 18,
          "data": {
            "text/plain": "Index(['Col1', 'Col2', 'Col3', 'Col4'], dtype='object')"
          },
          "metadata": {}
        }
      ]
    },
    {
      "metadata": {
        "trusted": true
      },
      "cell_type": "code",
      "source": "dframe.to_csv('test3.csv',columns=['Col1','Col2']) # write only specific columns",
      "execution_count": 19,
      "outputs": []
    },
    {
      "metadata": {
        "trusted": true
      },
      "cell_type": "code",
      "source": "tp = pd.read_csv('redwines.csv')",
      "execution_count": 21,
      "outputs": []
    },
    {
      "metadata": {
        "trusted": true
      },
      "cell_type": "code",
      "source": "tp.tail()",
      "execution_count": 22,
      "outputs": [
        {
          "output_type": "execute_result",
          "execution_count": 22,
          "data": {
            "text/plain": "      fixed_acidity  volatile_acidity  citric_acid  residual_sugar  chlorides  \\\n1594            6.5             0.400         0.10             2.0      0.076   \n1595           11.6             0.410         0.54             1.5      0.095   \n1596           10.2             0.340         0.48             2.1      0.052   \n1597            6.6             0.440         0.15             2.1      0.076   \n1598            8.2             0.915         0.27             2.1      0.088   \n\n      free_so2  total_so2  density    pH  sulphates  alcohol  quality  \n1594      30.0       47.0  0.99554  3.36       0.48      9.4        6  \n1595      22.0       41.0  0.99735  3.02       0.76      9.9        7  \n1596       5.0        9.0  0.99458  3.20       0.69     12.1        7  \n1597      22.0       53.0  0.99570  3.32       0.62      9.3        5  \n1598       7.0       23.0  0.99620  3.26       0.47     10.0        4  ",
            "text/html": "<div>\n<table border=\"1\" class=\"dataframe\">\n  <thead>\n    <tr style=\"text-align: right;\">\n      <th></th>\n      <th>fixed_acidity</th>\n      <th>volatile_acidity</th>\n      <th>citric_acid</th>\n      <th>residual_sugar</th>\n      <th>chlorides</th>\n      <th>free_so2</th>\n      <th>total_so2</th>\n      <th>density</th>\n      <th>pH</th>\n      <th>sulphates</th>\n      <th>alcohol</th>\n      <th>quality</th>\n    </tr>\n  </thead>\n  <tbody>\n    <tr>\n      <th>1594</th>\n      <td>6.5</td>\n      <td>0.400</td>\n      <td>0.10</td>\n      <td>2.0</td>\n      <td>0.076</td>\n      <td>30.0</td>\n      <td>47.0</td>\n      <td>0.99554</td>\n      <td>3.36</td>\n      <td>0.48</td>\n      <td>9.4</td>\n      <td>6</td>\n    </tr>\n    <tr>\n      <th>1595</th>\n      <td>11.6</td>\n      <td>0.410</td>\n      <td>0.54</td>\n      <td>1.5</td>\n      <td>0.095</td>\n      <td>22.0</td>\n      <td>41.0</td>\n      <td>0.99735</td>\n      <td>3.02</td>\n      <td>0.76</td>\n      <td>9.9</td>\n      <td>7</td>\n    </tr>\n    <tr>\n      <th>1596</th>\n      <td>10.2</td>\n      <td>0.340</td>\n      <td>0.48</td>\n      <td>2.1</td>\n      <td>0.052</td>\n      <td>5.0</td>\n      <td>9.0</td>\n      <td>0.99458</td>\n      <td>3.20</td>\n      <td>0.69</td>\n      <td>12.1</td>\n      <td>7</td>\n    </tr>\n    <tr>\n      <th>1597</th>\n      <td>6.6</td>\n      <td>0.440</td>\n      <td>0.15</td>\n      <td>2.1</td>\n      <td>0.076</td>\n      <td>22.0</td>\n      <td>53.0</td>\n      <td>0.99570</td>\n      <td>3.32</td>\n      <td>0.62</td>\n      <td>9.3</td>\n      <td>5</td>\n    </tr>\n    <tr>\n      <th>1598</th>\n      <td>8.2</td>\n      <td>0.915</td>\n      <td>0.27</td>\n      <td>2.1</td>\n      <td>0.088</td>\n      <td>7.0</td>\n      <td>23.0</td>\n      <td>0.99620</td>\n      <td>3.26</td>\n      <td>0.47</td>\n      <td>10.0</td>\n      <td>4</td>\n    </tr>\n  </tbody>\n</table>\n</div>"
          },
          "metadata": {}
        }
      ]
    },
    {
      "metadata": {
        "trusted": true
      },
      "cell_type": "code",
      "source": "tp.shape",
      "execution_count": 23,
      "outputs": [
        {
          "output_type": "execute_result",
          "execution_count": 23,
          "data": {
            "text/plain": "(1599, 12)"
          },
          "metadata": {}
        }
      ]
    },
    {
      "metadata": {
        "trusted": true
      },
      "cell_type": "code",
      "source": "tp.columns",
      "execution_count": 24,
      "outputs": [
        {
          "output_type": "execute_result",
          "execution_count": 24,
          "data": {
            "text/plain": "Index(['fixed_acidity', 'volatile_acidity', 'citric_acid', 'residual_sugar',\n       'chlorides', 'free_so2', 'total_so2', 'density', 'pH', 'sulphates',\n       'alcohol', 'quality'],\n      dtype='object')"
          },
          "metadata": {}
        }
      ]
    },
    {
      "metadata": {
        "trusted": true
      },
      "cell_type": "code",
      "source": "tp.describe()",
      "execution_count": 25,
      "outputs": [
        {
          "output_type": "execute_result",
          "execution_count": 25,
          "data": {
            "text/plain": "       fixed_acidity  volatile_acidity  citric_acid  residual_sugar  \\\ncount    1599.000000       1599.000000  1599.000000     1599.000000   \nmean        8.319637          0.527821     0.270976        2.538806   \nstd         1.741096          0.179060     0.194801        1.409928   \nmin         4.600000          0.120000     0.000000        0.900000   \n25%         7.100000          0.390000     0.090000        1.900000   \n50%         7.900000          0.520000     0.260000        2.200000   \n75%         9.200000          0.640000     0.420000        2.600000   \nmax        15.900000          1.580000     1.000000       15.500000   \n\n         chlorides     free_so2    total_so2      density           pH  \\\ncount  1599.000000  1599.000000  1599.000000  1599.000000  1599.000000   \nmean      0.087467    15.874922    46.467792     0.996747     3.311113   \nstd       0.047065    10.460157    32.895324     0.001887     0.154386   \nmin       0.012000     1.000000     6.000000     0.990070     2.740000   \n25%       0.070000     7.000000    22.000000     0.995600     3.210000   \n50%       0.079000    14.000000    38.000000     0.996750     3.310000   \n75%       0.090000    21.000000    62.000000     0.997835     3.400000   \nmax       0.611000    72.000000   289.000000     1.003690     4.010000   \n\n         sulphates      alcohol      quality  \ncount  1599.000000  1599.000000  1599.000000  \nmean      0.658149    10.422983     5.636023  \nstd       0.169507     1.065668     0.807569  \nmin       0.330000     8.400000     3.000000  \n25%       0.550000     9.500000     5.000000  \n50%       0.620000    10.200000     6.000000  \n75%       0.730000    11.100000     6.000000  \nmax       2.000000    14.900000     8.000000  ",
            "text/html": "<div>\n<table border=\"1\" class=\"dataframe\">\n  <thead>\n    <tr style=\"text-align: right;\">\n      <th></th>\n      <th>fixed_acidity</th>\n      <th>volatile_acidity</th>\n      <th>citric_acid</th>\n      <th>residual_sugar</th>\n      <th>chlorides</th>\n      <th>free_so2</th>\n      <th>total_so2</th>\n      <th>density</th>\n      <th>pH</th>\n      <th>sulphates</th>\n      <th>alcohol</th>\n      <th>quality</th>\n    </tr>\n  </thead>\n  <tbody>\n    <tr>\n      <th>count</th>\n      <td>1599.000000</td>\n      <td>1599.000000</td>\n      <td>1599.000000</td>\n      <td>1599.000000</td>\n      <td>1599.000000</td>\n      <td>1599.000000</td>\n      <td>1599.000000</td>\n      <td>1599.000000</td>\n      <td>1599.000000</td>\n      <td>1599.000000</td>\n      <td>1599.000000</td>\n      <td>1599.000000</td>\n    </tr>\n    <tr>\n      <th>mean</th>\n      <td>8.319637</td>\n      <td>0.527821</td>\n      <td>0.270976</td>\n      <td>2.538806</td>\n      <td>0.087467</td>\n      <td>15.874922</td>\n      <td>46.467792</td>\n      <td>0.996747</td>\n      <td>3.311113</td>\n      <td>0.658149</td>\n      <td>10.422983</td>\n      <td>5.636023</td>\n    </tr>\n    <tr>\n      <th>std</th>\n      <td>1.741096</td>\n      <td>0.179060</td>\n      <td>0.194801</td>\n      <td>1.409928</td>\n      <td>0.047065</td>\n      <td>10.460157</td>\n      <td>32.895324</td>\n      <td>0.001887</td>\n      <td>0.154386</td>\n      <td>0.169507</td>\n      <td>1.065668</td>\n      <td>0.807569</td>\n    </tr>\n    <tr>\n      <th>min</th>\n      <td>4.600000</td>\n      <td>0.120000</td>\n      <td>0.000000</td>\n      <td>0.900000</td>\n      <td>0.012000</td>\n      <td>1.000000</td>\n      <td>6.000000</td>\n      <td>0.990070</td>\n      <td>2.740000</td>\n      <td>0.330000</td>\n      <td>8.400000</td>\n      <td>3.000000</td>\n    </tr>\n    <tr>\n      <th>25%</th>\n      <td>7.100000</td>\n      <td>0.390000</td>\n      <td>0.090000</td>\n      <td>1.900000</td>\n      <td>0.070000</td>\n      <td>7.000000</td>\n      <td>22.000000</td>\n      <td>0.995600</td>\n      <td>3.210000</td>\n      <td>0.550000</td>\n      <td>9.500000</td>\n      <td>5.000000</td>\n    </tr>\n    <tr>\n      <th>50%</th>\n      <td>7.900000</td>\n      <td>0.520000</td>\n      <td>0.260000</td>\n      <td>2.200000</td>\n      <td>0.079000</td>\n      <td>14.000000</td>\n      <td>38.000000</td>\n      <td>0.996750</td>\n      <td>3.310000</td>\n      <td>0.620000</td>\n      <td>10.200000</td>\n      <td>6.000000</td>\n    </tr>\n    <tr>\n      <th>75%</th>\n      <td>9.200000</td>\n      <td>0.640000</td>\n      <td>0.420000</td>\n      <td>2.600000</td>\n      <td>0.090000</td>\n      <td>21.000000</td>\n      <td>62.000000</td>\n      <td>0.997835</td>\n      <td>3.400000</td>\n      <td>0.730000</td>\n      <td>11.100000</td>\n      <td>6.000000</td>\n    </tr>\n    <tr>\n      <th>max</th>\n      <td>15.900000</td>\n      <td>1.580000</td>\n      <td>1.000000</td>\n      <td>15.500000</td>\n      <td>0.611000</td>\n      <td>72.000000</td>\n      <td>289.000000</td>\n      <td>1.003690</td>\n      <td>4.010000</td>\n      <td>2.000000</td>\n      <td>14.900000</td>\n      <td>8.000000</td>\n    </tr>\n  </tbody>\n</table>\n</div>"
          },
          "metadata": {}
        }
      ]
    },
    {
      "metadata": {
        "trusted": true
      },
      "cell_type": "code",
      "source": "tp.info()",
      "execution_count": 26,
      "outputs": [
        {
          "output_type": "stream",
          "text": "<class 'pandas.core.frame.DataFrame'>\nRangeIndex: 1599 entries, 0 to 1598\nData columns (total 12 columns):\nfixed_acidity       1599 non-null float64\nvolatile_acidity    1599 non-null float64\ncitric_acid         1599 non-null float64\nresidual_sugar      1599 non-null float64\nchlorides           1599 non-null float64\nfree_so2            1599 non-null float64\ntotal_so2           1599 non-null float64\ndensity             1599 non-null float64\npH                  1599 non-null float64\nsulphates           1599 non-null float64\nalcohol             1599 non-null float64\nquality             1599 non-null int64\ndtypes: float64(11), int64(1)\nmemory usage: 150.0 KB\n",
          "name": "stdout"
        }
      ]
    },
    {
      "metadata": {
        "trusted": true
      },
      "cell_type": "code",
      "source": "tp.quality.value_counts()",
      "execution_count": 27,
      "outputs": [
        {
          "output_type": "execute_result",
          "execution_count": 27,
          "data": {
            "text/plain": "5    681\n6    638\n7    199\n4     53\n8     18\n3     10\nName: quality, dtype: int64"
          },
          "metadata": {}
        }
      ]
    },
    {
      "metadata": {
        "trusted": true
      },
      "cell_type": "code",
      "source": "tp.alcohol.describe()",
      "execution_count": 28,
      "outputs": [
        {
          "output_type": "execute_result",
          "execution_count": 28,
          "data": {
            "text/plain": "count    1599.000000\nmean       10.422983\nstd         1.065668\nmin         8.400000\n25%         9.500000\n50%        10.200000\n75%        11.100000\nmax        14.900000\nName: alcohol, dtype: float64"
          },
          "metadata": {}
        }
      ]
    },
    {
      "metadata": {},
      "cell_type": "markdown",
      "source": "## End of part 4"
    }
  ],
  "metadata": {
    "kernelspec": {
      "name": "python3",
      "display_name": "Python 3",
      "language": "python"
    },
    "language_info": {
      "mimetype": "text/x-python",
      "nbconvert_exporter": "python",
      "name": "python",
      "pygments_lexer": "ipython3",
      "version": "3.5.4",
      "file_extension": ".py",
      "codemirror_mode": {
        "version": 3,
        "name": "ipython"
      }
    }
  },
  "nbformat": 4,
  "nbformat_minor": 1
}