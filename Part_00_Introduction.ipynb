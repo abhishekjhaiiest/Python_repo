{
  "cells": [
    {
      "metadata": {},
      "cell_type": "markdown",
      "source": "# Welcome to the short course on Python for data science and analytics"
    },
    {
      "metadata": {
        "trusted": true
      },
      "cell_type": "code",
      "source": "",
      "execution_count": null,
      "outputs": []
    },
    {
      "metadata": {
        "trusted": true
      },
      "cell_type": "code",
      "source": "2 ** 4",
      "execution_count": 3,
      "outputs": [
        {
          "output_type": "execute_result",
          "execution_count": 3,
          "data": {
            "text/plain": "16"
          },
          "metadata": {}
        }
      ]
    },
    {
      "metadata": {},
      "cell_type": "markdown",
      "source": "# Jupyter notebooks"
    },
    {
      "metadata": {},
      "cell_type": "markdown",
      "source": "# This is a first level heading"
    },
    {
      "metadata": {},
      "cell_type": "markdown",
      "source": "## This is a second level heading"
    },
    {
      "metadata": {},
      "cell_type": "markdown",
      "source": "### This is a third level heading"
    },
    {
      "metadata": {},
      "cell_type": "markdown",
      "source": "<b>Bold text</b> and <i>italic text</i>"
    },
    {
      "metadata": {},
      "cell_type": "markdown",
      "source": "*Italic* and **bold**"
    },
    {
      "metadata": {},
      "cell_type": "markdown",
      "source": "I can also use superscripts <sup>like this</sup> and subscripts <sub>like this</sub> as well as most HTML tags"
    },
    {
      "metadata": {},
      "cell_type": "markdown",
      "source": "<b><i>Shift-Enter:</i></b> Run cell and go to next cell - if you are in the last cell, insert a new cell below and go there\n<br><b><i>Ctrl-Enter:</i></b> Run cell in-place and remain in same cell\n<br><b><i>Alt-Enter:</i></b> Run cell, insert new blank cell below and go to new cell"
    },
    {
      "metadata": {},
      "cell_type": "markdown",
      "source": "**Checking, setting and viewing the contents of your working directory**"
    },
    {
      "metadata": {
        "trusted": true
      },
      "cell_type": "code",
      "source": "import os",
      "execution_count": 1,
      "outputs": []
    },
    {
      "metadata": {
        "trusted": true
      },
      "cell_type": "code",
      "source": "os.getcwd()",
      "execution_count": 2,
      "outputs": [
        {
          "output_type": "execute_result",
          "execution_count": 2,
          "data": {
            "text/plain": "'/home/nbuser/library'"
          },
          "metadata": {}
        }
      ]
    },
    {
      "metadata": {
        "trusted": true
      },
      "cell_type": "code",
      "source": "os.chdir('../library')\nos.listdir()",
      "execution_count": 3,
      "outputs": [
        {
          "output_type": "execute_result",
          "execution_count": 3,
          "data": {
            "text/plain": "['Part_06_Data_handling_in_Python_merging_concatenating.ipynb',\n '.ipynb_checkpoints',\n 'Part_00_Introduction.ipynb',\n 'Part_12_Data_visualisation_in_Python_scatterplots_regressionplots_bubbleplots.ipynb',\n 'Part_05_Data_handling_in_Python_sorting_dealingwithmissingdata.ipynb',\n 'Part_01_Data_handling_in_Python_basic_operations_strings.ipynb',\n 'Part_09_Data_handling_in_Python_groupby_aggregation_splitapplycombine.ipynb',\n 'Part_02_Data_handling_in_Python_lists_booleanoperators_tuples_dictionaries.ipynb',\n 'Part_07_Data_handling_in_Python_reshaping_pivoting.ipynb',\n 'Part_03_Data_handling_in_Python_Numpy_arrays_Pandas_series_dataframes.ipynb',\n 'README.md',\n 'Untitled.ipynb',\n 'Part_04_Data_handling_in_Python_input_output.ipynb',\n 'Part_08_Data_handling_in_Python_duplicates_mapping_outliers.ipynb',\n 'data']"
          },
          "metadata": {}
        }
      ]
    },
    {
      "metadata": {},
      "cell_type": "markdown",
      "source": "**Importing libraries**"
    },
    {
      "metadata": {},
      "cell_type": "markdown",
      "source": "Import a library and give it a shortcut"
    },
    {
      "metadata": {
        "trusted": true
      },
      "cell_type": "code",
      "source": "import numpy as np",
      "execution_count": 5,
      "outputs": []
    },
    {
      "metadata": {},
      "cell_type": "markdown",
      "source": "Import a specific function"
    },
    {
      "metadata": {
        "trusted": true
      },
      "cell_type": "code",
      "source": "from numpy.random import randn",
      "execution_count": 4,
      "outputs": []
    },
    {
      "metadata": {},
      "cell_type": "markdown",
      "source": "Import a specific module from a library"
    },
    {
      "metadata": {
        "trusted": true
      },
      "cell_type": "code",
      "source": "import matplotlib.pyplot as plt",
      "execution_count": 1,
      "outputs": [
        {
          "output_type": "stream",
          "text": "/home/nbuser/anaconda3_420/lib/python3.5/site-packages/matplotlib/font_manager.py:281: UserWarning: Matplotlib is building the font cache using fc-list. This may take a moment.\n  'Matplotlib is building the font cache using fc-list. '\n",
          "name": "stderr"
        }
      ]
    },
    {
      "metadata": {
        "trusted": true
      },
      "cell_type": "code",
      "source": "",
      "execution_count": null,
      "outputs": []
    }
  ],
  "metadata": {
    "kernelspec": {
      "name": "python3",
      "display_name": "Python 3",
      "language": "python"
    },
    "language_info": {
      "mimetype": "text/x-python",
      "nbconvert_exporter": "python",
      "name": "python",
      "file_extension": ".py",
      "version": "3.5.4",
      "pygments_lexer": "ipython3",
      "codemirror_mode": {
        "version": 3,
        "name": "ipython"
      }
    }
  },
  "nbformat": 4,
  "nbformat_minor": 2
}