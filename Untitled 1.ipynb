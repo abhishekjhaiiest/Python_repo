{
  "cells": [
    {
      "metadata": {
        "trusted": true
      },
      "cell_type": "code",
      "source": "!pip install pycausalimpact",
      "execution_count": 6,
      "outputs": [
        {
          "output_type": "stream",
          "text": "Collecting pycausalimpact\n  Downloading https://files.pythonhosted.org/packages/bb/d8/9b80a8cbd2db3c4bb4feb1407ac1dc45d57293526663d32add9f02084e41/pycausalimpact-0.0.10-py2.py3-none-any.whl\nCollecting statsmodels>=0.9.0 (from pycausalimpact)\n\u001b[?25l  Downloading https://files.pythonhosted.org/packages/a5/75/758f980df4d971b909d2bc516d22494a2e871fe1f3968ff9798b52d20fb9/statsmodels-0.9.0-cp35-cp35m-manylinux1_x86_64.whl (7.3MB)\n\u001b[K    100% |████████████████████████████████| 7.3MB 23kB/s eta 0:00:011   14% |████▋                           | 1.0MB 9.4MB/s eta 0:00:01    23% |███████▋                        | 1.7MB 1.1MB/s eta 0:00:06\n\u001b[?25hRequirement already satisfied: scipy in /home/nbuser/anaconda3_420/lib/python3.5/site-packages (from pycausalimpact) (1.1.0)\nCollecting matplotlib>=2.2.3 (from pycausalimpact)\n\u001b[?25l  Downloading https://files.pythonhosted.org/packages/89/61/465fb3bfba684b0f53b5c4829c3c89e86e6fe9fdcdfda93e38f1788090f0/matplotlib-3.0.3-cp35-cp35m-manylinux1_x86_64.whl (13.0MB)\n\u001b[K    100% |████████████████████████████████| 13.0MB 13kB/s eta 0:00:01    20% |██████▌                         | 2.6MB 9.1MB/s eta 0:00:02    61% |███████████████████▊            | 8.0MB 4.4MB/s eta 0:00:02\n\u001b[?25hRequirement already satisfied: numpy in /home/nbuser/anaconda3_420/lib/python3.5/site-packages (from pycausalimpact) (1.16.1)\nCollecting jinja2>=2.10 (from pycausalimpact)\n  Using cached https://files.pythonhosted.org/packages/7f/ff/ae64bacdfc95f27a016a7bed8e8686763ba4d277a78ca76f32659220a731/Jinja2-2.10-py2.py3-none-any.whl\nRequirement already satisfied: patsy in /home/nbuser/anaconda3_420/lib/python3.5/site-packages (from statsmodels>=0.9.0->pycausalimpact) (0.4.1)\nRequirement already satisfied: pandas in /home/nbuser/anaconda3_420/lib/python3.5/site-packages (from statsmodels>=0.9.0->pycausalimpact) (0.19.2)\nRequirement already satisfied: python-dateutil>=2.1 in /home/nbuser/anaconda3_420/lib/python3.5/site-packages (from matplotlib>=2.2.3->pycausalimpact) (2.7.5)\nCollecting kiwisolver>=1.0.1 (from matplotlib>=2.2.3->pycausalimpact)\n\u001b[?25l  Downloading https://files.pythonhosted.org/packages/7e/31/d6fedd4fb2c94755cd101191e581af30e1650ccce7a35bddb7930fed6574/kiwisolver-1.0.1-cp35-cp35m-manylinux1_x86_64.whl (949kB)\n\u001b[K    100% |████████████████████████████████| 952kB 10.5MB/s ta 0:00:01\n\u001b[?25hRequirement already satisfied: pyparsing!=2.0.4,!=2.1.2,!=2.1.6,>=2.0.1 in /home/nbuser/anaconda3_420/lib/python3.5/site-packages (from matplotlib>=2.2.3->pycausalimpact) (2.1.4)\nRequirement already satisfied: cycler>=0.10 in /home/nbuser/anaconda3_420/lib/python3.5/site-packages (from matplotlib>=2.2.3->pycausalimpact) (0.10.0)\nRequirement already satisfied: MarkupSafe>=0.23 in /home/nbuser/anaconda3_420/lib/python3.5/site-packages (from jinja2>=2.10->pycausalimpact) (0.23)\nRequirement already satisfied: six in /home/nbuser/anaconda3_420/lib/python3.5/site-packages (from patsy->statsmodels>=0.9.0->pycausalimpact) (1.11.0)\nRequirement already satisfied: pytz>=2011k in /home/nbuser/anaconda3_420/lib/python3.5/site-packages (from pandas->statsmodels>=0.9.0->pycausalimpact) (2016.6.1)\nRequirement already satisfied: setuptools in /home/nbuser/anaconda3_420/lib/python3.5/site-packages (from kiwisolver>=1.0.1->matplotlib>=2.2.3->pycausalimpact) (40.8.0)\nInstalling collected packages: statsmodels, kiwisolver, matplotlib, jinja2, pycausalimpact\n  Found existing installation: statsmodels 0.8.0\n    Uninstalling statsmodels-0.8.0:\n      Successfully uninstalled statsmodels-0.8.0\n  Found existing installation: matplotlib 2.1.1\n    Uninstalling matplotlib-2.1.1:\n      Successfully uninstalled matplotlib-2.1.1\n  Found existing installation: Jinja2 2.8\n    Uninstalling Jinja2-2.8:\n      Successfully uninstalled Jinja2-2.8\nSuccessfully installed jinja2-2.10 kiwisolver-1.0.1 matplotlib-3.0.3 pycausalimpact-0.0.10 statsmodels-0.9.0\n",
          "name": "stdout"
        }
      ]
    }
  ],
  "metadata": {
    "kernelspec": {
      "name": "python3",
      "display_name": "Python 3",
      "language": "python"
    },
    "language_info": {
      "mimetype": "text/x-python",
      "nbconvert_exporter": "python",
      "name": "python",
      "pygments_lexer": "ipython3",
      "version": "3.5.4",
      "file_extension": ".py",
      "codemirror_mode": {
        "version": 3,
        "name": "ipython"
      }
    }
  },
  "nbformat": 4,
  "nbformat_minor": 1
}