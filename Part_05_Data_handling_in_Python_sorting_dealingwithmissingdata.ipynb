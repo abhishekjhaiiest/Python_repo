{
  "cells": [
    {
      "metadata": {},
      "cell_type": "markdown",
      "source": "# Part 5"
    },
    {
      "metadata": {},
      "cell_type": "markdown",
      "source": "# Sorting"
    },
    {
      "metadata": {
        "trusted": true
      },
      "cell_type": "code",
      "source": "# imports\nimport pandas as pd\nfrom pandas import Series, DataFrame",
      "execution_count": 1,
      "outputs": []
    },
    {
      "metadata": {
        "trusted": true
      },
      "cell_type": "code",
      "source": "ser1 = Series([17,12,9],index=['c','a','e'])",
      "execution_count": 2,
      "outputs": []
    },
    {
      "metadata": {
        "trusted": true
      },
      "cell_type": "code",
      "source": "ser1",
      "execution_count": 3,
      "outputs": [
        {
          "output_type": "execute_result",
          "execution_count": 3,
          "data": {
            "text/plain": "c    17\na    12\ne     9\ndtype: int64"
          },
          "metadata": {}
        }
      ]
    },
    {
      "metadata": {
        "trusted": true
      },
      "cell_type": "code",
      "source": "ser1.sort_index() # sort by index",
      "execution_count": 4,
      "outputs": [
        {
          "output_type": "execute_result",
          "execution_count": 4,
          "data": {
            "text/plain": "a    12\nc    17\ne     9\ndtype: int64"
          },
          "metadata": {}
        }
      ]
    },
    {
      "metadata": {
        "trusted": true
      },
      "cell_type": "code",
      "source": "ser1.sort_values() # ser1.order() used in Python 2 - now deprecated",
      "execution_count": 5,
      "outputs": [
        {
          "output_type": "execute_result",
          "execution_count": 5,
          "data": {
            "text/plain": "e     9\na    12\nc    17\ndtype: int64"
          },
          "metadata": {}
        }
      ]
    },
    {
      "metadata": {
        "trusted": true
      },
      "cell_type": "code",
      "source": "from numpy.random import randn",
      "execution_count": 6,
      "outputs": []
    },
    {
      "metadata": {
        "trusted": true
      },
      "cell_type": "code",
      "source": "ser2 = Series(randn(10))\nser2",
      "execution_count": 7,
      "outputs": [
        {
          "output_type": "execute_result",
          "execution_count": 7,
          "data": {
            "text/plain": "0   -0.761616\n1   -0.529688\n2    0.578010\n3   -0.833907\n4    1.078200\n5    2.761288\n6    1.183942\n7   -0.178477\n8    1.302708\n9    0.487890\ndtype: float64"
          },
          "metadata": {}
        }
      ]
    },
    {
      "metadata": {
        "trusted": true
      },
      "cell_type": "code",
      "source": "ser2.sort_values()",
      "execution_count": 8,
      "outputs": [
        {
          "output_type": "execute_result",
          "execution_count": 8,
          "data": {
            "text/plain": "3   -0.833907\n0   -0.761616\n1   -0.529688\n7   -0.178477\n9    0.487890\n2    0.578010\n4    1.078200\n6    1.183942\n8    1.302708\n5    2.761288\ndtype: float64"
          },
          "metadata": {}
        }
      ]
    },
    {
      "metadata": {
        "trusted": true
      },
      "cell_type": "code",
      "source": "ser2",
      "execution_count": 9,
      "outputs": [
        {
          "output_type": "execute_result",
          "execution_count": 9,
          "data": {
            "text/plain": "0   -0.761616\n1   -0.529688\n2    0.578010\n3   -0.833907\n4    1.078200\n5    2.761288\n6    1.183942\n7   -0.178477\n8    1.302708\n9    0.487890\ndtype: float64"
          },
          "metadata": {}
        }
      ]
    },
    {
      "metadata": {
        "trusted": true
      },
      "cell_type": "code",
      "source": "ser2.rank()",
      "execution_count": 10,
      "outputs": [
        {
          "output_type": "execute_result",
          "execution_count": 10,
          "data": {
            "text/plain": "0     2.0\n1     3.0\n2     6.0\n3     1.0\n4     7.0\n5    10.0\n6     8.0\n7     4.0\n8     9.0\n9     5.0\ndtype: float64"
          },
          "metadata": {}
        }
      ]
    },
    {
      "metadata": {
        "trusted": true
      },
      "cell_type": "code",
      "source": "ser3 = Series(randn(10))\nser3",
      "execution_count": 11,
      "outputs": [
        {
          "output_type": "execute_result",
          "execution_count": 11,
          "data": {
            "text/plain": "0   -1.438806\n1    0.889873\n2    0.816573\n3   -1.954350\n4   -0.365200\n5   -1.595054\n6   -0.085903\n7   -0.840694\n8    0.472272\n9    1.559011\ndtype: float64"
          },
          "metadata": {}
        }
      ]
    },
    {
      "metadata": {
        "trusted": true
      },
      "cell_type": "code",
      "source": "ser3.rank()",
      "execution_count": 12,
      "outputs": [
        {
          "output_type": "execute_result",
          "execution_count": 12,
          "data": {
            "text/plain": "0     3.0\n1     9.0\n2     8.0\n3     1.0\n4     5.0\n5     2.0\n6     6.0\n7     4.0\n8     7.0\n9    10.0\ndtype: float64"
          },
          "metadata": {}
        }
      ]
    },
    {
      "metadata": {
        "trusted": true
      },
      "cell_type": "code",
      "source": "#nfl_frame = pd.read_clipboard() # read directly from clipboard\nnfl_frame = pd.read_csv('data/nfl_frame.csv')",
      "execution_count": 13,
      "outputs": []
    },
    {
      "metadata": {
        "trusted": true
      },
      "cell_type": "code",
      "source": "nfl_frame",
      "execution_count": 14,
      "outputs": [
        {
          "output_type": "execute_result",
          "execution_count": 14,
          "data": {
            "text/plain": "    Unnamed: 0  Rank                     Team     GP  Won  Lost  Tied   Pct.  \\\n0            0     1           Dallas Cowboys    882  502   374     6  0.573   \n1            1     2        Green Bay Packers  1,336  737   562    37  0.565   \n2            2     3            Chicago Bears  1,370  749   579    42  0.562   \n3            3     4           Miami Dolphins    800  445   351     4  0.559   \n4            4     5  New England Patriots[b]    884  489   386     9  0.558   \n5            5     6        Minnesota Vikings    870  470   390    10  0.546   \n6            6     7         Baltimore Ravens    352  190   161     1  0.541   \n7            7     8          New York Giants  1,305  687   585    33  0.539   \n8            8     9           Denver Broncos    884  470   404    10  0.537   \n9            9    10      San Francisco 49ers  1,002  528   460    14  0.534   \n10          10    11      Pittsburgh Steelers  1,179  614   538    20  0.532   \n11          11    12          Oakland Raiders    884  462   411    11  0.529   \n\n    First NFL Season   Division  \n0               1960   NFC East  \n1               1921  NFC North  \n2               1920  NFC North  \n3               1966   AFC East  \n4               1960   AFC East  \n5               1961  NFC North  \n6               1996  AFC North  \n7               1925   NFC East  \n8               1960   AFC West  \n9               1950   NFC West  \n10              1933  AFC North  \n11              1960   AFC West  ",
            "text/html": "<div>\n<table border=\"1\" class=\"dataframe\">\n  <thead>\n    <tr style=\"text-align: right;\">\n      <th></th>\n      <th>Unnamed: 0</th>\n      <th>Rank</th>\n      <th>Team</th>\n      <th>GP</th>\n      <th>Won</th>\n      <th>Lost</th>\n      <th>Tied</th>\n      <th>Pct.</th>\n      <th>First NFL Season</th>\n      <th>Division</th>\n    </tr>\n  </thead>\n  <tbody>\n    <tr>\n      <th>0</th>\n      <td>0</td>\n      <td>1</td>\n      <td>Dallas Cowboys</td>\n      <td>882</td>\n      <td>502</td>\n      <td>374</td>\n      <td>6</td>\n      <td>0.573</td>\n      <td>1960</td>\n      <td>NFC East</td>\n    </tr>\n    <tr>\n      <th>1</th>\n      <td>1</td>\n      <td>2</td>\n      <td>Green Bay Packers</td>\n      <td>1,336</td>\n      <td>737</td>\n      <td>562</td>\n      <td>37</td>\n      <td>0.565</td>\n      <td>1921</td>\n      <td>NFC North</td>\n    </tr>\n    <tr>\n      <th>2</th>\n      <td>2</td>\n      <td>3</td>\n      <td>Chicago Bears</td>\n      <td>1,370</td>\n      <td>749</td>\n      <td>579</td>\n      <td>42</td>\n      <td>0.562</td>\n      <td>1920</td>\n      <td>NFC North</td>\n    </tr>\n    <tr>\n      <th>3</th>\n      <td>3</td>\n      <td>4</td>\n      <td>Miami Dolphins</td>\n      <td>800</td>\n      <td>445</td>\n      <td>351</td>\n      <td>4</td>\n      <td>0.559</td>\n      <td>1966</td>\n      <td>AFC East</td>\n    </tr>\n    <tr>\n      <th>4</th>\n      <td>4</td>\n      <td>5</td>\n      <td>New England Patriots[b]</td>\n      <td>884</td>\n      <td>489</td>\n      <td>386</td>\n      <td>9</td>\n      <td>0.558</td>\n      <td>1960</td>\n      <td>AFC East</td>\n    </tr>\n    <tr>\n      <th>5</th>\n      <td>5</td>\n      <td>6</td>\n      <td>Minnesota Vikings</td>\n      <td>870</td>\n      <td>470</td>\n      <td>390</td>\n      <td>10</td>\n      <td>0.546</td>\n      <td>1961</td>\n      <td>NFC North</td>\n    </tr>\n    <tr>\n      <th>6</th>\n      <td>6</td>\n      <td>7</td>\n      <td>Baltimore Ravens</td>\n      <td>352</td>\n      <td>190</td>\n      <td>161</td>\n      <td>1</td>\n      <td>0.541</td>\n      <td>1996</td>\n      <td>AFC North</td>\n    </tr>\n    <tr>\n      <th>7</th>\n      <td>7</td>\n      <td>8</td>\n      <td>New York Giants</td>\n      <td>1,305</td>\n      <td>687</td>\n      <td>585</td>\n      <td>33</td>\n      <td>0.539</td>\n      <td>1925</td>\n      <td>NFC East</td>\n    </tr>\n    <tr>\n      <th>8</th>\n      <td>8</td>\n      <td>9</td>\n      <td>Denver Broncos</td>\n      <td>884</td>\n      <td>470</td>\n      <td>404</td>\n      <td>10</td>\n      <td>0.537</td>\n      <td>1960</td>\n      <td>AFC West</td>\n    </tr>\n    <tr>\n      <th>9</th>\n      <td>9</td>\n      <td>10</td>\n      <td>San Francisco 49ers</td>\n      <td>1,002</td>\n      <td>528</td>\n      <td>460</td>\n      <td>14</td>\n      <td>0.534</td>\n      <td>1950</td>\n      <td>NFC West</td>\n    </tr>\n    <tr>\n      <th>10</th>\n      <td>10</td>\n      <td>11</td>\n      <td>Pittsburgh Steelers</td>\n      <td>1,179</td>\n      <td>614</td>\n      <td>538</td>\n      <td>20</td>\n      <td>0.532</td>\n      <td>1933</td>\n      <td>AFC North</td>\n    </tr>\n    <tr>\n      <th>11</th>\n      <td>11</td>\n      <td>12</td>\n      <td>Oakland Raiders</td>\n      <td>884</td>\n      <td>462</td>\n      <td>411</td>\n      <td>11</td>\n      <td>0.529</td>\n      <td>1960</td>\n      <td>AFC West</td>\n    </tr>\n  </tbody>\n</table>\n</div>"
          },
          "metadata": {}
        }
      ]
    },
    {
      "metadata": {
        "trusted": true
      },
      "cell_type": "code",
      "source": "nfl_frame.sort_values('Lost')",
      "execution_count": 15,
      "outputs": [
        {
          "output_type": "execute_result",
          "execution_count": 15,
          "data": {
            "text/plain": "    Unnamed: 0  Rank                     Team     GP  Won  Lost  Tied   Pct.  \\\n6            6     7         Baltimore Ravens    352  190   161     1  0.541   \n3            3     4           Miami Dolphins    800  445   351     4  0.559   \n0            0     1           Dallas Cowboys    882  502   374     6  0.573   \n4            4     5  New England Patriots[b]    884  489   386     9  0.558   \n5            5     6        Minnesota Vikings    870  470   390    10  0.546   \n8            8     9           Denver Broncos    884  470   404    10  0.537   \n11          11    12          Oakland Raiders    884  462   411    11  0.529   \n9            9    10      San Francisco 49ers  1,002  528   460    14  0.534   \n10          10    11      Pittsburgh Steelers  1,179  614   538    20  0.532   \n1            1     2        Green Bay Packers  1,336  737   562    37  0.565   \n2            2     3            Chicago Bears  1,370  749   579    42  0.562   \n7            7     8          New York Giants  1,305  687   585    33  0.539   \n\n    First NFL Season   Division  \n6               1996  AFC North  \n3               1966   AFC East  \n0               1960   NFC East  \n4               1960   AFC East  \n5               1961  NFC North  \n8               1960   AFC West  \n11              1960   AFC West  \n9               1950   NFC West  \n10              1933  AFC North  \n1               1921  NFC North  \n2               1920  NFC North  \n7               1925   NFC East  ",
            "text/html": "<div>\n<table border=\"1\" class=\"dataframe\">\n  <thead>\n    <tr style=\"text-align: right;\">\n      <th></th>\n      <th>Unnamed: 0</th>\n      <th>Rank</th>\n      <th>Team</th>\n      <th>GP</th>\n      <th>Won</th>\n      <th>Lost</th>\n      <th>Tied</th>\n      <th>Pct.</th>\n      <th>First NFL Season</th>\n      <th>Division</th>\n    </tr>\n  </thead>\n  <tbody>\n    <tr>\n      <th>6</th>\n      <td>6</td>\n      <td>7</td>\n      <td>Baltimore Ravens</td>\n      <td>352</td>\n      <td>190</td>\n      <td>161</td>\n      <td>1</td>\n      <td>0.541</td>\n      <td>1996</td>\n      <td>AFC North</td>\n    </tr>\n    <tr>\n      <th>3</th>\n      <td>3</td>\n      <td>4</td>\n      <td>Miami Dolphins</td>\n      <td>800</td>\n      <td>445</td>\n      <td>351</td>\n      <td>4</td>\n      <td>0.559</td>\n      <td>1966</td>\n      <td>AFC East</td>\n    </tr>\n    <tr>\n      <th>0</th>\n      <td>0</td>\n      <td>1</td>\n      <td>Dallas Cowboys</td>\n      <td>882</td>\n      <td>502</td>\n      <td>374</td>\n      <td>6</td>\n      <td>0.573</td>\n      <td>1960</td>\n      <td>NFC East</td>\n    </tr>\n    <tr>\n      <th>4</th>\n      <td>4</td>\n      <td>5</td>\n      <td>New England Patriots[b]</td>\n      <td>884</td>\n      <td>489</td>\n      <td>386</td>\n      <td>9</td>\n      <td>0.558</td>\n      <td>1960</td>\n      <td>AFC East</td>\n    </tr>\n    <tr>\n      <th>5</th>\n      <td>5</td>\n      <td>6</td>\n      <td>Minnesota Vikings</td>\n      <td>870</td>\n      <td>470</td>\n      <td>390</td>\n      <td>10</td>\n      <td>0.546</td>\n      <td>1961</td>\n      <td>NFC North</td>\n    </tr>\n    <tr>\n      <th>8</th>\n      <td>8</td>\n      <td>9</td>\n      <td>Denver Broncos</td>\n      <td>884</td>\n      <td>470</td>\n      <td>404</td>\n      <td>10</td>\n      <td>0.537</td>\n      <td>1960</td>\n      <td>AFC West</td>\n    </tr>\n    <tr>\n      <th>11</th>\n      <td>11</td>\n      <td>12</td>\n      <td>Oakland Raiders</td>\n      <td>884</td>\n      <td>462</td>\n      <td>411</td>\n      <td>11</td>\n      <td>0.529</td>\n      <td>1960</td>\n      <td>AFC West</td>\n    </tr>\n    <tr>\n      <th>9</th>\n      <td>9</td>\n      <td>10</td>\n      <td>San Francisco 49ers</td>\n      <td>1,002</td>\n      <td>528</td>\n      <td>460</td>\n      <td>14</td>\n      <td>0.534</td>\n      <td>1950</td>\n      <td>NFC West</td>\n    </tr>\n    <tr>\n      <th>10</th>\n      <td>10</td>\n      <td>11</td>\n      <td>Pittsburgh Steelers</td>\n      <td>1,179</td>\n      <td>614</td>\n      <td>538</td>\n      <td>20</td>\n      <td>0.532</td>\n      <td>1933</td>\n      <td>AFC North</td>\n    </tr>\n    <tr>\n      <th>1</th>\n      <td>1</td>\n      <td>2</td>\n      <td>Green Bay Packers</td>\n      <td>1,336</td>\n      <td>737</td>\n      <td>562</td>\n      <td>37</td>\n      <td>0.565</td>\n      <td>1921</td>\n      <td>NFC North</td>\n    </tr>\n    <tr>\n      <th>2</th>\n      <td>2</td>\n      <td>3</td>\n      <td>Chicago Bears</td>\n      <td>1,370</td>\n      <td>749</td>\n      <td>579</td>\n      <td>42</td>\n      <td>0.562</td>\n      <td>1920</td>\n      <td>NFC North</td>\n    </tr>\n    <tr>\n      <th>7</th>\n      <td>7</td>\n      <td>8</td>\n      <td>New York Giants</td>\n      <td>1,305</td>\n      <td>687</td>\n      <td>585</td>\n      <td>33</td>\n      <td>0.539</td>\n      <td>1925</td>\n      <td>NFC East</td>\n    </tr>\n  </tbody>\n</table>\n</div>"
          },
          "metadata": {}
        }
      ]
    },
    {
      "metadata": {
        "trusted": true
      },
      "cell_type": "code",
      "source": "nfl_frame.sort_values(['First NFL Season','Won'])",
      "execution_count": 16,
      "outputs": [
        {
          "output_type": "execute_result",
          "execution_count": 16,
          "data": {
            "text/plain": "    Unnamed: 0  Rank                     Team     GP  Won  Lost  Tied   Pct.  \\\n2            2     3            Chicago Bears  1,370  749   579    42  0.562   \n1            1     2        Green Bay Packers  1,336  737   562    37  0.565   \n7            7     8          New York Giants  1,305  687   585    33  0.539   \n10          10    11      Pittsburgh Steelers  1,179  614   538    20  0.532   \n9            9    10      San Francisco 49ers  1,002  528   460    14  0.534   \n11          11    12          Oakland Raiders    884  462   411    11  0.529   \n8            8     9           Denver Broncos    884  470   404    10  0.537   \n4            4     5  New England Patriots[b]    884  489   386     9  0.558   \n0            0     1           Dallas Cowboys    882  502   374     6  0.573   \n5            5     6        Minnesota Vikings    870  470   390    10  0.546   \n3            3     4           Miami Dolphins    800  445   351     4  0.559   \n6            6     7         Baltimore Ravens    352  190   161     1  0.541   \n\n    First NFL Season   Division  \n2               1920  NFC North  \n1               1921  NFC North  \n7               1925   NFC East  \n10              1933  AFC North  \n9               1950   NFC West  \n11              1960   AFC West  \n8               1960   AFC West  \n4               1960   AFC East  \n0               1960   NFC East  \n5               1961  NFC North  \n3               1966   AFC East  \n6               1996  AFC North  ",
            "text/html": "<div>\n<table border=\"1\" class=\"dataframe\">\n  <thead>\n    <tr style=\"text-align: right;\">\n      <th></th>\n      <th>Unnamed: 0</th>\n      <th>Rank</th>\n      <th>Team</th>\n      <th>GP</th>\n      <th>Won</th>\n      <th>Lost</th>\n      <th>Tied</th>\n      <th>Pct.</th>\n      <th>First NFL Season</th>\n      <th>Division</th>\n    </tr>\n  </thead>\n  <tbody>\n    <tr>\n      <th>2</th>\n      <td>2</td>\n      <td>3</td>\n      <td>Chicago Bears</td>\n      <td>1,370</td>\n      <td>749</td>\n      <td>579</td>\n      <td>42</td>\n      <td>0.562</td>\n      <td>1920</td>\n      <td>NFC North</td>\n    </tr>\n    <tr>\n      <th>1</th>\n      <td>1</td>\n      <td>2</td>\n      <td>Green Bay Packers</td>\n      <td>1,336</td>\n      <td>737</td>\n      <td>562</td>\n      <td>37</td>\n      <td>0.565</td>\n      <td>1921</td>\n      <td>NFC North</td>\n    </tr>\n    <tr>\n      <th>7</th>\n      <td>7</td>\n      <td>8</td>\n      <td>New York Giants</td>\n      <td>1,305</td>\n      <td>687</td>\n      <td>585</td>\n      <td>33</td>\n      <td>0.539</td>\n      <td>1925</td>\n      <td>NFC East</td>\n    </tr>\n    <tr>\n      <th>10</th>\n      <td>10</td>\n      <td>11</td>\n      <td>Pittsburgh Steelers</td>\n      <td>1,179</td>\n      <td>614</td>\n      <td>538</td>\n      <td>20</td>\n      <td>0.532</td>\n      <td>1933</td>\n      <td>AFC North</td>\n    </tr>\n    <tr>\n      <th>9</th>\n      <td>9</td>\n      <td>10</td>\n      <td>San Francisco 49ers</td>\n      <td>1,002</td>\n      <td>528</td>\n      <td>460</td>\n      <td>14</td>\n      <td>0.534</td>\n      <td>1950</td>\n      <td>NFC West</td>\n    </tr>\n    <tr>\n      <th>11</th>\n      <td>11</td>\n      <td>12</td>\n      <td>Oakland Raiders</td>\n      <td>884</td>\n      <td>462</td>\n      <td>411</td>\n      <td>11</td>\n      <td>0.529</td>\n      <td>1960</td>\n      <td>AFC West</td>\n    </tr>\n    <tr>\n      <th>8</th>\n      <td>8</td>\n      <td>9</td>\n      <td>Denver Broncos</td>\n      <td>884</td>\n      <td>470</td>\n      <td>404</td>\n      <td>10</td>\n      <td>0.537</td>\n      <td>1960</td>\n      <td>AFC West</td>\n    </tr>\n    <tr>\n      <th>4</th>\n      <td>4</td>\n      <td>5</td>\n      <td>New England Patriots[b]</td>\n      <td>884</td>\n      <td>489</td>\n      <td>386</td>\n      <td>9</td>\n      <td>0.558</td>\n      <td>1960</td>\n      <td>AFC East</td>\n    </tr>\n    <tr>\n      <th>0</th>\n      <td>0</td>\n      <td>1</td>\n      <td>Dallas Cowboys</td>\n      <td>882</td>\n      <td>502</td>\n      <td>374</td>\n      <td>6</td>\n      <td>0.573</td>\n      <td>1960</td>\n      <td>NFC East</td>\n    </tr>\n    <tr>\n      <th>5</th>\n      <td>5</td>\n      <td>6</td>\n      <td>Minnesota Vikings</td>\n      <td>870</td>\n      <td>470</td>\n      <td>390</td>\n      <td>10</td>\n      <td>0.546</td>\n      <td>1961</td>\n      <td>NFC North</td>\n    </tr>\n    <tr>\n      <th>3</th>\n      <td>3</td>\n      <td>4</td>\n      <td>Miami Dolphins</td>\n      <td>800</td>\n      <td>445</td>\n      <td>351</td>\n      <td>4</td>\n      <td>0.559</td>\n      <td>1966</td>\n      <td>AFC East</td>\n    </tr>\n    <tr>\n      <th>6</th>\n      <td>6</td>\n      <td>7</td>\n      <td>Baltimore Ravens</td>\n      <td>352</td>\n      <td>190</td>\n      <td>161</td>\n      <td>1</td>\n      <td>0.541</td>\n      <td>1996</td>\n      <td>AFC North</td>\n    </tr>\n  </tbody>\n</table>\n</div>"
          },
          "metadata": {}
        }
      ]
    },
    {
      "metadata": {},
      "cell_type": "markdown",
      "source": "# Missing data"
    },
    {
      "metadata": {
        "trusted": true
      },
      "cell_type": "code",
      "source": "import numpy as np",
      "execution_count": 17,
      "outputs": []
    },
    {
      "metadata": {
        "trusted": true
      },
      "cell_type": "code",
      "source": "from numpy import nan",
      "execution_count": 18,
      "outputs": []
    },
    {
      "metadata": {
        "trusted": true
      },
      "cell_type": "code",
      "source": "data = Series(['one','two',nan,'four'])\ndata",
      "execution_count": 19,
      "outputs": [
        {
          "output_type": "execute_result",
          "execution_count": 19,
          "data": {
            "text/plain": "0     one\n1     two\n2     NaN\n3    four\ndtype: object"
          },
          "metadata": {}
        }
      ]
    },
    {
      "metadata": {
        "trusted": true
      },
      "cell_type": "code",
      "source": "data.isnull() # finding missing values",
      "execution_count": 20,
      "outputs": [
        {
          "output_type": "execute_result",
          "execution_count": 20,
          "data": {
            "text/plain": "0    False\n1    False\n2     True\n3    False\ndtype: bool"
          },
          "metadata": {}
        }
      ]
    },
    {
      "metadata": {
        "trusted": true
      },
      "cell_type": "code",
      "source": "np.sum(data.isnull())",
      "execution_count": 21,
      "outputs": [
        {
          "output_type": "execute_result",
          "execution_count": 21,
          "data": {
            "text/plain": "1"
          },
          "metadata": {}
        }
      ]
    },
    {
      "metadata": {
        "trusted": true
      },
      "cell_type": "code",
      "source": "data.notnull() # finding non-missing values",
      "execution_count": 22,
      "outputs": [
        {
          "output_type": "execute_result",
          "execution_count": 22,
          "data": {
            "text/plain": "0     True\n1     True\n2    False\n3     True\ndtype: bool"
          },
          "metadata": {}
        }
      ]
    },
    {
      "metadata": {
        "trusted": true
      },
      "cell_type": "code",
      "source": "data = data.dropna() # remove null values",
      "execution_count": 23,
      "outputs": []
    },
    {
      "metadata": {
        "trusted": true
      },
      "cell_type": "code",
      "source": "data",
      "execution_count": 24,
      "outputs": [
        {
          "output_type": "execute_result",
          "execution_count": 24,
          "data": {
            "text/plain": "0     one\n1     two\n3    four\ndtype: object"
          },
          "metadata": {}
        }
      ]
    },
    {
      "metadata": {
        "trusted": true
      },
      "cell_type": "code",
      "source": "dframe = DataFrame([[1,2,3],[nan,5,6],[7,nan,9],[nan,nan,nan]])\ndframe",
      "execution_count": 25,
      "outputs": [
        {
          "output_type": "execute_result",
          "execution_count": 25,
          "data": {
            "text/plain": "     0    1    2\n0  1.0  2.0  3.0\n1  NaN  5.0  6.0\n2  7.0  NaN  9.0\n3  NaN  NaN  NaN",
            "text/html": "<div>\n<table border=\"1\" class=\"dataframe\">\n  <thead>\n    <tr style=\"text-align: right;\">\n      <th></th>\n      <th>0</th>\n      <th>1</th>\n      <th>2</th>\n    </tr>\n  </thead>\n  <tbody>\n    <tr>\n      <th>0</th>\n      <td>1.0</td>\n      <td>2.0</td>\n      <td>3.0</td>\n    </tr>\n    <tr>\n      <th>1</th>\n      <td>NaN</td>\n      <td>5.0</td>\n      <td>6.0</td>\n    </tr>\n    <tr>\n      <th>2</th>\n      <td>7.0</td>\n      <td>NaN</td>\n      <td>9.0</td>\n    </tr>\n    <tr>\n      <th>3</th>\n      <td>NaN</td>\n      <td>NaN</td>\n      <td>NaN</td>\n    </tr>\n  </tbody>\n</table>\n</div>"
          },
          "metadata": {}
        }
      ]
    },
    {
      "metadata": {
        "trusted": true
      },
      "cell_type": "code",
      "source": "np.sum(dframe.isnull(), axis = 0)",
      "execution_count": 26,
      "outputs": [
        {
          "output_type": "execute_result",
          "execution_count": 26,
          "data": {
            "text/plain": "0    2\n1    2\n2    1\ndtype: int64"
          },
          "metadata": {}
        }
      ]
    },
    {
      "metadata": {
        "trusted": true
      },
      "cell_type": "code",
      "source": "clean_dframe = dframe.dropna() # removes all rows for which there is one or more null values\nclean_dframe",
      "execution_count": 27,
      "outputs": [
        {
          "output_type": "execute_result",
          "execution_count": 27,
          "data": {
            "text/plain": "     0    1    2\n0  1.0  2.0  3.0",
            "text/html": "<div>\n<table border=\"1\" class=\"dataframe\">\n  <thead>\n    <tr style=\"text-align: right;\">\n      <th></th>\n      <th>0</th>\n      <th>1</th>\n      <th>2</th>\n    </tr>\n  </thead>\n  <tbody>\n    <tr>\n      <th>0</th>\n      <td>1.0</td>\n      <td>2.0</td>\n      <td>3.0</td>\n    </tr>\n  </tbody>\n</table>\n</div>"
          },
          "metadata": {}
        }
      ]
    },
    {
      "metadata": {
        "trusted": true
      },
      "cell_type": "code",
      "source": "dframe.dropna(how='all') # removes rows for which all data is missing or null`",
      "execution_count": 28,
      "outputs": [
        {
          "output_type": "execute_result",
          "execution_count": 28,
          "data": {
            "text/plain": "     0    1    2\n0  1.0  2.0  3.0\n1  NaN  5.0  6.0\n2  7.0  NaN  9.0",
            "text/html": "<div>\n<table border=\"1\" class=\"dataframe\">\n  <thead>\n    <tr style=\"text-align: right;\">\n      <th></th>\n      <th>0</th>\n      <th>1</th>\n      <th>2</th>\n    </tr>\n  </thead>\n  <tbody>\n    <tr>\n      <th>0</th>\n      <td>1.0</td>\n      <td>2.0</td>\n      <td>3.0</td>\n    </tr>\n    <tr>\n      <th>1</th>\n      <td>NaN</td>\n      <td>5.0</td>\n      <td>6.0</td>\n    </tr>\n    <tr>\n      <th>2</th>\n      <td>7.0</td>\n      <td>NaN</td>\n      <td>9.0</td>\n    </tr>\n  </tbody>\n</table>\n</div>"
          },
          "metadata": {}
        }
      ]
    },
    {
      "metadata": {
        "trusted": true
      },
      "cell_type": "code",
      "source": "dframe.dropna(thresh=2)",
      "execution_count": 29,
      "outputs": [
        {
          "output_type": "execute_result",
          "execution_count": 29,
          "data": {
            "text/plain": "     0    1    2\n0  1.0  2.0  3.0\n1  NaN  5.0  6.0\n2  7.0  NaN  9.0",
            "text/html": "<div>\n<table border=\"1\" class=\"dataframe\">\n  <thead>\n    <tr style=\"text-align: right;\">\n      <th></th>\n      <th>0</th>\n      <th>1</th>\n      <th>2</th>\n    </tr>\n  </thead>\n  <tbody>\n    <tr>\n      <th>0</th>\n      <td>1.0</td>\n      <td>2.0</td>\n      <td>3.0</td>\n    </tr>\n    <tr>\n      <th>1</th>\n      <td>NaN</td>\n      <td>5.0</td>\n      <td>6.0</td>\n    </tr>\n    <tr>\n      <th>2</th>\n      <td>7.0</td>\n      <td>NaN</td>\n      <td>9.0</td>\n    </tr>\n  </tbody>\n</table>\n</div>"
          },
          "metadata": {}
        }
      ]
    },
    {
      "metadata": {
        "trusted": true
      },
      "cell_type": "code",
      "source": "dframe.dropna(axis=1) # as usual, default is by row (i.e. axis = 0)",
      "execution_count": 30,
      "outputs": [
        {
          "output_type": "execute_result",
          "execution_count": 30,
          "data": {
            "text/plain": "Empty DataFrame\nColumns: []\nIndex: [0, 1, 2, 3]",
            "text/html": "<div>\n<table border=\"1\" class=\"dataframe\">\n  <thead>\n    <tr style=\"text-align: right;\">\n      <th></th>\n    </tr>\n  </thead>\n  <tbody>\n    <tr>\n      <th>0</th>\n    </tr>\n    <tr>\n      <th>1</th>\n    </tr>\n    <tr>\n      <th>2</th>\n    </tr>\n    <tr>\n      <th>3</th>\n    </tr>\n  </tbody>\n</table>\n</div>"
          },
          "metadata": {}
        }
      ]
    },
    {
      "metadata": {
        "scrolled": false,
        "trusted": true
      },
      "cell_type": "code",
      "source": "dframe2 = DataFrame([[1,2,3,nan],[2,nan,5,6],[nan,7,nan,9],[1,nan,nan,nan]])\ndframe2",
      "execution_count": 31,
      "outputs": [
        {
          "output_type": "execute_result",
          "execution_count": 31,
          "data": {
            "text/plain": "     0    1    2    3\n0  1.0  2.0  3.0  NaN\n1  2.0  NaN  5.0  6.0\n2  NaN  7.0  NaN  9.0\n3  1.0  NaN  NaN  NaN",
            "text/html": "<div>\n<table border=\"1\" class=\"dataframe\">\n  <thead>\n    <tr style=\"text-align: right;\">\n      <th></th>\n      <th>0</th>\n      <th>1</th>\n      <th>2</th>\n      <th>3</th>\n    </tr>\n  </thead>\n  <tbody>\n    <tr>\n      <th>0</th>\n      <td>1.0</td>\n      <td>2.0</td>\n      <td>3.0</td>\n      <td>NaN</td>\n    </tr>\n    <tr>\n      <th>1</th>\n      <td>2.0</td>\n      <td>NaN</td>\n      <td>5.0</td>\n      <td>6.0</td>\n    </tr>\n    <tr>\n      <th>2</th>\n      <td>NaN</td>\n      <td>7.0</td>\n      <td>NaN</td>\n      <td>9.0</td>\n    </tr>\n    <tr>\n      <th>3</th>\n      <td>1.0</td>\n      <td>NaN</td>\n      <td>NaN</td>\n      <td>NaN</td>\n    </tr>\n  </tbody>\n</table>\n</div>"
          },
          "metadata": {}
        }
      ]
    },
    {
      "metadata": {},
      "cell_type": "markdown",
      "source": "Options for using dropna\n<br>[1] dframe.dropna(): drops all rows in which <b>ANY</b> of the values are missing\n<br>[2] dframe.dropna(how = 'all'): drops rows in which <b>ALL</b> values are missing\n<br>[3] dframe.dropna(thresh = n): drops rows which have less than n <b>NON-MISSING</b> values"
    },
    {
      "metadata": {
        "trusted": true
      },
      "cell_type": "code",
      "source": "dframe2.dropna(thresh = 2) \n# drop rows that have less than two non-missing values\n# i.e. only keep rows that have at least two non-missing",
      "execution_count": 32,
      "outputs": [
        {
          "output_type": "execute_result",
          "execution_count": 32,
          "data": {
            "text/plain": "     0    1    2    3\n0  1.0  2.0  3.0  NaN\n1  2.0  NaN  5.0  6.0\n2  NaN  7.0  NaN  9.0",
            "text/html": "<div>\n<table border=\"1\" class=\"dataframe\">\n  <thead>\n    <tr style=\"text-align: right;\">\n      <th></th>\n      <th>0</th>\n      <th>1</th>\n      <th>2</th>\n      <th>3</th>\n    </tr>\n  </thead>\n  <tbody>\n    <tr>\n      <th>0</th>\n      <td>1.0</td>\n      <td>2.0</td>\n      <td>3.0</td>\n      <td>NaN</td>\n    </tr>\n    <tr>\n      <th>1</th>\n      <td>2.0</td>\n      <td>NaN</td>\n      <td>5.0</td>\n      <td>6.0</td>\n    </tr>\n    <tr>\n      <th>2</th>\n      <td>NaN</td>\n      <td>7.0</td>\n      <td>NaN</td>\n      <td>9.0</td>\n    </tr>\n  </tbody>\n</table>\n</div>"
          },
          "metadata": {}
        }
      ]
    },
    {
      "metadata": {
        "trusted": true
      },
      "cell_type": "code",
      "source": "dframe2.dropna(thresh = 3)",
      "execution_count": 33,
      "outputs": [
        {
          "output_type": "execute_result",
          "execution_count": 33,
          "data": {
            "text/plain": "     0    1    2    3\n0  1.0  2.0  3.0  NaN\n1  2.0  NaN  5.0  6.0",
            "text/html": "<div>\n<table border=\"1\" class=\"dataframe\">\n  <thead>\n    <tr style=\"text-align: right;\">\n      <th></th>\n      <th>0</th>\n      <th>1</th>\n      <th>2</th>\n      <th>3</th>\n    </tr>\n  </thead>\n  <tbody>\n    <tr>\n      <th>0</th>\n      <td>1.0</td>\n      <td>2.0</td>\n      <td>3.0</td>\n      <td>NaN</td>\n    </tr>\n    <tr>\n      <th>1</th>\n      <td>2.0</td>\n      <td>NaN</td>\n      <td>5.0</td>\n      <td>6.0</td>\n    </tr>\n  </tbody>\n</table>\n</div>"
          },
          "metadata": {}
        }
      ]
    },
    {
      "metadata": {
        "trusted": true
      },
      "cell_type": "code",
      "source": "dframe2",
      "execution_count": 34,
      "outputs": [
        {
          "output_type": "execute_result",
          "execution_count": 34,
          "data": {
            "text/plain": "     0    1    2    3\n0  1.0  2.0  3.0  NaN\n1  2.0  NaN  5.0  6.0\n2  NaN  7.0  NaN  9.0\n3  1.0  NaN  NaN  NaN",
            "text/html": "<div>\n<table border=\"1\" class=\"dataframe\">\n  <thead>\n    <tr style=\"text-align: right;\">\n      <th></th>\n      <th>0</th>\n      <th>1</th>\n      <th>2</th>\n      <th>3</th>\n    </tr>\n  </thead>\n  <tbody>\n    <tr>\n      <th>0</th>\n      <td>1.0</td>\n      <td>2.0</td>\n      <td>3.0</td>\n      <td>NaN</td>\n    </tr>\n    <tr>\n      <th>1</th>\n      <td>2.0</td>\n      <td>NaN</td>\n      <td>5.0</td>\n      <td>6.0</td>\n    </tr>\n    <tr>\n      <th>2</th>\n      <td>NaN</td>\n      <td>7.0</td>\n      <td>NaN</td>\n      <td>9.0</td>\n    </tr>\n    <tr>\n      <th>3</th>\n      <td>1.0</td>\n      <td>NaN</td>\n      <td>NaN</td>\n      <td>NaN</td>\n    </tr>\n  </tbody>\n</table>\n</div>"
          },
          "metadata": {}
        }
      ]
    },
    {
      "metadata": {
        "trusted": true
      },
      "cell_type": "code",
      "source": "dframe2.fillna(999) # replace NAs with the value supplied",
      "execution_count": 35,
      "outputs": [
        {
          "output_type": "execute_result",
          "execution_count": 35,
          "data": {
            "text/plain": "       0      1      2      3\n0    1.0    2.0    3.0  999.0\n1    2.0  999.0    5.0    6.0\n2  999.0    7.0  999.0    9.0\n3    1.0  999.0  999.0  999.0",
            "text/html": "<div>\n<table border=\"1\" class=\"dataframe\">\n  <thead>\n    <tr style=\"text-align: right;\">\n      <th></th>\n      <th>0</th>\n      <th>1</th>\n      <th>2</th>\n      <th>3</th>\n    </tr>\n  </thead>\n  <tbody>\n    <tr>\n      <th>0</th>\n      <td>1.0</td>\n      <td>2.0</td>\n      <td>3.0</td>\n      <td>999.0</td>\n    </tr>\n    <tr>\n      <th>1</th>\n      <td>2.0</td>\n      <td>999.0</td>\n      <td>5.0</td>\n      <td>6.0</td>\n    </tr>\n    <tr>\n      <th>2</th>\n      <td>999.0</td>\n      <td>7.0</td>\n      <td>999.0</td>\n      <td>9.0</td>\n    </tr>\n    <tr>\n      <th>3</th>\n      <td>1.0</td>\n      <td>999.0</td>\n      <td>999.0</td>\n      <td>999.0</td>\n    </tr>\n  </tbody>\n</table>\n</div>"
          },
          "metadata": {}
        }
      ]
    },
    {
      "metadata": {
        "trusted": true
      },
      "cell_type": "code",
      "source": "dframe2.columns = ['Col1','Col2','Col3','Col4']",
      "execution_count": 36,
      "outputs": []
    },
    {
      "metadata": {
        "trusted": true
      },
      "cell_type": "code",
      "source": "dframe2",
      "execution_count": 37,
      "outputs": [
        {
          "output_type": "execute_result",
          "execution_count": 37,
          "data": {
            "text/plain": "   Col1  Col2  Col3  Col4\n0   1.0   2.0   3.0   NaN\n1   2.0   NaN   5.0   6.0\n2   NaN   7.0   NaN   9.0\n3   1.0   NaN   NaN   NaN",
            "text/html": "<div>\n<table border=\"1\" class=\"dataframe\">\n  <thead>\n    <tr style=\"text-align: right;\">\n      <th></th>\n      <th>Col1</th>\n      <th>Col2</th>\n      <th>Col3</th>\n      <th>Col4</th>\n    </tr>\n  </thead>\n  <tbody>\n    <tr>\n      <th>0</th>\n      <td>1.0</td>\n      <td>2.0</td>\n      <td>3.0</td>\n      <td>NaN</td>\n    </tr>\n    <tr>\n      <th>1</th>\n      <td>2.0</td>\n      <td>NaN</td>\n      <td>5.0</td>\n      <td>6.0</td>\n    </tr>\n    <tr>\n      <th>2</th>\n      <td>NaN</td>\n      <td>7.0</td>\n      <td>NaN</td>\n      <td>9.0</td>\n    </tr>\n    <tr>\n      <th>3</th>\n      <td>1.0</td>\n      <td>NaN</td>\n      <td>NaN</td>\n      <td>NaN</td>\n    </tr>\n  </tbody>\n</table>\n</div>"
          },
          "metadata": {}
        }
      ]
    },
    {
      "metadata": {
        "trusted": true
      },
      "cell_type": "code",
      "source": "mean1 = dframe2['Col1'].mean()\nmean2 = dframe2['Col2'].mean()\nmean3 = dframe2['Col3'].mean()\nmean4 = dframe2['Col4'].mean()",
      "execution_count": 39,
      "outputs": []
    },
    {
      "metadata": {
        "trusted": true
      },
      "cell_type": "code",
      "source": "mean1",
      "execution_count": 40,
      "outputs": [
        {
          "output_type": "execute_result",
          "execution_count": 40,
          "data": {
            "text/plain": "1.3333333333333333"
          },
          "metadata": {}
        }
      ]
    },
    {
      "metadata": {
        "trusted": true
      },
      "cell_type": "code",
      "source": "mean2",
      "execution_count": 41,
      "outputs": [
        {
          "output_type": "execute_result",
          "execution_count": 41,
          "data": {
            "text/plain": "4.5"
          },
          "metadata": {}
        }
      ]
    },
    {
      "metadata": {
        "trusted": true
      },
      "cell_type": "code",
      "source": "dframe2",
      "execution_count": 42,
      "outputs": [
        {
          "output_type": "execute_result",
          "execution_count": 42,
          "data": {
            "text/plain": "   Col1  Col2  Col3  Col4\n0   1.0   2.0   3.0   NaN\n1   2.0   NaN   5.0   6.0\n2   NaN   7.0   NaN   9.0\n3   1.0   NaN   NaN   NaN",
            "text/html": "<div>\n<table border=\"1\" class=\"dataframe\">\n  <thead>\n    <tr style=\"text-align: right;\">\n      <th></th>\n      <th>Col1</th>\n      <th>Col2</th>\n      <th>Col3</th>\n      <th>Col4</th>\n    </tr>\n  </thead>\n  <tbody>\n    <tr>\n      <th>0</th>\n      <td>1.0</td>\n      <td>2.0</td>\n      <td>3.0</td>\n      <td>NaN</td>\n    </tr>\n    <tr>\n      <th>1</th>\n      <td>2.0</td>\n      <td>NaN</td>\n      <td>5.0</td>\n      <td>6.0</td>\n    </tr>\n    <tr>\n      <th>2</th>\n      <td>NaN</td>\n      <td>7.0</td>\n      <td>NaN</td>\n      <td>9.0</td>\n    </tr>\n    <tr>\n      <th>3</th>\n      <td>1.0</td>\n      <td>NaN</td>\n      <td>NaN</td>\n      <td>NaN</td>\n    </tr>\n  </tbody>\n</table>\n</div>"
          },
          "metadata": {}
        }
      ]
    },
    {
      "metadata": {
        "trusted": true
      },
      "cell_type": "code",
      "source": "dframe2.fillna({'Col1':mean1,'Col2':mean2,'Col3':mean3,'Col4':mean4}) # fill each column with a particular (different) value",
      "execution_count": 43,
      "outputs": [
        {
          "output_type": "execute_result",
          "execution_count": 43,
          "data": {
            "text/plain": "       Col1  Col2  Col3  Col4\n0  1.000000   2.0   3.0   7.5\n1  2.000000   4.5   5.0   6.0\n2  1.333333   7.0   4.0   9.0\n3  1.000000   4.5   4.0   7.5",
            "text/html": "<div>\n<table border=\"1\" class=\"dataframe\">\n  <thead>\n    <tr style=\"text-align: right;\">\n      <th></th>\n      <th>Col1</th>\n      <th>Col2</th>\n      <th>Col3</th>\n      <th>Col4</th>\n    </tr>\n  </thead>\n  <tbody>\n    <tr>\n      <th>0</th>\n      <td>1.000000</td>\n      <td>2.0</td>\n      <td>3.0</td>\n      <td>7.5</td>\n    </tr>\n    <tr>\n      <th>1</th>\n      <td>2.000000</td>\n      <td>4.5</td>\n      <td>5.0</td>\n      <td>6.0</td>\n    </tr>\n    <tr>\n      <th>2</th>\n      <td>1.333333</td>\n      <td>7.0</td>\n      <td>4.0</td>\n      <td>9.0</td>\n    </tr>\n    <tr>\n      <th>3</th>\n      <td>1.000000</td>\n      <td>4.5</td>\n      <td>4.0</td>\n      <td>7.5</td>\n    </tr>\n  </tbody>\n</table>\n</div>"
          },
          "metadata": {}
        }
      ]
    },
    {
      "metadata": {
        "trusted": true
      },
      "cell_type": "code",
      "source": "dframe2.fillna(0)",
      "execution_count": 44,
      "outputs": [
        {
          "output_type": "execute_result",
          "execution_count": 44,
          "data": {
            "text/plain": "   Col1  Col2  Col3  Col4\n0   1.0   2.0   3.0   0.0\n1   2.0   0.0   5.0   6.0\n2   0.0   7.0   0.0   9.0\n3   1.0   0.0   0.0   0.0",
            "text/html": "<div>\n<table border=\"1\" class=\"dataframe\">\n  <thead>\n    <tr style=\"text-align: right;\">\n      <th></th>\n      <th>Col1</th>\n      <th>Col2</th>\n      <th>Col3</th>\n      <th>Col4</th>\n    </tr>\n  </thead>\n  <tbody>\n    <tr>\n      <th>0</th>\n      <td>1.0</td>\n      <td>2.0</td>\n      <td>3.0</td>\n      <td>0.0</td>\n    </tr>\n    <tr>\n      <th>1</th>\n      <td>2.0</td>\n      <td>0.0</td>\n      <td>5.0</td>\n      <td>6.0</td>\n    </tr>\n    <tr>\n      <th>2</th>\n      <td>0.0</td>\n      <td>7.0</td>\n      <td>0.0</td>\n      <td>9.0</td>\n    </tr>\n    <tr>\n      <th>3</th>\n      <td>1.0</td>\n      <td>0.0</td>\n      <td>0.0</td>\n      <td>0.0</td>\n    </tr>\n  </tbody>\n</table>\n</div>"
          },
          "metadata": {}
        }
      ]
    },
    {
      "metadata": {
        "trusted": true
      },
      "cell_type": "code",
      "source": "dframe2 # original dframe is unchanged",
      "execution_count": 45,
      "outputs": [
        {
          "output_type": "execute_result",
          "execution_count": 45,
          "data": {
            "text/plain": "   Col1  Col2  Col3  Col4\n0   1.0   2.0   3.0   NaN\n1   2.0   NaN   5.0   6.0\n2   NaN   7.0   NaN   9.0\n3   1.0   NaN   NaN   NaN",
            "text/html": "<div>\n<table border=\"1\" class=\"dataframe\">\n  <thead>\n    <tr style=\"text-align: right;\">\n      <th></th>\n      <th>Col1</th>\n      <th>Col2</th>\n      <th>Col3</th>\n      <th>Col4</th>\n    </tr>\n  </thead>\n  <tbody>\n    <tr>\n      <th>0</th>\n      <td>1.0</td>\n      <td>2.0</td>\n      <td>3.0</td>\n      <td>NaN</td>\n    </tr>\n    <tr>\n      <th>1</th>\n      <td>2.0</td>\n      <td>NaN</td>\n      <td>5.0</td>\n      <td>6.0</td>\n    </tr>\n    <tr>\n      <th>2</th>\n      <td>NaN</td>\n      <td>7.0</td>\n      <td>NaN</td>\n      <td>9.0</td>\n    </tr>\n    <tr>\n      <th>3</th>\n      <td>1.0</td>\n      <td>NaN</td>\n      <td>NaN</td>\n      <td>NaN</td>\n    </tr>\n  </tbody>\n</table>\n</div>"
          },
          "metadata": {}
        }
      ]
    },
    {
      "metadata": {
        "trusted": true
      },
      "cell_type": "code",
      "source": "dframe2.fillna(0,inplace = True) # changes the original data frame",
      "execution_count": 46,
      "outputs": []
    },
    {
      "metadata": {
        "trusted": true
      },
      "cell_type": "code",
      "source": "dframe2",
      "execution_count": 47,
      "outputs": [
        {
          "output_type": "execute_result",
          "execution_count": 47,
          "data": {
            "text/plain": "   Col1  Col2  Col3  Col4\n0   1.0   2.0   3.0   0.0\n1   2.0   0.0   5.0   6.0\n2   0.0   7.0   0.0   9.0\n3   1.0   0.0   0.0   0.0",
            "text/html": "<div>\n<table border=\"1\" class=\"dataframe\">\n  <thead>\n    <tr style=\"text-align: right;\">\n      <th></th>\n      <th>Col1</th>\n      <th>Col2</th>\n      <th>Col3</th>\n      <th>Col4</th>\n    </tr>\n  </thead>\n  <tbody>\n    <tr>\n      <th>0</th>\n      <td>1.0</td>\n      <td>2.0</td>\n      <td>3.0</td>\n      <td>0.0</td>\n    </tr>\n    <tr>\n      <th>1</th>\n      <td>2.0</td>\n      <td>0.0</td>\n      <td>5.0</td>\n      <td>6.0</td>\n    </tr>\n    <tr>\n      <th>2</th>\n      <td>0.0</td>\n      <td>7.0</td>\n      <td>0.0</td>\n      <td>9.0</td>\n    </tr>\n    <tr>\n      <th>3</th>\n      <td>1.0</td>\n      <td>0.0</td>\n      <td>0.0</td>\n      <td>0.0</td>\n    </tr>\n  </tbody>\n</table>\n</div>"
          },
          "metadata": {}
        }
      ]
    },
    {
      "metadata": {
        "collapsed": true
      },
      "cell_type": "markdown",
      "source": "## End of part 5"
    }
  ],
  "metadata": {
    "kernelspec": {
      "name": "python3",
      "display_name": "Python 3",
      "language": "python"
    },
    "language_info": {
      "mimetype": "text/x-python",
      "nbconvert_exporter": "python",
      "name": "python",
      "pygments_lexer": "ipython3",
      "version": "3.5.4",
      "file_extension": ".py",
      "codemirror_mode": {
        "version": 3,
        "name": "ipython"
      }
    }
  },
  "nbformat": 4,
  "nbformat_minor": 1
}