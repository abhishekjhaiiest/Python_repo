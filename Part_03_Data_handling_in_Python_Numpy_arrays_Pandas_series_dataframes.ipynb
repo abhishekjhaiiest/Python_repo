{
  "cells": [
    {
      "metadata": {},
      "cell_type": "markdown",
      "source": "# Part 3\n\n\n## NumPy"
    },
    {
      "metadata": {
        "trusted": true
      },
      "cell_type": "code",
      "source": "import numpy as np # import numpy and give it the short form ('nickname') np",
      "execution_count": 2,
      "outputs": []
    },
    {
      "metadata": {},
      "cell_type": "markdown",
      "source": "<b>From Wikipedia:\n    \nNumPy (pronounced /ˈnʌmpaɪ/ (NUM-py) or sometimes /ˈnʌmpi/ (NUM-pee)) is a library for the Python programming language, adding support for large, multi-dimensional arrays and matrices, along with a large collection of high-level mathematical functions to operate on these arrays. The ancestor of NumPy, Numeric, was originally created by Jim Hugunin with contributions from several other developers. In 2005, Travis Oliphant created NumPy by incorporating features of the competing Numarray into Numeric, with extensive modifications. NumPy is open-source software and has many contributors.</b>\n\n<a href = \"https://en.wikipedia.org/wiki/NumPy\">Full article here</a>"
    },
    {
      "metadata": {},
      "cell_type": "markdown",
      "source": "Some important **Numpy** features:\n<ul>\n<li>ndarray: fast and space-efficient multidimensional array with vectorized arithmetic and sophisticated broadcasting</li>\n<li>Standard vectorized math</li>\n<li>Reading / writing arrays to disk</li>\n<li>Memory-mapped file access</li>\n<li>Linear algebra, rng, fourier transform</li>\n<li>Integration of C, C++, FORTRAN</li>\n</ul>"
    },
    {
      "metadata": {},
      "cell_type": "markdown",
      "source": "**Creating NumPy arrays**\n\nThe function *array()* is commonly used to create numpy ndarrays on the fly from other Python sequence-like objects such as tuples and lists."
    },
    {
      "metadata": {
        "trusted": true
      },
      "cell_type": "code",
      "source": "np.array(range(3))",
      "execution_count": 3,
      "outputs": [
        {
          "output_type": "execute_result",
          "execution_count": 3,
          "data": {
            "text/plain": "array([0, 1, 2])"
          },
          "metadata": {}
        }
      ]
    },
    {
      "metadata": {
        "trusted": true
      },
      "cell_type": "code",
      "source": "np.array((1, 2, 3)) # from a tuple",
      "execution_count": 4,
      "outputs": [
        {
          "output_type": "execute_result",
          "execution_count": 4,
          "data": {
            "text/plain": "array([1, 2, 3])"
          },
          "metadata": {}
        }
      ]
    },
    {
      "metadata": {
        "trusted": true
      },
      "cell_type": "code",
      "source": "np.array([1, 2, 3]) # from a list",
      "execution_count": 5,
      "outputs": [
        {
          "output_type": "execute_result",
          "execution_count": 5,
          "data": {
            "text/plain": "array([1, 2, 3])"
          },
          "metadata": {}
        }
      ]
    },
    {
      "metadata": {},
      "cell_type": "markdown",
      "source": "Nested lists result in mutlidimensional arrays:"
    },
    {
      "metadata": {
        "trusted": true
      },
      "cell_type": "code",
      "source": "import random\nnestedList = [[random.uniform(0, 9) for x in range(3)] for y in range(4)]\nnestedList",
      "execution_count": 6,
      "outputs": [
        {
          "output_type": "execute_result",
          "execution_count": 6,
          "data": {
            "text/plain": "[[6.805433500713564, 0.9032582472508374, 1.9379275889037832],\n [3.4383007204624936, 3.551119695656502, 5.884852621954787],\n [5.636376521209202, 6.898717433682599, 2.825141491184327],\n [8.109888775168502, 5.679589392945922, 8.018776433854713]]"
          },
          "metadata": {}
        }
      ]
    },
    {
      "metadata": {
        "trusted": true
      },
      "cell_type": "code",
      "source": "type(nestedList)",
      "execution_count": 7,
      "outputs": [
        {
          "output_type": "execute_result",
          "execution_count": 7,
          "data": {
            "text/plain": "list"
          },
          "metadata": {}
        }
      ]
    },
    {
      "metadata": {
        "trusted": true
      },
      "cell_type": "code",
      "source": "myArray = np.array(nestedList)\nmyArray",
      "execution_count": 8,
      "outputs": [
        {
          "output_type": "execute_result",
          "execution_count": 8,
          "data": {
            "text/plain": "array([[6.8054335 , 0.90325825, 1.93792759],\n       [3.43830072, 3.5511197 , 5.88485262],\n       [5.63637652, 6.89871743, 2.82514149],\n       [8.10988878, 5.67958939, 8.01877643]])"
          },
          "metadata": {}
        }
      ]
    },
    {
      "metadata": {},
      "cell_type": "markdown",
      "source": "**Important attributes of arrays**"
    },
    {
      "metadata": {
        "trusted": true
      },
      "cell_type": "code",
      "source": "print(myArray.ndim)  # Number of dimensions\nprint(myArray.shape) # Shape of the ndarray\nprint(myArray.dtype) # Data type contained in the array",
      "execution_count": 9,
      "outputs": [
        {
          "output_type": "stream",
          "text": "2\n(4, 3)\nfloat64\n",
          "name": "stdout"
        }
      ]
    },
    {
      "metadata": {},
      "cell_type": "markdown",
      "source": "#### Other functions to create arrays"
    },
    {
      "metadata": {},
      "cell_type": "markdown",
      "source": "**arange** - this is equivalent to the range function, except returns a one-dimensional array instead of a range object: "
    },
    {
      "metadata": {
        "trusted": true
      },
      "cell_type": "code",
      "source": "np.arange(10)",
      "execution_count": 10,
      "outputs": [
        {
          "output_type": "execute_result",
          "execution_count": 10,
          "data": {
            "text/plain": "array([0, 1, 2, 3, 4, 5, 6, 7, 8, 9])"
          },
          "metadata": {}
        }
      ]
    },
    {
      "metadata": {},
      "cell_type": "markdown",
      "source": "**ones**, **zeros**, **ones_like**, **zeros_like** - to create arrays filled with ones or zeroes with a given shape or with a shape similar to a given object:"
    },
    {
      "metadata": {
        "trusted": true
      },
      "cell_type": "code",
      "source": "np.ones(3)",
      "execution_count": 11,
      "outputs": [
        {
          "output_type": "execute_result",
          "execution_count": 11,
          "data": {
            "text/plain": "array([1., 1., 1.])"
          },
          "metadata": {}
        }
      ]
    },
    {
      "metadata": {
        "trusted": true
      },
      "cell_type": "code",
      "source": "np.ones((3,4))",
      "execution_count": 12,
      "outputs": [
        {
          "output_type": "execute_result",
          "execution_count": 12,
          "data": {
            "text/plain": "array([[1., 1., 1., 1.],\n       [1., 1., 1., 1.],\n       [1., 1., 1., 1.]])"
          },
          "metadata": {}
        }
      ]
    },
    {
      "metadata": {
        "trusted": true
      },
      "cell_type": "code",
      "source": "np.zeros(4)",
      "execution_count": 13,
      "outputs": [
        {
          "output_type": "execute_result",
          "execution_count": 13,
          "data": {
            "text/plain": "array([0., 0., 0., 0.])"
          },
          "metadata": {}
        }
      ]
    },
    {
      "metadata": {
        "trusted": true
      },
      "cell_type": "code",
      "source": "np.zeros((4,3))",
      "execution_count": null,
      "outputs": []
    },
    {
      "metadata": {},
      "cell_type": "markdown",
      "source": "We can explicitly specify the data type with which an array should be created:"
    },
    {
      "metadata": {
        "trusted": true
      },
      "cell_type": "code",
      "source": "newArray = np.array(nestedList, dtype = np.int)\nnewArray",
      "execution_count": null,
      "outputs": []
    },
    {
      "metadata": {
        "trusted": true
      },
      "cell_type": "code",
      "source": "newArray = np.array(nestedList, dtype = np.float)\nnewArray",
      "execution_count": null,
      "outputs": []
    },
    {
      "metadata": {
        "trusted": true
      },
      "cell_type": "code",
      "source": "newArray = np.array(nestedList, dtype = np.bool) # numbers >0 are True\nnewArray",
      "execution_count": null,
      "outputs": []
    },
    {
      "metadata": {
        "trusted": true
      },
      "cell_type": "code",
      "source": "newArray = np.array(nestedList, dtype = np.unicode) # Unicode strings\nnewArray",
      "execution_count": null,
      "outputs": []
    },
    {
      "metadata": {
        "trusted": true
      },
      "cell_type": "code",
      "source": "newArray = np.array(nestedList, dtype = np.object) # arbitrary objects\nnewArray",
      "execution_count": null,
      "outputs": []
    },
    {
      "metadata": {},
      "cell_type": "markdown",
      "source": "## Vectorized math\n\nOne of the most powerful and useful features of numpy, especially for data science, is the ability to vectorize mathmatical operations - that is to apply operations to each element of a vector or array simultaneously without needing to use a *for* loop"
    },
    {
      "metadata": {
        "trusted": true
      },
      "cell_type": "code",
      "source": "myArray",
      "execution_count": 14,
      "outputs": [
        {
          "output_type": "execute_result",
          "execution_count": 14,
          "data": {
            "text/plain": "array([[6.8054335 , 0.90325825, 1.93792759],\n       [3.43830072, 3.5511197 , 5.88485262],\n       [5.63637652, 6.89871743, 2.82514149],\n       [8.10988878, 5.67958939, 8.01877643]])"
          },
          "metadata": {}
        }
      ]
    },
    {
      "metadata": {
        "trusted": true
      },
      "cell_type": "code",
      "source": "myArray + 3",
      "execution_count": 15,
      "outputs": [
        {
          "output_type": "execute_result",
          "execution_count": 15,
          "data": {
            "text/plain": "array([[ 9.8054335 ,  3.90325825,  4.93792759],\n       [ 6.43830072,  6.5511197 ,  8.88485262],\n       [ 8.63637652,  9.89871743,  5.82514149],\n       [11.10988878,  8.67958939, 11.01877643]])"
          },
          "metadata": {}
        }
      ]
    },
    {
      "metadata": {
        "trusted": true
      },
      "cell_type": "code",
      "source": "myArray2 = np.array([[random.uniform(0, 3) for x in range(3)] for y in range(4)]) \n# creating a nested list and then a 2D array in one step\nmyArray2",
      "execution_count": 16,
      "outputs": [
        {
          "output_type": "execute_result",
          "execution_count": 16,
          "data": {
            "text/plain": "array([[0.11180342, 0.98465866, 1.79449445],\n       [1.73150373, 2.80483049, 2.50239923],\n       [0.63915541, 2.45842594, 2.49571311],\n       [2.1470421 , 2.71896573, 2.1623368 ]])"
          },
          "metadata": {}
        }
      ]
    },
    {
      "metadata": {
        "trusted": true
      },
      "cell_type": "code",
      "source": "myArray + myArray2",
      "execution_count": 17,
      "outputs": [
        {
          "output_type": "execute_result",
          "execution_count": 17,
          "data": {
            "text/plain": "array([[ 6.91723692,  1.88791691,  3.73242204],\n       [ 5.16980445,  6.35595019,  8.38725185],\n       [ 6.27553193,  9.35714337,  5.3208546 ],\n       [10.25693088,  8.39855513, 10.18111323]])"
          },
          "metadata": {}
        }
      ]
    },
    {
      "metadata": {
        "trusted": true
      },
      "cell_type": "code",
      "source": "newArray = myArray.astype(np.int)\nnewArray",
      "execution_count": 18,
      "outputs": [
        {
          "output_type": "execute_result",
          "execution_count": 18,
          "data": {
            "text/plain": "array([[6, 0, 1],\n       [3, 3, 5],\n       [5, 6, 2],\n       [8, 5, 8]])"
          },
          "metadata": {}
        }
      ]
    },
    {
      "metadata": {
        "trusted": true
      },
      "cell_type": "code",
      "source": "newArray * 3",
      "execution_count": 19,
      "outputs": [
        {
          "output_type": "execute_result",
          "execution_count": 19,
          "data": {
            "text/plain": "array([[18,  0,  3],\n       [ 9,  9, 15],\n       [15, 18,  6],\n       [24, 15, 24]])"
          },
          "metadata": {}
        }
      ]
    },
    {
      "metadata": {
        "trusted": true
      },
      "cell_type": "code",
      "source": "newArray * [1,2,3] \n# Elementwise multiplication on rows\n# That is, in each row, the first column is multiplied by 1, the second by 2 and the third by 3",
      "execution_count": 20,
      "outputs": [
        {
          "output_type": "execute_result",
          "execution_count": 20,
          "data": {
            "text/plain": "array([[ 6,  0,  3],\n       [ 3,  6, 15],\n       [ 5, 12,  6],\n       [ 8, 10, 24]])"
          },
          "metadata": {}
        }
      ]
    },
    {
      "metadata": {
        "trusted": true
      },
      "cell_type": "code",
      "source": "newArray * [[1], [2], [3], [4]] # Elementwise multiplication on columns",
      "execution_count": 21,
      "outputs": [
        {
          "output_type": "execute_result",
          "execution_count": 21,
          "data": {
            "text/plain": "array([[ 6,  0,  1],\n       [ 6,  6, 10],\n       [15, 18,  6],\n       [32, 20, 32]])"
          },
          "metadata": {}
        }
      ]
    },
    {
      "metadata": {},
      "cell_type": "markdown",
      "source": "These types of numpy operations make it very easy and efficient to work with matrices and perform matrix algebra"
    },
    {
      "metadata": {
        "trusted": true
      },
      "cell_type": "code",
      "source": "np.sqrt(newArray)",
      "execution_count": 22,
      "outputs": [
        {
          "output_type": "execute_result",
          "execution_count": 22,
          "data": {
            "text/plain": "array([[2.44948974, 0.        , 1.        ],\n       [1.73205081, 1.73205081, 2.23606798],\n       [2.23606798, 2.44948974, 1.41421356],\n       [2.82842712, 2.23606798, 2.82842712]])"
          },
          "metadata": {}
        }
      ]
    },
    {
      "metadata": {
        "trusted": true
      },
      "cell_type": "code",
      "source": "np.log(newArray + 1) # to avoid a log(0) error",
      "execution_count": 23,
      "outputs": [
        {
          "output_type": "execute_result",
          "execution_count": 23,
          "data": {
            "text/plain": "array([[1.94591015, 0.        , 0.69314718],\n       [1.38629436, 1.38629436, 1.79175947],\n       [1.79175947, 1.94591015, 1.09861229],\n       [2.19722458, 1.79175947, 2.19722458]])"
          },
          "metadata": {}
        }
      ]
    },
    {
      "metadata": {},
      "cell_type": "markdown",
      "source": "These vectorized functions return an array of the appropriate shape - the same shape as the input array in the examples above.\n\nThere are also operations that are applied to an array which return a scalar value, usually the result of some type of aggregation"
    },
    {
      "metadata": {
        "trusted": true
      },
      "cell_type": "code",
      "source": "np.sum(newArray)",
      "execution_count": 24,
      "outputs": [
        {
          "output_type": "execute_result",
          "execution_count": 24,
          "data": {
            "text/plain": "52"
          },
          "metadata": {}
        }
      ]
    },
    {
      "metadata": {
        "trusted": true
      },
      "cell_type": "code",
      "source": "np.max(newArray)",
      "execution_count": 25,
      "outputs": [
        {
          "output_type": "execute_result",
          "execution_count": 25,
          "data": {
            "text/plain": "8"
          },
          "metadata": {}
        }
      ]
    },
    {
      "metadata": {
        "trusted": true
      },
      "cell_type": "code",
      "source": "np.mean(newArray)",
      "execution_count": 26,
      "outputs": [
        {
          "output_type": "execute_result",
          "execution_count": 26,
          "data": {
            "text/plain": "4.333333333333333"
          },
          "metadata": {}
        }
      ]
    },
    {
      "metadata": {},
      "cell_type": "markdown",
      "source": "#### What we have looked at here is just a small fraction of the operations and functionality available with numpy arrays - we have only looked at some of the features that are most relevant for us."
    },
    {
      "metadata": {},
      "cell_type": "markdown",
      "source": "## Pandas"
    },
    {
      "metadata": {
        "trusted": true
      },
      "cell_type": "code",
      "source": "import pandas as pd",
      "execution_count": 27,
      "outputs": []
    },
    {
      "metadata": {},
      "cell_type": "markdown",
      "source": "<b>From Wikipedia:\n\nPandas is a software library written for the Python programming language for data manipulation and analysis. In particular, it offers data structures and operations for manipulating numerical tables and time series. It is free software released under the three-clause BSD license. The name is derived from the term \"panel data\", an econometrics term for data sets that include observations over multiple time periods for the same individuals.</b>\n\n<a href = \"https://en.wikipedia.org/wiki/Pandas_(software)\">Full article here</a>"
    },
    {
      "metadata": {},
      "cell_type": "markdown",
      "source": "**Pandas** is built on top of *NumPy* and has the following features:\n<ul>\n<li>Data structures with labeled axes</li>\n<li>Arithmetic Operations and reductions</li>\n<li>Integrated time series functionality</li>\n<li>Handling of Missing data</li>\n<li>Merge, sorting, filtering and other functionlities</li>\n</ul>\n\n*Pandas* has two main data structures - *Series* and *DataFrame*"
    },
    {
      "metadata": {},
      "cell_type": "markdown",
      "source": "## Series"
    },
    {
      "metadata": {
        "trusted": true
      },
      "cell_type": "code",
      "source": "from pandas import Series, DataFrame # this is actually optional; see below",
      "execution_count": 28,
      "outputs": []
    },
    {
      "metadata": {
        "trusted": true
      },
      "cell_type": "code",
      "source": "a = [1,2,3,4]\na",
      "execution_count": 29,
      "outputs": [
        {
          "output_type": "execute_result",
          "execution_count": 29,
          "data": {
            "text/plain": "[1, 2, 3, 4]"
          },
          "metadata": {}
        }
      ]
    },
    {
      "metadata": {
        "trusted": true
      },
      "cell_type": "code",
      "source": "a[1:]",
      "execution_count": 30,
      "outputs": [
        {
          "output_type": "execute_result",
          "execution_count": 30,
          "data": {
            "text/plain": "[2, 3, 4]"
          },
          "metadata": {}
        }
      ]
    },
    {
      "metadata": {
        "trusted": true
      },
      "cell_type": "code",
      "source": "obj = Series([3,6,9,12])\n\n# I can use the method Series because I imported it explicitly from pandas in the previous step\n# If I do not import Series explicitly, I need to use the syntax pandas.Series or pd.Series",
      "execution_count": 31,
      "outputs": []
    },
    {
      "metadata": {
        "trusted": true
      },
      "cell_type": "code",
      "source": "obj",
      "execution_count": 32,
      "outputs": [
        {
          "output_type": "execute_result",
          "execution_count": 32,
          "data": {
            "text/plain": "0     3\n1     6\n2     9\n3    12\ndtype: int64"
          },
          "metadata": {}
        }
      ]
    },
    {
      "metadata": {
        "trusted": true
      },
      "cell_type": "code",
      "source": "type(obj)",
      "execution_count": 33,
      "outputs": [
        {
          "output_type": "execute_result",
          "execution_count": 33,
          "data": {
            "text/plain": "pandas.core.series.Series"
          },
          "metadata": {}
        }
      ]
    },
    {
      "metadata": {
        "trusted": true
      },
      "cell_type": "code",
      "source": "obj.values # just the values",
      "execution_count": 34,
      "outputs": [
        {
          "output_type": "execute_result",
          "execution_count": 34,
          "data": {
            "text/plain": "array([ 3,  6,  9, 12])"
          },
          "metadata": {}
        }
      ]
    },
    {
      "metadata": {
        "trusted": true
      },
      "cell_type": "code",
      "source": "obj.index # just the indices",
      "execution_count": 35,
      "outputs": [
        {
          "output_type": "execute_result",
          "execution_count": 35,
          "data": {
            "text/plain": "RangeIndex(start=0, stop=4, step=1)"
          },
          "metadata": {}
        }
      ]
    },
    {
      "metadata": {
        "trusted": true
      },
      "cell_type": "code",
      "source": "# casualty counts in WW2\nww2_cas = Series([8.7e6,4.3e6,3.0e6,2.1e6,4e5],index=['USSR','Germany','China','Japan','USA'])\nww2_cas",
      "execution_count": 36,
      "outputs": [
        {
          "output_type": "execute_result",
          "execution_count": 36,
          "data": {
            "text/plain": "USSR       8700000.0\nGermany    4300000.0\nChina      3000000.0\nJapan      2100000.0\nUSA         400000.0\ndtype: float64"
          },
          "metadata": {}
        }
      ]
    },
    {
      "metadata": {
        "trusted": true
      },
      "cell_type": "code",
      "source": "ww2_cas.values",
      "execution_count": 37,
      "outputs": [
        {
          "output_type": "execute_result",
          "execution_count": 37,
          "data": {
            "text/plain": "array([8700000., 4300000., 3000000., 2100000.,  400000.])"
          },
          "metadata": {}
        }
      ]
    },
    {
      "metadata": {
        "trusted": true
      },
      "cell_type": "code",
      "source": "ww2_cas.index",
      "execution_count": 38,
      "outputs": [
        {
          "output_type": "execute_result",
          "execution_count": 38,
          "data": {
            "text/plain": "Index(['USSR', 'Germany', 'China', 'Japan', 'USA'], dtype='object')"
          },
          "metadata": {}
        }
      ]
    },
    {
      "metadata": {
        "trusted": true
      },
      "cell_type": "code",
      "source": "ww2_cas['USA']",
      "execution_count": 39,
      "outputs": [
        {
          "output_type": "execute_result",
          "execution_count": 39,
          "data": {
            "text/plain": "400000.0"
          },
          "metadata": {}
        }
      ]
    },
    {
      "metadata": {
        "trusted": true
      },
      "cell_type": "code",
      "source": "ww2_cas > 4e6",
      "execution_count": 40,
      "outputs": [
        {
          "output_type": "execute_result",
          "execution_count": 40,
          "data": {
            "text/plain": "USSR        True\nGermany     True\nChina      False\nJapan      False\nUSA        False\ndtype: bool"
          },
          "metadata": {}
        }
      ]
    },
    {
      "metadata": {
        "trusted": true
      },
      "cell_type": "code",
      "source": "sum(ww2_cas > 4e6)",
      "execution_count": 41,
      "outputs": [
        {
          "output_type": "execute_result",
          "execution_count": 41,
          "data": {
            "text/plain": "2"
          },
          "metadata": {}
        }
      ]
    },
    {
      "metadata": {
        "trusted": true
      },
      "cell_type": "code",
      "source": "ww2_cas[ww2_cas > 4e6] # check which countries had casualties > 4 million",
      "execution_count": 42,
      "outputs": [
        {
          "output_type": "execute_result",
          "execution_count": 42,
          "data": {
            "text/plain": "USSR       8700000.0\nGermany    4300000.0\ndtype: float64"
          },
          "metadata": {}
        }
      ]
    },
    {
      "metadata": {
        "trusted": true
      },
      "cell_type": "code",
      "source": "'USSR' in ww2_cas",
      "execution_count": 43,
      "outputs": [
        {
          "output_type": "execute_result",
          "execution_count": 43,
          "data": {
            "text/plain": "True"
          },
          "metadata": {}
        }
      ]
    },
    {
      "metadata": {
        "trusted": true
      },
      "cell_type": "code",
      "source": "'France' in ww2_cas",
      "execution_count": 44,
      "outputs": [
        {
          "output_type": "execute_result",
          "execution_count": 44,
          "data": {
            "text/plain": "False"
          },
          "metadata": {}
        }
      ]
    },
    {
      "metadata": {
        "trusted": true
      },
      "cell_type": "code",
      "source": "ww2_dict = ww2_cas.to_dict() # convert series into a dictionary\nww2_dict",
      "execution_count": 45,
      "outputs": [
        {
          "output_type": "execute_result",
          "execution_count": 45,
          "data": {
            "text/plain": "{'China': 3000000.0,\n 'Germany': 4300000.0,\n 'Japan': 2100000.0,\n 'USA': 400000.0,\n 'USSR': 8700000.0}"
          },
          "metadata": {}
        }
      ]
    },
    {
      "metadata": {
        "trusted": true
      },
      "cell_type": "code",
      "source": "ww2_series = Series(ww2_dict) # convert dictionary into a series\nww2_series",
      "execution_count": 46,
      "outputs": [
        {
          "output_type": "execute_result",
          "execution_count": 46,
          "data": {
            "text/plain": "China      3000000.0\nGermany    4300000.0\nJapan      2100000.0\nUSA         400000.0\nUSSR       8700000.0\ndtype: float64"
          },
          "metadata": {}
        }
      ]
    },
    {
      "metadata": {
        "trusted": true
      },
      "cell_type": "code",
      "source": "countries = ['China','Germany','Japan','USA','USSR','Argentina'] # a list",
      "execution_count": 48,
      "outputs": []
    },
    {
      "metadata": {
        "trusted": true
      },
      "cell_type": "code",
      "source": "ww2_dict",
      "execution_count": 49,
      "outputs": [
        {
          "output_type": "execute_result",
          "execution_count": 49,
          "data": {
            "text/plain": "{'China': 3000000.0,\n 'Germany': 4300000.0,\n 'Japan': 2100000.0,\n 'USA': 400000.0,\n 'USSR': 8700000.0}"
          },
          "metadata": {}
        }
      ]
    },
    {
      "metadata": {
        "trusted": true
      },
      "cell_type": "code",
      "source": "obj2 = Series(ww2_dict,index = countries) # passing indices from a list\nobj2",
      "execution_count": 50,
      "outputs": [
        {
          "output_type": "execute_result",
          "execution_count": 50,
          "data": {
            "text/plain": "China        3000000.0\nGermany      4300000.0\nJapan        2100000.0\nUSA           400000.0\nUSSR         8700000.0\nArgentina          NaN\ndtype: float64"
          },
          "metadata": {}
        }
      ]
    },
    {
      "metadata": {
        "trusted": true
      },
      "cell_type": "code",
      "source": "pd.isnull(obj2) # check for null values",
      "execution_count": 51,
      "outputs": [
        {
          "output_type": "execute_result",
          "execution_count": 51,
          "data": {
            "text/plain": "China        False\nGermany      False\nJapan        False\nUSA          False\nUSSR         False\nArgentina     True\ndtype: bool"
          },
          "metadata": {}
        }
      ]
    },
    {
      "metadata": {
        "trusted": true
      },
      "cell_type": "code",
      "source": "pd.notnull(obj2) # check for non-null values",
      "execution_count": 52,
      "outputs": [
        {
          "output_type": "execute_result",
          "execution_count": 52,
          "data": {
            "text/plain": "China         True\nGermany       True\nJapan         True\nUSA           True\nUSSR          True\nArgentina    False\ndtype: bool"
          },
          "metadata": {}
        }
      ]
    },
    {
      "metadata": {},
      "cell_type": "markdown",
      "source": "# Data frames"
    },
    {
      "metadata": {
        "trusted": true
      },
      "cell_type": "code",
      "source": "#import webbrowser",
      "execution_count": null,
      "outputs": []
    },
    {
      "metadata": {
        "trusted": true
      },
      "cell_type": "code",
      "source": "#website = 'https://en.wikipedia.org/wiki/NFL_win%E2%80%93loss_records'",
      "execution_count": null,
      "outputs": []
    },
    {
      "metadata": {
        "trusted": true
      },
      "cell_type": "code",
      "source": "#webbrowser.open(website) # opens the webpage in browser",
      "execution_count": null,
      "outputs": []
    },
    {
      "metadata": {},
      "cell_type": "markdown",
      "source": "<a href = \"https://en.wikipedia.org/wiki/NFL_win%E2%80%93loss_records\">Click here </a>"
    },
    {
      "metadata": {},
      "cell_type": "markdown",
      "source": "Copy the first few lines (including header) from the table on the webpage"
    },
    {
      "metadata": {
        "trusted": true
      },
      "cell_type": "code",
      "source": "#nfl_frame = pd.read_clipboard()\nnfl_frame = pd.read_csv('data/nfl_frame.csv')",
      "execution_count": 53,
      "outputs": []
    },
    {
      "metadata": {
        "scrolled": true,
        "trusted": true
      },
      "cell_type": "code",
      "source": "nfl_frame",
      "execution_count": 54,
      "outputs": [
        {
          "output_type": "execute_result",
          "execution_count": 54,
          "data": {
            "text/html": "<div>\n<table border=\"1\" class=\"dataframe\">\n  <thead>\n    <tr style=\"text-align: right;\">\n      <th></th>\n      <th>Unnamed: 0</th>\n      <th>Rank</th>\n      <th>Team</th>\n      <th>GP</th>\n      <th>Won</th>\n      <th>Lost</th>\n      <th>Tied</th>\n      <th>Pct.</th>\n      <th>First NFL Season</th>\n      <th>Division</th>\n    </tr>\n  </thead>\n  <tbody>\n    <tr>\n      <th>0</th>\n      <td>0</td>\n      <td>1</td>\n      <td>Dallas Cowboys</td>\n      <td>882</td>\n      <td>502</td>\n      <td>374</td>\n      <td>6</td>\n      <td>0.573</td>\n      <td>1960</td>\n      <td>NFC East</td>\n    </tr>\n    <tr>\n      <th>1</th>\n      <td>1</td>\n      <td>2</td>\n      <td>Green Bay Packers</td>\n      <td>1,336</td>\n      <td>737</td>\n      <td>562</td>\n      <td>37</td>\n      <td>0.565</td>\n      <td>1921</td>\n      <td>NFC North</td>\n    </tr>\n    <tr>\n      <th>2</th>\n      <td>2</td>\n      <td>3</td>\n      <td>Chicago Bears</td>\n      <td>1,370</td>\n      <td>749</td>\n      <td>579</td>\n      <td>42</td>\n      <td>0.562</td>\n      <td>1920</td>\n      <td>NFC North</td>\n    </tr>\n    <tr>\n      <th>3</th>\n      <td>3</td>\n      <td>4</td>\n      <td>Miami Dolphins</td>\n      <td>800</td>\n      <td>445</td>\n      <td>351</td>\n      <td>4</td>\n      <td>0.559</td>\n      <td>1966</td>\n      <td>AFC East</td>\n    </tr>\n    <tr>\n      <th>4</th>\n      <td>4</td>\n      <td>5</td>\n      <td>New England Patriots[b]</td>\n      <td>884</td>\n      <td>489</td>\n      <td>386</td>\n      <td>9</td>\n      <td>0.558</td>\n      <td>1960</td>\n      <td>AFC East</td>\n    </tr>\n    <tr>\n      <th>5</th>\n      <td>5</td>\n      <td>6</td>\n      <td>Minnesota Vikings</td>\n      <td>870</td>\n      <td>470</td>\n      <td>390</td>\n      <td>10</td>\n      <td>0.546</td>\n      <td>1961</td>\n      <td>NFC North</td>\n    </tr>\n    <tr>\n      <th>6</th>\n      <td>6</td>\n      <td>7</td>\n      <td>Baltimore Ravens</td>\n      <td>352</td>\n      <td>190</td>\n      <td>161</td>\n      <td>1</td>\n      <td>0.541</td>\n      <td>1996</td>\n      <td>AFC North</td>\n    </tr>\n    <tr>\n      <th>7</th>\n      <td>7</td>\n      <td>8</td>\n      <td>New York Giants</td>\n      <td>1,305</td>\n      <td>687</td>\n      <td>585</td>\n      <td>33</td>\n      <td>0.539</td>\n      <td>1925</td>\n      <td>NFC East</td>\n    </tr>\n    <tr>\n      <th>8</th>\n      <td>8</td>\n      <td>9</td>\n      <td>Denver Broncos</td>\n      <td>884</td>\n      <td>470</td>\n      <td>404</td>\n      <td>10</td>\n      <td>0.537</td>\n      <td>1960</td>\n      <td>AFC West</td>\n    </tr>\n    <tr>\n      <th>9</th>\n      <td>9</td>\n      <td>10</td>\n      <td>San Francisco 49ers</td>\n      <td>1,002</td>\n      <td>528</td>\n      <td>460</td>\n      <td>14</td>\n      <td>0.534</td>\n      <td>1950</td>\n      <td>NFC West</td>\n    </tr>\n    <tr>\n      <th>10</th>\n      <td>10</td>\n      <td>11</td>\n      <td>Pittsburgh Steelers</td>\n      <td>1,179</td>\n      <td>614</td>\n      <td>538</td>\n      <td>20</td>\n      <td>0.532</td>\n      <td>1933</td>\n      <td>AFC North</td>\n    </tr>\n    <tr>\n      <th>11</th>\n      <td>11</td>\n      <td>12</td>\n      <td>Oakland Raiders</td>\n      <td>884</td>\n      <td>462</td>\n      <td>411</td>\n      <td>11</td>\n      <td>0.529</td>\n      <td>1960</td>\n      <td>AFC West</td>\n    </tr>\n  </tbody>\n</table>\n</div>",
            "text/plain": "    Unnamed: 0  Rank                     Team     GP  Won  Lost  Tied   Pct.  \\\n0            0     1           Dallas Cowboys    882  502   374     6  0.573   \n1            1     2        Green Bay Packers  1,336  737   562    37  0.565   \n2            2     3            Chicago Bears  1,370  749   579    42  0.562   \n3            3     4           Miami Dolphins    800  445   351     4  0.559   \n4            4     5  New England Patriots[b]    884  489   386     9  0.558   \n5            5     6        Minnesota Vikings    870  470   390    10  0.546   \n6            6     7         Baltimore Ravens    352  190   161     1  0.541   \n7            7     8          New York Giants  1,305  687   585    33  0.539   \n8            8     9           Denver Broncos    884  470   404    10  0.537   \n9            9    10      San Francisco 49ers  1,002  528   460    14  0.534   \n10          10    11      Pittsburgh Steelers  1,179  614   538    20  0.532   \n11          11    12          Oakland Raiders    884  462   411    11  0.529   \n\n    First NFL Season   Division  \n0               1960   NFC East  \n1               1921  NFC North  \n2               1920  NFC North  \n3               1966   AFC East  \n4               1960   AFC East  \n5               1961  NFC North  \n6               1996  AFC North  \n7               1925   NFC East  \n8               1960   AFC West  \n9               1950   NFC West  \n10              1933  AFC North  \n11              1960   AFC West  "
          },
          "metadata": {}
        }
      ]
    },
    {
      "metadata": {
        "trusted": true
      },
      "cell_type": "code",
      "source": "type(nfl_frame)",
      "execution_count": 55,
      "outputs": [
        {
          "output_type": "execute_result",
          "execution_count": 55,
          "data": {
            "text/plain": "pandas.core.frame.DataFrame"
          },
          "metadata": {}
        }
      ]
    },
    {
      "metadata": {
        "trusted": true
      },
      "cell_type": "code",
      "source": "nfl_frame.columns",
      "execution_count": 56,
      "outputs": [
        {
          "output_type": "execute_result",
          "execution_count": 56,
          "data": {
            "text/plain": "Index(['Unnamed: 0', 'Rank', 'Team', 'GP', 'Won', 'Lost', 'Tied', 'Pct.',\n       'First NFL Season', 'Division'],\n      dtype='object')"
          },
          "metadata": {}
        }
      ]
    },
    {
      "metadata": {
        "trusted": true
      },
      "cell_type": "code",
      "source": "nfl_frame.shape",
      "execution_count": 57,
      "outputs": [
        {
          "output_type": "execute_result",
          "execution_count": 57,
          "data": {
            "text/plain": "(12, 10)"
          },
          "metadata": {}
        }
      ]
    },
    {
      "metadata": {
        "trusted": true
      },
      "cell_type": "code",
      "source": "nfl_frame.Lost",
      "execution_count": 58,
      "outputs": [
        {
          "output_type": "execute_result",
          "execution_count": 58,
          "data": {
            "text/plain": "0     374\n1     562\n2     579\n3     351\n4     386\n5     390\n6     161\n7     585\n8     404\n9     460\n10    538\n11    411\nName: Lost, dtype: int64"
          },
          "metadata": {}
        }
      ]
    },
    {
      "metadata": {
        "scrolled": true,
        "trusted": true
      },
      "cell_type": "code",
      "source": "nfl_frame.First NFL Season # In R:nfl_frame$Rank\n# this won't work for column names with spaces",
      "execution_count": 59,
      "outputs": [
        {
          "output_type": "error",
          "ename": "SyntaxError",
          "evalue": "invalid syntax (<ipython-input-59-a29c00d3d266>, line 1)",
          "traceback": [
            "\u001b[0;36m  File \u001b[0;32m\"<ipython-input-59-a29c00d3d266>\"\u001b[0;36m, line \u001b[0;32m1\u001b[0m\n\u001b[0;31m    nfl_frame.First NFL Season # In R:nfl_frame$Rank\u001b[0m\n\u001b[0m                      ^\u001b[0m\n\u001b[0;31mSyntaxError\u001b[0m\u001b[0;31m:\u001b[0m invalid syntax\n"
          ]
        }
      ]
    },
    {
      "metadata": {
        "trusted": true
      },
      "cell_type": "code",
      "source": "nfl_frame.Total Games",
      "execution_count": 60,
      "outputs": [
        {
          "output_type": "error",
          "ename": "SyntaxError",
          "evalue": "invalid syntax (<ipython-input-60-4844a6b143aa>, line 1)",
          "traceback": [
            "\u001b[0;36m  File \u001b[0;32m\"<ipython-input-60-4844a6b143aa>\"\u001b[0;36m, line \u001b[0;32m1\u001b[0m\n\u001b[0;31m    nfl_frame.Total Games\u001b[0m\n\u001b[0m                        ^\u001b[0m\n\u001b[0;31mSyntaxError\u001b[0m\u001b[0;31m:\u001b[0m invalid syntax\n"
          ]
        }
      ]
    },
    {
      "metadata": {
        "trusted": true
      },
      "cell_type": "code",
      "source": "nfl_frame['First NFL Season']",
      "execution_count": 61,
      "outputs": [
        {
          "output_type": "execute_result",
          "execution_count": 61,
          "data": {
            "text/plain": "0     1960\n1     1921\n2     1920\n3     1966\n4     1960\n5     1961\n6     1996\n7     1925\n8     1960\n9     1950\n10    1933\n11    1960\nName: First NFL Season, dtype: int64"
          },
          "metadata": {}
        }
      ]
    },
    {
      "metadata": {
        "trusted": true
      },
      "cell_type": "code",
      "source": "nfl_frame[nfl_frame.Won > 500]",
      "execution_count": 62,
      "outputs": [
        {
          "output_type": "execute_result",
          "execution_count": 62,
          "data": {
            "text/html": "<div>\n<table border=\"1\" class=\"dataframe\">\n  <thead>\n    <tr style=\"text-align: right;\">\n      <th></th>\n      <th>Unnamed: 0</th>\n      <th>Rank</th>\n      <th>Team</th>\n      <th>GP</th>\n      <th>Won</th>\n      <th>Lost</th>\n      <th>Tied</th>\n      <th>Pct.</th>\n      <th>First NFL Season</th>\n      <th>Division</th>\n    </tr>\n  </thead>\n  <tbody>\n    <tr>\n      <th>0</th>\n      <td>0</td>\n      <td>1</td>\n      <td>Dallas Cowboys</td>\n      <td>882</td>\n      <td>502</td>\n      <td>374</td>\n      <td>6</td>\n      <td>0.573</td>\n      <td>1960</td>\n      <td>NFC East</td>\n    </tr>\n    <tr>\n      <th>1</th>\n      <td>1</td>\n      <td>2</td>\n      <td>Green Bay Packers</td>\n      <td>1,336</td>\n      <td>737</td>\n      <td>562</td>\n      <td>37</td>\n      <td>0.565</td>\n      <td>1921</td>\n      <td>NFC North</td>\n    </tr>\n    <tr>\n      <th>2</th>\n      <td>2</td>\n      <td>3</td>\n      <td>Chicago Bears</td>\n      <td>1,370</td>\n      <td>749</td>\n      <td>579</td>\n      <td>42</td>\n      <td>0.562</td>\n      <td>1920</td>\n      <td>NFC North</td>\n    </tr>\n    <tr>\n      <th>7</th>\n      <td>7</td>\n      <td>8</td>\n      <td>New York Giants</td>\n      <td>1,305</td>\n      <td>687</td>\n      <td>585</td>\n      <td>33</td>\n      <td>0.539</td>\n      <td>1925</td>\n      <td>NFC East</td>\n    </tr>\n    <tr>\n      <th>9</th>\n      <td>9</td>\n      <td>10</td>\n      <td>San Francisco 49ers</td>\n      <td>1,002</td>\n      <td>528</td>\n      <td>460</td>\n      <td>14</td>\n      <td>0.534</td>\n      <td>1950</td>\n      <td>NFC West</td>\n    </tr>\n    <tr>\n      <th>10</th>\n      <td>10</td>\n      <td>11</td>\n      <td>Pittsburgh Steelers</td>\n      <td>1,179</td>\n      <td>614</td>\n      <td>538</td>\n      <td>20</td>\n      <td>0.532</td>\n      <td>1933</td>\n      <td>AFC North</td>\n    </tr>\n  </tbody>\n</table>\n</div>",
            "text/plain": "    Unnamed: 0  Rank                 Team     GP  Won  Lost  Tied   Pct.  \\\n0            0     1       Dallas Cowboys    882  502   374     6  0.573   \n1            1     2    Green Bay Packers  1,336  737   562    37  0.565   \n2            2     3        Chicago Bears  1,370  749   579    42  0.562   \n7            7     8      New York Giants  1,305  687   585    33  0.539   \n9            9    10  San Francisco 49ers  1,002  528   460    14  0.534   \n10          10    11  Pittsburgh Steelers  1,179  614   538    20  0.532   \n\n    First NFL Season   Division  \n0               1960   NFC East  \n1               1921  NFC North  \n2               1920  NFC North  \n7               1925   NFC East  \n9               1950   NFC West  \n10              1933  AFC North  "
          },
          "metadata": {}
        }
      ]
    },
    {
      "metadata": {
        "trusted": true
      },
      "cell_type": "code",
      "source": "nfl_frame[(nfl_frame.Won > 500) & (nfl_frame.Lost < 500)]",
      "execution_count": 63,
      "outputs": [
        {
          "output_type": "execute_result",
          "execution_count": 63,
          "data": {
            "text/html": "<div>\n<table border=\"1\" class=\"dataframe\">\n  <thead>\n    <tr style=\"text-align: right;\">\n      <th></th>\n      <th>Unnamed: 0</th>\n      <th>Rank</th>\n      <th>Team</th>\n      <th>GP</th>\n      <th>Won</th>\n      <th>Lost</th>\n      <th>Tied</th>\n      <th>Pct.</th>\n      <th>First NFL Season</th>\n      <th>Division</th>\n    </tr>\n  </thead>\n  <tbody>\n    <tr>\n      <th>0</th>\n      <td>0</td>\n      <td>1</td>\n      <td>Dallas Cowboys</td>\n      <td>882</td>\n      <td>502</td>\n      <td>374</td>\n      <td>6</td>\n      <td>0.573</td>\n      <td>1960</td>\n      <td>NFC East</td>\n    </tr>\n    <tr>\n      <th>9</th>\n      <td>9</td>\n      <td>10</td>\n      <td>San Francisco 49ers</td>\n      <td>1,002</td>\n      <td>528</td>\n      <td>460</td>\n      <td>14</td>\n      <td>0.534</td>\n      <td>1950</td>\n      <td>NFC West</td>\n    </tr>\n  </tbody>\n</table>\n</div>",
            "text/plain": "   Unnamed: 0  Rank                 Team     GP  Won  Lost  Tied   Pct.  \\\n0           0     1       Dallas Cowboys    882  502   374     6  0.573   \n9           9    10  San Francisco 49ers  1,002  528   460    14  0.534   \n\n   First NFL Season  Division  \n0              1960  NFC East  \n9              1950  NFC West  "
          },
          "metadata": {}
        }
      ]
    },
    {
      "metadata": {
        "trusted": true
      },
      "cell_type": "code",
      "source": "nfl_frame[(nfl_frame.Won > 500) | (nfl_frame.Lost < 500)]",
      "execution_count": 64,
      "outputs": [
        {
          "output_type": "execute_result",
          "execution_count": 64,
          "data": {
            "text/html": "<div>\n<table border=\"1\" class=\"dataframe\">\n  <thead>\n    <tr style=\"text-align: right;\">\n      <th></th>\n      <th>Unnamed: 0</th>\n      <th>Rank</th>\n      <th>Team</th>\n      <th>GP</th>\n      <th>Won</th>\n      <th>Lost</th>\n      <th>Tied</th>\n      <th>Pct.</th>\n      <th>First NFL Season</th>\n      <th>Division</th>\n    </tr>\n  </thead>\n  <tbody>\n    <tr>\n      <th>0</th>\n      <td>0</td>\n      <td>1</td>\n      <td>Dallas Cowboys</td>\n      <td>882</td>\n      <td>502</td>\n      <td>374</td>\n      <td>6</td>\n      <td>0.573</td>\n      <td>1960</td>\n      <td>NFC East</td>\n    </tr>\n    <tr>\n      <th>1</th>\n      <td>1</td>\n      <td>2</td>\n      <td>Green Bay Packers</td>\n      <td>1,336</td>\n      <td>737</td>\n      <td>562</td>\n      <td>37</td>\n      <td>0.565</td>\n      <td>1921</td>\n      <td>NFC North</td>\n    </tr>\n    <tr>\n      <th>2</th>\n      <td>2</td>\n      <td>3</td>\n      <td>Chicago Bears</td>\n      <td>1,370</td>\n      <td>749</td>\n      <td>579</td>\n      <td>42</td>\n      <td>0.562</td>\n      <td>1920</td>\n      <td>NFC North</td>\n    </tr>\n    <tr>\n      <th>3</th>\n      <td>3</td>\n      <td>4</td>\n      <td>Miami Dolphins</td>\n      <td>800</td>\n      <td>445</td>\n      <td>351</td>\n      <td>4</td>\n      <td>0.559</td>\n      <td>1966</td>\n      <td>AFC East</td>\n    </tr>\n    <tr>\n      <th>4</th>\n      <td>4</td>\n      <td>5</td>\n      <td>New England Patriots[b]</td>\n      <td>884</td>\n      <td>489</td>\n      <td>386</td>\n      <td>9</td>\n      <td>0.558</td>\n      <td>1960</td>\n      <td>AFC East</td>\n    </tr>\n    <tr>\n      <th>5</th>\n      <td>5</td>\n      <td>6</td>\n      <td>Minnesota Vikings</td>\n      <td>870</td>\n      <td>470</td>\n      <td>390</td>\n      <td>10</td>\n      <td>0.546</td>\n      <td>1961</td>\n      <td>NFC North</td>\n    </tr>\n    <tr>\n      <th>6</th>\n      <td>6</td>\n      <td>7</td>\n      <td>Baltimore Ravens</td>\n      <td>352</td>\n      <td>190</td>\n      <td>161</td>\n      <td>1</td>\n      <td>0.541</td>\n      <td>1996</td>\n      <td>AFC North</td>\n    </tr>\n    <tr>\n      <th>7</th>\n      <td>7</td>\n      <td>8</td>\n      <td>New York Giants</td>\n      <td>1,305</td>\n      <td>687</td>\n      <td>585</td>\n      <td>33</td>\n      <td>0.539</td>\n      <td>1925</td>\n      <td>NFC East</td>\n    </tr>\n    <tr>\n      <th>8</th>\n      <td>8</td>\n      <td>9</td>\n      <td>Denver Broncos</td>\n      <td>884</td>\n      <td>470</td>\n      <td>404</td>\n      <td>10</td>\n      <td>0.537</td>\n      <td>1960</td>\n      <td>AFC West</td>\n    </tr>\n    <tr>\n      <th>9</th>\n      <td>9</td>\n      <td>10</td>\n      <td>San Francisco 49ers</td>\n      <td>1,002</td>\n      <td>528</td>\n      <td>460</td>\n      <td>14</td>\n      <td>0.534</td>\n      <td>1950</td>\n      <td>NFC West</td>\n    </tr>\n    <tr>\n      <th>10</th>\n      <td>10</td>\n      <td>11</td>\n      <td>Pittsburgh Steelers</td>\n      <td>1,179</td>\n      <td>614</td>\n      <td>538</td>\n      <td>20</td>\n      <td>0.532</td>\n      <td>1933</td>\n      <td>AFC North</td>\n    </tr>\n    <tr>\n      <th>11</th>\n      <td>11</td>\n      <td>12</td>\n      <td>Oakland Raiders</td>\n      <td>884</td>\n      <td>462</td>\n      <td>411</td>\n      <td>11</td>\n      <td>0.529</td>\n      <td>1960</td>\n      <td>AFC West</td>\n    </tr>\n  </tbody>\n</table>\n</div>",
            "text/plain": "    Unnamed: 0  Rank                     Team     GP  Won  Lost  Tied   Pct.  \\\n0            0     1           Dallas Cowboys    882  502   374     6  0.573   \n1            1     2        Green Bay Packers  1,336  737   562    37  0.565   \n2            2     3            Chicago Bears  1,370  749   579    42  0.562   \n3            3     4           Miami Dolphins    800  445   351     4  0.559   \n4            4     5  New England Patriots[b]    884  489   386     9  0.558   \n5            5     6        Minnesota Vikings    870  470   390    10  0.546   \n6            6     7         Baltimore Ravens    352  190   161     1  0.541   \n7            7     8          New York Giants  1,305  687   585    33  0.539   \n8            8     9           Denver Broncos    884  470   404    10  0.537   \n9            9    10      San Francisco 49ers  1,002  528   460    14  0.534   \n10          10    11      Pittsburgh Steelers  1,179  614   538    20  0.532   \n11          11    12          Oakland Raiders    884  462   411    11  0.529   \n\n    First NFL Season   Division  \n0               1960   NFC East  \n1               1921  NFC North  \n2               1920  NFC North  \n3               1966   AFC East  \n4               1960   AFC East  \n5               1961  NFC North  \n6               1996  AFC North  \n7               1925   NFC East  \n8               1960   AFC West  \n9               1950   NFC West  \n10              1933  AFC North  \n11              1960   AFC West  "
          },
          "metadata": {}
        }
      ]
    },
    {
      "metadata": {
        "trusted": true
      },
      "cell_type": "code",
      "source": "my_new_df = DataFrame(nfl_frame,columns=['Team','First NFL Season','Total Games'])",
      "execution_count": 65,
      "outputs": []
    },
    {
      "metadata": {
        "trusted": true
      },
      "cell_type": "code",
      "source": "my_new_df",
      "execution_count": 66,
      "outputs": [
        {
          "output_type": "execute_result",
          "execution_count": 66,
          "data": {
            "text/html": "<div>\n<table border=\"1\" class=\"dataframe\">\n  <thead>\n    <tr style=\"text-align: right;\">\n      <th></th>\n      <th>Team</th>\n      <th>First NFL Season</th>\n      <th>Total Games</th>\n    </tr>\n  </thead>\n  <tbody>\n    <tr>\n      <th>0</th>\n      <td>Dallas Cowboys</td>\n      <td>1960</td>\n      <td>NaN</td>\n    </tr>\n    <tr>\n      <th>1</th>\n      <td>Green Bay Packers</td>\n      <td>1921</td>\n      <td>NaN</td>\n    </tr>\n    <tr>\n      <th>2</th>\n      <td>Chicago Bears</td>\n      <td>1920</td>\n      <td>NaN</td>\n    </tr>\n    <tr>\n      <th>3</th>\n      <td>Miami Dolphins</td>\n      <td>1966</td>\n      <td>NaN</td>\n    </tr>\n    <tr>\n      <th>4</th>\n      <td>New England Patriots[b]</td>\n      <td>1960</td>\n      <td>NaN</td>\n    </tr>\n    <tr>\n      <th>5</th>\n      <td>Minnesota Vikings</td>\n      <td>1961</td>\n      <td>NaN</td>\n    </tr>\n    <tr>\n      <th>6</th>\n      <td>Baltimore Ravens</td>\n      <td>1996</td>\n      <td>NaN</td>\n    </tr>\n    <tr>\n      <th>7</th>\n      <td>New York Giants</td>\n      <td>1925</td>\n      <td>NaN</td>\n    </tr>\n    <tr>\n      <th>8</th>\n      <td>Denver Broncos</td>\n      <td>1960</td>\n      <td>NaN</td>\n    </tr>\n    <tr>\n      <th>9</th>\n      <td>San Francisco 49ers</td>\n      <td>1950</td>\n      <td>NaN</td>\n    </tr>\n    <tr>\n      <th>10</th>\n      <td>Pittsburgh Steelers</td>\n      <td>1933</td>\n      <td>NaN</td>\n    </tr>\n    <tr>\n      <th>11</th>\n      <td>Oakland Raiders</td>\n      <td>1960</td>\n      <td>NaN</td>\n    </tr>\n  </tbody>\n</table>\n</div>",
            "text/plain": "                       Team  First NFL Season  Total Games\n0            Dallas Cowboys              1960          NaN\n1         Green Bay Packers              1921          NaN\n2             Chicago Bears              1920          NaN\n3            Miami Dolphins              1966          NaN\n4   New England Patriots[b]              1960          NaN\n5         Minnesota Vikings              1961          NaN\n6          Baltimore Ravens              1996          NaN\n7           New York Giants              1925          NaN\n8            Denver Broncos              1960          NaN\n9       San Francisco 49ers              1950          NaN\n10      Pittsburgh Steelers              1933          NaN\n11          Oakland Raiders              1960          NaN"
          },
          "metadata": {}
        }
      ]
    },
    {
      "metadata": {
        "trusted": true
      },
      "cell_type": "code",
      "source": "DataFrame(nfl_frame,columns=['Team','First NFL Season','Total Games','Stadium'])",
      "execution_count": 67,
      "outputs": [
        {
          "output_type": "execute_result",
          "execution_count": 67,
          "data": {
            "text/html": "<div>\n<table border=\"1\" class=\"dataframe\">\n  <thead>\n    <tr style=\"text-align: right;\">\n      <th></th>\n      <th>Team</th>\n      <th>First NFL Season</th>\n      <th>Total Games</th>\n      <th>Stadium</th>\n    </tr>\n  </thead>\n  <tbody>\n    <tr>\n      <th>0</th>\n      <td>Dallas Cowboys</td>\n      <td>1960</td>\n      <td>NaN</td>\n      <td>NaN</td>\n    </tr>\n    <tr>\n      <th>1</th>\n      <td>Green Bay Packers</td>\n      <td>1921</td>\n      <td>NaN</td>\n      <td>NaN</td>\n    </tr>\n    <tr>\n      <th>2</th>\n      <td>Chicago Bears</td>\n      <td>1920</td>\n      <td>NaN</td>\n      <td>NaN</td>\n    </tr>\n    <tr>\n      <th>3</th>\n      <td>Miami Dolphins</td>\n      <td>1966</td>\n      <td>NaN</td>\n      <td>NaN</td>\n    </tr>\n    <tr>\n      <th>4</th>\n      <td>New England Patriots[b]</td>\n      <td>1960</td>\n      <td>NaN</td>\n      <td>NaN</td>\n    </tr>\n    <tr>\n      <th>5</th>\n      <td>Minnesota Vikings</td>\n      <td>1961</td>\n      <td>NaN</td>\n      <td>NaN</td>\n    </tr>\n    <tr>\n      <th>6</th>\n      <td>Baltimore Ravens</td>\n      <td>1996</td>\n      <td>NaN</td>\n      <td>NaN</td>\n    </tr>\n    <tr>\n      <th>7</th>\n      <td>New York Giants</td>\n      <td>1925</td>\n      <td>NaN</td>\n      <td>NaN</td>\n    </tr>\n    <tr>\n      <th>8</th>\n      <td>Denver Broncos</td>\n      <td>1960</td>\n      <td>NaN</td>\n      <td>NaN</td>\n    </tr>\n    <tr>\n      <th>9</th>\n      <td>San Francisco 49ers</td>\n      <td>1950</td>\n      <td>NaN</td>\n      <td>NaN</td>\n    </tr>\n    <tr>\n      <th>10</th>\n      <td>Pittsburgh Steelers</td>\n      <td>1933</td>\n      <td>NaN</td>\n      <td>NaN</td>\n    </tr>\n    <tr>\n      <th>11</th>\n      <td>Oakland Raiders</td>\n      <td>1960</td>\n      <td>NaN</td>\n      <td>NaN</td>\n    </tr>\n  </tbody>\n</table>\n</div>",
            "text/plain": "                       Team  First NFL Season  Total Games  Stadium\n0            Dallas Cowboys              1960          NaN      NaN\n1         Green Bay Packers              1921          NaN      NaN\n2             Chicago Bears              1920          NaN      NaN\n3            Miami Dolphins              1966          NaN      NaN\n4   New England Patriots[b]              1960          NaN      NaN\n5         Minnesota Vikings              1961          NaN      NaN\n6          Baltimore Ravens              1996          NaN      NaN\n7           New York Giants              1925          NaN      NaN\n8            Denver Broncos              1960          NaN      NaN\n9       San Francisco 49ers              1950          NaN      NaN\n10      Pittsburgh Steelers              1933          NaN      NaN\n11          Oakland Raiders              1960          NaN      NaN"
          },
          "metadata": {}
        }
      ]
    },
    {
      "metadata": {},
      "cell_type": "markdown",
      "source": "If column doesn't exist, creates a column with that name and fills with null values"
    },
    {
      "metadata": {
        "trusted": true
      },
      "cell_type": "code",
      "source": "nfl_frame.head() # head; default first 5 rows",
      "execution_count": 68,
      "outputs": [
        {
          "output_type": "execute_result",
          "execution_count": 68,
          "data": {
            "text/html": "<div>\n<table border=\"1\" class=\"dataframe\">\n  <thead>\n    <tr style=\"text-align: right;\">\n      <th></th>\n      <th>Unnamed: 0</th>\n      <th>Rank</th>\n      <th>Team</th>\n      <th>GP</th>\n      <th>Won</th>\n      <th>Lost</th>\n      <th>Tied</th>\n      <th>Pct.</th>\n      <th>First NFL Season</th>\n      <th>Division</th>\n    </tr>\n  </thead>\n  <tbody>\n    <tr>\n      <th>0</th>\n      <td>0</td>\n      <td>1</td>\n      <td>Dallas Cowboys</td>\n      <td>882</td>\n      <td>502</td>\n      <td>374</td>\n      <td>6</td>\n      <td>0.573</td>\n      <td>1960</td>\n      <td>NFC East</td>\n    </tr>\n    <tr>\n      <th>1</th>\n      <td>1</td>\n      <td>2</td>\n      <td>Green Bay Packers</td>\n      <td>1,336</td>\n      <td>737</td>\n      <td>562</td>\n      <td>37</td>\n      <td>0.565</td>\n      <td>1921</td>\n      <td>NFC North</td>\n    </tr>\n    <tr>\n      <th>2</th>\n      <td>2</td>\n      <td>3</td>\n      <td>Chicago Bears</td>\n      <td>1,370</td>\n      <td>749</td>\n      <td>579</td>\n      <td>42</td>\n      <td>0.562</td>\n      <td>1920</td>\n      <td>NFC North</td>\n    </tr>\n    <tr>\n      <th>3</th>\n      <td>3</td>\n      <td>4</td>\n      <td>Miami Dolphins</td>\n      <td>800</td>\n      <td>445</td>\n      <td>351</td>\n      <td>4</td>\n      <td>0.559</td>\n      <td>1966</td>\n      <td>AFC East</td>\n    </tr>\n    <tr>\n      <th>4</th>\n      <td>4</td>\n      <td>5</td>\n      <td>New England Patriots[b]</td>\n      <td>884</td>\n      <td>489</td>\n      <td>386</td>\n      <td>9</td>\n      <td>0.558</td>\n      <td>1960</td>\n      <td>AFC East</td>\n    </tr>\n  </tbody>\n</table>\n</div>",
            "text/plain": "   Unnamed: 0  Rank                     Team     GP  Won  Lost  Tied   Pct.  \\\n0           0     1           Dallas Cowboys    882  502   374     6  0.573   \n1           1     2        Green Bay Packers  1,336  737   562    37  0.565   \n2           2     3            Chicago Bears  1,370  749   579    42  0.562   \n3           3     4           Miami Dolphins    800  445   351     4  0.559   \n4           4     5  New England Patriots[b]    884  489   386     9  0.558   \n\n   First NFL Season   Division  \n0              1960   NFC East  \n1              1921  NFC North  \n2              1920  NFC North  \n3              1966   AFC East  \n4              1960   AFC East  "
          },
          "metadata": {}
        }
      ]
    },
    {
      "metadata": {
        "trusted": true
      },
      "cell_type": "code",
      "source": "nfl_frame.head(3)",
      "execution_count": 69,
      "outputs": [
        {
          "output_type": "execute_result",
          "execution_count": 69,
          "data": {
            "text/html": "<div>\n<table border=\"1\" class=\"dataframe\">\n  <thead>\n    <tr style=\"text-align: right;\">\n      <th></th>\n      <th>Unnamed: 0</th>\n      <th>Rank</th>\n      <th>Team</th>\n      <th>GP</th>\n      <th>Won</th>\n      <th>Lost</th>\n      <th>Tied</th>\n      <th>Pct.</th>\n      <th>First NFL Season</th>\n      <th>Division</th>\n    </tr>\n  </thead>\n  <tbody>\n    <tr>\n      <th>0</th>\n      <td>0</td>\n      <td>1</td>\n      <td>Dallas Cowboys</td>\n      <td>882</td>\n      <td>502</td>\n      <td>374</td>\n      <td>6</td>\n      <td>0.573</td>\n      <td>1960</td>\n      <td>NFC East</td>\n    </tr>\n    <tr>\n      <th>1</th>\n      <td>1</td>\n      <td>2</td>\n      <td>Green Bay Packers</td>\n      <td>1,336</td>\n      <td>737</td>\n      <td>562</td>\n      <td>37</td>\n      <td>0.565</td>\n      <td>1921</td>\n      <td>NFC North</td>\n    </tr>\n    <tr>\n      <th>2</th>\n      <td>2</td>\n      <td>3</td>\n      <td>Chicago Bears</td>\n      <td>1,370</td>\n      <td>749</td>\n      <td>579</td>\n      <td>42</td>\n      <td>0.562</td>\n      <td>1920</td>\n      <td>NFC North</td>\n    </tr>\n  </tbody>\n</table>\n</div>",
            "text/plain": "   Unnamed: 0  Rank               Team     GP  Won  Lost  Tied   Pct.  \\\n0           0     1     Dallas Cowboys    882  502   374     6  0.573   \n1           1     2  Green Bay Packers  1,336  737   562    37  0.565   \n2           2     3      Chicago Bears  1,370  749   579    42  0.562   \n\n   First NFL Season   Division  \n0              1960   NFC East  \n1              1921  NFC North  \n2              1920  NFC North  "
          },
          "metadata": {}
        }
      ]
    },
    {
      "metadata": {
        "trusted": true
      },
      "cell_type": "code",
      "source": "nfl_frame.tail()",
      "execution_count": 70,
      "outputs": [
        {
          "output_type": "execute_result",
          "execution_count": 70,
          "data": {
            "text/html": "<div>\n<table border=\"1\" class=\"dataframe\">\n  <thead>\n    <tr style=\"text-align: right;\">\n      <th></th>\n      <th>Unnamed: 0</th>\n      <th>Rank</th>\n      <th>Team</th>\n      <th>GP</th>\n      <th>Won</th>\n      <th>Lost</th>\n      <th>Tied</th>\n      <th>Pct.</th>\n      <th>First NFL Season</th>\n      <th>Division</th>\n    </tr>\n  </thead>\n  <tbody>\n    <tr>\n      <th>7</th>\n      <td>7</td>\n      <td>8</td>\n      <td>New York Giants</td>\n      <td>1,305</td>\n      <td>687</td>\n      <td>585</td>\n      <td>33</td>\n      <td>0.539</td>\n      <td>1925</td>\n      <td>NFC East</td>\n    </tr>\n    <tr>\n      <th>8</th>\n      <td>8</td>\n      <td>9</td>\n      <td>Denver Broncos</td>\n      <td>884</td>\n      <td>470</td>\n      <td>404</td>\n      <td>10</td>\n      <td>0.537</td>\n      <td>1960</td>\n      <td>AFC West</td>\n    </tr>\n    <tr>\n      <th>9</th>\n      <td>9</td>\n      <td>10</td>\n      <td>San Francisco 49ers</td>\n      <td>1,002</td>\n      <td>528</td>\n      <td>460</td>\n      <td>14</td>\n      <td>0.534</td>\n      <td>1950</td>\n      <td>NFC West</td>\n    </tr>\n    <tr>\n      <th>10</th>\n      <td>10</td>\n      <td>11</td>\n      <td>Pittsburgh Steelers</td>\n      <td>1,179</td>\n      <td>614</td>\n      <td>538</td>\n      <td>20</td>\n      <td>0.532</td>\n      <td>1933</td>\n      <td>AFC North</td>\n    </tr>\n    <tr>\n      <th>11</th>\n      <td>11</td>\n      <td>12</td>\n      <td>Oakland Raiders</td>\n      <td>884</td>\n      <td>462</td>\n      <td>411</td>\n      <td>11</td>\n      <td>0.529</td>\n      <td>1960</td>\n      <td>AFC West</td>\n    </tr>\n  </tbody>\n</table>\n</div>",
            "text/plain": "    Unnamed: 0  Rank                 Team     GP  Won  Lost  Tied   Pct.  \\\n7            7     8      New York Giants  1,305  687   585    33  0.539   \n8            8     9       Denver Broncos    884  470   404    10  0.537   \n9            9    10  San Francisco 49ers  1,002  528   460    14  0.534   \n10          10    11  Pittsburgh Steelers  1,179  614   538    20  0.532   \n11          11    12      Oakland Raiders    884  462   411    11  0.529   \n\n    First NFL Season   Division  \n7               1925   NFC East  \n8               1960   AFC West  \n9               1950   NFC West  \n10              1933  AFC North  \n11              1960   AFC West  "
          },
          "metadata": {}
        }
      ]
    },
    {
      "metadata": {
        "trusted": true
      },
      "cell_type": "code",
      "source": "nfl_frame.tail(2)",
      "execution_count": 71,
      "outputs": [
        {
          "output_type": "execute_result",
          "execution_count": 71,
          "data": {
            "text/html": "<div>\n<table border=\"1\" class=\"dataframe\">\n  <thead>\n    <tr style=\"text-align: right;\">\n      <th></th>\n      <th>Unnamed: 0</th>\n      <th>Rank</th>\n      <th>Team</th>\n      <th>GP</th>\n      <th>Won</th>\n      <th>Lost</th>\n      <th>Tied</th>\n      <th>Pct.</th>\n      <th>First NFL Season</th>\n      <th>Division</th>\n    </tr>\n  </thead>\n  <tbody>\n    <tr>\n      <th>10</th>\n      <td>10</td>\n      <td>11</td>\n      <td>Pittsburgh Steelers</td>\n      <td>1,179</td>\n      <td>614</td>\n      <td>538</td>\n      <td>20</td>\n      <td>0.532</td>\n      <td>1933</td>\n      <td>AFC North</td>\n    </tr>\n    <tr>\n      <th>11</th>\n      <td>11</td>\n      <td>12</td>\n      <td>Oakland Raiders</td>\n      <td>884</td>\n      <td>462</td>\n      <td>411</td>\n      <td>11</td>\n      <td>0.529</td>\n      <td>1960</td>\n      <td>AFC West</td>\n    </tr>\n  </tbody>\n</table>\n</div>",
            "text/plain": "    Unnamed: 0  Rank                 Team     GP  Won  Lost  Tied   Pct.  \\\n10          10    11  Pittsburgh Steelers  1,179  614   538    20  0.532   \n11          11    12      Oakland Raiders    884  462   411    11  0.529   \n\n    First NFL Season   Division  \n10              1933  AFC North  \n11              1960   AFC West  "
          },
          "metadata": {}
        }
      ]
    },
    {
      "metadata": {
        "trusted": true
      },
      "cell_type": "code",
      "source": "nfl_frame",
      "execution_count": 72,
      "outputs": [
        {
          "output_type": "execute_result",
          "execution_count": 72,
          "data": {
            "text/html": "<div>\n<table border=\"1\" class=\"dataframe\">\n  <thead>\n    <tr style=\"text-align: right;\">\n      <th></th>\n      <th>Unnamed: 0</th>\n      <th>Rank</th>\n      <th>Team</th>\n      <th>GP</th>\n      <th>Won</th>\n      <th>Lost</th>\n      <th>Tied</th>\n      <th>Pct.</th>\n      <th>First NFL Season</th>\n      <th>Division</th>\n    </tr>\n  </thead>\n  <tbody>\n    <tr>\n      <th>0</th>\n      <td>0</td>\n      <td>1</td>\n      <td>Dallas Cowboys</td>\n      <td>882</td>\n      <td>502</td>\n      <td>374</td>\n      <td>6</td>\n      <td>0.573</td>\n      <td>1960</td>\n      <td>NFC East</td>\n    </tr>\n    <tr>\n      <th>1</th>\n      <td>1</td>\n      <td>2</td>\n      <td>Green Bay Packers</td>\n      <td>1,336</td>\n      <td>737</td>\n      <td>562</td>\n      <td>37</td>\n      <td>0.565</td>\n      <td>1921</td>\n      <td>NFC North</td>\n    </tr>\n    <tr>\n      <th>2</th>\n      <td>2</td>\n      <td>3</td>\n      <td>Chicago Bears</td>\n      <td>1,370</td>\n      <td>749</td>\n      <td>579</td>\n      <td>42</td>\n      <td>0.562</td>\n      <td>1920</td>\n      <td>NFC North</td>\n    </tr>\n    <tr>\n      <th>3</th>\n      <td>3</td>\n      <td>4</td>\n      <td>Miami Dolphins</td>\n      <td>800</td>\n      <td>445</td>\n      <td>351</td>\n      <td>4</td>\n      <td>0.559</td>\n      <td>1966</td>\n      <td>AFC East</td>\n    </tr>\n    <tr>\n      <th>4</th>\n      <td>4</td>\n      <td>5</td>\n      <td>New England Patriots[b]</td>\n      <td>884</td>\n      <td>489</td>\n      <td>386</td>\n      <td>9</td>\n      <td>0.558</td>\n      <td>1960</td>\n      <td>AFC East</td>\n    </tr>\n    <tr>\n      <th>5</th>\n      <td>5</td>\n      <td>6</td>\n      <td>Minnesota Vikings</td>\n      <td>870</td>\n      <td>470</td>\n      <td>390</td>\n      <td>10</td>\n      <td>0.546</td>\n      <td>1961</td>\n      <td>NFC North</td>\n    </tr>\n    <tr>\n      <th>6</th>\n      <td>6</td>\n      <td>7</td>\n      <td>Baltimore Ravens</td>\n      <td>352</td>\n      <td>190</td>\n      <td>161</td>\n      <td>1</td>\n      <td>0.541</td>\n      <td>1996</td>\n      <td>AFC North</td>\n    </tr>\n    <tr>\n      <th>7</th>\n      <td>7</td>\n      <td>8</td>\n      <td>New York Giants</td>\n      <td>1,305</td>\n      <td>687</td>\n      <td>585</td>\n      <td>33</td>\n      <td>0.539</td>\n      <td>1925</td>\n      <td>NFC East</td>\n    </tr>\n    <tr>\n      <th>8</th>\n      <td>8</td>\n      <td>9</td>\n      <td>Denver Broncos</td>\n      <td>884</td>\n      <td>470</td>\n      <td>404</td>\n      <td>10</td>\n      <td>0.537</td>\n      <td>1960</td>\n      <td>AFC West</td>\n    </tr>\n    <tr>\n      <th>9</th>\n      <td>9</td>\n      <td>10</td>\n      <td>San Francisco 49ers</td>\n      <td>1,002</td>\n      <td>528</td>\n      <td>460</td>\n      <td>14</td>\n      <td>0.534</td>\n      <td>1950</td>\n      <td>NFC West</td>\n    </tr>\n    <tr>\n      <th>10</th>\n      <td>10</td>\n      <td>11</td>\n      <td>Pittsburgh Steelers</td>\n      <td>1,179</td>\n      <td>614</td>\n      <td>538</td>\n      <td>20</td>\n      <td>0.532</td>\n      <td>1933</td>\n      <td>AFC North</td>\n    </tr>\n    <tr>\n      <th>11</th>\n      <td>11</td>\n      <td>12</td>\n      <td>Oakland Raiders</td>\n      <td>884</td>\n      <td>462</td>\n      <td>411</td>\n      <td>11</td>\n      <td>0.529</td>\n      <td>1960</td>\n      <td>AFC West</td>\n    </tr>\n  </tbody>\n</table>\n</div>",
            "text/plain": "    Unnamed: 0  Rank                     Team     GP  Won  Lost  Tied   Pct.  \\\n0            0     1           Dallas Cowboys    882  502   374     6  0.573   \n1            1     2        Green Bay Packers  1,336  737   562    37  0.565   \n2            2     3            Chicago Bears  1,370  749   579    42  0.562   \n3            3     4           Miami Dolphins    800  445   351     4  0.559   \n4            4     5  New England Patriots[b]    884  489   386     9  0.558   \n5            5     6        Minnesota Vikings    870  470   390    10  0.546   \n6            6     7         Baltimore Ravens    352  190   161     1  0.541   \n7            7     8          New York Giants  1,305  687   585    33  0.539   \n8            8     9           Denver Broncos    884  470   404    10  0.537   \n9            9    10      San Francisco 49ers  1,002  528   460    14  0.534   \n10          10    11      Pittsburgh Steelers  1,179  614   538    20  0.532   \n11          11    12          Oakland Raiders    884  462   411    11  0.529   \n\n    First NFL Season   Division  \n0               1960   NFC East  \n1               1921  NFC North  \n2               1920  NFC North  \n3               1966   AFC East  \n4               1960   AFC East  \n5               1961  NFC North  \n6               1996  AFC North  \n7               1925   NFC East  \n8               1960   AFC West  \n9               1950   NFC West  \n10              1933  AFC North  \n11              1960   AFC West  "
          },
          "metadata": {}
        }
      ]
    },
    {
      "metadata": {
        "trusted": true
      },
      "cell_type": "code",
      "source": "nfl_frame['Stadium'] = \"Levi's Stadium\" # create a new column with the same value for all rows",
      "execution_count": 73,
      "outputs": []
    },
    {
      "metadata": {
        "trusted": true
      },
      "cell_type": "code",
      "source": "nfl_frame",
      "execution_count": 74,
      "outputs": [
        {
          "output_type": "execute_result",
          "execution_count": 74,
          "data": {
            "text/html": "<div>\n<table border=\"1\" class=\"dataframe\">\n  <thead>\n    <tr style=\"text-align: right;\">\n      <th></th>\n      <th>Unnamed: 0</th>\n      <th>Rank</th>\n      <th>Team</th>\n      <th>GP</th>\n      <th>Won</th>\n      <th>Lost</th>\n      <th>Tied</th>\n      <th>Pct.</th>\n      <th>First NFL Season</th>\n      <th>Division</th>\n      <th>Stadium</th>\n    </tr>\n  </thead>\n  <tbody>\n    <tr>\n      <th>0</th>\n      <td>0</td>\n      <td>1</td>\n      <td>Dallas Cowboys</td>\n      <td>882</td>\n      <td>502</td>\n      <td>374</td>\n      <td>6</td>\n      <td>0.573</td>\n      <td>1960</td>\n      <td>NFC East</td>\n      <td>Levi's Stadium</td>\n    </tr>\n    <tr>\n      <th>1</th>\n      <td>1</td>\n      <td>2</td>\n      <td>Green Bay Packers</td>\n      <td>1,336</td>\n      <td>737</td>\n      <td>562</td>\n      <td>37</td>\n      <td>0.565</td>\n      <td>1921</td>\n      <td>NFC North</td>\n      <td>Levi's Stadium</td>\n    </tr>\n    <tr>\n      <th>2</th>\n      <td>2</td>\n      <td>3</td>\n      <td>Chicago Bears</td>\n      <td>1,370</td>\n      <td>749</td>\n      <td>579</td>\n      <td>42</td>\n      <td>0.562</td>\n      <td>1920</td>\n      <td>NFC North</td>\n      <td>Levi's Stadium</td>\n    </tr>\n    <tr>\n      <th>3</th>\n      <td>3</td>\n      <td>4</td>\n      <td>Miami Dolphins</td>\n      <td>800</td>\n      <td>445</td>\n      <td>351</td>\n      <td>4</td>\n      <td>0.559</td>\n      <td>1966</td>\n      <td>AFC East</td>\n      <td>Levi's Stadium</td>\n    </tr>\n    <tr>\n      <th>4</th>\n      <td>4</td>\n      <td>5</td>\n      <td>New England Patriots[b]</td>\n      <td>884</td>\n      <td>489</td>\n      <td>386</td>\n      <td>9</td>\n      <td>0.558</td>\n      <td>1960</td>\n      <td>AFC East</td>\n      <td>Levi's Stadium</td>\n    </tr>\n    <tr>\n      <th>5</th>\n      <td>5</td>\n      <td>6</td>\n      <td>Minnesota Vikings</td>\n      <td>870</td>\n      <td>470</td>\n      <td>390</td>\n      <td>10</td>\n      <td>0.546</td>\n      <td>1961</td>\n      <td>NFC North</td>\n      <td>Levi's Stadium</td>\n    </tr>\n    <tr>\n      <th>6</th>\n      <td>6</td>\n      <td>7</td>\n      <td>Baltimore Ravens</td>\n      <td>352</td>\n      <td>190</td>\n      <td>161</td>\n      <td>1</td>\n      <td>0.541</td>\n      <td>1996</td>\n      <td>AFC North</td>\n      <td>Levi's Stadium</td>\n    </tr>\n    <tr>\n      <th>7</th>\n      <td>7</td>\n      <td>8</td>\n      <td>New York Giants</td>\n      <td>1,305</td>\n      <td>687</td>\n      <td>585</td>\n      <td>33</td>\n      <td>0.539</td>\n      <td>1925</td>\n      <td>NFC East</td>\n      <td>Levi's Stadium</td>\n    </tr>\n    <tr>\n      <th>8</th>\n      <td>8</td>\n      <td>9</td>\n      <td>Denver Broncos</td>\n      <td>884</td>\n      <td>470</td>\n      <td>404</td>\n      <td>10</td>\n      <td>0.537</td>\n      <td>1960</td>\n      <td>AFC West</td>\n      <td>Levi's Stadium</td>\n    </tr>\n    <tr>\n      <th>9</th>\n      <td>9</td>\n      <td>10</td>\n      <td>San Francisco 49ers</td>\n      <td>1,002</td>\n      <td>528</td>\n      <td>460</td>\n      <td>14</td>\n      <td>0.534</td>\n      <td>1950</td>\n      <td>NFC West</td>\n      <td>Levi's Stadium</td>\n    </tr>\n    <tr>\n      <th>10</th>\n      <td>10</td>\n      <td>11</td>\n      <td>Pittsburgh Steelers</td>\n      <td>1,179</td>\n      <td>614</td>\n      <td>538</td>\n      <td>20</td>\n      <td>0.532</td>\n      <td>1933</td>\n      <td>AFC North</td>\n      <td>Levi's Stadium</td>\n    </tr>\n    <tr>\n      <th>11</th>\n      <td>11</td>\n      <td>12</td>\n      <td>Oakland Raiders</td>\n      <td>884</td>\n      <td>462</td>\n      <td>411</td>\n      <td>11</td>\n      <td>0.529</td>\n      <td>1960</td>\n      <td>AFC West</td>\n      <td>Levi's Stadium</td>\n    </tr>\n  </tbody>\n</table>\n</div>",
            "text/plain": "    Unnamed: 0  Rank                     Team     GP  Won  Lost  Tied   Pct.  \\\n0            0     1           Dallas Cowboys    882  502   374     6  0.573   \n1            1     2        Green Bay Packers  1,336  737   562    37  0.565   \n2            2     3            Chicago Bears  1,370  749   579    42  0.562   \n3            3     4           Miami Dolphins    800  445   351     4  0.559   \n4            4     5  New England Patriots[b]    884  489   386     9  0.558   \n5            5     6        Minnesota Vikings    870  470   390    10  0.546   \n6            6     7         Baltimore Ravens    352  190   161     1  0.541   \n7            7     8          New York Giants  1,305  687   585    33  0.539   \n8            8     9           Denver Broncos    884  470   404    10  0.537   \n9            9    10      San Francisco 49ers  1,002  528   460    14  0.534   \n10          10    11      Pittsburgh Steelers  1,179  614   538    20  0.532   \n11          11    12          Oakland Raiders    884  462   411    11  0.529   \n\n    First NFL Season   Division         Stadium  \n0               1960   NFC East  Levi's Stadium  \n1               1921  NFC North  Levi's Stadium  \n2               1920  NFC North  Levi's Stadium  \n3               1966   AFC East  Levi's Stadium  \n4               1960   AFC East  Levi's Stadium  \n5               1961  NFC North  Levi's Stadium  \n6               1996  AFC North  Levi's Stadium  \n7               1925   NFC East  Levi's Stadium  \n8               1960   AFC West  Levi's Stadium  \n9               1950   NFC West  Levi's Stadium  \n10              1933  AFC North  Levi's Stadium  \n11              1960   AFC West  Levi's Stadium  "
          },
          "metadata": {}
        }
      ]
    },
    {
      "metadata": {
        "trusted": true
      },
      "cell_type": "code",
      "source": "import numpy as np\nnp.arange(10)",
      "execution_count": 75,
      "outputs": [
        {
          "output_type": "execute_result",
          "execution_count": 75,
          "data": {
            "text/plain": "array([0, 1, 2, 3, 4, 5, 6, 7, 8, 9])"
          },
          "metadata": {}
        }
      ]
    },
    {
      "metadata": {
        "trusted": true
      },
      "cell_type": "code",
      "source": "nfl_frame['StadiumNumber'] = np.arange(nfl_frame.shape[0]) # create a new column with continuous numbering",
      "execution_count": 76,
      "outputs": []
    },
    {
      "metadata": {
        "trusted": true
      },
      "cell_type": "code",
      "source": "nfl_frame",
      "execution_count": 77,
      "outputs": [
        {
          "output_type": "execute_result",
          "execution_count": 77,
          "data": {
            "text/html": "<div>\n<table border=\"1\" class=\"dataframe\">\n  <thead>\n    <tr style=\"text-align: right;\">\n      <th></th>\n      <th>Unnamed: 0</th>\n      <th>Rank</th>\n      <th>Team</th>\n      <th>GP</th>\n      <th>Won</th>\n      <th>Lost</th>\n      <th>Tied</th>\n      <th>Pct.</th>\n      <th>First NFL Season</th>\n      <th>Division</th>\n      <th>Stadium</th>\n      <th>StadiumNumber</th>\n    </tr>\n  </thead>\n  <tbody>\n    <tr>\n      <th>0</th>\n      <td>0</td>\n      <td>1</td>\n      <td>Dallas Cowboys</td>\n      <td>882</td>\n      <td>502</td>\n      <td>374</td>\n      <td>6</td>\n      <td>0.573</td>\n      <td>1960</td>\n      <td>NFC East</td>\n      <td>Levi's Stadium</td>\n      <td>0</td>\n    </tr>\n    <tr>\n      <th>1</th>\n      <td>1</td>\n      <td>2</td>\n      <td>Green Bay Packers</td>\n      <td>1,336</td>\n      <td>737</td>\n      <td>562</td>\n      <td>37</td>\n      <td>0.565</td>\n      <td>1921</td>\n      <td>NFC North</td>\n      <td>Levi's Stadium</td>\n      <td>1</td>\n    </tr>\n    <tr>\n      <th>2</th>\n      <td>2</td>\n      <td>3</td>\n      <td>Chicago Bears</td>\n      <td>1,370</td>\n      <td>749</td>\n      <td>579</td>\n      <td>42</td>\n      <td>0.562</td>\n      <td>1920</td>\n      <td>NFC North</td>\n      <td>Levi's Stadium</td>\n      <td>2</td>\n    </tr>\n    <tr>\n      <th>3</th>\n      <td>3</td>\n      <td>4</td>\n      <td>Miami Dolphins</td>\n      <td>800</td>\n      <td>445</td>\n      <td>351</td>\n      <td>4</td>\n      <td>0.559</td>\n      <td>1966</td>\n      <td>AFC East</td>\n      <td>Levi's Stadium</td>\n      <td>3</td>\n    </tr>\n    <tr>\n      <th>4</th>\n      <td>4</td>\n      <td>5</td>\n      <td>New England Patriots[b]</td>\n      <td>884</td>\n      <td>489</td>\n      <td>386</td>\n      <td>9</td>\n      <td>0.558</td>\n      <td>1960</td>\n      <td>AFC East</td>\n      <td>Levi's Stadium</td>\n      <td>4</td>\n    </tr>\n    <tr>\n      <th>5</th>\n      <td>5</td>\n      <td>6</td>\n      <td>Minnesota Vikings</td>\n      <td>870</td>\n      <td>470</td>\n      <td>390</td>\n      <td>10</td>\n      <td>0.546</td>\n      <td>1961</td>\n      <td>NFC North</td>\n      <td>Levi's Stadium</td>\n      <td>5</td>\n    </tr>\n    <tr>\n      <th>6</th>\n      <td>6</td>\n      <td>7</td>\n      <td>Baltimore Ravens</td>\n      <td>352</td>\n      <td>190</td>\n      <td>161</td>\n      <td>1</td>\n      <td>0.541</td>\n      <td>1996</td>\n      <td>AFC North</td>\n      <td>Levi's Stadium</td>\n      <td>6</td>\n    </tr>\n    <tr>\n      <th>7</th>\n      <td>7</td>\n      <td>8</td>\n      <td>New York Giants</td>\n      <td>1,305</td>\n      <td>687</td>\n      <td>585</td>\n      <td>33</td>\n      <td>0.539</td>\n      <td>1925</td>\n      <td>NFC East</td>\n      <td>Levi's Stadium</td>\n      <td>7</td>\n    </tr>\n    <tr>\n      <th>8</th>\n      <td>8</td>\n      <td>9</td>\n      <td>Denver Broncos</td>\n      <td>884</td>\n      <td>470</td>\n      <td>404</td>\n      <td>10</td>\n      <td>0.537</td>\n      <td>1960</td>\n      <td>AFC West</td>\n      <td>Levi's Stadium</td>\n      <td>8</td>\n    </tr>\n    <tr>\n      <th>9</th>\n      <td>9</td>\n      <td>10</td>\n      <td>San Francisco 49ers</td>\n      <td>1,002</td>\n      <td>528</td>\n      <td>460</td>\n      <td>14</td>\n      <td>0.534</td>\n      <td>1950</td>\n      <td>NFC West</td>\n      <td>Levi's Stadium</td>\n      <td>9</td>\n    </tr>\n    <tr>\n      <th>10</th>\n      <td>10</td>\n      <td>11</td>\n      <td>Pittsburgh Steelers</td>\n      <td>1,179</td>\n      <td>614</td>\n      <td>538</td>\n      <td>20</td>\n      <td>0.532</td>\n      <td>1933</td>\n      <td>AFC North</td>\n      <td>Levi's Stadium</td>\n      <td>10</td>\n    </tr>\n    <tr>\n      <th>11</th>\n      <td>11</td>\n      <td>12</td>\n      <td>Oakland Raiders</td>\n      <td>884</td>\n      <td>462</td>\n      <td>411</td>\n      <td>11</td>\n      <td>0.529</td>\n      <td>1960</td>\n      <td>AFC West</td>\n      <td>Levi's Stadium</td>\n      <td>11</td>\n    </tr>\n  </tbody>\n</table>\n</div>",
            "text/plain": "    Unnamed: 0  Rank                     Team     GP  Won  Lost  Tied   Pct.  \\\n0            0     1           Dallas Cowboys    882  502   374     6  0.573   \n1            1     2        Green Bay Packers  1,336  737   562    37  0.565   \n2            2     3            Chicago Bears  1,370  749   579    42  0.562   \n3            3     4           Miami Dolphins    800  445   351     4  0.559   \n4            4     5  New England Patriots[b]    884  489   386     9  0.558   \n5            5     6        Minnesota Vikings    870  470   390    10  0.546   \n6            6     7         Baltimore Ravens    352  190   161     1  0.541   \n7            7     8          New York Giants  1,305  687   585    33  0.539   \n8            8     9           Denver Broncos    884  470   404    10  0.537   \n9            9    10      San Francisco 49ers  1,002  528   460    14  0.534   \n10          10    11      Pittsburgh Steelers  1,179  614   538    20  0.532   \n11          11    12          Oakland Raiders    884  462   411    11  0.529   \n\n    First NFL Season   Division         Stadium  StadiumNumber  \n0               1960   NFC East  Levi's Stadium              0  \n1               1921  NFC North  Levi's Stadium              1  \n2               1920  NFC North  Levi's Stadium              2  \n3               1966   AFC East  Levi's Stadium              3  \n4               1960   AFC East  Levi's Stadium              4  \n5               1961  NFC North  Levi's Stadium              5  \n6               1996  AFC North  Levi's Stadium              6  \n7               1925   NFC East  Levi's Stadium              7  \n8               1960   AFC West  Levi's Stadium              8  \n9               1950   NFC West  Levi's Stadium              9  \n10              1933  AFC North  Levi's Stadium             10  \n11              1960   AFC West  Levi's Stadium             11  "
          },
          "metadata": {}
        }
      ]
    },
    {
      "metadata": {
        "trusted": true
      },
      "cell_type": "code",
      "source": "nfl_frame['Total2'] = nfl_frame['Won'] + nfl_frame.Lost # create a new column by applying some calculations to existing columns",
      "execution_count": 78,
      "outputs": []
    },
    {
      "metadata": {
        "trusted": true
      },
      "cell_type": "code",
      "source": "nfl_frame",
      "execution_count": 79,
      "outputs": [
        {
          "output_type": "execute_result",
          "execution_count": 79,
          "data": {
            "text/html": "<div>\n<table border=\"1\" class=\"dataframe\">\n  <thead>\n    <tr style=\"text-align: right;\">\n      <th></th>\n      <th>Unnamed: 0</th>\n      <th>Rank</th>\n      <th>Team</th>\n      <th>GP</th>\n      <th>Won</th>\n      <th>Lost</th>\n      <th>Tied</th>\n      <th>Pct.</th>\n      <th>First NFL Season</th>\n      <th>Division</th>\n      <th>Stadium</th>\n      <th>StadiumNumber</th>\n      <th>Total2</th>\n    </tr>\n  </thead>\n  <tbody>\n    <tr>\n      <th>0</th>\n      <td>0</td>\n      <td>1</td>\n      <td>Dallas Cowboys</td>\n      <td>882</td>\n      <td>502</td>\n      <td>374</td>\n      <td>6</td>\n      <td>0.573</td>\n      <td>1960</td>\n      <td>NFC East</td>\n      <td>Levi's Stadium</td>\n      <td>0</td>\n      <td>876</td>\n    </tr>\n    <tr>\n      <th>1</th>\n      <td>1</td>\n      <td>2</td>\n      <td>Green Bay Packers</td>\n      <td>1,336</td>\n      <td>737</td>\n      <td>562</td>\n      <td>37</td>\n      <td>0.565</td>\n      <td>1921</td>\n      <td>NFC North</td>\n      <td>Levi's Stadium</td>\n      <td>1</td>\n      <td>1299</td>\n    </tr>\n    <tr>\n      <th>2</th>\n      <td>2</td>\n      <td>3</td>\n      <td>Chicago Bears</td>\n      <td>1,370</td>\n      <td>749</td>\n      <td>579</td>\n      <td>42</td>\n      <td>0.562</td>\n      <td>1920</td>\n      <td>NFC North</td>\n      <td>Levi's Stadium</td>\n      <td>2</td>\n      <td>1328</td>\n    </tr>\n    <tr>\n      <th>3</th>\n      <td>3</td>\n      <td>4</td>\n      <td>Miami Dolphins</td>\n      <td>800</td>\n      <td>445</td>\n      <td>351</td>\n      <td>4</td>\n      <td>0.559</td>\n      <td>1966</td>\n      <td>AFC East</td>\n      <td>Levi's Stadium</td>\n      <td>3</td>\n      <td>796</td>\n    </tr>\n    <tr>\n      <th>4</th>\n      <td>4</td>\n      <td>5</td>\n      <td>New England Patriots[b]</td>\n      <td>884</td>\n      <td>489</td>\n      <td>386</td>\n      <td>9</td>\n      <td>0.558</td>\n      <td>1960</td>\n      <td>AFC East</td>\n      <td>Levi's Stadium</td>\n      <td>4</td>\n      <td>875</td>\n    </tr>\n    <tr>\n      <th>5</th>\n      <td>5</td>\n      <td>6</td>\n      <td>Minnesota Vikings</td>\n      <td>870</td>\n      <td>470</td>\n      <td>390</td>\n      <td>10</td>\n      <td>0.546</td>\n      <td>1961</td>\n      <td>NFC North</td>\n      <td>Levi's Stadium</td>\n      <td>5</td>\n      <td>860</td>\n    </tr>\n    <tr>\n      <th>6</th>\n      <td>6</td>\n      <td>7</td>\n      <td>Baltimore Ravens</td>\n      <td>352</td>\n      <td>190</td>\n      <td>161</td>\n      <td>1</td>\n      <td>0.541</td>\n      <td>1996</td>\n      <td>AFC North</td>\n      <td>Levi's Stadium</td>\n      <td>6</td>\n      <td>351</td>\n    </tr>\n    <tr>\n      <th>7</th>\n      <td>7</td>\n      <td>8</td>\n      <td>New York Giants</td>\n      <td>1,305</td>\n      <td>687</td>\n      <td>585</td>\n      <td>33</td>\n      <td>0.539</td>\n      <td>1925</td>\n      <td>NFC East</td>\n      <td>Levi's Stadium</td>\n      <td>7</td>\n      <td>1272</td>\n    </tr>\n    <tr>\n      <th>8</th>\n      <td>8</td>\n      <td>9</td>\n      <td>Denver Broncos</td>\n      <td>884</td>\n      <td>470</td>\n      <td>404</td>\n      <td>10</td>\n      <td>0.537</td>\n      <td>1960</td>\n      <td>AFC West</td>\n      <td>Levi's Stadium</td>\n      <td>8</td>\n      <td>874</td>\n    </tr>\n    <tr>\n      <th>9</th>\n      <td>9</td>\n      <td>10</td>\n      <td>San Francisco 49ers</td>\n      <td>1,002</td>\n      <td>528</td>\n      <td>460</td>\n      <td>14</td>\n      <td>0.534</td>\n      <td>1950</td>\n      <td>NFC West</td>\n      <td>Levi's Stadium</td>\n      <td>9</td>\n      <td>988</td>\n    </tr>\n    <tr>\n      <th>10</th>\n      <td>10</td>\n      <td>11</td>\n      <td>Pittsburgh Steelers</td>\n      <td>1,179</td>\n      <td>614</td>\n      <td>538</td>\n      <td>20</td>\n      <td>0.532</td>\n      <td>1933</td>\n      <td>AFC North</td>\n      <td>Levi's Stadium</td>\n      <td>10</td>\n      <td>1152</td>\n    </tr>\n    <tr>\n      <th>11</th>\n      <td>11</td>\n      <td>12</td>\n      <td>Oakland Raiders</td>\n      <td>884</td>\n      <td>462</td>\n      <td>411</td>\n      <td>11</td>\n      <td>0.529</td>\n      <td>1960</td>\n      <td>AFC West</td>\n      <td>Levi's Stadium</td>\n      <td>11</td>\n      <td>873</td>\n    </tr>\n  </tbody>\n</table>\n</div>",
            "text/plain": "    Unnamed: 0  Rank                     Team     GP  Won  Lost  Tied   Pct.  \\\n0            0     1           Dallas Cowboys    882  502   374     6  0.573   \n1            1     2        Green Bay Packers  1,336  737   562    37  0.565   \n2            2     3            Chicago Bears  1,370  749   579    42  0.562   \n3            3     4           Miami Dolphins    800  445   351     4  0.559   \n4            4     5  New England Patriots[b]    884  489   386     9  0.558   \n5            5     6        Minnesota Vikings    870  470   390    10  0.546   \n6            6     7         Baltimore Ravens    352  190   161     1  0.541   \n7            7     8          New York Giants  1,305  687   585    33  0.539   \n8            8     9           Denver Broncos    884  470   404    10  0.537   \n9            9    10      San Francisco 49ers  1,002  528   460    14  0.534   \n10          10    11      Pittsburgh Steelers  1,179  614   538    20  0.532   \n11          11    12          Oakland Raiders    884  462   411    11  0.529   \n\n    First NFL Season   Division         Stadium  StadiumNumber  Total2  \n0               1960   NFC East  Levi's Stadium              0     876  \n1               1921  NFC North  Levi's Stadium              1    1299  \n2               1920  NFC North  Levi's Stadium              2    1328  \n3               1966   AFC East  Levi's Stadium              3     796  \n4               1960   AFC East  Levi's Stadium              4     875  \n5               1961  NFC North  Levi's Stadium              5     860  \n6               1996  AFC North  Levi's Stadium              6     351  \n7               1925   NFC East  Levi's Stadium              7    1272  \n8               1960   AFC West  Levi's Stadium              8     874  \n9               1950   NFC West  Levi's Stadium              9     988  \n10              1933  AFC North  Levi's Stadium             10    1152  \n11              1960   AFC West  Levi's Stadium             11     873  "
          },
          "metadata": {}
        }
      ]
    },
    {
      "metadata": {
        "trusted": true
      },
      "cell_type": "code",
      "source": "del nfl_frame['StadiumNumber']",
      "execution_count": 80,
      "outputs": []
    },
    {
      "metadata": {
        "trusted": true
      },
      "cell_type": "code",
      "source": "nfl_frame",
      "execution_count": 81,
      "outputs": [
        {
          "output_type": "execute_result",
          "execution_count": 81,
          "data": {
            "text/html": "<div>\n<table border=\"1\" class=\"dataframe\">\n  <thead>\n    <tr style=\"text-align: right;\">\n      <th></th>\n      <th>Unnamed: 0</th>\n      <th>Rank</th>\n      <th>Team</th>\n      <th>GP</th>\n      <th>Won</th>\n      <th>Lost</th>\n      <th>Tied</th>\n      <th>Pct.</th>\n      <th>First NFL Season</th>\n      <th>Division</th>\n      <th>Stadium</th>\n      <th>Total2</th>\n    </tr>\n  </thead>\n  <tbody>\n    <tr>\n      <th>0</th>\n      <td>0</td>\n      <td>1</td>\n      <td>Dallas Cowboys</td>\n      <td>882</td>\n      <td>502</td>\n      <td>374</td>\n      <td>6</td>\n      <td>0.573</td>\n      <td>1960</td>\n      <td>NFC East</td>\n      <td>Levi's Stadium</td>\n      <td>876</td>\n    </tr>\n    <tr>\n      <th>1</th>\n      <td>1</td>\n      <td>2</td>\n      <td>Green Bay Packers</td>\n      <td>1,336</td>\n      <td>737</td>\n      <td>562</td>\n      <td>37</td>\n      <td>0.565</td>\n      <td>1921</td>\n      <td>NFC North</td>\n      <td>Levi's Stadium</td>\n      <td>1299</td>\n    </tr>\n    <tr>\n      <th>2</th>\n      <td>2</td>\n      <td>3</td>\n      <td>Chicago Bears</td>\n      <td>1,370</td>\n      <td>749</td>\n      <td>579</td>\n      <td>42</td>\n      <td>0.562</td>\n      <td>1920</td>\n      <td>NFC North</td>\n      <td>Levi's Stadium</td>\n      <td>1328</td>\n    </tr>\n    <tr>\n      <th>3</th>\n      <td>3</td>\n      <td>4</td>\n      <td>Miami Dolphins</td>\n      <td>800</td>\n      <td>445</td>\n      <td>351</td>\n      <td>4</td>\n      <td>0.559</td>\n      <td>1966</td>\n      <td>AFC East</td>\n      <td>Levi's Stadium</td>\n      <td>796</td>\n    </tr>\n    <tr>\n      <th>4</th>\n      <td>4</td>\n      <td>5</td>\n      <td>New England Patriots[b]</td>\n      <td>884</td>\n      <td>489</td>\n      <td>386</td>\n      <td>9</td>\n      <td>0.558</td>\n      <td>1960</td>\n      <td>AFC East</td>\n      <td>Levi's Stadium</td>\n      <td>875</td>\n    </tr>\n    <tr>\n      <th>5</th>\n      <td>5</td>\n      <td>6</td>\n      <td>Minnesota Vikings</td>\n      <td>870</td>\n      <td>470</td>\n      <td>390</td>\n      <td>10</td>\n      <td>0.546</td>\n      <td>1961</td>\n      <td>NFC North</td>\n      <td>Levi's Stadium</td>\n      <td>860</td>\n    </tr>\n    <tr>\n      <th>6</th>\n      <td>6</td>\n      <td>7</td>\n      <td>Baltimore Ravens</td>\n      <td>352</td>\n      <td>190</td>\n      <td>161</td>\n      <td>1</td>\n      <td>0.541</td>\n      <td>1996</td>\n      <td>AFC North</td>\n      <td>Levi's Stadium</td>\n      <td>351</td>\n    </tr>\n    <tr>\n      <th>7</th>\n      <td>7</td>\n      <td>8</td>\n      <td>New York Giants</td>\n      <td>1,305</td>\n      <td>687</td>\n      <td>585</td>\n      <td>33</td>\n      <td>0.539</td>\n      <td>1925</td>\n      <td>NFC East</td>\n      <td>Levi's Stadium</td>\n      <td>1272</td>\n    </tr>\n    <tr>\n      <th>8</th>\n      <td>8</td>\n      <td>9</td>\n      <td>Denver Broncos</td>\n      <td>884</td>\n      <td>470</td>\n      <td>404</td>\n      <td>10</td>\n      <td>0.537</td>\n      <td>1960</td>\n      <td>AFC West</td>\n      <td>Levi's Stadium</td>\n      <td>874</td>\n    </tr>\n    <tr>\n      <th>9</th>\n      <td>9</td>\n      <td>10</td>\n      <td>San Francisco 49ers</td>\n      <td>1,002</td>\n      <td>528</td>\n      <td>460</td>\n      <td>14</td>\n      <td>0.534</td>\n      <td>1950</td>\n      <td>NFC West</td>\n      <td>Levi's Stadium</td>\n      <td>988</td>\n    </tr>\n    <tr>\n      <th>10</th>\n      <td>10</td>\n      <td>11</td>\n      <td>Pittsburgh Steelers</td>\n      <td>1,179</td>\n      <td>614</td>\n      <td>538</td>\n      <td>20</td>\n      <td>0.532</td>\n      <td>1933</td>\n      <td>AFC North</td>\n      <td>Levi's Stadium</td>\n      <td>1152</td>\n    </tr>\n    <tr>\n      <th>11</th>\n      <td>11</td>\n      <td>12</td>\n      <td>Oakland Raiders</td>\n      <td>884</td>\n      <td>462</td>\n      <td>411</td>\n      <td>11</td>\n      <td>0.529</td>\n      <td>1960</td>\n      <td>AFC West</td>\n      <td>Levi's Stadium</td>\n      <td>873</td>\n    </tr>\n  </tbody>\n</table>\n</div>",
            "text/plain": "    Unnamed: 0  Rank                     Team     GP  Won  Lost  Tied   Pct.  \\\n0            0     1           Dallas Cowboys    882  502   374     6  0.573   \n1            1     2        Green Bay Packers  1,336  737   562    37  0.565   \n2            2     3            Chicago Bears  1,370  749   579    42  0.562   \n3            3     4           Miami Dolphins    800  445   351     4  0.559   \n4            4     5  New England Patriots[b]    884  489   386     9  0.558   \n5            5     6        Minnesota Vikings    870  470   390    10  0.546   \n6            6     7         Baltimore Ravens    352  190   161     1  0.541   \n7            7     8          New York Giants  1,305  687   585    33  0.539   \n8            8     9           Denver Broncos    884  470   404    10  0.537   \n9            9    10      San Francisco 49ers  1,002  528   460    14  0.534   \n10          10    11      Pittsburgh Steelers  1,179  614   538    20  0.532   \n11          11    12          Oakland Raiders    884  462   411    11  0.529   \n\n    First NFL Season   Division         Stadium  Total2  \n0               1960   NFC East  Levi's Stadium     876  \n1               1921  NFC North  Levi's Stadium    1299  \n2               1920  NFC North  Levi's Stadium    1328  \n3               1966   AFC East  Levi's Stadium     796  \n4               1960   AFC East  Levi's Stadium     875  \n5               1961  NFC North  Levi's Stadium     860  \n6               1996  AFC North  Levi's Stadium     351  \n7               1925   NFC East  Levi's Stadium    1272  \n8               1960   AFC West  Levi's Stadium     874  \n9               1950   NFC West  Levi's Stadium     988  \n10              1933  AFC North  Levi's Stadium    1152  \n11              1960   AFC West  Levi's Stadium     873  "
          },
          "metadata": {}
        }
      ]
    },
    {
      "metadata": {
        "trusted": true
      },
      "cell_type": "code",
      "source": "del nfl_frame['Stadium']",
      "execution_count": 82,
      "outputs": []
    },
    {
      "metadata": {
        "trusted": true
      },
      "cell_type": "code",
      "source": "nfl_frame",
      "execution_count": 83,
      "outputs": [
        {
          "output_type": "execute_result",
          "execution_count": 83,
          "data": {
            "text/html": "<div>\n<table border=\"1\" class=\"dataframe\">\n  <thead>\n    <tr style=\"text-align: right;\">\n      <th></th>\n      <th>Unnamed: 0</th>\n      <th>Rank</th>\n      <th>Team</th>\n      <th>GP</th>\n      <th>Won</th>\n      <th>Lost</th>\n      <th>Tied</th>\n      <th>Pct.</th>\n      <th>First NFL Season</th>\n      <th>Division</th>\n      <th>Total2</th>\n    </tr>\n  </thead>\n  <tbody>\n    <tr>\n      <th>0</th>\n      <td>0</td>\n      <td>1</td>\n      <td>Dallas Cowboys</td>\n      <td>882</td>\n      <td>502</td>\n      <td>374</td>\n      <td>6</td>\n      <td>0.573</td>\n      <td>1960</td>\n      <td>NFC East</td>\n      <td>876</td>\n    </tr>\n    <tr>\n      <th>1</th>\n      <td>1</td>\n      <td>2</td>\n      <td>Green Bay Packers</td>\n      <td>1,336</td>\n      <td>737</td>\n      <td>562</td>\n      <td>37</td>\n      <td>0.565</td>\n      <td>1921</td>\n      <td>NFC North</td>\n      <td>1299</td>\n    </tr>\n    <tr>\n      <th>2</th>\n      <td>2</td>\n      <td>3</td>\n      <td>Chicago Bears</td>\n      <td>1,370</td>\n      <td>749</td>\n      <td>579</td>\n      <td>42</td>\n      <td>0.562</td>\n      <td>1920</td>\n      <td>NFC North</td>\n      <td>1328</td>\n    </tr>\n    <tr>\n      <th>3</th>\n      <td>3</td>\n      <td>4</td>\n      <td>Miami Dolphins</td>\n      <td>800</td>\n      <td>445</td>\n      <td>351</td>\n      <td>4</td>\n      <td>0.559</td>\n      <td>1966</td>\n      <td>AFC East</td>\n      <td>796</td>\n    </tr>\n    <tr>\n      <th>4</th>\n      <td>4</td>\n      <td>5</td>\n      <td>New England Patriots[b]</td>\n      <td>884</td>\n      <td>489</td>\n      <td>386</td>\n      <td>9</td>\n      <td>0.558</td>\n      <td>1960</td>\n      <td>AFC East</td>\n      <td>875</td>\n    </tr>\n    <tr>\n      <th>5</th>\n      <td>5</td>\n      <td>6</td>\n      <td>Minnesota Vikings</td>\n      <td>870</td>\n      <td>470</td>\n      <td>390</td>\n      <td>10</td>\n      <td>0.546</td>\n      <td>1961</td>\n      <td>NFC North</td>\n      <td>860</td>\n    </tr>\n    <tr>\n      <th>6</th>\n      <td>6</td>\n      <td>7</td>\n      <td>Baltimore Ravens</td>\n      <td>352</td>\n      <td>190</td>\n      <td>161</td>\n      <td>1</td>\n      <td>0.541</td>\n      <td>1996</td>\n      <td>AFC North</td>\n      <td>351</td>\n    </tr>\n    <tr>\n      <th>7</th>\n      <td>7</td>\n      <td>8</td>\n      <td>New York Giants</td>\n      <td>1,305</td>\n      <td>687</td>\n      <td>585</td>\n      <td>33</td>\n      <td>0.539</td>\n      <td>1925</td>\n      <td>NFC East</td>\n      <td>1272</td>\n    </tr>\n    <tr>\n      <th>8</th>\n      <td>8</td>\n      <td>9</td>\n      <td>Denver Broncos</td>\n      <td>884</td>\n      <td>470</td>\n      <td>404</td>\n      <td>10</td>\n      <td>0.537</td>\n      <td>1960</td>\n      <td>AFC West</td>\n      <td>874</td>\n    </tr>\n    <tr>\n      <th>9</th>\n      <td>9</td>\n      <td>10</td>\n      <td>San Francisco 49ers</td>\n      <td>1,002</td>\n      <td>528</td>\n      <td>460</td>\n      <td>14</td>\n      <td>0.534</td>\n      <td>1950</td>\n      <td>NFC West</td>\n      <td>988</td>\n    </tr>\n    <tr>\n      <th>10</th>\n      <td>10</td>\n      <td>11</td>\n      <td>Pittsburgh Steelers</td>\n      <td>1,179</td>\n      <td>614</td>\n      <td>538</td>\n      <td>20</td>\n      <td>0.532</td>\n      <td>1933</td>\n      <td>AFC North</td>\n      <td>1152</td>\n    </tr>\n    <tr>\n      <th>11</th>\n      <td>11</td>\n      <td>12</td>\n      <td>Oakland Raiders</td>\n      <td>884</td>\n      <td>462</td>\n      <td>411</td>\n      <td>11</td>\n      <td>0.529</td>\n      <td>1960</td>\n      <td>AFC West</td>\n      <td>873</td>\n    </tr>\n  </tbody>\n</table>\n</div>",
            "text/plain": "    Unnamed: 0  Rank                     Team     GP  Won  Lost  Tied   Pct.  \\\n0            0     1           Dallas Cowboys    882  502   374     6  0.573   \n1            1     2        Green Bay Packers  1,336  737   562    37  0.565   \n2            2     3            Chicago Bears  1,370  749   579    42  0.562   \n3            3     4           Miami Dolphins    800  445   351     4  0.559   \n4            4     5  New England Patriots[b]    884  489   386     9  0.558   \n5            5     6        Minnesota Vikings    870  470   390    10  0.546   \n6            6     7         Baltimore Ravens    352  190   161     1  0.541   \n7            7     8          New York Giants  1,305  687   585    33  0.539   \n8            8     9           Denver Broncos    884  470   404    10  0.537   \n9            9    10      San Francisco 49ers  1,002  528   460    14  0.534   \n10          10    11      Pittsburgh Steelers  1,179  614   538    20  0.532   \n11          11    12          Oakland Raiders    884  462   411    11  0.529   \n\n    First NFL Season   Division  Total2  \n0               1960   NFC East     876  \n1               1921  NFC North    1299  \n2               1920  NFC North    1328  \n3               1966   AFC East     796  \n4               1960   AFC East     875  \n5               1961  NFC North     860  \n6               1996  AFC North     351  \n7               1925   NFC East    1272  \n8               1960   AFC West     874  \n9               1950   NFC West     988  \n10              1933  AFC North    1152  \n11              1960   AFC West     873  "
          },
          "metadata": {}
        }
      ]
    },
    {
      "metadata": {
        "trusted": true
      },
      "cell_type": "code",
      "source": "old_dict = {'SF':8.37e5,'LA':3.88e6,'NYC':8.4e6}\nold_dict",
      "execution_count": 84,
      "outputs": [
        {
          "output_type": "execute_result",
          "execution_count": 84,
          "data": {
            "text/plain": "{'LA': 3880000.0, 'NYC': 8400000.0, 'SF': 837000.0}"
          },
          "metadata": {}
        }
      ]
    },
    {
      "metadata": {
        "trusted": true
      },
      "cell_type": "code",
      "source": "data_dict = {'City':['SF','LA','NYC'],'Population':[8.37e5,3.88e6,8.4e6]} # create a dictionary",
      "execution_count": 85,
      "outputs": []
    },
    {
      "metadata": {
        "trusted": true
      },
      "cell_type": "code",
      "source": "data_dict",
      "execution_count": 86,
      "outputs": [
        {
          "output_type": "execute_result",
          "execution_count": 86,
          "data": {
            "text/plain": "{'City': ['SF', 'LA', 'NYC'], 'Population': [837000.0, 3880000.0, 8400000.0]}"
          },
          "metadata": {}
        }
      ]
    },
    {
      "metadata": {
        "trusted": true
      },
      "cell_type": "code",
      "source": "city_frame = DataFrame(data_dict) #create a data frame from a dictionary",
      "execution_count": 87,
      "outputs": []
    },
    {
      "metadata": {
        "trusted": true
      },
      "cell_type": "code",
      "source": "city_frame",
      "execution_count": 88,
      "outputs": [
        {
          "output_type": "execute_result",
          "execution_count": 88,
          "data": {
            "text/html": "<div>\n<table border=\"1\" class=\"dataframe\">\n  <thead>\n    <tr style=\"text-align: right;\">\n      <th></th>\n      <th>City</th>\n      <th>Population</th>\n    </tr>\n  </thead>\n  <tbody>\n    <tr>\n      <th>0</th>\n      <td>SF</td>\n      <td>837000.0</td>\n    </tr>\n    <tr>\n      <th>1</th>\n      <td>LA</td>\n      <td>3880000.0</td>\n    </tr>\n    <tr>\n      <th>2</th>\n      <td>NYC</td>\n      <td>8400000.0</td>\n    </tr>\n  </tbody>\n</table>\n</div>",
            "text/plain": "  City  Population\n0   SF    837000.0\n1   LA   3880000.0\n2  NYC   8400000.0"
          },
          "metadata": {}
        }
      ]
    },
    {
      "metadata": {},
      "cell_type": "markdown",
      "source": "## End of part 3"
    }
  ],
  "metadata": {
    "kernelspec": {
      "name": "python3",
      "display_name": "Python 3",
      "language": "python"
    },
    "language_info": {
      "mimetype": "text/x-python",
      "nbconvert_exporter": "python",
      "name": "python",
      "pygments_lexer": "ipython3",
      "version": "3.5.4",
      "file_extension": ".py",
      "codemirror_mode": {
        "version": 3,
        "name": "ipython"
      }
    }
  },
  "nbformat": 4,
  "nbformat_minor": 1
}