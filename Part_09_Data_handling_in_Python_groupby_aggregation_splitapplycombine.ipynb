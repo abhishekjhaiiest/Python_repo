{
  "cells": [
    {
      "metadata": {},
      "cell_type": "markdown",
      "source": "# Part 09"
    },
    {
      "metadata": {},
      "cell_type": "markdown",
      "source": "## Group by"
    },
    {
      "metadata": {
        "trusted": true
      },
      "cell_type": "code",
      "source": "import numpy as np\nimport pandas as pd\nfrom pandas import Series,DataFrame",
      "execution_count": 1,
      "outputs": []
    },
    {
      "metadata": {
        "trusted": true
      },
      "cell_type": "code",
      "source": "dframe = DataFrame({'k1':['X','X','Y','Y','Z'],\n                    'k2':['alpha','beta','alpha','beta','alpha'],\n                    'data1':np.arange(5),\n                    'data2':np.arange(5)})\ndframe",
      "execution_count": 2,
      "outputs": [
        {
          "output_type": "execute_result",
          "execution_count": 2,
          "data": {
            "text/html": "<div>\n<table border=\"1\" class=\"dataframe\">\n  <thead>\n    <tr style=\"text-align: right;\">\n      <th></th>\n      <th>data1</th>\n      <th>data2</th>\n      <th>k1</th>\n      <th>k2</th>\n    </tr>\n  </thead>\n  <tbody>\n    <tr>\n      <th>0</th>\n      <td>0</td>\n      <td>0</td>\n      <td>X</td>\n      <td>alpha</td>\n    </tr>\n    <tr>\n      <th>1</th>\n      <td>1</td>\n      <td>1</td>\n      <td>X</td>\n      <td>beta</td>\n    </tr>\n    <tr>\n      <th>2</th>\n      <td>2</td>\n      <td>2</td>\n      <td>Y</td>\n      <td>alpha</td>\n    </tr>\n    <tr>\n      <th>3</th>\n      <td>3</td>\n      <td>3</td>\n      <td>Y</td>\n      <td>beta</td>\n    </tr>\n    <tr>\n      <th>4</th>\n      <td>4</td>\n      <td>4</td>\n      <td>Z</td>\n      <td>alpha</td>\n    </tr>\n  </tbody>\n</table>\n</div>",
            "text/plain": "   data1  data2 k1     k2\n0      0      0  X  alpha\n1      1      1  X   beta\n2      2      2  Y  alpha\n3      3      3  Y   beta\n4      4      4  Z  alpha"
          },
          "metadata": {}
        }
      ]
    },
    {
      "metadata": {
        "collapsed": true
      },
      "cell_type": "markdown",
      "source": "Group one column according to a key - in this case *k1*; the resulting object is a series\n\nNote: this syntax/method does not work for more than one key"
    },
    {
      "metadata": {
        "trusted": true
      },
      "cell_type": "code",
      "source": "group1 = dframe['data1'].groupby(dframe['k1'])\ngroup1",
      "execution_count": 3,
      "outputs": [
        {
          "output_type": "execute_result",
          "execution_count": 3,
          "data": {
            "text/plain": "<pandas.core.groupby.SeriesGroupBy object at 0x7f52fe9b2128>"
          },
          "metadata": {}
        }
      ]
    },
    {
      "metadata": {
        "trusted": true
      },
      "cell_type": "code",
      "source": "group1.mean()",
      "execution_count": 4,
      "outputs": [
        {
          "output_type": "execute_result",
          "execution_count": 4,
          "data": {
            "text/plain": "k1\nX    0.5\nY    2.5\nZ    4.0\nName: data1, dtype: float64"
          },
          "metadata": {}
        }
      ]
    },
    {
      "metadata": {
        "trusted": false
      },
      "cell_type": "code",
      "source": "dframe",
      "execution_count": 5,
      "outputs": [
        {
          "data": {
            "text/html": "<div>\n<style>\n    .dataframe thead tr:only-child th {\n        text-align: right;\n    }\n\n    .dataframe thead th {\n        text-align: left;\n    }\n\n    .dataframe tbody tr th {\n        vertical-align: top;\n    }\n</style>\n<table border=\"1\" class=\"dataframe\">\n  <thead>\n    <tr style=\"text-align: right;\">\n      <th></th>\n      <th>data1</th>\n      <th>data2</th>\n      <th>k1</th>\n      <th>k2</th>\n    </tr>\n  </thead>\n  <tbody>\n    <tr>\n      <th>0</th>\n      <td>0</td>\n      <td>0</td>\n      <td>X</td>\n      <td>alpha</td>\n    </tr>\n    <tr>\n      <th>1</th>\n      <td>1</td>\n      <td>1</td>\n      <td>X</td>\n      <td>beta</td>\n    </tr>\n    <tr>\n      <th>2</th>\n      <td>2</td>\n      <td>2</td>\n      <td>Y</td>\n      <td>alpha</td>\n    </tr>\n    <tr>\n      <th>3</th>\n      <td>3</td>\n      <td>3</td>\n      <td>Y</td>\n      <td>beta</td>\n    </tr>\n    <tr>\n      <th>4</th>\n      <td>4</td>\n      <td>4</td>\n      <td>Z</td>\n      <td>alpha</td>\n    </tr>\n  </tbody>\n</table>\n</div>",
            "text/plain": "   data1  data2 k1     k2\n0      0      0  X  alpha\n1      1      1  X   beta\n2      2      2  Y  alpha\n3      3      3  Y   beta\n4      4      4  Z  alpha"
          },
          "execution_count": 5,
          "metadata": {},
          "output_type": "execute_result"
        }
      ]
    },
    {
      "metadata": {
        "collapsed": true
      },
      "cell_type": "markdown",
      "source": "Group all columns by *k1* - the resulting object is a data frame"
    },
    {
      "metadata": {
        "trusted": false
      },
      "cell_type": "code",
      "source": "dframe.groupby('k1')",
      "execution_count": 6,
      "outputs": [
        {
          "data": {
            "text/plain": "<pandas.core.groupby.DataFrameGroupBy object at 0x00000239D078EA20>"
          },
          "execution_count": 6,
          "metadata": {},
          "output_type": "execute_result"
        }
      ]
    },
    {
      "metadata": {
        "trusted": false
      },
      "cell_type": "code",
      "source": "dframe.groupby('k1').mean() # groupwise mean",
      "execution_count": 7,
      "outputs": [
        {
          "data": {
            "text/html": "<div>\n<style>\n    .dataframe thead tr:only-child th {\n        text-align: right;\n    }\n\n    .dataframe thead th {\n        text-align: left;\n    }\n\n    .dataframe tbody tr th {\n        vertical-align: top;\n    }\n</style>\n<table border=\"1\" class=\"dataframe\">\n  <thead>\n    <tr style=\"text-align: right;\">\n      <th></th>\n      <th>data1</th>\n      <th>data2</th>\n    </tr>\n    <tr>\n      <th>k1</th>\n      <th></th>\n      <th></th>\n    </tr>\n  </thead>\n  <tbody>\n    <tr>\n      <th>X</th>\n      <td>0.5</td>\n      <td>0.5</td>\n    </tr>\n    <tr>\n      <th>Y</th>\n      <td>2.5</td>\n      <td>2.5</td>\n    </tr>\n    <tr>\n      <th>Z</th>\n      <td>4.0</td>\n      <td>4.0</td>\n    </tr>\n  </tbody>\n</table>\n</div>",
            "text/plain": "    data1  data2\nk1              \nX     0.5    0.5\nY     2.5    2.5\nZ     4.0    4.0"
          },
          "execution_count": 7,
          "metadata": {},
          "output_type": "execute_result"
        }
      ]
    },
    {
      "metadata": {
        "trusted": false
      },
      "cell_type": "code",
      "source": "dframe.groupby(['k1']).size() # groupwise count",
      "execution_count": 8,
      "outputs": [
        {
          "data": {
            "text/plain": "k1\nX    2\nY    2\nZ    1\ndtype: int64"
          },
          "execution_count": 8,
          "metadata": {},
          "output_type": "execute_result"
        }
      ]
    },
    {
      "metadata": {
        "trusted": false
      },
      "cell_type": "code",
      "source": "dframe.groupby(['k1','k2']).mean() # group all columns by k1 and k2",
      "execution_count": 9,
      "outputs": [
        {
          "data": {
            "text/html": "<div>\n<style>\n    .dataframe thead tr:only-child th {\n        text-align: right;\n    }\n\n    .dataframe thead th {\n        text-align: left;\n    }\n\n    .dataframe tbody tr th {\n        vertical-align: top;\n    }\n</style>\n<table border=\"1\" class=\"dataframe\">\n  <thead>\n    <tr style=\"text-align: right;\">\n      <th></th>\n      <th></th>\n      <th>data1</th>\n      <th>data2</th>\n    </tr>\n    <tr>\n      <th>k1</th>\n      <th>k2</th>\n      <th></th>\n      <th></th>\n    </tr>\n  </thead>\n  <tbody>\n    <tr>\n      <th rowspan=\"2\" valign=\"top\">X</th>\n      <th>alpha</th>\n      <td>0</td>\n      <td>0</td>\n    </tr>\n    <tr>\n      <th>beta</th>\n      <td>1</td>\n      <td>1</td>\n    </tr>\n    <tr>\n      <th rowspan=\"2\" valign=\"top\">Y</th>\n      <th>alpha</th>\n      <td>2</td>\n      <td>2</td>\n    </tr>\n    <tr>\n      <th>beta</th>\n      <td>3</td>\n      <td>3</td>\n    </tr>\n    <tr>\n      <th>Z</th>\n      <th>alpha</th>\n      <td>4</td>\n      <td>4</td>\n    </tr>\n  </tbody>\n</table>\n</div>",
            "text/plain": "          data1  data2\nk1 k2                 \nX  alpha      0      0\n   beta       1      1\nY  alpha      2      2\n   beta       3      3\nZ  alpha      4      4"
          },
          "execution_count": 9,
          "metadata": {},
          "output_type": "execute_result"
        }
      ]
    },
    {
      "metadata": {
        "trusted": false
      },
      "cell_type": "code",
      "source": "dframe.groupby(['k1','k2']).size()",
      "execution_count": 10,
      "outputs": [
        {
          "data": {
            "text/plain": "k1  k2   \nX   alpha    1\n    beta     1\nY   alpha    1\n    beta     1\nZ   alpha    1\ndtype: int64"
          },
          "execution_count": 10,
          "metadata": {},
          "output_type": "execute_result"
        }
      ]
    },
    {
      "metadata": {
        "trusted": true
      },
      "cell_type": "code",
      "source": "cities = np.array(['NY','LA','LA','NY','NY'])\ncities",
      "execution_count": 5,
      "outputs": [
        {
          "output_type": "execute_result",
          "execution_count": 5,
          "data": {
            "text/plain": "array(['NY', 'LA', 'LA', 'NY', 'NY'], dtype='<U2')"
          },
          "metadata": {}
        }
      ]
    },
    {
      "metadata": {
        "trusted": true
      },
      "cell_type": "code",
      "source": "month = np.array(['JAN','FEB','JAN','FEB','JAN'])\nmonth",
      "execution_count": 6,
      "outputs": [
        {
          "output_type": "execute_result",
          "execution_count": 6,
          "data": {
            "text/plain": "array(['JAN', 'FEB', 'JAN', 'FEB', 'JAN'], dtype='<U3')"
          },
          "metadata": {}
        }
      ]
    },
    {
      "metadata": {
        "trusted": true
      },
      "cell_type": "code",
      "source": "dframe['data1']",
      "execution_count": 7,
      "outputs": [
        {
          "output_type": "execute_result",
          "execution_count": 7,
          "data": {
            "text/plain": "0    0\n1    1\n2    2\n3    3\n4    4\nName: data1, dtype: int64"
          },
          "metadata": {}
        }
      ]
    },
    {
      "metadata": {
        "collapsed": true,
        "trusted": false
      },
      "cell_type": "code",
      "source": "g_ds1 = dframe['data1'].groupby([cities,month])\ng_ds1.mean() # grouping by a variable in external series",
      "execution_count": null,
      "outputs": []
    },
    {
      "metadata": {},
      "cell_type": "markdown",
      "source": "# Data aggregation"
    },
    {
      "metadata": {
        "trusted": true
      },
      "cell_type": "code",
      "source": "import numpy as np\nimport pandas as pd\nfrom pandas import Series, DataFrame",
      "execution_count": 8,
      "outputs": []
    },
    {
      "metadata": {
        "trusted": true
      },
      "cell_type": "code",
      "source": "dframe_wine = pd.read_csv(\"data/redwines.csv\") # read some data",
      "execution_count": 10,
      "outputs": []
    },
    {
      "metadata": {
        "trusted": true
      },
      "cell_type": "code",
      "source": "type(dframe_wine)",
      "execution_count": 11,
      "outputs": [
        {
          "output_type": "execute_result",
          "execution_count": 11,
          "data": {
            "text/plain": "pandas.core.frame.DataFrame"
          },
          "metadata": {}
        }
      ]
    },
    {
      "metadata": {
        "trusted": true
      },
      "cell_type": "code",
      "source": "dframe_wine.head(12)",
      "execution_count": 12,
      "outputs": [
        {
          "output_type": "execute_result",
          "execution_count": 12,
          "data": {
            "text/html": "<div>\n<table border=\"1\" class=\"dataframe\">\n  <thead>\n    <tr style=\"text-align: right;\">\n      <th></th>\n      <th>fixed_acidity</th>\n      <th>volatile_acidity</th>\n      <th>citric_acid</th>\n      <th>residual_sugar</th>\n      <th>chlorides</th>\n      <th>free_so2</th>\n      <th>total_so2</th>\n      <th>density</th>\n      <th>pH</th>\n      <th>sulphates</th>\n      <th>alcohol</th>\n      <th>quality</th>\n    </tr>\n  </thead>\n  <tbody>\n    <tr>\n      <th>0</th>\n      <td>6.5</td>\n      <td>0.90</td>\n      <td>0.00</td>\n      <td>1.6</td>\n      <td>0.052</td>\n      <td>9.0</td>\n      <td>17.0</td>\n      <td>0.99467</td>\n      <td>3.50</td>\n      <td>0.63</td>\n      <td>10.9</td>\n      <td>6</td>\n    </tr>\n    <tr>\n      <th>1</th>\n      <td>9.1</td>\n      <td>0.22</td>\n      <td>0.24</td>\n      <td>2.1</td>\n      <td>0.078</td>\n      <td>1.0</td>\n      <td>28.0</td>\n      <td>0.99900</td>\n      <td>3.41</td>\n      <td>0.87</td>\n      <td>10.3</td>\n      <td>6</td>\n    </tr>\n    <tr>\n      <th>2</th>\n      <td>6.9</td>\n      <td>0.52</td>\n      <td>0.25</td>\n      <td>2.6</td>\n      <td>0.081</td>\n      <td>10.0</td>\n      <td>37.0</td>\n      <td>0.99685</td>\n      <td>3.46</td>\n      <td>0.50</td>\n      <td>11.0</td>\n      <td>5</td>\n    </tr>\n    <tr>\n      <th>3</th>\n      <td>7.3</td>\n      <td>0.59</td>\n      <td>0.26</td>\n      <td>2.0</td>\n      <td>0.080</td>\n      <td>17.0</td>\n      <td>104.0</td>\n      <td>0.99584</td>\n      <td>3.28</td>\n      <td>0.52</td>\n      <td>9.9</td>\n      <td>5</td>\n    </tr>\n    <tr>\n      <th>4</th>\n      <td>12.5</td>\n      <td>0.28</td>\n      <td>0.54</td>\n      <td>2.3</td>\n      <td>0.082</td>\n      <td>12.0</td>\n      <td>29.0</td>\n      <td>0.99970</td>\n      <td>3.11</td>\n      <td>1.36</td>\n      <td>9.8</td>\n      <td>7</td>\n    </tr>\n    <tr>\n      <th>5</th>\n      <td>5.4</td>\n      <td>0.74</td>\n      <td>0.09</td>\n      <td>1.7</td>\n      <td>0.089</td>\n      <td>16.0</td>\n      <td>26.0</td>\n      <td>0.99402</td>\n      <td>3.67</td>\n      <td>0.56</td>\n      <td>11.6</td>\n      <td>6</td>\n    </tr>\n    <tr>\n      <th>6</th>\n      <td>10.4</td>\n      <td>0.28</td>\n      <td>0.54</td>\n      <td>2.7</td>\n      <td>0.105</td>\n      <td>5.0</td>\n      <td>19.0</td>\n      <td>0.99880</td>\n      <td>3.25</td>\n      <td>0.63</td>\n      <td>9.5</td>\n      <td>5</td>\n    </tr>\n    <tr>\n      <th>7</th>\n      <td>7.9</td>\n      <td>0.40</td>\n      <td>0.30</td>\n      <td>1.8</td>\n      <td>0.157</td>\n      <td>2.0</td>\n      <td>45.0</td>\n      <td>0.99727</td>\n      <td>3.31</td>\n      <td>0.91</td>\n      <td>9.5</td>\n      <td>6</td>\n    </tr>\n    <tr>\n      <th>8</th>\n      <td>7.3</td>\n      <td>0.39</td>\n      <td>0.31</td>\n      <td>2.4</td>\n      <td>0.074</td>\n      <td>9.0</td>\n      <td>46.0</td>\n      <td>0.99620</td>\n      <td>3.41</td>\n      <td>0.54</td>\n      <td>9.4</td>\n      <td>6</td>\n    </tr>\n    <tr>\n      <th>9</th>\n      <td>9.5</td>\n      <td>0.37</td>\n      <td>0.52</td>\n      <td>2.0</td>\n      <td>0.088</td>\n      <td>12.0</td>\n      <td>51.0</td>\n      <td>0.99613</td>\n      <td>3.29</td>\n      <td>0.58</td>\n      <td>11.1</td>\n      <td>6</td>\n    </tr>\n    <tr>\n      <th>10</th>\n      <td>6.8</td>\n      <td>0.69</td>\n      <td>0.00</td>\n      <td>5.6</td>\n      <td>0.124</td>\n      <td>21.0</td>\n      <td>58.0</td>\n      <td>0.99970</td>\n      <td>3.46</td>\n      <td>0.72</td>\n      <td>10.2</td>\n      <td>5</td>\n    </tr>\n    <tr>\n      <th>11</th>\n      <td>8.2</td>\n      <td>0.28</td>\n      <td>0.60</td>\n      <td>3.0</td>\n      <td>0.104</td>\n      <td>10.0</td>\n      <td>22.0</td>\n      <td>0.99828</td>\n      <td>3.39</td>\n      <td>0.68</td>\n      <td>10.6</td>\n      <td>5</td>\n    </tr>\n  </tbody>\n</table>\n</div>",
            "text/plain": "    fixed_acidity  volatile_acidity  citric_acid  residual_sugar  chlorides  \\\n0             6.5              0.90         0.00             1.6      0.052   \n1             9.1              0.22         0.24             2.1      0.078   \n2             6.9              0.52         0.25             2.6      0.081   \n3             7.3              0.59         0.26             2.0      0.080   \n4            12.5              0.28         0.54             2.3      0.082   \n5             5.4              0.74         0.09             1.7      0.089   \n6            10.4              0.28         0.54             2.7      0.105   \n7             7.9              0.40         0.30             1.8      0.157   \n8             7.3              0.39         0.31             2.4      0.074   \n9             9.5              0.37         0.52             2.0      0.088   \n10            6.8              0.69         0.00             5.6      0.124   \n11            8.2              0.28         0.60             3.0      0.104   \n\n    free_so2  total_so2  density    pH  sulphates  alcohol  quality  \n0        9.0       17.0  0.99467  3.50       0.63     10.9        6  \n1        1.0       28.0  0.99900  3.41       0.87     10.3        6  \n2       10.0       37.0  0.99685  3.46       0.50     11.0        5  \n3       17.0      104.0  0.99584  3.28       0.52      9.9        5  \n4       12.0       29.0  0.99970  3.11       1.36      9.8        7  \n5       16.0       26.0  0.99402  3.67       0.56     11.6        6  \n6        5.0       19.0  0.99880  3.25       0.63      9.5        5  \n7        2.0       45.0  0.99727  3.31       0.91      9.5        6  \n8        9.0       46.0  0.99620  3.41       0.54      9.4        6  \n9       12.0       51.0  0.99613  3.29       0.58     11.1        6  \n10      21.0       58.0  0.99970  3.46       0.72     10.2        5  \n11      10.0       22.0  0.99828  3.39       0.68     10.6        5  "
          },
          "metadata": {}
        }
      ]
    },
    {
      "metadata": {
        "trusted": false
      },
      "cell_type": "code",
      "source": "dframe_wine.shape",
      "execution_count": 14,
      "outputs": [
        {
          "data": {
            "text/plain": "(1599, 12)"
          },
          "execution_count": 14,
          "metadata": {},
          "output_type": "execute_result"
        }
      ]
    },
    {
      "metadata": {
        "trusted": true
      },
      "cell_type": "code",
      "source": "dframe_wine.columns",
      "execution_count": 13,
      "outputs": [
        {
          "output_type": "execute_result",
          "execution_count": 13,
          "data": {
            "text/plain": "Index(['fixed_acidity', 'volatile_acidity', 'citric_acid', 'residual_sugar',\n       'chlorides', 'free_so2', 'total_so2', 'density', 'pH', 'sulphates',\n       'alcohol', 'quality'],\n      dtype='object')"
          },
          "metadata": {}
        }
      ]
    },
    {
      "metadata": {
        "trusted": true
      },
      "cell_type": "code",
      "source": "dframe_wine.describe()",
      "execution_count": 14,
      "outputs": [
        {
          "output_type": "execute_result",
          "execution_count": 14,
          "data": {
            "text/html": "<div>\n<table border=\"1\" class=\"dataframe\">\n  <thead>\n    <tr style=\"text-align: right;\">\n      <th></th>\n      <th>fixed_acidity</th>\n      <th>volatile_acidity</th>\n      <th>citric_acid</th>\n      <th>residual_sugar</th>\n      <th>chlorides</th>\n      <th>free_so2</th>\n      <th>total_so2</th>\n      <th>density</th>\n      <th>pH</th>\n      <th>sulphates</th>\n      <th>alcohol</th>\n      <th>quality</th>\n    </tr>\n  </thead>\n  <tbody>\n    <tr>\n      <th>count</th>\n      <td>1599.000000</td>\n      <td>1599.000000</td>\n      <td>1599.000000</td>\n      <td>1599.000000</td>\n      <td>1599.000000</td>\n      <td>1599.000000</td>\n      <td>1599.000000</td>\n      <td>1599.000000</td>\n      <td>1599.000000</td>\n      <td>1599.000000</td>\n      <td>1599.000000</td>\n      <td>1599.000000</td>\n    </tr>\n    <tr>\n      <th>mean</th>\n      <td>8.319637</td>\n      <td>0.527821</td>\n      <td>0.270976</td>\n      <td>2.538806</td>\n      <td>0.087467</td>\n      <td>15.874922</td>\n      <td>46.467792</td>\n      <td>0.996747</td>\n      <td>3.311113</td>\n      <td>0.658149</td>\n      <td>10.422983</td>\n      <td>5.636023</td>\n    </tr>\n    <tr>\n      <th>std</th>\n      <td>1.741096</td>\n      <td>0.179060</td>\n      <td>0.194801</td>\n      <td>1.409928</td>\n      <td>0.047065</td>\n      <td>10.460157</td>\n      <td>32.895324</td>\n      <td>0.001887</td>\n      <td>0.154386</td>\n      <td>0.169507</td>\n      <td>1.065668</td>\n      <td>0.807569</td>\n    </tr>\n    <tr>\n      <th>min</th>\n      <td>4.600000</td>\n      <td>0.120000</td>\n      <td>0.000000</td>\n      <td>0.900000</td>\n      <td>0.012000</td>\n      <td>1.000000</td>\n      <td>6.000000</td>\n      <td>0.990070</td>\n      <td>2.740000</td>\n      <td>0.330000</td>\n      <td>8.400000</td>\n      <td>3.000000</td>\n    </tr>\n    <tr>\n      <th>25%</th>\n      <td>7.100000</td>\n      <td>0.390000</td>\n      <td>0.090000</td>\n      <td>1.900000</td>\n      <td>0.070000</td>\n      <td>7.000000</td>\n      <td>22.000000</td>\n      <td>0.995600</td>\n      <td>3.210000</td>\n      <td>0.550000</td>\n      <td>9.500000</td>\n      <td>5.000000</td>\n    </tr>\n    <tr>\n      <th>50%</th>\n      <td>7.900000</td>\n      <td>0.520000</td>\n      <td>0.260000</td>\n      <td>2.200000</td>\n      <td>0.079000</td>\n      <td>14.000000</td>\n      <td>38.000000</td>\n      <td>0.996750</td>\n      <td>3.310000</td>\n      <td>0.620000</td>\n      <td>10.200000</td>\n      <td>6.000000</td>\n    </tr>\n    <tr>\n      <th>75%</th>\n      <td>9.200000</td>\n      <td>0.640000</td>\n      <td>0.420000</td>\n      <td>2.600000</td>\n      <td>0.090000</td>\n      <td>21.000000</td>\n      <td>62.000000</td>\n      <td>0.997835</td>\n      <td>3.400000</td>\n      <td>0.730000</td>\n      <td>11.100000</td>\n      <td>6.000000</td>\n    </tr>\n    <tr>\n      <th>max</th>\n      <td>15.900000</td>\n      <td>1.580000</td>\n      <td>1.000000</td>\n      <td>15.500000</td>\n      <td>0.611000</td>\n      <td>72.000000</td>\n      <td>289.000000</td>\n      <td>1.003690</td>\n      <td>4.010000</td>\n      <td>2.000000</td>\n      <td>14.900000</td>\n      <td>8.000000</td>\n    </tr>\n  </tbody>\n</table>\n</div>",
            "text/plain": "       fixed_acidity  volatile_acidity  citric_acid  residual_sugar  \\\ncount    1599.000000       1599.000000  1599.000000     1599.000000   \nmean        8.319637          0.527821     0.270976        2.538806   \nstd         1.741096          0.179060     0.194801        1.409928   \nmin         4.600000          0.120000     0.000000        0.900000   \n25%         7.100000          0.390000     0.090000        1.900000   \n50%         7.900000          0.520000     0.260000        2.200000   \n75%         9.200000          0.640000     0.420000        2.600000   \nmax        15.900000          1.580000     1.000000       15.500000   \n\n         chlorides     free_so2    total_so2      density           pH  \\\ncount  1599.000000  1599.000000  1599.000000  1599.000000  1599.000000   \nmean      0.087467    15.874922    46.467792     0.996747     3.311113   \nstd       0.047065    10.460157    32.895324     0.001887     0.154386   \nmin       0.012000     1.000000     6.000000     0.990070     2.740000   \n25%       0.070000     7.000000    22.000000     0.995600     3.210000   \n50%       0.079000    14.000000    38.000000     0.996750     3.310000   \n75%       0.090000    21.000000    62.000000     0.997835     3.400000   \nmax       0.611000    72.000000   289.000000     1.003690     4.010000   \n\n         sulphates      alcohol      quality  \ncount  1599.000000  1599.000000  1599.000000  \nmean      0.658149    10.422983     5.636023  \nstd       0.169507     1.065668     0.807569  \nmin       0.330000     8.400000     3.000000  \n25%       0.550000     9.500000     5.000000  \n50%       0.620000    10.200000     6.000000  \n75%       0.730000    11.100000     6.000000  \nmax       2.000000    14.900000     8.000000  "
          },
          "metadata": {}
        }
      ]
    },
    {
      "metadata": {
        "trusted": true
      },
      "cell_type": "code",
      "source": "dframe_wine.info()",
      "execution_count": 15,
      "outputs": [
        {
          "output_type": "stream",
          "text": "<class 'pandas.core.frame.DataFrame'>\nRangeIndex: 1599 entries, 0 to 1598\nData columns (total 12 columns):\nfixed_acidity       1599 non-null float64\nvolatile_acidity    1599 non-null float64\ncitric_acid         1599 non-null float64\nresidual_sugar      1599 non-null float64\nchlorides           1599 non-null float64\nfree_so2            1599 non-null float64\ntotal_so2           1599 non-null float64\ndensity             1599 non-null float64\npH                  1599 non-null float64\nsulphates           1599 non-null float64\nalcohol             1599 non-null float64\nquality             1599 non-null int64\ndtypes: float64(11), int64(1)\nmemory usage: 150.0 KB\n",
          "name": "stdout"
        }
      ]
    },
    {
      "metadata": {
        "trusted": true
      },
      "cell_type": "code",
      "source": "dframe_wine['alcohol'].mean() # aggregating using a built-in function - in this case, mean",
      "execution_count": 16,
      "outputs": [
        {
          "output_type": "execute_result",
          "execution_count": 16,
          "data": {
            "text/plain": "10.422983114446508"
          },
          "metadata": {}
        }
      ]
    },
    {
      "metadata": {
        "trusted": true
      },
      "cell_type": "code",
      "source": "dframe_wine.alcohol.mean() # same thing",
      "execution_count": 17,
      "outputs": [
        {
          "output_type": "execute_result",
          "execution_count": 17,
          "data": {
            "text/plain": "10.422983114446508"
          },
          "metadata": {}
        }
      ]
    },
    {
      "metadata": {},
      "cell_type": "markdown",
      "source": "#### Writing a user-defined function"
    },
    {
      "metadata": {
        "trusted": true
      },
      "cell_type": "code",
      "source": "def my_mean(a,b):\n    m = (a+b)/2\n    return m",
      "execution_count": 18,
      "outputs": []
    },
    {
      "metadata": {
        "trusted": true
      },
      "cell_type": "code",
      "source": "z = my_mean(2,3)",
      "execution_count": 19,
      "outputs": []
    },
    {
      "metadata": {
        "trusted": true
      },
      "cell_type": "code",
      "source": "z",
      "execution_count": 20,
      "outputs": [
        {
          "output_type": "execute_result",
          "execution_count": 20,
          "data": {
            "text/plain": "2.5"
          },
          "metadata": {}
        }
      ]
    },
    {
      "metadata": {
        "trusted": true
      },
      "cell_type": "code",
      "source": "# creating a user-defined function to aggregate by\ndef max_to_min(arr):\n    '''\n    Function to calculate range based on max and min\n    inputs: numeric array\n    '''\n    z = arr.max() - arr.min()\n    return z",
      "execution_count": 23,
      "outputs": []
    },
    {
      "metadata": {
        "trusted": true
      },
      "cell_type": "code",
      "source": "x = max_to_min(dframe_wine['pH'])\nx",
      "execution_count": 24,
      "outputs": [
        {
          "output_type": "execute_result",
          "execution_count": 24,
          "data": {
            "text/plain": "1.2699999999999996"
          },
          "metadata": {}
        }
      ]
    },
    {
      "metadata": {
        "trusted": true
      },
      "cell_type": "code",
      "source": "wino = dframe_wine.groupby(['quality'])",
      "execution_count": 25,
      "outputs": []
    },
    {
      "metadata": {
        "trusted": true
      },
      "cell_type": "code",
      "source": "wino",
      "execution_count": 26,
      "outputs": [
        {
          "output_type": "execute_result",
          "execution_count": 26,
          "data": {
            "text/plain": "<pandas.core.groupby.DataFrameGroupBy object at 0x7f52fb65d9e8>"
          },
          "metadata": {}
        }
      ]
    },
    {
      "metadata": {
        "trusted": true,
        "scrolled": true
      },
      "cell_type": "code",
      "source": "wino.describe()",
      "execution_count": 27,
      "outputs": [
        {
          "output_type": "execute_result",
          "execution_count": 27,
          "data": {
            "text/html": "<div>\n<table border=\"1\" class=\"dataframe\">\n  <thead>\n    <tr style=\"text-align: right;\">\n      <th></th>\n      <th></th>\n      <th>alcohol</th>\n      <th>chlorides</th>\n      <th>citric_acid</th>\n      <th>density</th>\n      <th>fixed_acidity</th>\n      <th>free_so2</th>\n      <th>pH</th>\n      <th>residual_sugar</th>\n      <th>sulphates</th>\n      <th>total_so2</th>\n      <th>volatile_acidity</th>\n    </tr>\n    <tr>\n      <th>quality</th>\n      <th></th>\n      <th></th>\n      <th></th>\n      <th></th>\n      <th></th>\n      <th></th>\n      <th></th>\n      <th></th>\n      <th></th>\n      <th></th>\n      <th></th>\n      <th></th>\n    </tr>\n  </thead>\n  <tbody>\n    <tr>\n      <th rowspan=\"8\" valign=\"top\">3</th>\n      <th>count</th>\n      <td>10.000000</td>\n      <td>10.000000</td>\n      <td>10.000000</td>\n      <td>10.000000</td>\n      <td>10.000000</td>\n      <td>10.000000</td>\n      <td>10.000000</td>\n      <td>10.000000</td>\n      <td>10.000000</td>\n      <td>10.000000</td>\n      <td>10.000000</td>\n    </tr>\n    <tr>\n      <th>mean</th>\n      <td>9.955000</td>\n      <td>0.122500</td>\n      <td>0.171000</td>\n      <td>0.997464</td>\n      <td>8.360000</td>\n      <td>11.000000</td>\n      <td>3.398000</td>\n      <td>2.635000</td>\n      <td>0.570000</td>\n      <td>24.900000</td>\n      <td>0.884500</td>\n    </tr>\n    <tr>\n      <th>std</th>\n      <td>0.818009</td>\n      <td>0.066241</td>\n      <td>0.250664</td>\n      <td>0.002002</td>\n      <td>1.770875</td>\n      <td>9.763879</td>\n      <td>0.144052</td>\n      <td>1.401596</td>\n      <td>0.122020</td>\n      <td>16.828877</td>\n      <td>0.331256</td>\n    </tr>\n    <tr>\n      <th>min</th>\n      <td>8.400000</td>\n      <td>0.061000</td>\n      <td>0.000000</td>\n      <td>0.994710</td>\n      <td>6.700000</td>\n      <td>3.000000</td>\n      <td>3.160000</td>\n      <td>1.200000</td>\n      <td>0.400000</td>\n      <td>9.000000</td>\n      <td>0.440000</td>\n    </tr>\n    <tr>\n      <th>25%</th>\n      <td>9.725000</td>\n      <td>0.079000</td>\n      <td>0.005000</td>\n      <td>0.996150</td>\n      <td>7.150000</td>\n      <td>5.000000</td>\n      <td>3.312500</td>\n      <td>1.875000</td>\n      <td>0.512500</td>\n      <td>12.500000</td>\n      <td>0.647500</td>\n    </tr>\n    <tr>\n      <th>50%</th>\n      <td>9.925000</td>\n      <td>0.090500</td>\n      <td>0.035000</td>\n      <td>0.997565</td>\n      <td>7.500000</td>\n      <td>6.000000</td>\n      <td>3.390000</td>\n      <td>2.100000</td>\n      <td>0.545000</td>\n      <td>15.000000</td>\n      <td>0.845000</td>\n    </tr>\n    <tr>\n      <th>75%</th>\n      <td>10.575000</td>\n      <td>0.143000</td>\n      <td>0.327500</td>\n      <td>0.998770</td>\n      <td>9.875000</td>\n      <td>14.500000</td>\n      <td>3.495000</td>\n      <td>3.100000</td>\n      <td>0.615000</td>\n      <td>42.500000</td>\n      <td>1.010000</td>\n    </tr>\n    <tr>\n      <th>max</th>\n      <td>11.000000</td>\n      <td>0.267000</td>\n      <td>0.660000</td>\n      <td>1.000800</td>\n      <td>11.600000</td>\n      <td>34.000000</td>\n      <td>3.630000</td>\n      <td>5.700000</td>\n      <td>0.860000</td>\n      <td>49.000000</td>\n      <td>1.580000</td>\n    </tr>\n    <tr>\n      <th rowspan=\"8\" valign=\"top\">4</th>\n      <th>count</th>\n      <td>53.000000</td>\n      <td>53.000000</td>\n      <td>53.000000</td>\n      <td>53.000000</td>\n      <td>53.000000</td>\n      <td>53.000000</td>\n      <td>53.000000</td>\n      <td>53.000000</td>\n      <td>53.000000</td>\n      <td>53.000000</td>\n      <td>53.000000</td>\n    </tr>\n    <tr>\n      <th>mean</th>\n      <td>10.265094</td>\n      <td>0.090679</td>\n      <td>0.174151</td>\n      <td>0.996542</td>\n      <td>7.779245</td>\n      <td>12.264151</td>\n      <td>3.381509</td>\n      <td>2.694340</td>\n      <td>0.596415</td>\n      <td>36.245283</td>\n      <td>0.693962</td>\n    </tr>\n    <tr>\n      <th>std</th>\n      <td>0.934776</td>\n      <td>0.076192</td>\n      <td>0.201030</td>\n      <td>0.001575</td>\n      <td>1.626624</td>\n      <td>9.025926</td>\n      <td>0.181441</td>\n      <td>1.789436</td>\n      <td>0.239391</td>\n      <td>27.583374</td>\n      <td>0.220110</td>\n    </tr>\n    <tr>\n      <th>min</th>\n      <td>9.000000</td>\n      <td>0.045000</td>\n      <td>0.000000</td>\n      <td>0.993400</td>\n      <td>4.600000</td>\n      <td>3.000000</td>\n      <td>2.740000</td>\n      <td>1.300000</td>\n      <td>0.330000</td>\n      <td>7.000000</td>\n      <td>0.230000</td>\n    </tr>\n    <tr>\n      <th>25%</th>\n      <td>9.600000</td>\n      <td>0.067000</td>\n      <td>0.030000</td>\n      <td>0.995650</td>\n      <td>6.800000</td>\n      <td>6.000000</td>\n      <td>3.300000</td>\n      <td>1.900000</td>\n      <td>0.490000</td>\n      <td>14.000000</td>\n      <td>0.530000</td>\n    </tr>\n    <tr>\n      <th>50%</th>\n      <td>10.000000</td>\n      <td>0.080000</td>\n      <td>0.090000</td>\n      <td>0.996500</td>\n      <td>7.500000</td>\n      <td>11.000000</td>\n      <td>3.370000</td>\n      <td>2.100000</td>\n      <td>0.560000</td>\n      <td>26.000000</td>\n      <td>0.670000</td>\n    </tr>\n    <tr>\n      <th>75%</th>\n      <td>11.000000</td>\n      <td>0.089000</td>\n      <td>0.270000</td>\n      <td>0.997450</td>\n      <td>8.400000</td>\n      <td>15.000000</td>\n      <td>3.500000</td>\n      <td>2.800000</td>\n      <td>0.600000</td>\n      <td>49.000000</td>\n      <td>0.870000</td>\n    </tr>\n    <tr>\n      <th>max</th>\n      <td>13.100000</td>\n      <td>0.610000</td>\n      <td>1.000000</td>\n      <td>1.001000</td>\n      <td>12.500000</td>\n      <td>41.000000</td>\n      <td>3.900000</td>\n      <td>12.900000</td>\n      <td>2.000000</td>\n      <td>119.000000</td>\n      <td>1.130000</td>\n    </tr>\n    <tr>\n      <th rowspan=\"8\" valign=\"top\">5</th>\n      <th>count</th>\n      <td>681.000000</td>\n      <td>681.000000</td>\n      <td>681.000000</td>\n      <td>681.000000</td>\n      <td>681.000000</td>\n      <td>681.000000</td>\n      <td>681.000000</td>\n      <td>681.000000</td>\n      <td>681.000000</td>\n      <td>681.000000</td>\n      <td>681.000000</td>\n    </tr>\n    <tr>\n      <th>mean</th>\n      <td>9.899706</td>\n      <td>0.092736</td>\n      <td>0.243686</td>\n      <td>0.997104</td>\n      <td>8.167254</td>\n      <td>16.983847</td>\n      <td>3.304949</td>\n      <td>2.528855</td>\n      <td>0.620969</td>\n      <td>56.513950</td>\n      <td>0.577041</td>\n    </tr>\n    <tr>\n      <th>std</th>\n      <td>0.736521</td>\n      <td>0.053707</td>\n      <td>0.180003</td>\n      <td>0.001589</td>\n      <td>1.563988</td>\n      <td>10.955446</td>\n      <td>0.150618</td>\n      <td>1.359753</td>\n      <td>0.171062</td>\n      <td>36.993116</td>\n      <td>0.164801</td>\n    </tr>\n    <tr>\n      <th>min</th>\n      <td>8.500000</td>\n      <td>0.039000</td>\n      <td>0.000000</td>\n      <td>0.992560</td>\n      <td>5.000000</td>\n      <td>3.000000</td>\n      <td>2.880000</td>\n      <td>1.200000</td>\n      <td>0.370000</td>\n      <td>6.000000</td>\n      <td>0.180000</td>\n    </tr>\n    <tr>\n      <th>25%</th>\n      <td>9.400000</td>\n      <td>0.074000</td>\n      <td>0.090000</td>\n      <td>0.996200</td>\n      <td>7.100000</td>\n      <td>9.000000</td>\n      <td>3.200000</td>\n      <td>1.900000</td>\n      <td>0.530000</td>\n      <td>26.000000</td>\n      <td>0.460000</td>\n    </tr>\n    <tr>\n      <th>50%</th>\n      <td>9.700000</td>\n      <td>0.081000</td>\n      <td>0.230000</td>\n      <td>0.997000</td>\n      <td>7.800000</td>\n      <td>15.000000</td>\n      <td>3.300000</td>\n      <td>2.200000</td>\n      <td>0.580000</td>\n      <td>47.000000</td>\n      <td>0.580000</td>\n    </tr>\n    <tr>\n      <th>75%</th>\n      <td>10.200000</td>\n      <td>0.094000</td>\n      <td>0.360000</td>\n      <td>0.997900</td>\n      <td>8.900000</td>\n      <td>23.000000</td>\n      <td>3.400000</td>\n      <td>2.600000</td>\n      <td>0.660000</td>\n      <td>84.000000</td>\n      <td>0.670000</td>\n    </tr>\n    <tr>\n      <th>max</th>\n      <td>14.900000</td>\n      <td>0.611000</td>\n      <td>0.790000</td>\n      <td>1.003150</td>\n      <td>15.900000</td>\n      <td>68.000000</td>\n      <td>3.740000</td>\n      <td>15.500000</td>\n      <td>1.980000</td>\n      <td>155.000000</td>\n      <td>1.330000</td>\n    </tr>\n    <tr>\n      <th rowspan=\"8\" valign=\"top\">6</th>\n      <th>count</th>\n      <td>638.000000</td>\n      <td>638.000000</td>\n      <td>638.000000</td>\n      <td>638.000000</td>\n      <td>638.000000</td>\n      <td>638.000000</td>\n      <td>638.000000</td>\n      <td>638.000000</td>\n      <td>638.000000</td>\n      <td>638.000000</td>\n      <td>638.000000</td>\n    </tr>\n    <tr>\n      <th>mean</th>\n      <td>10.629519</td>\n      <td>0.084956</td>\n      <td>0.273824</td>\n      <td>0.996615</td>\n      <td>8.347179</td>\n      <td>15.711599</td>\n      <td>3.318072</td>\n      <td>2.477194</td>\n      <td>0.675329</td>\n      <td>40.869906</td>\n      <td>0.497484</td>\n    </tr>\n    <tr>\n      <th>std</th>\n      <td>1.049639</td>\n      <td>0.039563</td>\n      <td>0.195108</td>\n      <td>0.002000</td>\n      <td>1.797849</td>\n      <td>9.940911</td>\n      <td>0.153995</td>\n      <td>1.441576</td>\n      <td>0.158650</td>\n      <td>25.038250</td>\n      <td>0.160962</td>\n    </tr>\n    <tr>\n      <th>min</th>\n      <td>8.400000</td>\n      <td>0.034000</td>\n      <td>0.000000</td>\n      <td>0.990070</td>\n      <td>4.700000</td>\n      <td>1.000000</td>\n      <td>2.860000</td>\n      <td>0.900000</td>\n      <td>0.400000</td>\n      <td>6.000000</td>\n      <td>0.160000</td>\n    </tr>\n    <tr>\n      <th>25%</th>\n      <td>9.800000</td>\n      <td>0.068250</td>\n      <td>0.090000</td>\n      <td>0.995402</td>\n      <td>7.000000</td>\n      <td>8.000000</td>\n      <td>3.220000</td>\n      <td>1.900000</td>\n      <td>0.580000</td>\n      <td>23.000000</td>\n      <td>0.380000</td>\n    </tr>\n    <tr>\n      <th>50%</th>\n      <td>10.500000</td>\n      <td>0.078000</td>\n      <td>0.260000</td>\n      <td>0.996560</td>\n      <td>7.900000</td>\n      <td>14.000000</td>\n      <td>3.320000</td>\n      <td>2.200000</td>\n      <td>0.640000</td>\n      <td>35.000000</td>\n      <td>0.490000</td>\n    </tr>\n    <tr>\n      <th>75%</th>\n      <td>11.300000</td>\n      <td>0.088000</td>\n      <td>0.430000</td>\n      <td>0.997893</td>\n      <td>9.400000</td>\n      <td>21.000000</td>\n      <td>3.410000</td>\n      <td>2.500000</td>\n      <td>0.750000</td>\n      <td>54.000000</td>\n      <td>0.600000</td>\n    </tr>\n    <tr>\n      <th>max</th>\n      <td>14.000000</td>\n      <td>0.415000</td>\n      <td>0.780000</td>\n      <td>1.003690</td>\n      <td>14.300000</td>\n      <td>72.000000</td>\n      <td>4.010000</td>\n      <td>15.400000</td>\n      <td>1.950000</td>\n      <td>165.000000</td>\n      <td>1.040000</td>\n    </tr>\n    <tr>\n      <th rowspan=\"8\" valign=\"top\">7</th>\n      <th>count</th>\n      <td>199.000000</td>\n      <td>199.000000</td>\n      <td>199.000000</td>\n      <td>199.000000</td>\n      <td>199.000000</td>\n      <td>199.000000</td>\n      <td>199.000000</td>\n      <td>199.000000</td>\n      <td>199.000000</td>\n      <td>199.000000</td>\n      <td>199.000000</td>\n    </tr>\n    <tr>\n      <th>mean</th>\n      <td>11.465913</td>\n      <td>0.076588</td>\n      <td>0.375176</td>\n      <td>0.996104</td>\n      <td>8.872362</td>\n      <td>14.045226</td>\n      <td>3.290754</td>\n      <td>2.720603</td>\n      <td>0.741256</td>\n      <td>35.020101</td>\n      <td>0.403920</td>\n    </tr>\n    <tr>\n      <th>std</th>\n      <td>0.961933</td>\n      <td>0.029456</td>\n      <td>0.194432</td>\n      <td>0.002176</td>\n      <td>1.992483</td>\n      <td>10.175255</td>\n      <td>0.150101</td>\n      <td>1.371509</td>\n      <td>0.135639</td>\n      <td>33.191206</td>\n      <td>0.145224</td>\n    </tr>\n    <tr>\n      <th>min</th>\n      <td>9.200000</td>\n      <td>0.012000</td>\n      <td>0.000000</td>\n      <td>0.990640</td>\n      <td>4.900000</td>\n      <td>3.000000</td>\n      <td>2.920000</td>\n      <td>1.200000</td>\n      <td>0.390000</td>\n      <td>7.000000</td>\n      <td>0.120000</td>\n    </tr>\n    <tr>\n      <th>25%</th>\n      <td>10.800000</td>\n      <td>0.062000</td>\n      <td>0.305000</td>\n      <td>0.994765</td>\n      <td>7.400000</td>\n      <td>6.000000</td>\n      <td>3.200000</td>\n      <td>2.000000</td>\n      <td>0.650000</td>\n      <td>17.500000</td>\n      <td>0.300000</td>\n    </tr>\n    <tr>\n      <th>50%</th>\n      <td>11.500000</td>\n      <td>0.073000</td>\n      <td>0.400000</td>\n      <td>0.995770</td>\n      <td>8.800000</td>\n      <td>11.000000</td>\n      <td>3.280000</td>\n      <td>2.300000</td>\n      <td>0.740000</td>\n      <td>27.000000</td>\n      <td>0.370000</td>\n    </tr>\n    <tr>\n      <th>75%</th>\n      <td>12.100000</td>\n      <td>0.087000</td>\n      <td>0.490000</td>\n      <td>0.997360</td>\n      <td>10.100000</td>\n      <td>18.000000</td>\n      <td>3.380000</td>\n      <td>2.750000</td>\n      <td>0.830000</td>\n      <td>43.000000</td>\n      <td>0.485000</td>\n    </tr>\n    <tr>\n      <th>max</th>\n      <td>14.000000</td>\n      <td>0.358000</td>\n      <td>0.760000</td>\n      <td>1.003200</td>\n      <td>15.600000</td>\n      <td>54.000000</td>\n      <td>3.780000</td>\n      <td>8.900000</td>\n      <td>1.360000</td>\n      <td>289.000000</td>\n      <td>0.915000</td>\n    </tr>\n    <tr>\n      <th rowspan=\"8\" valign=\"top\">8</th>\n      <th>count</th>\n      <td>18.000000</td>\n      <td>18.000000</td>\n      <td>18.000000</td>\n      <td>18.000000</td>\n      <td>18.000000</td>\n      <td>18.000000</td>\n      <td>18.000000</td>\n      <td>18.000000</td>\n      <td>18.000000</td>\n      <td>18.000000</td>\n      <td>18.000000</td>\n    </tr>\n    <tr>\n      <th>mean</th>\n      <td>12.094444</td>\n      <td>0.068444</td>\n      <td>0.391111</td>\n      <td>0.995212</td>\n      <td>8.566667</td>\n      <td>13.277778</td>\n      <td>3.267222</td>\n      <td>2.577778</td>\n      <td>0.767778</td>\n      <td>33.444444</td>\n      <td>0.423333</td>\n    </tr>\n    <tr>\n      <th>std</th>\n      <td>1.224011</td>\n      <td>0.011678</td>\n      <td>0.199526</td>\n      <td>0.002378</td>\n      <td>2.119656</td>\n      <td>11.155613</td>\n      <td>0.200640</td>\n      <td>1.295038</td>\n      <td>0.115379</td>\n      <td>25.433240</td>\n      <td>0.144914</td>\n    </tr>\n    <tr>\n      <th>min</th>\n      <td>9.800000</td>\n      <td>0.044000</td>\n      <td>0.030000</td>\n      <td>0.990800</td>\n      <td>5.000000</td>\n      <td>3.000000</td>\n      <td>2.880000</td>\n      <td>1.400000</td>\n      <td>0.630000</td>\n      <td>12.000000</td>\n      <td>0.260000</td>\n    </tr>\n    <tr>\n      <th>25%</th>\n      <td>11.325000</td>\n      <td>0.062000</td>\n      <td>0.302500</td>\n      <td>0.994175</td>\n      <td>7.250000</td>\n      <td>6.000000</td>\n      <td>3.162500</td>\n      <td>1.800000</td>\n      <td>0.690000</td>\n      <td>16.000000</td>\n      <td>0.335000</td>\n    </tr>\n    <tr>\n      <th>50%</th>\n      <td>12.150000</td>\n      <td>0.070500</td>\n      <td>0.420000</td>\n      <td>0.994940</td>\n      <td>8.250000</td>\n      <td>7.500000</td>\n      <td>3.230000</td>\n      <td>2.100000</td>\n      <td>0.740000</td>\n      <td>21.500000</td>\n      <td>0.370000</td>\n    </tr>\n    <tr>\n      <th>75%</th>\n      <td>12.875000</td>\n      <td>0.075500</td>\n      <td>0.530000</td>\n      <td>0.997200</td>\n      <td>10.225000</td>\n      <td>16.500000</td>\n      <td>3.350000</td>\n      <td>2.600000</td>\n      <td>0.820000</td>\n      <td>43.000000</td>\n      <td>0.472500</td>\n    </tr>\n    <tr>\n      <th>max</th>\n      <td>14.000000</td>\n      <td>0.086000</td>\n      <td>0.720000</td>\n      <td>0.998800</td>\n      <td>12.600000</td>\n      <td>42.000000</td>\n      <td>3.720000</td>\n      <td>6.400000</td>\n      <td>1.100000</td>\n      <td>88.000000</td>\n      <td>0.850000</td>\n    </tr>\n  </tbody>\n</table>\n</div>",
            "text/plain": "                  alcohol   chlorides  citric_acid     density  fixed_acidity  \\\nquality                                                                         \n3       count   10.000000   10.000000    10.000000   10.000000      10.000000   \n        mean     9.955000    0.122500     0.171000    0.997464       8.360000   \n        std      0.818009    0.066241     0.250664    0.002002       1.770875   \n        min      8.400000    0.061000     0.000000    0.994710       6.700000   \n        25%      9.725000    0.079000     0.005000    0.996150       7.150000   \n        50%      9.925000    0.090500     0.035000    0.997565       7.500000   \n        75%     10.575000    0.143000     0.327500    0.998770       9.875000   \n        max     11.000000    0.267000     0.660000    1.000800      11.600000   \n4       count   53.000000   53.000000    53.000000   53.000000      53.000000   \n        mean    10.265094    0.090679     0.174151    0.996542       7.779245   \n        std      0.934776    0.076192     0.201030    0.001575       1.626624   \n        min      9.000000    0.045000     0.000000    0.993400       4.600000   \n        25%      9.600000    0.067000     0.030000    0.995650       6.800000   \n        50%     10.000000    0.080000     0.090000    0.996500       7.500000   \n        75%     11.000000    0.089000     0.270000    0.997450       8.400000   \n        max     13.100000    0.610000     1.000000    1.001000      12.500000   \n5       count  681.000000  681.000000   681.000000  681.000000     681.000000   \n        mean     9.899706    0.092736     0.243686    0.997104       8.167254   \n        std      0.736521    0.053707     0.180003    0.001589       1.563988   \n        min      8.500000    0.039000     0.000000    0.992560       5.000000   \n        25%      9.400000    0.074000     0.090000    0.996200       7.100000   \n        50%      9.700000    0.081000     0.230000    0.997000       7.800000   \n        75%     10.200000    0.094000     0.360000    0.997900       8.900000   \n        max     14.900000    0.611000     0.790000    1.003150      15.900000   \n6       count  638.000000  638.000000   638.000000  638.000000     638.000000   \n        mean    10.629519    0.084956     0.273824    0.996615       8.347179   \n        std      1.049639    0.039563     0.195108    0.002000       1.797849   \n        min      8.400000    0.034000     0.000000    0.990070       4.700000   \n        25%      9.800000    0.068250     0.090000    0.995402       7.000000   \n        50%     10.500000    0.078000     0.260000    0.996560       7.900000   \n        75%     11.300000    0.088000     0.430000    0.997893       9.400000   \n        max     14.000000    0.415000     0.780000    1.003690      14.300000   \n7       count  199.000000  199.000000   199.000000  199.000000     199.000000   \n        mean    11.465913    0.076588     0.375176    0.996104       8.872362   \n        std      0.961933    0.029456     0.194432    0.002176       1.992483   \n        min      9.200000    0.012000     0.000000    0.990640       4.900000   \n        25%     10.800000    0.062000     0.305000    0.994765       7.400000   \n        50%     11.500000    0.073000     0.400000    0.995770       8.800000   \n        75%     12.100000    0.087000     0.490000    0.997360      10.100000   \n        max     14.000000    0.358000     0.760000    1.003200      15.600000   \n8       count   18.000000   18.000000    18.000000   18.000000      18.000000   \n        mean    12.094444    0.068444     0.391111    0.995212       8.566667   \n        std      1.224011    0.011678     0.199526    0.002378       2.119656   \n        min      9.800000    0.044000     0.030000    0.990800       5.000000   \n        25%     11.325000    0.062000     0.302500    0.994175       7.250000   \n        50%     12.150000    0.070500     0.420000    0.994940       8.250000   \n        75%     12.875000    0.075500     0.530000    0.997200      10.225000   \n        max     14.000000    0.086000     0.720000    0.998800      12.600000   \n\n                 free_so2          pH  residual_sugar   sulphates   total_so2  \\\nquality                                                                         \n3       count   10.000000   10.000000       10.000000   10.000000   10.000000   \n        mean    11.000000    3.398000        2.635000    0.570000   24.900000   \n        std      9.763879    0.144052        1.401596    0.122020   16.828877   \n        min      3.000000    3.160000        1.200000    0.400000    9.000000   \n        25%      5.000000    3.312500        1.875000    0.512500   12.500000   \n        50%      6.000000    3.390000        2.100000    0.545000   15.000000   \n        75%     14.500000    3.495000        3.100000    0.615000   42.500000   \n        max     34.000000    3.630000        5.700000    0.860000   49.000000   \n4       count   53.000000   53.000000       53.000000   53.000000   53.000000   \n        mean    12.264151    3.381509        2.694340    0.596415   36.245283   \n        std      9.025926    0.181441        1.789436    0.239391   27.583374   \n        min      3.000000    2.740000        1.300000    0.330000    7.000000   \n        25%      6.000000    3.300000        1.900000    0.490000   14.000000   \n        50%     11.000000    3.370000        2.100000    0.560000   26.000000   \n        75%     15.000000    3.500000        2.800000    0.600000   49.000000   \n        max     41.000000    3.900000       12.900000    2.000000  119.000000   \n5       count  681.000000  681.000000      681.000000  681.000000  681.000000   \n        mean    16.983847    3.304949        2.528855    0.620969   56.513950   \n        std     10.955446    0.150618        1.359753    0.171062   36.993116   \n        min      3.000000    2.880000        1.200000    0.370000    6.000000   \n        25%      9.000000    3.200000        1.900000    0.530000   26.000000   \n        50%     15.000000    3.300000        2.200000    0.580000   47.000000   \n        75%     23.000000    3.400000        2.600000    0.660000   84.000000   \n        max     68.000000    3.740000       15.500000    1.980000  155.000000   \n6       count  638.000000  638.000000      638.000000  638.000000  638.000000   \n        mean    15.711599    3.318072        2.477194    0.675329   40.869906   \n        std      9.940911    0.153995        1.441576    0.158650   25.038250   \n        min      1.000000    2.860000        0.900000    0.400000    6.000000   \n        25%      8.000000    3.220000        1.900000    0.580000   23.000000   \n        50%     14.000000    3.320000        2.200000    0.640000   35.000000   \n        75%     21.000000    3.410000        2.500000    0.750000   54.000000   \n        max     72.000000    4.010000       15.400000    1.950000  165.000000   \n7       count  199.000000  199.000000      199.000000  199.000000  199.000000   \n        mean    14.045226    3.290754        2.720603    0.741256   35.020101   \n        std     10.175255    0.150101        1.371509    0.135639   33.191206   \n        min      3.000000    2.920000        1.200000    0.390000    7.000000   \n        25%      6.000000    3.200000        2.000000    0.650000   17.500000   \n        50%     11.000000    3.280000        2.300000    0.740000   27.000000   \n        75%     18.000000    3.380000        2.750000    0.830000   43.000000   \n        max     54.000000    3.780000        8.900000    1.360000  289.000000   \n8       count   18.000000   18.000000       18.000000   18.000000   18.000000   \n        mean    13.277778    3.267222        2.577778    0.767778   33.444444   \n        std     11.155613    0.200640        1.295038    0.115379   25.433240   \n        min      3.000000    2.880000        1.400000    0.630000   12.000000   \n        25%      6.000000    3.162500        1.800000    0.690000   16.000000   \n        50%      7.500000    3.230000        2.100000    0.740000   21.500000   \n        75%     16.500000    3.350000        2.600000    0.820000   43.000000   \n        max     42.000000    3.720000        6.400000    1.100000   88.000000   \n\n               volatile_acidity  \nquality                          \n3       count         10.000000  \n        mean           0.884500  \n        std            0.331256  \n        min            0.440000  \n        25%            0.647500  \n        50%            0.845000  \n        75%            1.010000  \n        max            1.580000  \n4       count         53.000000  \n        mean           0.693962  \n        std            0.220110  \n        min            0.230000  \n        25%            0.530000  \n        50%            0.670000  \n        75%            0.870000  \n        max            1.130000  \n5       count        681.000000  \n        mean           0.577041  \n        std            0.164801  \n        min            0.180000  \n        25%            0.460000  \n        50%            0.580000  \n        75%            0.670000  \n        max            1.330000  \n6       count        638.000000  \n        mean           0.497484  \n        std            0.160962  \n        min            0.160000  \n        25%            0.380000  \n        50%            0.490000  \n        75%            0.600000  \n        max            1.040000  \n7       count        199.000000  \n        mean           0.403920  \n        std            0.145224  \n        min            0.120000  \n        25%            0.300000  \n        50%            0.370000  \n        75%            0.485000  \n        max            0.915000  \n8       count         18.000000  \n        mean           0.423333  \n        std            0.144914  \n        min            0.260000  \n        25%            0.335000  \n        50%            0.370000  \n        75%            0.472500  \n        max            0.850000  "
          },
          "metadata": {}
        }
      ]
    },
    {
      "metadata": {
        "trusted": false
      },
      "cell_type": "code",
      "source": "wino.mean()",
      "execution_count": 24,
      "outputs": [
        {
          "data": {
            "text/html": "<div>\n<style>\n    .dataframe thead tr:only-child th {\n        text-align: right;\n    }\n\n    .dataframe thead th {\n        text-align: left;\n    }\n\n    .dataframe tbody tr th {\n        vertical-align: top;\n    }\n</style>\n<table border=\"1\" class=\"dataframe\">\n  <thead>\n    <tr style=\"text-align: right;\">\n      <th></th>\n      <th>fixed_acidity</th>\n      <th>volatile_acidity</th>\n      <th>citric_acid</th>\n      <th>residual_sugar</th>\n      <th>chlorides</th>\n      <th>free_so2</th>\n      <th>total_so2</th>\n      <th>density</th>\n      <th>pH</th>\n      <th>sulphates</th>\n      <th>alcohol</th>\n    </tr>\n    <tr>\n      <th>quality</th>\n      <th></th>\n      <th></th>\n      <th></th>\n      <th></th>\n      <th></th>\n      <th></th>\n      <th></th>\n      <th></th>\n      <th></th>\n      <th></th>\n      <th></th>\n    </tr>\n  </thead>\n  <tbody>\n    <tr>\n      <th>3</th>\n      <td>8.360000</td>\n      <td>0.884500</td>\n      <td>0.171000</td>\n      <td>2.635000</td>\n      <td>0.122500</td>\n      <td>11.000000</td>\n      <td>24.900000</td>\n      <td>0.997464</td>\n      <td>3.398000</td>\n      <td>0.570000</td>\n      <td>9.955000</td>\n    </tr>\n    <tr>\n      <th>4</th>\n      <td>7.779245</td>\n      <td>0.693962</td>\n      <td>0.174151</td>\n      <td>2.694340</td>\n      <td>0.090679</td>\n      <td>12.264151</td>\n      <td>36.245283</td>\n      <td>0.996542</td>\n      <td>3.381509</td>\n      <td>0.596415</td>\n      <td>10.265094</td>\n    </tr>\n    <tr>\n      <th>5</th>\n      <td>8.167254</td>\n      <td>0.577041</td>\n      <td>0.243686</td>\n      <td>2.528855</td>\n      <td>0.092736</td>\n      <td>16.983847</td>\n      <td>56.513950</td>\n      <td>0.997104</td>\n      <td>3.304949</td>\n      <td>0.620969</td>\n      <td>9.899706</td>\n    </tr>\n    <tr>\n      <th>6</th>\n      <td>8.347179</td>\n      <td>0.497484</td>\n      <td>0.273824</td>\n      <td>2.477194</td>\n      <td>0.084956</td>\n      <td>15.711599</td>\n      <td>40.869906</td>\n      <td>0.996615</td>\n      <td>3.318072</td>\n      <td>0.675329</td>\n      <td>10.629519</td>\n    </tr>\n    <tr>\n      <th>7</th>\n      <td>8.872362</td>\n      <td>0.403920</td>\n      <td>0.375176</td>\n      <td>2.720603</td>\n      <td>0.076588</td>\n      <td>14.045226</td>\n      <td>35.020101</td>\n      <td>0.996104</td>\n      <td>3.290754</td>\n      <td>0.741256</td>\n      <td>11.465913</td>\n    </tr>\n    <tr>\n      <th>8</th>\n      <td>8.566667</td>\n      <td>0.423333</td>\n      <td>0.391111</td>\n      <td>2.577778</td>\n      <td>0.068444</td>\n      <td>13.277778</td>\n      <td>33.444444</td>\n      <td>0.995212</td>\n      <td>3.267222</td>\n      <td>0.767778</td>\n      <td>12.094444</td>\n    </tr>\n  </tbody>\n</table>\n</div>",
            "text/plain": "         fixed_acidity  volatile_acidity  citric_acid  residual_sugar  \\\nquality                                                                 \n3             8.360000          0.884500     0.171000        2.635000   \n4             7.779245          0.693962     0.174151        2.694340   \n5             8.167254          0.577041     0.243686        2.528855   \n6             8.347179          0.497484     0.273824        2.477194   \n7             8.872362          0.403920     0.375176        2.720603   \n8             8.566667          0.423333     0.391111        2.577778   \n\n         chlorides   free_so2  total_so2   density        pH  sulphates  \\\nquality                                                                   \n3         0.122500  11.000000  24.900000  0.997464  3.398000   0.570000   \n4         0.090679  12.264151  36.245283  0.996542  3.381509   0.596415   \n5         0.092736  16.983847  56.513950  0.997104  3.304949   0.620969   \n6         0.084956  15.711599  40.869906  0.996615  3.318072   0.675329   \n7         0.076588  14.045226  35.020101  0.996104  3.290754   0.741256   \n8         0.068444  13.277778  33.444444  0.995212  3.267222   0.767778   \n\n           alcohol  \nquality             \n3         9.955000  \n4        10.265094  \n5         9.899706  \n6        10.629519  \n7        11.465913  \n8        12.094444  "
          },
          "execution_count": 24,
          "metadata": {},
          "output_type": "execute_result"
        }
      ]
    },
    {
      "metadata": {},
      "cell_type": "markdown",
      "source": "`agg()` is the general container for the aggregation function - in this case the UDF `max_to_min()`..."
    },
    {
      "metadata": {
        "trusted": false
      },
      "cell_type": "code",
      "source": "wino['alcohol'].agg(max_to_min)",
      "execution_count": 27,
      "outputs": [
        {
          "data": {
            "text/plain": "quality\n3    2.6\n4    4.1\n5    6.4\n6    5.6\n7    4.8\n8    4.2\nName: alcohol, dtype: float64"
          },
          "execution_count": 27,
          "metadata": {},
          "output_type": "execute_result"
        }
      ]
    },
    {
      "metadata": {},
      "cell_type": "markdown",
      "source": "...and in this case `mean()`"
    },
    {
      "metadata": {
        "trusted": false
      },
      "cell_type": "code",
      "source": "wino.agg('mean')",
      "execution_count": 26,
      "outputs": [
        {
          "data": {
            "text/html": "<div>\n<style>\n    .dataframe thead tr:only-child th {\n        text-align: right;\n    }\n\n    .dataframe thead th {\n        text-align: left;\n    }\n\n    .dataframe tbody tr th {\n        vertical-align: top;\n    }\n</style>\n<table border=\"1\" class=\"dataframe\">\n  <thead>\n    <tr style=\"text-align: right;\">\n      <th></th>\n      <th>fixed_acidity</th>\n      <th>volatile_acidity</th>\n      <th>citric_acid</th>\n      <th>residual_sugar</th>\n      <th>chlorides</th>\n      <th>free_so2</th>\n      <th>total_so2</th>\n      <th>density</th>\n      <th>pH</th>\n      <th>sulphates</th>\n      <th>alcohol</th>\n    </tr>\n    <tr>\n      <th>quality</th>\n      <th></th>\n      <th></th>\n      <th></th>\n      <th></th>\n      <th></th>\n      <th></th>\n      <th></th>\n      <th></th>\n      <th></th>\n      <th></th>\n      <th></th>\n    </tr>\n  </thead>\n  <tbody>\n    <tr>\n      <th>3</th>\n      <td>8.360000</td>\n      <td>0.884500</td>\n      <td>0.171000</td>\n      <td>2.635000</td>\n      <td>0.122500</td>\n      <td>11.000000</td>\n      <td>24.900000</td>\n      <td>0.997464</td>\n      <td>3.398000</td>\n      <td>0.570000</td>\n      <td>9.955000</td>\n    </tr>\n    <tr>\n      <th>4</th>\n      <td>7.779245</td>\n      <td>0.693962</td>\n      <td>0.174151</td>\n      <td>2.694340</td>\n      <td>0.090679</td>\n      <td>12.264151</td>\n      <td>36.245283</td>\n      <td>0.996542</td>\n      <td>3.381509</td>\n      <td>0.596415</td>\n      <td>10.265094</td>\n    </tr>\n    <tr>\n      <th>5</th>\n      <td>8.167254</td>\n      <td>0.577041</td>\n      <td>0.243686</td>\n      <td>2.528855</td>\n      <td>0.092736</td>\n      <td>16.983847</td>\n      <td>56.513950</td>\n      <td>0.997104</td>\n      <td>3.304949</td>\n      <td>0.620969</td>\n      <td>9.899706</td>\n    </tr>\n    <tr>\n      <th>6</th>\n      <td>8.347179</td>\n      <td>0.497484</td>\n      <td>0.273824</td>\n      <td>2.477194</td>\n      <td>0.084956</td>\n      <td>15.711599</td>\n      <td>40.869906</td>\n      <td>0.996615</td>\n      <td>3.318072</td>\n      <td>0.675329</td>\n      <td>10.629519</td>\n    </tr>\n    <tr>\n      <th>7</th>\n      <td>8.872362</td>\n      <td>0.403920</td>\n      <td>0.375176</td>\n      <td>2.720603</td>\n      <td>0.076588</td>\n      <td>14.045226</td>\n      <td>35.020101</td>\n      <td>0.996104</td>\n      <td>3.290754</td>\n      <td>0.741256</td>\n      <td>11.465913</td>\n    </tr>\n    <tr>\n      <th>8</th>\n      <td>8.566667</td>\n      <td>0.423333</td>\n      <td>0.391111</td>\n      <td>2.577778</td>\n      <td>0.068444</td>\n      <td>13.277778</td>\n      <td>33.444444</td>\n      <td>0.995212</td>\n      <td>3.267222</td>\n      <td>0.767778</td>\n      <td>12.094444</td>\n    </tr>\n  </tbody>\n</table>\n</div>",
            "text/plain": "         fixed_acidity  volatile_acidity  citric_acid  residual_sugar  \\\nquality                                                                 \n3             8.360000          0.884500     0.171000        2.635000   \n4             7.779245          0.693962     0.174151        2.694340   \n5             8.167254          0.577041     0.243686        2.528855   \n6             8.347179          0.497484     0.273824        2.477194   \n7             8.872362          0.403920     0.375176        2.720603   \n8             8.566667          0.423333     0.391111        2.577778   \n\n         chlorides   free_so2  total_so2   density        pH  sulphates  \\\nquality                                                                   \n3         0.122500  11.000000  24.900000  0.997464  3.398000   0.570000   \n4         0.090679  12.264151  36.245283  0.996542  3.381509   0.596415   \n5         0.092736  16.983847  56.513950  0.997104  3.304949   0.620969   \n6         0.084956  15.711599  40.869906  0.996615  3.318072   0.675329   \n7         0.076588  14.045226  35.020101  0.996104  3.290754   0.741256   \n8         0.068444  13.277778  33.444444  0.995212  3.267222   0.767778   \n\n           alcohol  \nquality             \n3         9.955000  \n4        10.265094  \n5         9.899706  \n6        10.629519  \n7        11.465913  \n8        12.094444  "
          },
          "execution_count": 26,
          "metadata": {},
          "output_type": "execute_result"
        }
      ]
    },
    {
      "metadata": {
        "trusted": true
      },
      "cell_type": "code",
      "source": "wino['alcohol'].agg(max_to_min)",
      "execution_count": 28,
      "outputs": [
        {
          "output_type": "execute_result",
          "execution_count": 28,
          "data": {
            "text/plain": "quality\n3    2.6\n4    4.1\n5    6.4\n6    5.6\n7    4.8\n8    4.2\nName: alcohol, dtype: float64"
          },
          "metadata": {}
        }
      ]
    },
    {
      "metadata": {
        "trusted": true
      },
      "cell_type": "code",
      "source": "dframe_wine['qual_alc_ratio'] = dframe_wine['quality']/dframe_wine['alcohol']\ndframe_wine.head()",
      "execution_count": 29,
      "outputs": [
        {
          "output_type": "execute_result",
          "execution_count": 29,
          "data": {
            "text/html": "<div>\n<table border=\"1\" class=\"dataframe\">\n  <thead>\n    <tr style=\"text-align: right;\">\n      <th></th>\n      <th>fixed_acidity</th>\n      <th>volatile_acidity</th>\n      <th>citric_acid</th>\n      <th>residual_sugar</th>\n      <th>chlorides</th>\n      <th>free_so2</th>\n      <th>total_so2</th>\n      <th>density</th>\n      <th>pH</th>\n      <th>sulphates</th>\n      <th>alcohol</th>\n      <th>quality</th>\n      <th>qual_alc_ratio</th>\n    </tr>\n  </thead>\n  <tbody>\n    <tr>\n      <th>0</th>\n      <td>6.5</td>\n      <td>0.90</td>\n      <td>0.00</td>\n      <td>1.6</td>\n      <td>0.052</td>\n      <td>9.0</td>\n      <td>17.0</td>\n      <td>0.99467</td>\n      <td>3.50</td>\n      <td>0.63</td>\n      <td>10.9</td>\n      <td>6</td>\n      <td>0.550459</td>\n    </tr>\n    <tr>\n      <th>1</th>\n      <td>9.1</td>\n      <td>0.22</td>\n      <td>0.24</td>\n      <td>2.1</td>\n      <td>0.078</td>\n      <td>1.0</td>\n      <td>28.0</td>\n      <td>0.99900</td>\n      <td>3.41</td>\n      <td>0.87</td>\n      <td>10.3</td>\n      <td>6</td>\n      <td>0.582524</td>\n    </tr>\n    <tr>\n      <th>2</th>\n      <td>6.9</td>\n      <td>0.52</td>\n      <td>0.25</td>\n      <td>2.6</td>\n      <td>0.081</td>\n      <td>10.0</td>\n      <td>37.0</td>\n      <td>0.99685</td>\n      <td>3.46</td>\n      <td>0.50</td>\n      <td>11.0</td>\n      <td>5</td>\n      <td>0.454545</td>\n    </tr>\n    <tr>\n      <th>3</th>\n      <td>7.3</td>\n      <td>0.59</td>\n      <td>0.26</td>\n      <td>2.0</td>\n      <td>0.080</td>\n      <td>17.0</td>\n      <td>104.0</td>\n      <td>0.99584</td>\n      <td>3.28</td>\n      <td>0.52</td>\n      <td>9.9</td>\n      <td>5</td>\n      <td>0.505051</td>\n    </tr>\n    <tr>\n      <th>4</th>\n      <td>12.5</td>\n      <td>0.28</td>\n      <td>0.54</td>\n      <td>2.3</td>\n      <td>0.082</td>\n      <td>12.0</td>\n      <td>29.0</td>\n      <td>0.99970</td>\n      <td>3.11</td>\n      <td>1.36</td>\n      <td>9.8</td>\n      <td>7</td>\n      <td>0.714286</td>\n    </tr>\n  </tbody>\n</table>\n</div>",
            "text/plain": "   fixed_acidity  volatile_acidity  citric_acid  residual_sugar  chlorides  \\\n0            6.5              0.90         0.00             1.6      0.052   \n1            9.1              0.22         0.24             2.1      0.078   \n2            6.9              0.52         0.25             2.6      0.081   \n3            7.3              0.59         0.26             2.0      0.080   \n4           12.5              0.28         0.54             2.3      0.082   \n\n   free_so2  total_so2  density    pH  sulphates  alcohol  quality  \\\n0       9.0       17.0  0.99467  3.50       0.63     10.9        6   \n1       1.0       28.0  0.99900  3.41       0.87     10.3        6   \n2      10.0       37.0  0.99685  3.46       0.50     11.0        5   \n3      17.0      104.0  0.99584  3.28       0.52      9.9        5   \n4      12.0       29.0  0.99970  3.11       1.36      9.8        7   \n\n   qual_alc_ratio  \n0        0.550459  \n1        0.582524  \n2        0.454545  \n3        0.505051  \n4        0.714286  "
          },
          "metadata": {}
        }
      ]
    },
    {
      "metadata": {
        "collapsed": true,
        "trusted": false
      },
      "cell_type": "code",
      "source": "",
      "execution_count": null,
      "outputs": []
    },
    {
      "metadata": {},
      "cell_type": "markdown",
      "source": "#### We can also use achieve the same thing with a pivot table instead of groupby"
    },
    {
      "metadata": {
        "trusted": true
      },
      "cell_type": "code",
      "source": "%matplotlib inline",
      "execution_count": 32,
      "outputs": []
    },
    {
      "metadata": {
        "collapsed": true
      },
      "cell_type": "markdown",
      "source": "`%matplotlib` is a \"magic\" command - in this case, it invokes the backend \"inline\"; with this backend, the output of plotting commands is displayed inline within frontends like the Jupyter notebook, directly below the code cell that produced it. The resulting plots will then also be stored in the notebook document\n\nMore details in the *matplotlib* <a href = 'http://ipython.readthedocs.io/en/stable/interactive/plotting.html'>documentation page</a>"
    },
    {
      "metadata": {
        "trusted": true
      },
      "cell_type": "code",
      "source": "dframe_wine.plot(kind = 'scatter', x = 'quality', y = 'alcohol')",
      "execution_count": 33,
      "outputs": [
        {
          "output_type": "execute_result",
          "execution_count": 33,
          "data": {
            "text/plain": "<matplotlib.axes._subplots.AxesSubplot at 0x7f52f9fbe6a0>"
          },
          "metadata": {}
        },
        {
          "output_type": "display_data",
          "data": {
            "image/png": "[encoded data removed]",
            "text/plain": "<matplotlib.figure.Figure at 0x7f52f9f01748>"
          },
          "metadata": {}
        }
      ]
    },
    {
      "metadata": {
        "collapsed": true
      },
      "cell_type": "markdown",
      "source": "## Split-apply-combine"
    },
    {
      "metadata": {
        "trusted": true
      },
      "cell_type": "code",
      "source": "import numpy as np\nimport pandas as pd\nfrom pandas import Series, DataFrame",
      "execution_count": 34,
      "outputs": []
    },
    {
      "metadata": {
        "trusted": true
      },
      "cell_type": "code",
      "source": "from IPython.display import Image",
      "execution_count": 35,
      "outputs": []
    },
    {
      "metadata": {
        "trusted": true
      },
      "cell_type": "code",
      "source": "Image(filename='./images_data_etc/images/SAC.png',height = 640, width = 480)",
      "execution_count": 36,
      "outputs": [
        {
          "output_type": "error",
          "ename": "FileNotFoundError",
          "evalue": "[Errno 2] No such file or directory: './images_data_etc/images/SAC.png'",
          "traceback": [
            "\u001b[0;31m---------------------------------------------------------------------------\u001b[0m",
            "\u001b[0;31mFileNotFoundError\u001b[0m                         Traceback (most recent call last)",
            "\u001b[0;32m<ipython-input-36-36f03623d3fc>\u001b[0m in \u001b[0;36m<module>\u001b[0;34m()\u001b[0m\n\u001b[0;32m----> 1\u001b[0;31m \u001b[0mImage\u001b[0m\u001b[0;34m(\u001b[0m\u001b[0mfilename\u001b[0m\u001b[0;34m=\u001b[0m\u001b[0;34m'./images_data_etc/images/SAC.png'\u001b[0m\u001b[0;34m,\u001b[0m\u001b[0mheight\u001b[0m \u001b[0;34m=\u001b[0m \u001b[0;36m640\u001b[0m\u001b[0;34m,\u001b[0m \u001b[0mwidth\u001b[0m \u001b[0;34m=\u001b[0m \u001b[0;36m480\u001b[0m\u001b[0;34m)\u001b[0m\u001b[0;34m\u001b[0m\u001b[0m\n\u001b[0m",
            "\u001b[0;32m~/anaconda3_420/lib/python3.5/site-packages/IPython/core/display.py\u001b[0m in \u001b[0;36m__init__\u001b[0;34m(self, data, url, filename, format, embed, width, height, retina, unconfined, metadata)\u001b[0m\n\u001b[1;32m   1132\u001b[0m         \u001b[0mself\u001b[0m\u001b[0;34m.\u001b[0m\u001b[0munconfined\u001b[0m \u001b[0;34m=\u001b[0m \u001b[0munconfined\u001b[0m\u001b[0;34m\u001b[0m\u001b[0m\n\u001b[1;32m   1133\u001b[0m         super(Image, self).__init__(data=data, url=url, filename=filename, \n\u001b[0;32m-> 1134\u001b[0;31m                 metadata=metadata)\n\u001b[0m\u001b[1;32m   1135\u001b[0m \u001b[0;34m\u001b[0m\u001b[0m\n\u001b[1;32m   1136\u001b[0m         \u001b[0;32mif\u001b[0m \u001b[0mself\u001b[0m\u001b[0;34m.\u001b[0m\u001b[0mwidth\u001b[0m \u001b[0;32mis\u001b[0m \u001b[0;32mNone\u001b[0m \u001b[0;32mand\u001b[0m \u001b[0mself\u001b[0m\u001b[0;34m.\u001b[0m\u001b[0mmetadata\u001b[0m\u001b[0;34m.\u001b[0m\u001b[0mget\u001b[0m\u001b[0;34m(\u001b[0m\u001b[0;34m'width'\u001b[0m\u001b[0;34m,\u001b[0m \u001b[0;34m{\u001b[0m\u001b[0;34m}\u001b[0m\u001b[0;34m)\u001b[0m\u001b[0;34m:\u001b[0m\u001b[0;34m\u001b[0m\u001b[0m\n",
            "\u001b[0;32m~/anaconda3_420/lib/python3.5/site-packages/IPython/core/display.py\u001b[0m in \u001b[0;36m__init__\u001b[0;34m(self, data, url, filename, metadata)\u001b[0m\n\u001b[1;32m    606\u001b[0m             \u001b[0mself\u001b[0m\u001b[0;34m.\u001b[0m\u001b[0mmetadata\u001b[0m \u001b[0;34m=\u001b[0m \u001b[0;34m{\u001b[0m\u001b[0;34m}\u001b[0m\u001b[0;34m\u001b[0m\u001b[0m\n\u001b[1;32m    607\u001b[0m \u001b[0;34m\u001b[0m\u001b[0m\n\u001b[0;32m--> 608\u001b[0;31m         \u001b[0mself\u001b[0m\u001b[0;34m.\u001b[0m\u001b[0mreload\u001b[0m\u001b[0;34m(\u001b[0m\u001b[0;34m)\u001b[0m\u001b[0;34m\u001b[0m\u001b[0m\n\u001b[0m\u001b[1;32m    609\u001b[0m         \u001b[0mself\u001b[0m\u001b[0;34m.\u001b[0m\u001b[0m_check_data\u001b[0m\u001b[0;34m(\u001b[0m\u001b[0;34m)\u001b[0m\u001b[0;34m\u001b[0m\u001b[0m\n\u001b[1;32m    610\u001b[0m \u001b[0;34m\u001b[0m\u001b[0m\n",
            "\u001b[0;32m~/anaconda3_420/lib/python3.5/site-packages/IPython/core/display.py\u001b[0m in \u001b[0;36mreload\u001b[0;34m(self)\u001b[0m\n\u001b[1;32m   1163\u001b[0m         \u001b[0;34m\"\"\"Reload the raw data from file or URL.\"\"\"\u001b[0m\u001b[0;34m\u001b[0m\u001b[0m\n\u001b[1;32m   1164\u001b[0m         \u001b[0;32mif\u001b[0m \u001b[0mself\u001b[0m\u001b[0;34m.\u001b[0m\u001b[0membed\u001b[0m\u001b[0;34m:\u001b[0m\u001b[0;34m\u001b[0m\u001b[0m\n\u001b[0;32m-> 1165\u001b[0;31m             \u001b[0msuper\u001b[0m\u001b[0;34m(\u001b[0m\u001b[0mImage\u001b[0m\u001b[0;34m,\u001b[0m\u001b[0mself\u001b[0m\u001b[0;34m)\u001b[0m\u001b[0;34m.\u001b[0m\u001b[0mreload\u001b[0m\u001b[0;34m(\u001b[0m\u001b[0;34m)\u001b[0m\u001b[0;34m\u001b[0m\u001b[0m\n\u001b[0m\u001b[1;32m   1166\u001b[0m             \u001b[0;32mif\u001b[0m \u001b[0mself\u001b[0m\u001b[0;34m.\u001b[0m\u001b[0mretina\u001b[0m\u001b[0;34m:\u001b[0m\u001b[0;34m\u001b[0m\u001b[0m\n\u001b[1;32m   1167\u001b[0m                 \u001b[0mself\u001b[0m\u001b[0;34m.\u001b[0m\u001b[0m_retina_shape\u001b[0m\u001b[0;34m(\u001b[0m\u001b[0;34m)\u001b[0m\u001b[0;34m\u001b[0m\u001b[0m\n",
            "\u001b[0;32m~/anaconda3_420/lib/python3.5/site-packages/IPython/core/display.py\u001b[0m in \u001b[0;36mreload\u001b[0;34m(self)\u001b[0m\n\u001b[1;32m    631\u001b[0m         \u001b[0;34m\"\"\"Reload the raw data from file or URL.\"\"\"\u001b[0m\u001b[0;34m\u001b[0m\u001b[0m\n\u001b[1;32m    632\u001b[0m         \u001b[0;32mif\u001b[0m \u001b[0mself\u001b[0m\u001b[0;34m.\u001b[0m\u001b[0mfilename\u001b[0m \u001b[0;32mis\u001b[0m \u001b[0;32mnot\u001b[0m \u001b[0;32mNone\u001b[0m\u001b[0;34m:\u001b[0m\u001b[0;34m\u001b[0m\u001b[0m\n\u001b[0;32m--> 633\u001b[0;31m             \u001b[0;32mwith\u001b[0m \u001b[0mopen\u001b[0m\u001b[0;34m(\u001b[0m\u001b[0mself\u001b[0m\u001b[0;34m.\u001b[0m\u001b[0mfilename\u001b[0m\u001b[0;34m,\u001b[0m \u001b[0mself\u001b[0m\u001b[0;34m.\u001b[0m\u001b[0m_read_flags\u001b[0m\u001b[0;34m)\u001b[0m \u001b[0;32mas\u001b[0m \u001b[0mf\u001b[0m\u001b[0;34m:\u001b[0m\u001b[0;34m\u001b[0m\u001b[0m\n\u001b[0m\u001b[1;32m    634\u001b[0m                 \u001b[0mself\u001b[0m\u001b[0;34m.\u001b[0m\u001b[0mdata\u001b[0m \u001b[0;34m=\u001b[0m \u001b[0mf\u001b[0m\u001b[0;34m.\u001b[0m\u001b[0mread\u001b[0m\u001b[0;34m(\u001b[0m\u001b[0;34m)\u001b[0m\u001b[0;34m\u001b[0m\u001b[0m\n\u001b[1;32m    635\u001b[0m         \u001b[0;32melif\u001b[0m \u001b[0mself\u001b[0m\u001b[0;34m.\u001b[0m\u001b[0murl\u001b[0m \u001b[0;32mis\u001b[0m \u001b[0;32mnot\u001b[0m \u001b[0;32mNone\u001b[0m\u001b[0;34m:\u001b[0m\u001b[0;34m\u001b[0m\u001b[0m\n",
            "\u001b[0;31mFileNotFoundError\u001b[0m: [Errno 2] No such file or directory: './images_data_etc/images/SAC.png'"
          ]
        }
      ]
    },
    {
      "metadata": {
        "trusted": true
      },
      "cell_type": "code",
      "source": "dframe_wine = pd.read_csv(\"data/redwines.csv\")",
      "execution_count": 38,
      "outputs": []
    },
    {
      "metadata": {
        "trusted": true
      },
      "cell_type": "code",
      "source": "dframe_wine.head()",
      "execution_count": 39,
      "outputs": [
        {
          "output_type": "execute_result",
          "execution_count": 39,
          "data": {
            "text/html": "<div>\n<table border=\"1\" class=\"dataframe\">\n  <thead>\n    <tr style=\"text-align: right;\">\n      <th></th>\n      <th>fixed_acidity</th>\n      <th>volatile_acidity</th>\n      <th>citric_acid</th>\n      <th>residual_sugar</th>\n      <th>chlorides</th>\n      <th>free_so2</th>\n      <th>total_so2</th>\n      <th>density</th>\n      <th>pH</th>\n      <th>sulphates</th>\n      <th>alcohol</th>\n      <th>quality</th>\n    </tr>\n  </thead>\n  <tbody>\n    <tr>\n      <th>0</th>\n      <td>6.5</td>\n      <td>0.90</td>\n      <td>0.00</td>\n      <td>1.6</td>\n      <td>0.052</td>\n      <td>9.0</td>\n      <td>17.0</td>\n      <td>0.99467</td>\n      <td>3.50</td>\n      <td>0.63</td>\n      <td>10.9</td>\n      <td>6</td>\n    </tr>\n    <tr>\n      <th>1</th>\n      <td>9.1</td>\n      <td>0.22</td>\n      <td>0.24</td>\n      <td>2.1</td>\n      <td>0.078</td>\n      <td>1.0</td>\n      <td>28.0</td>\n      <td>0.99900</td>\n      <td>3.41</td>\n      <td>0.87</td>\n      <td>10.3</td>\n      <td>6</td>\n    </tr>\n    <tr>\n      <th>2</th>\n      <td>6.9</td>\n      <td>0.52</td>\n      <td>0.25</td>\n      <td>2.6</td>\n      <td>0.081</td>\n      <td>10.0</td>\n      <td>37.0</td>\n      <td>0.99685</td>\n      <td>3.46</td>\n      <td>0.50</td>\n      <td>11.0</td>\n      <td>5</td>\n    </tr>\n    <tr>\n      <th>3</th>\n      <td>7.3</td>\n      <td>0.59</td>\n      <td>0.26</td>\n      <td>2.0</td>\n      <td>0.080</td>\n      <td>17.0</td>\n      <td>104.0</td>\n      <td>0.99584</td>\n      <td>3.28</td>\n      <td>0.52</td>\n      <td>9.9</td>\n      <td>5</td>\n    </tr>\n    <tr>\n      <th>4</th>\n      <td>12.5</td>\n      <td>0.28</td>\n      <td>0.54</td>\n      <td>2.3</td>\n      <td>0.082</td>\n      <td>12.0</td>\n      <td>29.0</td>\n      <td>0.99970</td>\n      <td>3.11</td>\n      <td>1.36</td>\n      <td>9.8</td>\n      <td>7</td>\n    </tr>\n  </tbody>\n</table>\n</div>",
            "text/plain": "   fixed_acidity  volatile_acidity  citric_acid  residual_sugar  chlorides  \\\n0            6.5              0.90         0.00             1.6      0.052   \n1            9.1              0.22         0.24             2.1      0.078   \n2            6.9              0.52         0.25             2.6      0.081   \n3            7.3              0.59         0.26             2.0      0.080   \n4           12.5              0.28         0.54             2.3      0.082   \n\n   free_so2  total_so2  density    pH  sulphates  alcohol  quality  \n0       9.0       17.0  0.99467  3.50       0.63     10.9        6  \n1       1.0       28.0  0.99900  3.41       0.87     10.3        6  \n2      10.0       37.0  0.99685  3.46       0.50     11.0        5  \n3      17.0      104.0  0.99584  3.28       0.52      9.9        5  \n4      12.0       29.0  0.99970  3.11       1.36      9.8        7  "
          },
          "metadata": {}
        }
      ]
    },
    {
      "metadata": {
        "trusted": true
      },
      "cell_type": "code",
      "source": "len(dframe_wine)",
      "execution_count": 40,
      "outputs": [
        {
          "output_type": "execute_result",
          "execution_count": 40,
          "data": {
            "text/plain": "1599"
          },
          "metadata": {}
        }
      ]
    },
    {
      "metadata": {
        "trusted": true
      },
      "cell_type": "code",
      "source": "dframe_wine.shape",
      "execution_count": 41,
      "outputs": [
        {
          "output_type": "execute_result",
          "execution_count": 41,
          "data": {
            "text/plain": "(1599, 12)"
          },
          "metadata": {}
        }
      ]
    },
    {
      "metadata": {
        "collapsed": true
      },
      "cell_type": "markdown",
      "source": "For each <i>quality</i>, we'll find the wine with the highest <i>alcohol</i> content"
    },
    {
      "metadata": {
        "trusted": true
      },
      "cell_type": "code",
      "source": "np.arange(10)",
      "execution_count": 42,
      "outputs": [
        {
          "output_type": "execute_result",
          "execution_count": 42,
          "data": {
            "text/plain": "array([0, 1, 2, 3, 4, 5, 6, 7, 8, 9])"
          },
          "metadata": {}
        }
      ]
    },
    {
      "metadata": {
        "trusted": true
      },
      "cell_type": "code",
      "source": "np.arange(10) + 1",
      "execution_count": 43,
      "outputs": [
        {
          "output_type": "execute_result",
          "execution_count": 43,
          "data": {
            "text/plain": "array([ 1,  2,  3,  4,  5,  6,  7,  8,  9, 10])"
          },
          "metadata": {}
        }
      ]
    },
    {
      "metadata": {
        "trusted": true
      },
      "cell_type": "code",
      "source": "def ranker(df):\n    df['alc_content_rank'] = np.arange(len(df)) + 1\n    return df",
      "execution_count": 44,
      "outputs": []
    },
    {
      "metadata": {
        "trusted": true
      },
      "cell_type": "code",
      "source": "dframe_wine.sort_values('alcohol',ascending = False,inplace = True)",
      "execution_count": 45,
      "outputs": []
    },
    {
      "metadata": {
        "trusted": true
      },
      "cell_type": "code",
      "source": "dframe_wine.head()",
      "execution_count": 46,
      "outputs": [
        {
          "output_type": "execute_result",
          "execution_count": 46,
          "data": {
            "text/html": "<div>\n<table border=\"1\" class=\"dataframe\">\n  <thead>\n    <tr style=\"text-align: right;\">\n      <th></th>\n      <th>fixed_acidity</th>\n      <th>volatile_acidity</th>\n      <th>citric_acid</th>\n      <th>residual_sugar</th>\n      <th>chlorides</th>\n      <th>free_so2</th>\n      <th>total_so2</th>\n      <th>density</th>\n      <th>pH</th>\n      <th>sulphates</th>\n      <th>alcohol</th>\n      <th>quality</th>\n    </tr>\n  </thead>\n  <tbody>\n    <tr>\n      <th>995</th>\n      <td>15.9</td>\n      <td>0.36</td>\n      <td>0.65</td>\n      <td>7.5</td>\n      <td>0.096</td>\n      <td>22.0</td>\n      <td>71.0</td>\n      <td>0.99760</td>\n      <td>2.98</td>\n      <td>0.84</td>\n      <td>14.9</td>\n      <td>5</td>\n    </tr>\n    <tr>\n      <th>613</th>\n      <td>5.0</td>\n      <td>0.42</td>\n      <td>0.24</td>\n      <td>2.0</td>\n      <td>0.060</td>\n      <td>19.0</td>\n      <td>50.0</td>\n      <td>0.99170</td>\n      <td>3.72</td>\n      <td>0.74</td>\n      <td>14.0</td>\n      <td>8</td>\n    </tr>\n    <tr>\n      <th>91</th>\n      <td>8.8</td>\n      <td>0.46</td>\n      <td>0.45</td>\n      <td>2.6</td>\n      <td>0.065</td>\n      <td>7.0</td>\n      <td>18.0</td>\n      <td>0.99470</td>\n      <td>3.32</td>\n      <td>0.79</td>\n      <td>14.0</td>\n      <td>6</td>\n    </tr>\n    <tr>\n      <th>1514</th>\n      <td>5.5</td>\n      <td>0.49</td>\n      <td>0.03</td>\n      <td>1.8</td>\n      <td>0.044</td>\n      <td>28.0</td>\n      <td>87.0</td>\n      <td>0.99080</td>\n      <td>3.50</td>\n      <td>0.82</td>\n      <td>14.0</td>\n      <td>8</td>\n    </tr>\n    <tr>\n      <th>170</th>\n      <td>4.9</td>\n      <td>0.42</td>\n      <td>0.00</td>\n      <td>2.1</td>\n      <td>0.048</td>\n      <td>16.0</td>\n      <td>42.0</td>\n      <td>0.99154</td>\n      <td>3.71</td>\n      <td>0.74</td>\n      <td>14.0</td>\n      <td>7</td>\n    </tr>\n  </tbody>\n</table>\n</div>",
            "text/plain": "      fixed_acidity  volatile_acidity  citric_acid  residual_sugar  chlorides  \\\n995            15.9              0.36         0.65             7.5      0.096   \n613             5.0              0.42         0.24             2.0      0.060   \n91              8.8              0.46         0.45             2.6      0.065   \n1514            5.5              0.49         0.03             1.8      0.044   \n170             4.9              0.42         0.00             2.1      0.048   \n\n      free_so2  total_so2  density    pH  sulphates  alcohol  quality  \n995       22.0       71.0  0.99760  2.98       0.84     14.9        5  \n613       19.0       50.0  0.99170  3.72       0.74     14.0        8  \n91         7.0       18.0  0.99470  3.32       0.79     14.0        6  \n1514      28.0       87.0  0.99080  3.50       0.82     14.0        8  \n170       16.0       42.0  0.99154  3.71       0.74     14.0        7  "
          },
          "metadata": {}
        }
      ]
    },
    {
      "metadata": {
        "trusted": true
      },
      "cell_type": "code",
      "source": "dframe_wine.tail()",
      "execution_count": 47,
      "outputs": [
        {
          "output_type": "execute_result",
          "execution_count": 47,
          "data": {
            "text/html": "<div>\n<table border=\"1\" class=\"dataframe\">\n  <thead>\n    <tr style=\"text-align: right;\">\n      <th></th>\n      <th>fixed_acidity</th>\n      <th>volatile_acidity</th>\n      <th>citric_acid</th>\n      <th>residual_sugar</th>\n      <th>chlorides</th>\n      <th>free_so2</th>\n      <th>total_so2</th>\n      <th>density</th>\n      <th>pH</th>\n      <th>sulphates</th>\n      <th>alcohol</th>\n      <th>quality</th>\n    </tr>\n  </thead>\n  <tbody>\n    <tr>\n      <th>801</th>\n      <td>8.2</td>\n      <td>0.42</td>\n      <td>0.49</td>\n      <td>2.6</td>\n      <td>0.084</td>\n      <td>32.0</td>\n      <td>55.0</td>\n      <td>0.99880</td>\n      <td>3.34</td>\n      <td>0.75</td>\n      <td>8.7</td>\n      <td>6</td>\n    </tr>\n    <tr>\n      <th>462</th>\n      <td>7.9</td>\n      <td>0.24</td>\n      <td>0.40</td>\n      <td>1.6</td>\n      <td>0.056</td>\n      <td>11.0</td>\n      <td>25.0</td>\n      <td>0.99670</td>\n      <td>3.32</td>\n      <td>0.87</td>\n      <td>8.7</td>\n      <td>6</td>\n    </tr>\n    <tr>\n      <th>1253</th>\n      <td>10.0</td>\n      <td>0.38</td>\n      <td>0.38</td>\n      <td>1.6</td>\n      <td>0.169</td>\n      <td>27.0</td>\n      <td>90.0</td>\n      <td>0.99914</td>\n      <td>3.15</td>\n      <td>0.65</td>\n      <td>8.5</td>\n      <td>5</td>\n    </tr>\n    <tr>\n      <th>736</th>\n      <td>10.4</td>\n      <td>0.61</td>\n      <td>0.49</td>\n      <td>2.1</td>\n      <td>0.200</td>\n      <td>5.0</td>\n      <td>16.0</td>\n      <td>0.99940</td>\n      <td>3.16</td>\n      <td>0.63</td>\n      <td>8.4</td>\n      <td>3</td>\n    </tr>\n    <tr>\n      <th>505</th>\n      <td>14.3</td>\n      <td>0.31</td>\n      <td>0.74</td>\n      <td>1.8</td>\n      <td>0.075</td>\n      <td>6.0</td>\n      <td>15.0</td>\n      <td>1.00080</td>\n      <td>2.86</td>\n      <td>0.79</td>\n      <td>8.4</td>\n      <td>6</td>\n    </tr>\n  </tbody>\n</table>\n</div>",
            "text/plain": "      fixed_acidity  volatile_acidity  citric_acid  residual_sugar  chlorides  \\\n801             8.2              0.42         0.49             2.6      0.084   \n462             7.9              0.24         0.40             1.6      0.056   \n1253           10.0              0.38         0.38             1.6      0.169   \n736            10.4              0.61         0.49             2.1      0.200   \n505            14.3              0.31         0.74             1.8      0.075   \n\n      free_so2  total_so2  density    pH  sulphates  alcohol  quality  \n801       32.0       55.0  0.99880  3.34       0.75      8.7        6  \n462       11.0       25.0  0.99670  3.32       0.87      8.7        6  \n1253      27.0       90.0  0.99914  3.15       0.65      8.5        5  \n736        5.0       16.0  0.99940  3.16       0.63      8.4        3  \n505        6.0       15.0  1.00080  2.86       0.79      8.4        6  "
          },
          "metadata": {}
        }
      ]
    },
    {
      "metadata": {
        "trusted": true
      },
      "cell_type": "code",
      "source": "dframe_wine['alcohol'].max()",
      "execution_count": 48,
      "outputs": [
        {
          "output_type": "execute_result",
          "execution_count": 48,
          "data": {
            "text/plain": "14.9"
          },
          "metadata": {}
        }
      ]
    },
    {
      "metadata": {
        "trusted": true
      },
      "cell_type": "code",
      "source": "dframe_wine['alcohol'].min()",
      "execution_count": 49,
      "outputs": [
        {
          "output_type": "execute_result",
          "execution_count": 49,
          "data": {
            "text/plain": "8.4"
          },
          "metadata": {}
        }
      ]
    },
    {
      "metadata": {
        "trusted": true
      },
      "cell_type": "code",
      "source": "dframe_wine = dframe_wine.groupby('quality').apply(ranker)",
      "execution_count": 50,
      "outputs": []
    },
    {
      "metadata": {
        "collapsed": true
      },
      "cell_type": "markdown",
      "source": "### The <i>groupby</i> does the splitting and the combining; the <i>apply</i> does the applying (!)"
    },
    {
      "metadata": {
        "trusted": true
      },
      "cell_type": "code",
      "source": "dframe_wine.head(25)",
      "execution_count": 51,
      "outputs": [
        {
          "output_type": "execute_result",
          "execution_count": 51,
          "data": {
            "text/html": "<div>\n<table border=\"1\" class=\"dataframe\">\n  <thead>\n    <tr style=\"text-align: right;\">\n      <th></th>\n      <th>fixed_acidity</th>\n      <th>volatile_acidity</th>\n      <th>citric_acid</th>\n      <th>residual_sugar</th>\n      <th>chlorides</th>\n      <th>free_so2</th>\n      <th>total_so2</th>\n      <th>density</th>\n      <th>pH</th>\n      <th>sulphates</th>\n      <th>alcohol</th>\n      <th>quality</th>\n      <th>alc_content_rank</th>\n    </tr>\n  </thead>\n  <tbody>\n    <tr>\n      <th>995</th>\n      <td>15.9</td>\n      <td>0.360</td>\n      <td>0.65</td>\n      <td>7.5</td>\n      <td>0.096</td>\n      <td>22.0</td>\n      <td>71.0</td>\n      <td>0.99760</td>\n      <td>2.98</td>\n      <td>0.84</td>\n      <td>14.900000</td>\n      <td>5</td>\n      <td>1</td>\n    </tr>\n    <tr>\n      <th>613</th>\n      <td>5.0</td>\n      <td>0.420</td>\n      <td>0.24</td>\n      <td>2.0</td>\n      <td>0.060</td>\n      <td>19.0</td>\n      <td>50.0</td>\n      <td>0.99170</td>\n      <td>3.72</td>\n      <td>0.74</td>\n      <td>14.000000</td>\n      <td>8</td>\n      <td>1</td>\n    </tr>\n    <tr>\n      <th>91</th>\n      <td>8.8</td>\n      <td>0.460</td>\n      <td>0.45</td>\n      <td>2.6</td>\n      <td>0.065</td>\n      <td>7.0</td>\n      <td>18.0</td>\n      <td>0.99470</td>\n      <td>3.32</td>\n      <td>0.79</td>\n      <td>14.000000</td>\n      <td>6</td>\n      <td>1</td>\n    </tr>\n    <tr>\n      <th>1514</th>\n      <td>5.5</td>\n      <td>0.490</td>\n      <td>0.03</td>\n      <td>1.8</td>\n      <td>0.044</td>\n      <td>28.0</td>\n      <td>87.0</td>\n      <td>0.99080</td>\n      <td>3.50</td>\n      <td>0.82</td>\n      <td>14.000000</td>\n      <td>8</td>\n      <td>2</td>\n    </tr>\n    <tr>\n      <th>170</th>\n      <td>4.9</td>\n      <td>0.420</td>\n      <td>0.00</td>\n      <td>2.1</td>\n      <td>0.048</td>\n      <td>16.0</td>\n      <td>42.0</td>\n      <td>0.99154</td>\n      <td>3.71</td>\n      <td>0.74</td>\n      <td>14.000000</td>\n      <td>7</td>\n      <td>1</td>\n    </tr>\n    <tr>\n      <th>861</th>\n      <td>5.0</td>\n      <td>0.380</td>\n      <td>0.01</td>\n      <td>1.6</td>\n      <td>0.048</td>\n      <td>26.0</td>\n      <td>60.0</td>\n      <td>0.99084</td>\n      <td>3.70</td>\n      <td>0.75</td>\n      <td>14.000000</td>\n      <td>6</td>\n      <td>2</td>\n    </tr>\n    <tr>\n      <th>327</th>\n      <td>5.2</td>\n      <td>0.340</td>\n      <td>0.00</td>\n      <td>1.8</td>\n      <td>0.050</td>\n      <td>27.0</td>\n      <td>63.0</td>\n      <td>0.99160</td>\n      <td>3.68</td>\n      <td>0.79</td>\n      <td>14.000000</td>\n      <td>6</td>\n      <td>3</td>\n    </tr>\n    <tr>\n      <th>428</th>\n      <td>5.2</td>\n      <td>0.340</td>\n      <td>0.00</td>\n      <td>1.8</td>\n      <td>0.050</td>\n      <td>27.0</td>\n      <td>63.0</td>\n      <td>0.99160</td>\n      <td>3.68</td>\n      <td>0.79</td>\n      <td>14.000000</td>\n      <td>6</td>\n      <td>4</td>\n    </tr>\n    <tr>\n      <th>680</th>\n      <td>5.1</td>\n      <td>0.420</td>\n      <td>0.00</td>\n      <td>1.8</td>\n      <td>0.044</td>\n      <td>18.0</td>\n      <td>88.0</td>\n      <td>0.99157</td>\n      <td>3.68</td>\n      <td>0.73</td>\n      <td>13.600000</td>\n      <td>7</td>\n      <td>2</td>\n    </tr>\n    <tr>\n      <th>677</th>\n      <td>5.0</td>\n      <td>0.400</td>\n      <td>0.50</td>\n      <td>4.3</td>\n      <td>0.046</td>\n      <td>29.0</td>\n      <td>80.0</td>\n      <td>0.99020</td>\n      <td>3.49</td>\n      <td>0.66</td>\n      <td>13.600000</td>\n      <td>6</td>\n      <td>5</td>\n    </tr>\n    <tr>\n      <th>29</th>\n      <td>5.3</td>\n      <td>0.470</td>\n      <td>0.11</td>\n      <td>2.2</td>\n      <td>0.048</td>\n      <td>16.0</td>\n      <td>89.0</td>\n      <td>0.99182</td>\n      <td>3.54</td>\n      <td>0.88</td>\n      <td>13.600000</td>\n      <td>7</td>\n      <td>3</td>\n    </tr>\n    <tr>\n      <th>627</th>\n      <td>7.4</td>\n      <td>0.360</td>\n      <td>0.34</td>\n      <td>1.8</td>\n      <td>0.075</td>\n      <td>18.0</td>\n      <td>38.0</td>\n      <td>0.99330</td>\n      <td>3.38</td>\n      <td>0.88</td>\n      <td>13.600000</td>\n      <td>7</td>\n      <td>4</td>\n    </tr>\n    <tr>\n      <th>1587</th>\n      <td>5.3</td>\n      <td>0.470</td>\n      <td>0.11</td>\n      <td>2.2</td>\n      <td>0.048</td>\n      <td>16.0</td>\n      <td>89.0</td>\n      <td>0.99182</td>\n      <td>3.54</td>\n      <td>0.88</td>\n      <td>13.566667</td>\n      <td>7</td>\n      <td>5</td>\n    </tr>\n    <tr>\n      <th>435</th>\n      <td>5.8</td>\n      <td>0.290</td>\n      <td>0.26</td>\n      <td>1.7</td>\n      <td>0.063</td>\n      <td>3.0</td>\n      <td>11.0</td>\n      <td>0.99150</td>\n      <td>3.39</td>\n      <td>0.54</td>\n      <td>13.500000</td>\n      <td>6</td>\n      <td>6</td>\n    </tr>\n    <tr>\n      <th>969</th>\n      <td>10.6</td>\n      <td>0.440</td>\n      <td>0.68</td>\n      <td>4.1</td>\n      <td>0.114</td>\n      <td>6.0</td>\n      <td>24.0</td>\n      <td>0.99700</td>\n      <td>3.06</td>\n      <td>0.66</td>\n      <td>13.400000</td>\n      <td>6</td>\n      <td>7</td>\n    </tr>\n    <tr>\n      <th>940</th>\n      <td>11.3</td>\n      <td>0.620</td>\n      <td>0.67</td>\n      <td>5.2</td>\n      <td>0.086</td>\n      <td>6.0</td>\n      <td>19.0</td>\n      <td>0.99880</td>\n      <td>3.22</td>\n      <td>0.69</td>\n      <td>13.400000</td>\n      <td>8</td>\n      <td>3</td>\n    </tr>\n    <tr>\n      <th>215</th>\n      <td>8.9</td>\n      <td>0.400</td>\n      <td>0.51</td>\n      <td>2.6</td>\n      <td>0.052</td>\n      <td>13.0</td>\n      <td>27.0</td>\n      <td>0.99500</td>\n      <td>3.32</td>\n      <td>0.90</td>\n      <td>13.400000</td>\n      <td>7</td>\n      <td>6</td>\n    </tr>\n    <tr>\n      <th>975</th>\n      <td>9.2</td>\n      <td>0.410</td>\n      <td>0.50</td>\n      <td>2.5</td>\n      <td>0.055</td>\n      <td>12.0</td>\n      <td>25.0</td>\n      <td>0.99520</td>\n      <td>3.34</td>\n      <td>0.79</td>\n      <td>13.300000</td>\n      <td>7</td>\n      <td>7</td>\n    </tr>\n    <tr>\n      <th>568</th>\n      <td>7.1</td>\n      <td>0.390</td>\n      <td>0.12</td>\n      <td>2.1</td>\n      <td>0.065</td>\n      <td>14.0</td>\n      <td>24.0</td>\n      <td>0.99252</td>\n      <td>3.30</td>\n      <td>0.53</td>\n      <td>13.300000</td>\n      <td>6</td>\n      <td>8</td>\n    </tr>\n    <tr>\n      <th>1332</th>\n      <td>11.4</td>\n      <td>0.625</td>\n      <td>0.66</td>\n      <td>6.2</td>\n      <td>0.088</td>\n      <td>6.0</td>\n      <td>24.0</td>\n      <td>0.99880</td>\n      <td>3.11</td>\n      <td>0.99</td>\n      <td>13.300000</td>\n      <td>6</td>\n      <td>9</td>\n    </tr>\n    <tr>\n      <th>933</th>\n      <td>9.3</td>\n      <td>0.380</td>\n      <td>0.48</td>\n      <td>3.8</td>\n      <td>0.132</td>\n      <td>3.0</td>\n      <td>11.0</td>\n      <td>0.99577</td>\n      <td>3.23</td>\n      <td>0.57</td>\n      <td>13.200000</td>\n      <td>6</td>\n      <td>10</td>\n    </tr>\n    <tr>\n      <th>1044</th>\n      <td>4.6</td>\n      <td>0.520</td>\n      <td>0.15</td>\n      <td>2.1</td>\n      <td>0.054</td>\n      <td>8.0</td>\n      <td>65.0</td>\n      <td>0.99340</td>\n      <td>3.90</td>\n      <td>0.56</td>\n      <td>13.100000</td>\n      <td>4</td>\n      <td>1</td>\n    </tr>\n    <tr>\n      <th>803</th>\n      <td>7.9</td>\n      <td>0.540</td>\n      <td>0.34</td>\n      <td>2.5</td>\n      <td>0.076</td>\n      <td>8.0</td>\n      <td>17.0</td>\n      <td>0.99235</td>\n      <td>3.20</td>\n      <td>0.72</td>\n      <td>13.100000</td>\n      <td>8</td>\n      <td>4</td>\n    </tr>\n    <tr>\n      <th>44</th>\n      <td>8.0</td>\n      <td>0.600</td>\n      <td>0.08</td>\n      <td>2.6</td>\n      <td>0.056</td>\n      <td>3.0</td>\n      <td>7.0</td>\n      <td>0.99286</td>\n      <td>3.22</td>\n      <td>0.37</td>\n      <td>13.000000</td>\n      <td>5</td>\n      <td>2</td>\n    </tr>\n    <tr>\n      <th>1009</th>\n      <td>5.6</td>\n      <td>0.500</td>\n      <td>0.09</td>\n      <td>2.3</td>\n      <td>0.049</td>\n      <td>17.0</td>\n      <td>99.0</td>\n      <td>0.99370</td>\n      <td>3.63</td>\n      <td>0.63</td>\n      <td>13.000000</td>\n      <td>5</td>\n      <td>3</td>\n    </tr>\n  </tbody>\n</table>\n</div>",
            "text/plain": "      fixed_acidity  volatile_acidity  citric_acid  residual_sugar  chlorides  \\\n995            15.9             0.360         0.65             7.5      0.096   \n613             5.0             0.420         0.24             2.0      0.060   \n91              8.8             0.460         0.45             2.6      0.065   \n1514            5.5             0.490         0.03             1.8      0.044   \n170             4.9             0.420         0.00             2.1      0.048   \n861             5.0             0.380         0.01             1.6      0.048   \n327             5.2             0.340         0.00             1.8      0.050   \n428             5.2             0.340         0.00             1.8      0.050   \n680             5.1             0.420         0.00             1.8      0.044   \n677             5.0             0.400         0.50             4.3      0.046   \n29              5.3             0.470         0.11             2.2      0.048   \n627             7.4             0.360         0.34             1.8      0.075   \n1587            5.3             0.470         0.11             2.2      0.048   \n435             5.8             0.290         0.26             1.7      0.063   \n969            10.6             0.440         0.68             4.1      0.114   \n940            11.3             0.620         0.67             5.2      0.086   \n215             8.9             0.400         0.51             2.6      0.052   \n975             9.2             0.410         0.50             2.5      0.055   \n568             7.1             0.390         0.12             2.1      0.065   \n1332           11.4             0.625         0.66             6.2      0.088   \n933             9.3             0.380         0.48             3.8      0.132   \n1044            4.6             0.520         0.15             2.1      0.054   \n803             7.9             0.540         0.34             2.5      0.076   \n44              8.0             0.600         0.08             2.6      0.056   \n1009            5.6             0.500         0.09             2.3      0.049   \n\n      free_so2  total_so2  density    pH  sulphates    alcohol  quality  \\\n995       22.0       71.0  0.99760  2.98       0.84  14.900000        5   \n613       19.0       50.0  0.99170  3.72       0.74  14.000000        8   \n91         7.0       18.0  0.99470  3.32       0.79  14.000000        6   \n1514      28.0       87.0  0.99080  3.50       0.82  14.000000        8   \n170       16.0       42.0  0.99154  3.71       0.74  14.000000        7   \n861       26.0       60.0  0.99084  3.70       0.75  14.000000        6   \n327       27.0       63.0  0.99160  3.68       0.79  14.000000        6   \n428       27.0       63.0  0.99160  3.68       0.79  14.000000        6   \n680       18.0       88.0  0.99157  3.68       0.73  13.600000        7   \n677       29.0       80.0  0.99020  3.49       0.66  13.600000        6   \n29        16.0       89.0  0.99182  3.54       0.88  13.600000        7   \n627       18.0       38.0  0.99330  3.38       0.88  13.600000        7   \n1587      16.0       89.0  0.99182  3.54       0.88  13.566667        7   \n435        3.0       11.0  0.99150  3.39       0.54  13.500000        6   \n969        6.0       24.0  0.99700  3.06       0.66  13.400000        6   \n940        6.0       19.0  0.99880  3.22       0.69  13.400000        8   \n215       13.0       27.0  0.99500  3.32       0.90  13.400000        7   \n975       12.0       25.0  0.99520  3.34       0.79  13.300000        7   \n568       14.0       24.0  0.99252  3.30       0.53  13.300000        6   \n1332       6.0       24.0  0.99880  3.11       0.99  13.300000        6   \n933        3.0       11.0  0.99577  3.23       0.57  13.200000        6   \n1044       8.0       65.0  0.99340  3.90       0.56  13.100000        4   \n803        8.0       17.0  0.99235  3.20       0.72  13.100000        8   \n44         3.0        7.0  0.99286  3.22       0.37  13.000000        5   \n1009      17.0       99.0  0.99370  3.63       0.63  13.000000        5   \n\n      alc_content_rank  \n995                  1  \n613                  1  \n91                   1  \n1514                 2  \n170                  1  \n861                  2  \n327                  3  \n428                  4  \n680                  2  \n677                  5  \n29                   3  \n627                  4  \n1587                 5  \n435                  6  \n969                  7  \n940                  3  \n215                  6  \n975                  7  \n568                  8  \n1332                 9  \n933                 10  \n1044                 1  \n803                  4  \n44                   2  \n1009                 3  "
          },
          "metadata": {}
        }
      ]
    },
    {
      "metadata": {
        "trusted": true
      },
      "cell_type": "code",
      "source": "num_of_qual = dframe_wine['quality'].value_counts()\nnum_of_qual",
      "execution_count": 52,
      "outputs": [
        {
          "output_type": "execute_result",
          "execution_count": 52,
          "data": {
            "text/plain": "5    681\n6    638\n7    199\n4     53\n8     18\n3     10\nName: quality, dtype: int64"
          },
          "metadata": {}
        }
      ]
    },
    {
      "metadata": {
        "trusted": true
      },
      "cell_type": "code",
      "source": "dframe_wine[dframe_wine.alc_content_rank==1]",
      "execution_count": 53,
      "outputs": [
        {
          "output_type": "execute_result",
          "execution_count": 53,
          "data": {
            "text/html": "<div>\n<table border=\"1\" class=\"dataframe\">\n  <thead>\n    <tr style=\"text-align: right;\">\n      <th></th>\n      <th>fixed_acidity</th>\n      <th>volatile_acidity</th>\n      <th>citric_acid</th>\n      <th>residual_sugar</th>\n      <th>chlorides</th>\n      <th>free_so2</th>\n      <th>total_so2</th>\n      <th>density</th>\n      <th>pH</th>\n      <th>sulphates</th>\n      <th>alcohol</th>\n      <th>quality</th>\n      <th>alc_content_rank</th>\n    </tr>\n  </thead>\n  <tbody>\n    <tr>\n      <th>995</th>\n      <td>15.9</td>\n      <td>0.36</td>\n      <td>0.65</td>\n      <td>7.5</td>\n      <td>0.096</td>\n      <td>22.0</td>\n      <td>71.0</td>\n      <td>0.99760</td>\n      <td>2.98</td>\n      <td>0.84</td>\n      <td>14.9</td>\n      <td>5</td>\n      <td>1</td>\n    </tr>\n    <tr>\n      <th>613</th>\n      <td>5.0</td>\n      <td>0.42</td>\n      <td>0.24</td>\n      <td>2.0</td>\n      <td>0.060</td>\n      <td>19.0</td>\n      <td>50.0</td>\n      <td>0.99170</td>\n      <td>3.72</td>\n      <td>0.74</td>\n      <td>14.0</td>\n      <td>8</td>\n      <td>1</td>\n    </tr>\n    <tr>\n      <th>91</th>\n      <td>8.8</td>\n      <td>0.46</td>\n      <td>0.45</td>\n      <td>2.6</td>\n      <td>0.065</td>\n      <td>7.0</td>\n      <td>18.0</td>\n      <td>0.99470</td>\n      <td>3.32</td>\n      <td>0.79</td>\n      <td>14.0</td>\n      <td>6</td>\n      <td>1</td>\n    </tr>\n    <tr>\n      <th>170</th>\n      <td>4.9</td>\n      <td>0.42</td>\n      <td>0.00</td>\n      <td>2.1</td>\n      <td>0.048</td>\n      <td>16.0</td>\n      <td>42.0</td>\n      <td>0.99154</td>\n      <td>3.71</td>\n      <td>0.74</td>\n      <td>14.0</td>\n      <td>7</td>\n      <td>1</td>\n    </tr>\n    <tr>\n      <th>1044</th>\n      <td>4.6</td>\n      <td>0.52</td>\n      <td>0.15</td>\n      <td>2.1</td>\n      <td>0.054</td>\n      <td>8.0</td>\n      <td>65.0</td>\n      <td>0.99340</td>\n      <td>3.90</td>\n      <td>0.56</td>\n      <td>13.1</td>\n      <td>4</td>\n      <td>1</td>\n    </tr>\n    <tr>\n      <th>987</th>\n      <td>8.3</td>\n      <td>1.02</td>\n      <td>0.02</td>\n      <td>3.4</td>\n      <td>0.084</td>\n      <td>6.0</td>\n      <td>11.0</td>\n      <td>0.99892</td>\n      <td>3.48</td>\n      <td>0.49</td>\n      <td>11.0</td>\n      <td>3</td>\n      <td>1</td>\n    </tr>\n  </tbody>\n</table>\n</div>",
            "text/plain": "      fixed_acidity  volatile_acidity  citric_acid  residual_sugar  chlorides  \\\n995            15.9              0.36         0.65             7.5      0.096   \n613             5.0              0.42         0.24             2.0      0.060   \n91              8.8              0.46         0.45             2.6      0.065   \n170             4.9              0.42         0.00             2.1      0.048   \n1044            4.6              0.52         0.15             2.1      0.054   \n987             8.3              1.02         0.02             3.4      0.084   \n\n      free_so2  total_so2  density    pH  sulphates  alcohol  quality  \\\n995       22.0       71.0  0.99760  2.98       0.84     14.9        5   \n613       19.0       50.0  0.99170  3.72       0.74     14.0        8   \n91         7.0       18.0  0.99470  3.32       0.79     14.0        6   \n170       16.0       42.0  0.99154  3.71       0.74     14.0        7   \n1044       8.0       65.0  0.99340  3.90       0.56     13.1        4   \n987        6.0       11.0  0.99892  3.48       0.49     11.0        3   \n\n      alc_content_rank  \n995                  1  \n613                  1  \n91                   1  \n170                  1  \n1044                 1  \n987                  1  "
          },
          "metadata": {}
        }
      ]
    },
    {
      "metadata": {
        "collapsed": true
      },
      "cell_type": "markdown",
      "source": "# End of part 09"
    }
  ],
  "metadata": {
    "kernelspec": {
      "name": "python3",
      "display_name": "Python 3",
      "language": "python"
    },
    "language_info": {
      "mimetype": "text/x-python",
      "nbconvert_exporter": "python",
      "name": "python",
      "file_extension": ".py",
      "version": "3.5.4",
      "pygments_lexer": "ipython3",
      "codemirror_mode": {
        "version": 3,
        "name": "ipython"
      }
    }
  },
  "nbformat": 4,
  "nbformat_minor": 1
}