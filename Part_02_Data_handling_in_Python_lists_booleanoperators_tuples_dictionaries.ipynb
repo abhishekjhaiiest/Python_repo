{
  "cells": [
    {
      "metadata": {},
      "cell_type": "markdown",
      "source": "# Part 2\n\n## Complex data types\n\n## Lists"
    },
    {
      "metadata": {
        "trusted": true
      },
      "cell_type": "code",
      "source": "cities = ['New York','London','Mumbai','Berlin','Sydney','Beijing','Singapore','Chicago','Paris','Johannesburg']",
      "execution_count": 1,
      "outputs": []
    },
    {
      "metadata": {
        "trusted": true
      },
      "cell_type": "code",
      "source": "cities",
      "execution_count": 2,
      "outputs": [
        {
          "output_type": "execute_result",
          "execution_count": 2,
          "data": {
            "text/plain": "['New York',\n 'London',\n 'Mumbai',\n 'Berlin',\n 'Sydney',\n 'Beijing',\n 'Singapore',\n 'Chicago',\n 'Paris',\n 'Johannesburg']"
          },
          "metadata": {}
        }
      ]
    },
    {
      "metadata": {
        "trusted": true
      },
      "cell_type": "code",
      "source": "cities[0]",
      "execution_count": 3,
      "outputs": [
        {
          "output_type": "execute_result",
          "execution_count": 3,
          "data": {
            "text/plain": "'New York'"
          },
          "metadata": {}
        }
      ]
    },
    {
      "metadata": {
        "trusted": true
      },
      "cell_type": "code",
      "source": "cities[3]",
      "execution_count": 4,
      "outputs": [
        {
          "output_type": "execute_result",
          "execution_count": 4,
          "data": {
            "text/plain": "'Berlin'"
          },
          "metadata": {}
        }
      ]
    },
    {
      "metadata": {
        "trusted": true
      },
      "cell_type": "code",
      "source": "cities[-3]",
      "execution_count": 5,
      "outputs": [
        {
          "output_type": "execute_result",
          "execution_count": 5,
          "data": {
            "text/plain": "'Chicago'"
          },
          "metadata": {}
        }
      ]
    },
    {
      "metadata": {
        "trusted": true
      },
      "cell_type": "code",
      "source": "cities[1:4]",
      "execution_count": 6,
      "outputs": [
        {
          "output_type": "execute_result",
          "execution_count": 6,
          "data": {
            "text/plain": "['London', 'Mumbai', 'Berlin']"
          },
          "metadata": {}
        }
      ]
    },
    {
      "metadata": {
        "trusted": true
      },
      "cell_type": "code",
      "source": "cities.append('Rome') # add element to the end of the list\ncities",
      "execution_count": 7,
      "outputs": [
        {
          "output_type": "execute_result",
          "execution_count": 7,
          "data": {
            "text/plain": "['New York',\n 'London',\n 'Mumbai',\n 'Berlin',\n 'Sydney',\n 'Beijing',\n 'Singapore',\n 'Chicago',\n 'Paris',\n 'Johannesburg',\n 'Rome']"
          },
          "metadata": {}
        }
      ]
    },
    {
      "metadata": {
        "trusted": true
      },
      "cell_type": "code",
      "source": "cities.append('Istanbul','Tokyo','Toronto')\ncities",
      "execution_count": 8,
      "outputs": [
        {
          "output_type": "error",
          "ename": "TypeError",
          "evalue": "append() takes exactly one argument (3 given)",
          "traceback": [
            "\u001b[0;31m---------------------------------------------------------------------------\u001b[0m",
            "\u001b[0;31mTypeError\u001b[0m                                 Traceback (most recent call last)",
            "\u001b[0;32m<ipython-input-8-f03cea85dd9b>\u001b[0m in \u001b[0;36m<module>\u001b[0;34m()\u001b[0m\n\u001b[0;32m----> 1\u001b[0;31m \u001b[0mcities\u001b[0m\u001b[0;34m.\u001b[0m\u001b[0mappend\u001b[0m\u001b[0;34m(\u001b[0m\u001b[0;34m'Istanbul'\u001b[0m\u001b[0;34m,\u001b[0m\u001b[0;34m'Tokyo'\u001b[0m\u001b[0;34m,\u001b[0m\u001b[0;34m'Toronto'\u001b[0m\u001b[0;34m)\u001b[0m\u001b[0;34m\u001b[0m\u001b[0m\n\u001b[0m\u001b[1;32m      2\u001b[0m \u001b[0mcities\u001b[0m\u001b[0;34m\u001b[0m\u001b[0m\n",
            "\u001b[0;31mTypeError\u001b[0m: append() takes exactly one argument (3 given)"
          ]
        }
      ]
    },
    {
      "metadata": {
        "trusted": true
      },
      "cell_type": "code",
      "source": "cities.append(['Istanbul','Tokyo','Toronto'])\ncities",
      "execution_count": 9,
      "outputs": [
        {
          "output_type": "execute_result",
          "execution_count": 9,
          "data": {
            "text/plain": "['New York',\n 'London',\n 'Mumbai',\n 'Berlin',\n 'Sydney',\n 'Beijing',\n 'Singapore',\n 'Chicago',\n 'Paris',\n 'Johannesburg',\n 'Rome',\n ['Istanbul', 'Tokyo', 'Toronto']]"
          },
          "metadata": {}
        }
      ]
    },
    {
      "metadata": {
        "trusted": true
      },
      "cell_type": "code",
      "source": "cities[-1]",
      "execution_count": 10,
      "outputs": [
        {
          "output_type": "execute_result",
          "execution_count": 10,
          "data": {
            "text/plain": "['Istanbul', 'Tokyo', 'Toronto']"
          },
          "metadata": {}
        }
      ]
    },
    {
      "metadata": {
        "trusted": true
      },
      "cell_type": "code",
      "source": "cities.pop() # remove the last element",
      "execution_count": 11,
      "outputs": [
        {
          "output_type": "execute_result",
          "execution_count": 11,
          "data": {
            "text/plain": "['Istanbul', 'Tokyo', 'Toronto']"
          },
          "metadata": {}
        }
      ]
    },
    {
      "metadata": {
        "trusted": true
      },
      "cell_type": "code",
      "source": "cities",
      "execution_count": 12,
      "outputs": [
        {
          "output_type": "execute_result",
          "execution_count": 12,
          "data": {
            "text/plain": "['New York',\n 'London',\n 'Mumbai',\n 'Berlin',\n 'Sydney',\n 'Beijing',\n 'Singapore',\n 'Chicago',\n 'Paris',\n 'Johannesburg',\n 'Rome']"
          },
          "metadata": {}
        }
      ]
    },
    {
      "metadata": {
        "trusted": true
      },
      "cell_type": "code",
      "source": "cities.extend(['Istanbul','Tokyo','Toronto'])\ncities",
      "execution_count": 13,
      "outputs": [
        {
          "output_type": "execute_result",
          "execution_count": 13,
          "data": {
            "text/plain": "['New York',\n 'London',\n 'Mumbai',\n 'Berlin',\n 'Sydney',\n 'Beijing',\n 'Singapore',\n 'Chicago',\n 'Paris',\n 'Johannesburg',\n 'Rome',\n 'Istanbul',\n 'Tokyo',\n 'Toronto']"
          },
          "metadata": {}
        }
      ]
    },
    {
      "metadata": {
        "trusted": true
      },
      "cell_type": "code",
      "source": "cities.insert(4,\"Some new city\") # to add an element at a particular index\ncities",
      "execution_count": 14,
      "outputs": [
        {
          "output_type": "execute_result",
          "execution_count": 14,
          "data": {
            "text/plain": "['New York',\n 'London',\n 'Mumbai',\n 'Berlin',\n 'Some new city',\n 'Sydney',\n 'Beijing',\n 'Singapore',\n 'Chicago',\n 'Paris',\n 'Johannesburg',\n 'Rome',\n 'Istanbul',\n 'Tokyo',\n 'Toronto']"
          },
          "metadata": {}
        }
      ]
    },
    {
      "metadata": {},
      "cell_type": "markdown",
      "source": "The 'remove' method only removes the first occurrence"
    },
    {
      "metadata": {
        "trusted": true
      },
      "cell_type": "code",
      "source": "cities.remove(\"Some new city\") # Note: only removes first occurrence\ncities",
      "execution_count": 15,
      "outputs": [
        {
          "output_type": "execute_result",
          "execution_count": 15,
          "data": {
            "text/plain": "['New York',\n 'London',\n 'Mumbai',\n 'Berlin',\n 'Sydney',\n 'Beijing',\n 'Singapore',\n 'Chicago',\n 'Paris',\n 'Johannesburg',\n 'Rome',\n 'Istanbul',\n 'Tokyo',\n 'Toronto']"
          },
          "metadata": {}
        }
      ]
    },
    {
      "metadata": {
        "trusted": true
      },
      "cell_type": "code",
      "source": "cities.remove(\"Chicago\")",
      "execution_count": 16,
      "outputs": []
    },
    {
      "metadata": {
        "trusted": true
      },
      "cell_type": "code",
      "source": "cities",
      "execution_count": 17,
      "outputs": [
        {
          "output_type": "execute_result",
          "execution_count": 17,
          "data": {
            "text/plain": "['New York',\n 'London',\n 'Mumbai',\n 'Berlin',\n 'Sydney',\n 'Beijing',\n 'Singapore',\n 'Paris',\n 'Johannesburg',\n 'Rome',\n 'Istanbul',\n 'Tokyo',\n 'Toronto']"
          },
          "metadata": {}
        }
      ]
    },
    {
      "metadata": {
        "trusted": true
      },
      "cell_type": "code",
      "source": "\"Boston\" in cities",
      "execution_count": 4,
      "outputs": [
        {
          "output_type": "execute_result",
          "execution_count": 4,
          "data": {
            "text/plain": "False"
          },
          "metadata": {}
        }
      ]
    },
    {
      "metadata": {
        "trusted": true
      },
      "cell_type": "code",
      "source": "\"Mumbai\" in cities",
      "execution_count": 5,
      "outputs": [
        {
          "output_type": "execute_result",
          "execution_count": 5,
          "data": {
            "text/plain": "True"
          },
          "metadata": {}
        }
      ]
    },
    {
      "metadata": {
        "trusted": true
      },
      "cell_type": "code",
      "source": "num_list = [1,2,4,5,6,4,7,0]\nnum_list",
      "execution_count": 6,
      "outputs": [
        {
          "output_type": "execute_result",
          "execution_count": 6,
          "data": {
            "text/plain": "[1, 2, 4, 5, 6, 4, 7, 0]"
          },
          "metadata": {}
        }
      ]
    },
    {
      "metadata": {},
      "cell_type": "markdown",
      "source": "<b>Lists can hold mixed data types, but this is not recommended</b>"
    },
    {
      "metadata": {
        "trusted": true
      },
      "cell_type": "code",
      "source": "print(\"This is the start of the list of cities\")\nfor temp_city in cities:\n        print(\"\\t%s\" % temp_city)\nprint(\"This is the end of the list of cities\")",
      "execution_count": 7,
      "outputs": [
        {
          "output_type": "stream",
          "text": "This is the start of the list of cities\n\tNew York\n\tLondon\n\tMumbai\n\tBerlin\n\tSydney\n\tBeijing\n\tSingapore\n\tChicago\n\tParis\n\tJohannesburg\nThis is the end of the list of cities\n",
          "name": "stdout"
        }
      ]
    },
    {
      "metadata": {
        "trusted": true
      },
      "cell_type": "code",
      "source": "indian_cities = ['Mumbai','Delhi','Bangalore','Hyderabad','Chennai',\n          'Ahmedabad','Kolkata','Surat','Pune','Jaipur','Nagpur',\n          'Indore','Visakhapatnam']\nindian_cities",
      "execution_count": 8,
      "outputs": [
        {
          "output_type": "execute_result",
          "execution_count": 8,
          "data": {
            "text/plain": "['Mumbai',\n 'Delhi',\n 'Bangalore',\n 'Hyderabad',\n 'Chennai',\n 'Ahmedabad',\n 'Kolkata',\n 'Surat',\n 'Pune',\n 'Jaipur',\n 'Nagpur',\n 'Indore',\n 'Visakhapatnam']"
          },
          "metadata": {}
        }
      ]
    },
    {
      "metadata": {
        "trusted": true
      },
      "cell_type": "code",
      "source": "for temp_city in indian_cities:\n    phrase = 'Welcome to ' + temp_city\n    if \"pur\" in temp_city:\n        print(phrase + ', which is a city containing \"pur\"')\n    elif \"bad\" in temp_city:\n        print(phrase + ', which is a \"bad\" city!')\n    else:\n        print(phrase)",
      "execution_count": 9,
      "outputs": [
        {
          "output_type": "stream",
          "text": "Welcome to Mumbai\nWelcome to Delhi\nWelcome to Bangalore\nWelcome to Hyderabad, which is a \"bad\" city!\nWelcome to Chennai\nWelcome to Ahmedabad, which is a \"bad\" city!\nWelcome to Kolkata\nWelcome to Surat\nWelcome to Pune\nWelcome to Jaipur, which is a city containing \"pur\"\nWelcome to Nagpur, which is a city containing \"pur\"\nWelcome to Indore\nWelcome to Visakhapatnam\n",
          "name": "stdout"
        }
      ]
    },
    {
      "metadata": {
        "trusted": true
      },
      "cell_type": "code",
      "source": "range(100) # same as creating the list [0,1,2,3,4,5,6,...,97,98,99]",
      "execution_count": 10,
      "outputs": [
        {
          "output_type": "execute_result",
          "execution_count": 10,
          "data": {
            "text/plain": "range(0, 100)"
          },
          "metadata": {}
        }
      ]
    },
    {
      "metadata": {
        "trusted": true
      },
      "cell_type": "code",
      "source": "for n in range(10):\n    print('The inverse of ',n,' is ',1/n)",
      "execution_count": 11,
      "outputs": [
        {
          "output_type": "error",
          "ename": "ZeroDivisionError",
          "evalue": "division by zero",
          "traceback": [
            "\u001b[0;31m---------------------------------------------------------------------------\u001b[0m",
            "\u001b[0;31mZeroDivisionError\u001b[0m                         Traceback (most recent call last)",
            "\u001b[0;32m<ipython-input-11-6048abad86c0>\u001b[0m in \u001b[0;36m<module>\u001b[0;34m()\u001b[0m\n\u001b[1;32m      1\u001b[0m \u001b[0;32mfor\u001b[0m \u001b[0mn\u001b[0m \u001b[0;32min\u001b[0m \u001b[0mrange\u001b[0m\u001b[0;34m(\u001b[0m\u001b[0;36m10\u001b[0m\u001b[0;34m)\u001b[0m\u001b[0;34m:\u001b[0m\u001b[0;34m\u001b[0m\u001b[0m\n\u001b[0;32m----> 2\u001b[0;31m     \u001b[0mprint\u001b[0m\u001b[0;34m(\u001b[0m\u001b[0;34m'The inverse of '\u001b[0m\u001b[0;34m,\u001b[0m\u001b[0mn\u001b[0m\u001b[0;34m,\u001b[0m\u001b[0;34m' is '\u001b[0m\u001b[0;34m,\u001b[0m\u001b[0;36m1\u001b[0m\u001b[0;34m/\u001b[0m\u001b[0mn\u001b[0m\u001b[0;34m)\u001b[0m\u001b[0;34m\u001b[0m\u001b[0m\n\u001b[0m",
            "\u001b[0;31mZeroDivisionError\u001b[0m: division by zero"
          ]
        }
      ]
    },
    {
      "metadata": {
        "trusted": true
      },
      "cell_type": "code",
      "source": "for n in range(1,10):\n    print('The inverse of ',n,' is ',1/n)",
      "execution_count": 12,
      "outputs": [
        {
          "output_type": "stream",
          "text": "The inverse of  1  is  1.0\nThe inverse of  2  is  0.5\nThe inverse of  3  is  0.3333333333333333\nThe inverse of  4  is  0.25\nThe inverse of  5  is  0.2\nThe inverse of  6  is  0.16666666666666666\nThe inverse of  7  is  0.14285714285714285\nThe inverse of  8  is  0.125\nThe inverse of  9  is  0.1111111111111111\n",
          "name": "stdout"
        }
      ]
    },
    {
      "metadata": {
        "trusted": true
      },
      "cell_type": "code",
      "source": "for n in range(10):\n    if n == 0:\n        print('The inverse of 0 is not defined')\n    else:\n        print('The inverse of ',n,' is ',1/n)",
      "execution_count": null,
      "outputs": []
    },
    {
      "metadata": {},
      "cell_type": "markdown",
      "source": "Unlike strings, lists are *mutable*:"
    },
    {
      "metadata": {
        "trusted": true
      },
      "cell_type": "code",
      "source": "aList = ['Dog','Cat','Cow','Pig','Horse']",
      "execution_count": 13,
      "outputs": []
    },
    {
      "metadata": {
        "trusted": true
      },
      "cell_type": "code",
      "source": "aList[2]",
      "execution_count": 14,
      "outputs": [
        {
          "output_type": "execute_result",
          "execution_count": 14,
          "data": {
            "text/plain": "'Cow'"
          },
          "metadata": {}
        }
      ]
    },
    {
      "metadata": {
        "trusted": true
      },
      "cell_type": "code",
      "source": "aList[2] = 'Buffalo'",
      "execution_count": 15,
      "outputs": []
    },
    {
      "metadata": {
        "trusted": true
      },
      "cell_type": "code",
      "source": "aList",
      "execution_count": 16,
      "outputs": [
        {
          "output_type": "execute_result",
          "execution_count": 16,
          "data": {
            "text/plain": "['Dog', 'Cat', 'Buffalo', 'Pig', 'Horse']"
          },
          "metadata": {}
        }
      ]
    },
    {
      "metadata": {},
      "cell_type": "markdown",
      "source": "# Boolean operators"
    },
    {
      "metadata": {
        "trusted": true
      },
      "cell_type": "code",
      "source": "1 == 2",
      "execution_count": 17,
      "outputs": [
        {
          "output_type": "execute_result",
          "execution_count": 17,
          "data": {
            "text/plain": "False"
          },
          "metadata": {}
        }
      ]
    },
    {
      "metadata": {
        "trusted": true
      },
      "cell_type": "code",
      "source": "2 == 2",
      "execution_count": 18,
      "outputs": [
        {
          "output_type": "execute_result",
          "execution_count": 18,
          "data": {
            "text/plain": "True"
          },
          "metadata": {}
        }
      ]
    },
    {
      "metadata": {
        "trusted": true
      },
      "cell_type": "code",
      "source": "x = 3 # Assignment",
      "execution_count": 19,
      "outputs": []
    },
    {
      "metadata": {
        "trusted": true
      },
      "cell_type": "code",
      "source": "x == 4 # Comparison",
      "execution_count": 20,
      "outputs": [
        {
          "output_type": "execute_result",
          "execution_count": 20,
          "data": {
            "text/plain": "False"
          },
          "metadata": {}
        }
      ]
    },
    {
      "metadata": {
        "trusted": true
      },
      "cell_type": "code",
      "source": "3 > 6",
      "execution_count": 21,
      "outputs": [
        {
          "output_type": "execute_result",
          "execution_count": 21,
          "data": {
            "text/plain": "False"
          },
          "metadata": {}
        }
      ]
    },
    {
      "metadata": {
        "trusted": true
      },
      "cell_type": "code",
      "source": "5 < 9",
      "execution_count": 22,
      "outputs": [
        {
          "output_type": "execute_result",
          "execution_count": 22,
          "data": {
            "text/plain": "True"
          },
          "metadata": {}
        }
      ]
    },
    {
      "metadata": {
        "trusted": true
      },
      "cell_type": "code",
      "source": "1 >= 2",
      "execution_count": 23,
      "outputs": [
        {
          "output_type": "execute_result",
          "execution_count": 23,
          "data": {
            "text/plain": "False"
          },
          "metadata": {}
        }
      ]
    },
    {
      "metadata": {
        "trusted": true
      },
      "cell_type": "code",
      "source": "1 <= 2",
      "execution_count": 24,
      "outputs": [
        {
          "output_type": "execute_result",
          "execution_count": 24,
          "data": {
            "text/plain": "True"
          },
          "metadata": {}
        }
      ]
    },
    {
      "metadata": {
        "trusted": true
      },
      "cell_type": "code",
      "source": "1 != 2",
      "execution_count": 25,
      "outputs": [
        {
          "output_type": "execute_result",
          "execution_count": 25,
          "data": {
            "text/plain": "True"
          },
          "metadata": {}
        }
      ]
    },
    {
      "metadata": {},
      "cell_type": "markdown",
      "source": "# Tuples - like lists, but are immutable"
    },
    {
      "metadata": {
        "trusted": true
      },
      "cell_type": "code",
      "source": "t = (1,2,3)\nt",
      "execution_count": 26,
      "outputs": [
        {
          "output_type": "execute_result",
          "execution_count": 26,
          "data": {
            "text/plain": "(1, 2, 3)"
          },
          "metadata": {}
        }
      ]
    },
    {
      "metadata": {
        "trusted": true
      },
      "cell_type": "code",
      "source": "t.append(4)",
      "execution_count": 27,
      "outputs": [
        {
          "output_type": "error",
          "ename": "AttributeError",
          "evalue": "'tuple' object has no attribute 'append'",
          "traceback": [
            "\u001b[0;31m---------------------------------------------------------------------------\u001b[0m",
            "\u001b[0;31mAttributeError\u001b[0m                            Traceback (most recent call last)",
            "\u001b[0;32m<ipython-input-27-ada7ed8a579e>\u001b[0m in \u001b[0;36m<module>\u001b[0;34m()\u001b[0m\n\u001b[0;32m----> 1\u001b[0;31m \u001b[0mt\u001b[0m\u001b[0;34m.\u001b[0m\u001b[0mappend\u001b[0m\u001b[0;34m(\u001b[0m\u001b[0;36m4\u001b[0m\u001b[0;34m)\u001b[0m\u001b[0;34m\u001b[0m\u001b[0m\n\u001b[0m",
            "\u001b[0;31mAttributeError\u001b[0m: 'tuple' object has no attribute 'append'"
          ]
        }
      ]
    },
    {
      "metadata": {
        "trusted": true
      },
      "cell_type": "code",
      "source": "t1 = [1,2,3]\nt1",
      "execution_count": 28,
      "outputs": [
        {
          "output_type": "execute_result",
          "execution_count": 28,
          "data": {
            "text/plain": "[1, 2, 3]"
          },
          "metadata": {}
        }
      ]
    },
    {
      "metadata": {
        "trusted": true
      },
      "cell_type": "code",
      "source": "t1.append(4)\nt1",
      "execution_count": 29,
      "outputs": [
        {
          "output_type": "execute_result",
          "execution_count": 29,
          "data": {
            "text/plain": "[1, 2, 3, 4]"
          },
          "metadata": {}
        }
      ]
    },
    {
      "metadata": {},
      "cell_type": "markdown",
      "source": "Tuples can also be created from other objects using the function *tuple()*"
    },
    {
      "metadata": {
        "trusted": true
      },
      "cell_type": "code",
      "source": "newTuple = tuple(t1)",
      "execution_count": 30,
      "outputs": []
    },
    {
      "metadata": {
        "trusted": true
      },
      "cell_type": "code",
      "source": "newTuple",
      "execution_count": 31,
      "outputs": [
        {
          "output_type": "execute_result",
          "execution_count": 31,
          "data": {
            "text/plain": "(1, 2, 3, 4)"
          },
          "metadata": {}
        }
      ]
    },
    {
      "metadata": {},
      "cell_type": "markdown",
      "source": "<b>Now note:</b>\n\n\n[ ] is used to specify the index of a string or list or other object\n\n[ ] is also used to define a list\n\n( ) is used to pass arguments (or parameters) to a function or method\n\n( ) is also used to define a tuple"
    },
    {
      "metadata": {},
      "cell_type": "markdown",
      "source": "# Dictionaries - mapping objects or associative arrays\n\n### An unordered collection of key-value pairs"
    },
    {
      "metadata": {
        "trusted": true
      },
      "cell_type": "code",
      "source": "my_list = [1,2,3]",
      "execution_count": 20,
      "outputs": []
    },
    {
      "metadata": {
        "trusted": true
      },
      "cell_type": "code",
      "source": "my_dict = {'New York':28,'Chicago':22,'Phoenix':31,'Dallas':27,'Los Angeles':32} # note the {}",
      "execution_count": 35,
      "outputs": []
    },
    {
      "metadata": {
        "trusted": true
      },
      "cell_type": "code",
      "source": "my_dict",
      "execution_count": 36,
      "outputs": [
        {
          "output_type": "execute_result",
          "execution_count": 36,
          "data": {
            "text/plain": "{'Chicago': 22, 'Dallas': 27, 'Los Angeles': 32, 'New York': 28, 'Phoenix': 31}"
          },
          "metadata": {}
        }
      ]
    },
    {
      "metadata": {
        "trusted": true
      },
      "cell_type": "code",
      "source": "my_dict1 = {'1':[28,12,34,56,78],'Chicago':22,'Phoenix':31,'Dallas':27,'Los Angeles':32} # note the {}",
      "execution_count": 3,
      "outputs": []
    },
    {
      "metadata": {
        "trusted": true
      },
      "cell_type": "code",
      "source": "my_dict1",
      "execution_count": 4,
      "outputs": [
        {
          "output_type": "execute_result",
          "execution_count": 4,
          "data": {
            "text/plain": "{'1': [28, 12, 34, 56, 78],\n 'Chicago': 22,\n 'Dallas': 27,\n 'Los Angeles': 32,\n 'Phoenix': 31}"
          },
          "metadata": {}
        }
      ]
    },
    {
      "metadata": {
        "trusted": true
      },
      "cell_type": "code",
      "source": "my_dict1['1']",
      "execution_count": 9,
      "outputs": [
        {
          "output_type": "execute_result",
          "execution_count": 9,
          "data": {
            "text/plain": "[28, 12, 34, 56, 78]"
          },
          "metadata": {}
        }
      ]
    },
    {
      "metadata": {
        "trusted": true
      },
      "cell_type": "code",
      "source": "my_dict['New York']",
      "execution_count": 23,
      "outputs": [
        {
          "output_type": "execute_result",
          "execution_count": 23,
          "data": {
            "text/plain": "28"
          },
          "metadata": {}
        }
      ]
    },
    {
      "metadata": {
        "trusted": true
      },
      "cell_type": "code",
      "source": "my_dict['St Louis']",
      "execution_count": 24,
      "outputs": [
        {
          "output_type": "error",
          "ename": "KeyError",
          "evalue": "'St Louis'",
          "traceback": [
            "\u001b[0;31m---------------------------------------------------------------------------\u001b[0m",
            "\u001b[0;31mKeyError\u001b[0m                                  Traceback (most recent call last)",
            "\u001b[0;32m<ipython-input-24-560610067e92>\u001b[0m in \u001b[0;36m<module>\u001b[0;34m()\u001b[0m\n\u001b[0;32m----> 1\u001b[0;31m \u001b[0mmy_dict\u001b[0m\u001b[0;34m[\u001b[0m\u001b[0;34m'St Louis'\u001b[0m\u001b[0;34m]\u001b[0m\u001b[0;34m\u001b[0m\u001b[0m\n\u001b[0m",
            "\u001b[0;31mKeyError\u001b[0m: 'St Louis'"
          ]
        }
      ]
    },
    {
      "metadata": {
        "trusted": true
      },
      "cell_type": "code",
      "source": "len(my_dict)",
      "execution_count": 37,
      "outputs": [
        {
          "output_type": "execute_result",
          "execution_count": 37,
          "data": {
            "text/plain": "5"
          },
          "metadata": {}
        }
      ]
    },
    {
      "metadata": {
        "trusted": true
      },
      "cell_type": "code",
      "source": "my_dict['St Louis'] = 31 # add a new key-value pair\nmy_dict",
      "execution_count": 25,
      "outputs": [
        {
          "output_type": "execute_result",
          "execution_count": 25,
          "data": {
            "text/plain": "{'Chicago': 22,\n 'Dallas': 27,\n 'Los Angeles': 32,\n 'New York': 28,\n 'Phoenix': 31,\n 'St Louis': 31}"
          },
          "metadata": {}
        }
      ]
    },
    {
      "metadata": {
        "trusted": true
      },
      "cell_type": "code",
      "source": "my_dict['Dallas'] = 28 # change value for an existing key\nmy_dict",
      "execution_count": null,
      "outputs": []
    },
    {
      "metadata": {
        "trusted": true
      },
      "cell_type": "code",
      "source": "'Boston' in my_dict",
      "execution_count": 27,
      "outputs": [
        {
          "output_type": "execute_result",
          "execution_count": 27,
          "data": {
            "text/plain": "False"
          },
          "metadata": {}
        }
      ]
    },
    {
      "metadata": {
        "trusted": true
      },
      "cell_type": "code",
      "source": "'Chicago' in my_dict",
      "execution_count": 28,
      "outputs": [
        {
          "output_type": "execute_result",
          "execution_count": 28,
          "data": {
            "text/plain": "True"
          },
          "metadata": {}
        }
      ]
    },
    {
      "metadata": {
        "trusted": true
      },
      "cell_type": "code",
      "source": "del my_dict['Phoenix']\nmy_dict",
      "execution_count": 29,
      "outputs": [
        {
          "output_type": "execute_result",
          "execution_count": 29,
          "data": {
            "text/plain": "{'Chicago': 22,\n 'Dallas': 27,\n 'Los Angeles': 32,\n 'New York': 28,\n 'St Louis': 31}"
          },
          "metadata": {}
        }
      ]
    },
    {
      "metadata": {
        "trusted": true
      },
      "cell_type": "code",
      "source": "dict1 = {'SF':8.37e5,'LA':3.88e6,'NYC':8.4e6}",
      "execution_count": 30,
      "outputs": []
    },
    {
      "metadata": {
        "trusted": true
      },
      "cell_type": "code",
      "source": "dict2 = {'City':['SF','LA','NYC'],'Population':[8.37e5,3.88e6,8.4e6]} # create a dictionary\ndict2",
      "execution_count": 31,
      "outputs": [
        {
          "output_type": "execute_result",
          "execution_count": 31,
          "data": {
            "text/plain": "{'City': ['SF', 'LA', 'NYC'], 'Population': [837000.0, 3880000.0, 8400000.0]}"
          },
          "metadata": {}
        }
      ]
    },
    {
      "metadata": {},
      "cell_type": "markdown",
      "source": "## End of part 2"
    }
  ],
  "metadata": {
    "kernelspec": {
      "name": "python3",
      "display_name": "Python 3",
      "language": "python"
    },
    "language_info": {
      "mimetype": "text/x-python",
      "nbconvert_exporter": "python",
      "name": "python",
      "pygments_lexer": "ipython3",
      "version": "3.5.4",
      "file_extension": ".py",
      "codemirror_mode": {
        "version": 3,
        "name": "ipython"
      }
    }
  },
  "nbformat": 4,
  "nbformat_minor": 1
}