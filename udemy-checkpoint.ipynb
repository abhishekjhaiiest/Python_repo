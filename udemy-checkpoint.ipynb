{
  "cells": [
    {
      "metadata": {
        "trusted": true
      },
      "cell_type": "code",
      "source": "#tuple = immutable list",
      "execution_count": 1,
      "outputs": []
    },
    {
      "metadata": {
        "trusted": true
      },
      "cell_type": "code",
      "source": "t1 = (345, 450, 876)",
      "execution_count": 2,
      "outputs": []
    },
    {
      "metadata": {
        "trusted": true
      },
      "cell_type": "code",
      "source": "t1[1]",
      "execution_count": 3,
      "outputs": [
        {
          "output_type": "execute_result",
          "execution_count": 3,
          "data": {
            "text/plain": "450"
          },
          "metadata": {}
        }
      ]
    },
    {
      "metadata": {
        "trusted": true
      },
      "cell_type": "code",
      "source": "t1[0]",
      "execution_count": 4,
      "outputs": [
        {
          "output_type": "execute_result",
          "execution_count": 4,
          "data": {
            "text/plain": "345"
          },
          "metadata": {}
        }
      ]
    },
    {
      "metadata": {
        "trusted": true
      },
      "cell_type": "code",
      "source": "t1[1] = 45 #in tuples you can not change the values and the tuples are created using () brackets",
      "execution_count": 6,
      "outputs": [
        {
          "output_type": "error",
          "ename": "TypeError",
          "evalue": "'tuple' object does not support item assignment",
          "traceback": [
            "\u001b[0;31m---------------------------------------------------------------------------\u001b[0m",
            "\u001b[0;31mTypeError\u001b[0m                                 Traceback (most recent call last)",
            "\u001b[0;32m<ipython-input-6-432284035735>\u001b[0m in \u001b[0;36m<module>\u001b[0;34m()\u001b[0m\n\u001b[0;32m----> 1\u001b[0;31m \u001b[0mt1\u001b[0m\u001b[0;34m[\u001b[0m\u001b[0;36m1\u001b[0m\u001b[0;34m]\u001b[0m \u001b[0;34m=\u001b[0m \u001b[0;36m45\u001b[0m \u001b[0;31m#in tuples you can not change the values and the tuples are created using () brackets\u001b[0m\u001b[0;34m\u001b[0m\u001b[0m\n\u001b[0m",
            "\u001b[0;31mTypeError\u001b[0m: 'tuple' object does not support item assignment"
          ]
        }
      ]
    },
    {
      "metadata": {},
      "cell_type": "markdown",
      "source": "----"
    },
    {
      "metadata": {
        "trusted": true
      },
      "cell_type": "code",
      "source": "#Functions in python",
      "execution_count": 7,
      "outputs": []
    },
    {
      "metadata": {
        "trusted": true
      },
      "cell_type": "code",
      "source": "range(20, 31)",
      "execution_count": 12,
      "outputs": [
        {
          "output_type": "execute_result",
          "execution_count": 12,
          "data": {
            "text/plain": "range(20, 31)"
          },
          "metadata": {}
        }
      ]
    },
    {
      "metadata": {
        "trusted": true
      },
      "cell_type": "code",
      "source": "list(range(20,31))",
      "execution_count": 9,
      "outputs": [
        {
          "output_type": "execute_result",
          "execution_count": 9,
          "data": {
            "text/plain": "[20, 21, 22, 23, 24, 25, 26, 27, 28, 29, 30]"
          },
          "metadata": {}
        }
      ]
    },
    {
      "metadata": {
        "trusted": true
      },
      "cell_type": "code",
      "source": "mylist1 = list(range(20, 31))",
      "execution_count": 10,
      "outputs": []
    },
    {
      "metadata": {
        "trusted": true
      },
      "cell_type": "code",
      "source": "mylist1",
      "execution_count": 11,
      "outputs": [
        {
          "output_type": "execute_result",
          "execution_count": 11,
          "data": {
            "text/plain": "[20, 21, 22, 23, 24, 25, 26, 27, 28, 29, 30]"
          },
          "metadata": {}
        }
      ]
    },
    {
      "metadata": {
        "trusted": true
      },
      "cell_type": "code",
      "source": "print(mylist1)",
      "execution_count": 13,
      "outputs": [
        {
          "output_type": "stream",
          "text": "[20, 21, 22, 23, 24, 25, 26, 27, 28, 29, 30]\n",
          "name": "stdout"
        }
      ]
    },
    {
      "metadata": {
        "trusted": true
      },
      "cell_type": "code",
      "source": "len(mylist1) #len counts the number of elements",
      "execution_count": 15,
      "outputs": [
        {
          "output_type": "execute_result",
          "execution_count": 15,
          "data": {
            "text/plain": "11"
          },
          "metadata": {}
        }
      ]
    },
    {
      "metadata": {
        "trusted": true
      },
      "cell_type": "code",
      "source": "type(mylist1)",
      "execution_count": 16,
      "outputs": [
        {
          "output_type": "execute_result",
          "execution_count": 16,
          "data": {
            "text/plain": "list"
          },
          "metadata": {}
        }
      ]
    },
    {
      "metadata": {
        "trusted": true
      },
      "cell_type": "code",
      "source": "max(mylist1)",
      "execution_count": 17,
      "outputs": [
        {
          "output_type": "execute_result",
          "execution_count": 17,
          "data": {
            "text/plain": "30"
          },
          "metadata": {}
        }
      ]
    },
    {
      "metadata": {
        "trusted": true
      },
      "cell_type": "code",
      "source": "min(mylist1)",
      "execution_count": 18,
      "outputs": [
        {
          "output_type": "execute_result",
          "execution_count": 18,
          "data": {
            "text/plain": "20"
          },
          "metadata": {}
        }
      ]
    },
    {
      "metadata": {
        "trusted": true
      },
      "cell_type": "code",
      "source": "max(11, 435, 2)",
      "execution_count": 19,
      "outputs": [
        {
          "output_type": "execute_result",
          "execution_count": 19,
          "data": {
            "text/plain": "435"
          },
          "metadata": {}
        }
      ]
    },
    {
      "metadata": {},
      "cell_type": "markdown",
      "source": "---"
    },
    {
      "metadata": {
        "trusted": true
      },
      "cell_type": "code",
      "source": "#Arrays in python",
      "execution_count": 22,
      "outputs": []
    },
    {
      "metadata": {
        "trusted": true
      },
      "cell_type": "code",
      "source": "l = [2234, -98, 345, 78, 0]",
      "execution_count": 23,
      "outputs": []
    },
    {
      "metadata": {
        "trusted": true
      },
      "cell_type": "code",
      "source": "l",
      "execution_count": 24,
      "outputs": [
        {
          "output_type": "execute_result",
          "execution_count": 24,
          "data": {
            "text/plain": "[2234, -98, 345, 78, 0]"
          },
          "metadata": {}
        }
      ]
    },
    {
      "metadata": {
        "trusted": true
      },
      "cell_type": "code",
      "source": "import numpy as np",
      "execution_count": 25,
      "outputs": []
    },
    {
      "metadata": {
        "trusted": true
      },
      "cell_type": "code",
      "source": "a = np.array(l)",
      "execution_count": 26,
      "outputs": []
    },
    {
      "metadata": {
        "trusted": true
      },
      "cell_type": "code",
      "source": "a",
      "execution_count": 27,
      "outputs": [
        {
          "output_type": "execute_result",
          "execution_count": 27,
          "data": {
            "text/plain": "array([2234,  -98,  345,   78,    0])"
          },
          "metadata": {}
        }
      ]
    },
    {
      "metadata": {
        "trusted": true
      },
      "cell_type": "code",
      "source": "b = np.array([123, \"abc\", 65.90, True])",
      "execution_count": 28,
      "outputs": []
    },
    {
      "metadata": {
        "trusted": true
      },
      "cell_type": "code",
      "source": "b",
      "execution_count": 29,
      "outputs": [
        {
          "output_type": "execute_result",
          "execution_count": 29,
          "data": {
            "text/plain": "array(['123', 'abc', '65.9', 'True'], dtype='<U21')"
          },
          "metadata": {}
        }
      ]
    },
    {
      "metadata": {
        "trusted": true
      },
      "cell_type": "code",
      "source": "#Array can not have different data types whereas list can have. Then why do we use array? It is because there are \n# more function present in array compare to list. use tab button after l. and a. to see the functions for list \n# and array which are present.",
      "execution_count": 30,
      "outputs": []
    },
    {
      "metadata": {
        "trusted": true
      },
      "cell_type": "code",
      "source": "l.pop()",
      "execution_count": 33,
      "outputs": [
        {
          "output_type": "execute_result",
          "execution_count": 33,
          "data": {
            "text/plain": "0"
          },
          "metadata": {}
        }
      ]
    },
    {
      "metadata": {
        "trusted": true
      },
      "cell_type": "code",
      "source": "l",
      "execution_count": 34,
      "outputs": [
        {
          "output_type": "execute_result",
          "execution_count": 34,
          "data": {
            "text/plain": "[2234, -98, 345, 78]"
          },
          "metadata": {}
        }
      ]
    },
    {
      "metadata": {
        "trusted": true
      },
      "cell_type": "code",
      "source": "a.mean()",
      "execution_count": 35,
      "outputs": [
        {
          "output_type": "execute_result",
          "execution_count": 35,
          "data": {
            "text/plain": "511.8"
          },
          "metadata": {}
        }
      ]
    },
    {
      "metadata": {
        "trusted": true
      },
      "cell_type": "code",
      "source": "l[1:]",
      "execution_count": 38,
      "outputs": [
        {
          "output_type": "execute_result",
          "execution_count": 38,
          "data": {
            "text/plain": "[-98, 345, 78]"
          },
          "metadata": {}
        }
      ]
    },
    {
      "metadata": {
        "trusted": true
      },
      "cell_type": "code",
      "source": "l[0:2]",
      "execution_count": 39,
      "outputs": [
        {
          "output_type": "execute_result",
          "execution_count": 39,
          "data": {
            "text/plain": "[2234, -98]"
          },
          "metadata": {}
        }
      ]
    },
    {
      "metadata": {
        "trusted": true
      },
      "cell_type": "code",
      "source": "l[::2]",
      "execution_count": 40,
      "outputs": [
        {
          "output_type": "execute_result",
          "execution_count": 40,
          "data": {
            "text/plain": "[2234, 345]"
          },
          "metadata": {}
        }
      ]
    },
    {
      "metadata": {
        "trusted": true
      },
      "cell_type": "code",
      "source": "#---------------",
      "execution_count": 42,
      "outputs": []
    },
    {
      "metadata": {
        "trusted": true
      },
      "cell_type": "code",
      "source": "#Slicing of arrays",
      "execution_count": 43,
      "outputs": []
    },
    {
      "metadata": {
        "trusted": true
      },
      "cell_type": "code",
      "source": "a",
      "execution_count": 44,
      "outputs": [
        {
          "output_type": "execute_result",
          "execution_count": 44,
          "data": {
            "text/plain": "array([2234,  -98,  345,   78,    0])"
          },
          "metadata": {}
        }
      ]
    },
    {
      "metadata": {
        "trusted": true
      },
      "cell_type": "code",
      "source": "a[2:]",
      "execution_count": 45,
      "outputs": [
        {
          "output_type": "execute_result",
          "execution_count": 45,
          "data": {
            "text/plain": "array([345,  78,   0])"
          },
          "metadata": {}
        }
      ]
    },
    {
      "metadata": {
        "trusted": true
      },
      "cell_type": "code",
      "source": "a[2:4]",
      "execution_count": 46,
      "outputs": [
        {
          "output_type": "execute_result",
          "execution_count": 46,
          "data": {
            "text/plain": "array([345,  78])"
          },
          "metadata": {}
        }
      ]
    },
    {
      "metadata": {
        "trusted": true
      },
      "cell_type": "code",
      "source": "b = a[2:4] #it creates the view of array",
      "execution_count": 47,
      "outputs": []
    },
    {
      "metadata": {
        "trusted": true
      },
      "cell_type": "code",
      "source": "b",
      "execution_count": 48,
      "outputs": [
        {
          "output_type": "execute_result",
          "execution_count": 48,
          "data": {
            "text/plain": "array([345,  78])"
          },
          "metadata": {}
        }
      ]
    },
    {
      "metadata": {
        "trusted": true
      },
      "cell_type": "code",
      "source": "b[0]",
      "execution_count": 49,
      "outputs": [
        {
          "output_type": "execute_result",
          "execution_count": 49,
          "data": {
            "text/plain": "345"
          },
          "metadata": {}
        }
      ]
    },
    {
      "metadata": {
        "trusted": true
      },
      "cell_type": "code",
      "source": "b[:] = 111",
      "execution_count": 52,
      "outputs": []
    },
    {
      "metadata": {
        "trusted": true
      },
      "cell_type": "code",
      "source": "b",
      "execution_count": 53,
      "outputs": [
        {
          "output_type": "execute_result",
          "execution_count": 53,
          "data": {
            "text/plain": "array([111, 111])"
          },
          "metadata": {}
        }
      ]
    },
    {
      "metadata": {
        "trusted": true
      },
      "cell_type": "code",
      "source": "a",
      "execution_count": 54,
      "outputs": [
        {
          "output_type": "execute_result",
          "execution_count": 54,
          "data": {
            "text/plain": "array([2234,  -98,  111,  111,    0])"
          },
          "metadata": {}
        }
      ]
    },
    {
      "metadata": {
        "trusted": true
      },
      "cell_type": "code",
      "source": "c = a.copy()",
      "execution_count": 55,
      "outputs": []
    },
    {
      "metadata": {
        "trusted": true
      },
      "cell_type": "code",
      "source": "c",
      "execution_count": 56,
      "outputs": [
        {
          "output_type": "execute_result",
          "execution_count": 56,
          "data": {
            "text/plain": "array([2234,  -98,  111,  111,    0])"
          },
          "metadata": {}
        }
      ]
    },
    {
      "metadata": {
        "trusted": true
      },
      "cell_type": "code",
      "source": "c[0] = 0",
      "execution_count": 58,
      "outputs": []
    },
    {
      "metadata": {
        "trusted": true
      },
      "cell_type": "code",
      "source": " c",
      "execution_count": 59,
      "outputs": [
        {
          "output_type": "execute_result",
          "execution_count": 59,
          "data": {
            "text/plain": "array([  0, -98, 111, 111,   0])"
          },
          "metadata": {}
        }
      ]
    },
    {
      "metadata": {
        "trusted": true
      },
      "cell_type": "code",
      "source": "a",
      "execution_count": 60,
      "outputs": [
        {
          "output_type": "execute_result",
          "execution_count": 60,
          "data": {
            "text/plain": "array([2234,  -98,  111,  111,    0])"
          },
          "metadata": {}
        }
      ]
    },
    {
      "metadata": {
        "trusted": true
      },
      "cell_type": "markdown",
      "source": "-----"
    },
    {
      "metadata": {
        "trusted": true
      },
      "cell_type": "code",
      "source": "#Section 4: Matrices",
      "execution_count": null,
      "outputs": []
    },
    {
      "metadata": {
        "trusted": true
      },
      "cell_type": "code",
      "source": "#Dear Student,\n#\n#Welcome to the world of Basketball Data!\n#I'm sure you will enjoy this section of the Python Programming course.\n#\n#Instructions for this dataset:\n# Simply copy ALL the lines in this script by pressing \n# CTRL+A on Windows or CMND+A on Mac and run the Jupyter cell\n# Once you have executed the commands the following objects\n# will be created:\n# Matrices:\n# - Salary\n# - Games\n# - MinutesPlayed\n# - FieldGoals\n# - FieldGoalAttempts\n# - Points\n# Lists:\n# - Players\n# - Seasons\n# Dictionaries:\n# - Sdict\n# - Pdict\n#We will understand these inside the course.\n#\n#Sincerely,\n#Kirill Eremenko\n#www.superdatascience.com\n\n#Copyright: These datasets were prepared using publicly available data.\n#           However, theses scripts are subject to Copyright Laws. \n#           If you wish to use these Python scripts outside of the Python Programming Course\n#           by Kirill Eremenko, you may do so by referencing www.superdatascience.com in your work.\n\n#Comments:\n#Seasons are labeled based on the first year in the season\n#E.g. the 2012-2013 season is preseneted as simply 2012\n\n#Notes and Corrections to the data:\n#Kevin Durant: 2006 - College Data Used\n#Kevin Durant: 2005 - Proxied With 2006 Data\n#Derrick Rose: 2012 - Did Not Play\n#Derrick Rose: 2007 - College Data Used\n#Derrick Rose: 2006 - Proxied With 2007 Data\n#Derrick Rose: 2005 - Proxied With 2007 Data\n\n#Import numpy\nimport numpy as np\n\n#Seasons\nSeasons = [\"2005\",\"2006\",\"2007\",\"2008\",\"2009\",\"2010\",\"2011\",\"2012\",\"2013\",\"2014\"]\nSdict = {\"2005\":0,\"2006\":1,\"2007\":2,\"2008\":3,\"2009\":4,\"2010\":5,\"2011\":6,\"2012\":7,\"2013\":8,\"2014\":9}\n\n#Players\nPlayers = [\"KobeBryant\",\"JoeJohnson\",\"LeBronJames\",\"CarmeloAnthony\",\"DwightHoward\",\"ChrisBosh\",\"ChrisPaul\",\"KevinDurant\",\"DerrickRose\",\"DwayneWade\"]\nPdict = {\"KobeBryant\":0,\"JoeJohnson\":1,\"LeBronJames\":2,\"CarmeloAnthony\":3,\"DwightHoward\":4,\"ChrisBosh\":5,\"ChrisPaul\":6,\"KevinDurant\":7,\"DerrickRose\":8,\"DwayneWade\":9}\n\n#Salaries\nKobeBryant_Salary = [15946875,17718750,19490625,21262500,23034375,24806250,25244493,27849149,30453805,23500000]\nJoeJohnson_Salary = [12000000,12744189,13488377,14232567,14976754,16324500,18038573,19752645,21466718,23180790]\nLeBronJames_Salary = [4621800,5828090,13041250,14410581,15779912,14500000,16022500,17545000,19067500,20644400]\nCarmeloAnthony_Salary = [3713640,4694041,13041250,14410581,15779912,17149243,18518574,19450000,22407474,22458000]\nDwightHoward_Salary = [4493160,4806720,6061274,13758000,15202590,16647180,18091770,19536360,20513178,21436271]\nChrisBosh_Salary = [3348000,4235220,12455000,14410581,15779912,14500000,16022500,17545000,19067500,20644400]\nChrisPaul_Salary = [3144240,3380160,3615960,4574189,13520500,14940153,16359805,17779458,18668431,20068563]\nKevinDurant_Salary = [0,0,4171200,4484040,4796880,6053663,15506632,16669630,17832627,18995624]\nDerrickRose_Salary = [0,0,0,4822800,5184480,5546160,6993708,16402500,17632688,18862875]\nDwayneWade_Salary = [3031920,3841443,13041250,14410581,15779912,14200000,15691000,17182000,18673000,15000000]\n#Matrix\nSalary = np.array([KobeBryant_Salary, JoeJohnson_Salary, LeBronJames_Salary, CarmeloAnthony_Salary, DwightHoward_Salary, ChrisBosh_Salary, ChrisPaul_Salary, KevinDurant_Salary, DerrickRose_Salary, DwayneWade_Salary])\n\n#Games \nKobeBryant_G = [80,77,82,82,73,82,58,78,6,35]\nJoeJohnson_G = [82,57,82,79,76,72,60,72,79,80]\nLeBronJames_G = [79,78,75,81,76,79,62,76,77,69]\nCarmeloAnthony_G = [80,65,77,66,69,77,55,67,77,40]\nDwightHoward_G = [82,82,82,79,82,78,54,76,71,41]\nChrisBosh_G = [70,69,67,77,70,77,57,74,79,44]\nChrisPaul_G = [78,64,80,78,45,80,60,70,62,82]\nKevinDurant_G = [35,35,80,74,82,78,66,81,81,27]\nDerrickRose_G = [40,40,40,81,78,81,39,0,10,51]\nDwayneWade_G = [75,51,51,79,77,76,49,69,54,62]\n#Matrix\nGames = np.array([KobeBryant_G, JoeJohnson_G, LeBronJames_G, CarmeloAnthony_G, DwightHoward_G, ChrisBosh_G, ChrisPaul_G, KevinDurant_G, DerrickRose_G, DwayneWade_G])\n\n#Minutes Played\nKobeBryant_MP = [3277,3140,3192,2960,2835,2779,2232,3013,177,1207]\nJoeJohnson_MP = [3340,2359,3343,3124,2886,2554,2127,2642,2575,2791]\nLeBronJames_MP = [3361,3190,3027,3054,2966,3063,2326,2877,2902,2493]\nCarmeloAnthony_MP = [2941,2486,2806,2277,2634,2751,1876,2482,2982,1428]\nDwightHoward_MP = [3021,3023,3088,2821,2843,2935,2070,2722,2396,1223]\nChrisBosh_MP = [2751,2658,2425,2928,2526,2795,2007,2454,2531,1556]\nChrisPaul_MP = [2808,2353,3006,3002,1712,2880,2181,2335,2171,2857]\nKevinDurant_MP = [1255,1255,2768,2885,3239,3038,2546,3119,3122,913]\nDerrickRose_MP = [1168,1168,1168,3000,2871,3026,1375,0,311,1530]\nDwayneWade_MP = [2892,1931,1954,3048,2792,2823,1625,2391,1775,1971]\n#Matrix\nMinutesPlayed = np.array([KobeBryant_MP, JoeJohnson_MP, LeBronJames_MP, CarmeloAnthony_MP, DwightHoward_MP, ChrisBosh_MP, ChrisPaul_MP, KevinDurant_MP, DerrickRose_MP, DwayneWade_MP])\n\n#Field Goals\nKobeBryant_FG = [978,813,775,800,716,740,574,738,31,266]\nJoeJohnson_FG = [632,536,647,620,635,514,423,445,462,446]\nLeBronJames_FG = [875,772,794,789,768,758,621,765,767,624]\nCarmeloAnthony_FG = [756,691,728,535,688,684,441,669,743,358]\nDwightHoward_FG = [468,526,583,560,510,619,416,470,473,251]\nChrisBosh_FG = [549,543,507,615,600,524,393,485,492,343]\nChrisPaul_FG = [407,381,630,631,314,430,425,412,406,568]\nKevinDurant_FG = [306,306,587,661,794,711,643,731,849,238]\nDerrickRose_FG = [208,208,208,574,672,711,302,0,58,338]\nDwayneWade_FG = [699,472,439,854,719,692,416,569,415,509]\n#Matrix\nFieldGoals  = np.array([KobeBryant_FG, JoeJohnson_FG, LeBronJames_FG, CarmeloAnthony_FG, DwightHoward_FG, ChrisBosh_FG, ChrisPaul_FG, KevinDurant_FG, DerrickRose_FG, DwayneWade_FG])\n\n#Field Goal Attempts\nKobeBryant_FGA = [2173,1757,1690,1712,1569,1639,1336,1595,73,713]\nJoeJohnson_FGA = [1395,1139,1497,1420,1386,1161,931,1052,1018,1025]\nLeBronJames_FGA = [1823,1621,1642,1613,1528,1485,1169,1354,1353,1279]\nCarmeloAnthony_FGA = [1572,1453,1481,1207,1502,1503,1025,1489,1643,806]\nDwightHoward_FGA = [881,873,974,979,834,1044,726,813,800,423]\nChrisBosh_FGA = [1087,1094,1027,1263,1158,1056,807,907,953,745]\nChrisPaul_FGA = [947,871,1291,1255,637,928,890,856,870,1170]\nKevinDurant_FGA = [647,647,1366,1390,1668,1538,1297,1433,1688,467]\nDerrickRose_FGA = [436,436,436,1208,1373,1597,695,0,164,835]\nDwayneWade_FGA = [1413,962,937,1739,1511,1384,837,1093,761,1084]\n#Matrix\nFieldGoalAttempts = np.array([KobeBryant_FGA, JoeJohnson_FGA, LeBronJames_FGA, CarmeloAnthony_FGA, DwightHoward_FGA, ChrisBosh_FGA, ChrisPaul_FGA, KevinDurant_FGA, DerrickRose_FGA, DwayneWade_FGA])\n\n#Points\nKobeBryant_PTS = [2832,2430,2323,2201,1970,2078,1616,2133,83,782]\nJoeJohnson_PTS = [1653,1426,1779,1688,1619,1312,1129,1170,1245,1154]\nLeBronJames_PTS = [2478,2132,2250,2304,2258,2111,1683,2036,2089,1743]\nCarmeloAnthony_PTS = [2122,1881,1978,1504,1943,1970,1245,1920,2112,966]\nDwightHoward_PTS = [1292,1443,1695,1624,1503,1784,1113,1296,1297,646]\nChrisBosh_PTS = [1572,1561,1496,1746,1678,1438,1025,1232,1281,928]\nChrisPaul_PTS = [1258,1104,1684,1781,841,1268,1189,1186,1185,1564]\nKevinDurant_PTS = [903,903,1624,1871,2472,2161,1850,2280,2593,686]\nDerrickRose_PTS = [597,597,597,1361,1619,2026,852,0,159,904]\nDwayneWade_PTS = [2040,1397,1254,2386,2045,1941,1082,1463,1028,1331]\n#Matrix\nPoints = np.array([KobeBryant_PTS, JoeJohnson_PTS, LeBronJames_PTS, CarmeloAnthony_PTS, DwightHoward_PTS, ChrisBosh_PTS, ChrisPaul_PTS, KevinDurant_PTS, DerrickRose_PTS, DwayneWade_PTS])             \n",
      "execution_count": null,
      "outputs": []
    },
    {
      "metadata": {
        "trusted": true
      },
      "cell_type": "code",
      "source": "",
      "execution_count": null,
      "outputs": []
    }
  ],
  "metadata": {
    "kernelspec": {
      "name": "python3",
      "display_name": "Python 3",
      "language": "python"
    },
    "language_info": {
      "mimetype": "text/x-python",
      "nbconvert_exporter": "python",
      "name": "python",
      "file_extension": ".py",
      "version": "3.5.4",
      "pygments_lexer": "ipython3",
      "codemirror_mode": {
        "version": 3,
        "name": "ipython"
      }
    }
  },
  "nbformat": 4,
  "nbformat_minor": 2
}