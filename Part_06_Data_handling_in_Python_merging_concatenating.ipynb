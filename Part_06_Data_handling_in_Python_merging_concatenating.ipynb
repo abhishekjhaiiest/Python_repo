{
  "cells": [
    {
      "metadata": {},
      "cell_type": "markdown",
      "source": "\n# Part 6"
    },
    {
      "metadata": {},
      "cell_type": "markdown",
      "source": "# Merging"
    },
    {
      "metadata": {
        "trusted": true
      },
      "cell_type": "code",
      "source": "import numpy as np\nimport pandas as pd\nfrom pandas import Series,DataFrame",
      "execution_count": 1,
      "outputs": []
    },
    {
      "metadata": {
        "trusted": true
      },
      "cell_type": "code",
      "source": "temp_data = {'customer':['X','Z','Y','Z','X','X'],'product_code': np.arange(6)} # first create a dictionary\ntemp_data",
      "execution_count": 2,
      "outputs": [
        {
          "output_type": "execute_result",
          "execution_count": 2,
          "data": {
            "text/plain": "{'customer': ['X', 'Z', 'Y', 'Z', 'X', 'X'],\n 'product_code': array([0, 1, 2, 3, 4, 5])}"
          },
          "metadata": {}
        }
      ]
    },
    {
      "metadata": {
        "trusted": true
      },
      "cell_type": "code",
      "source": "dframe1 = DataFrame(temp_data) # then create a data frame using the data in this dictionary\ndframe1",
      "execution_count": 3,
      "outputs": [
        {
          "output_type": "execute_result",
          "execution_count": 3,
          "data": {
            "text/plain": "  customer  product_code\n0        X             0\n1        Z             1\n2        Y             2\n3        Z             3\n4        X             4\n5        X             5",
            "text/html": "<div>\n<table border=\"1\" class=\"dataframe\">\n  <thead>\n    <tr style=\"text-align: right;\">\n      <th></th>\n      <th>customer</th>\n      <th>product_code</th>\n    </tr>\n  </thead>\n  <tbody>\n    <tr>\n      <th>0</th>\n      <td>X</td>\n      <td>0</td>\n    </tr>\n    <tr>\n      <th>1</th>\n      <td>Z</td>\n      <td>1</td>\n    </tr>\n    <tr>\n      <th>2</th>\n      <td>Y</td>\n      <td>2</td>\n    </tr>\n    <tr>\n      <th>3</th>\n      <td>Z</td>\n      <td>3</td>\n    </tr>\n    <tr>\n      <th>4</th>\n      <td>X</td>\n      <td>4</td>\n    </tr>\n    <tr>\n      <th>5</th>\n      <td>X</td>\n      <td>5</td>\n    </tr>\n  </tbody>\n</table>\n</div>"
          },
          "metadata": {}
        }
      ]
    },
    {
      "metadata": {
        "trusted": true
      },
      "cell_type": "code",
      "source": "dframe2 = DataFrame({'customer':['Q','Y','Z'],'state':['TN','KA','MH']}) # create the DF from a dict in one step\ndframe2",
      "execution_count": 4,
      "outputs": [
        {
          "output_type": "execute_result",
          "execution_count": 4,
          "data": {
            "text/plain": "  customer state\n0        Q    TN\n1        Y    KA\n2        Z    MH",
            "text/html": "<div>\n<table border=\"1\" class=\"dataframe\">\n  <thead>\n    <tr style=\"text-align: right;\">\n      <th></th>\n      <th>customer</th>\n      <th>state</th>\n    </tr>\n  </thead>\n  <tbody>\n    <tr>\n      <th>0</th>\n      <td>Q</td>\n      <td>TN</td>\n    </tr>\n    <tr>\n      <th>1</th>\n      <td>Y</td>\n      <td>KA</td>\n    </tr>\n    <tr>\n      <th>2</th>\n      <td>Z</td>\n      <td>MH</td>\n    </tr>\n  </tbody>\n</table>\n</div>"
          },
          "metadata": {}
        }
      ]
    },
    {
      "metadata": {
        "trusted": true
      },
      "cell_type": "code",
      "source": "pd.merge(dframe1,dframe2, left_on = 'customer', right_on = 'customer') # inner join; R:merge(x=...,y=...,by=...) or dplyr::inner_join(x,y)",
      "execution_count": 8,
      "outputs": [
        {
          "output_type": "execute_result",
          "execution_count": 8,
          "data": {
            "text/plain": "  customer  product_code state\n0        Z             1    MH\n1        Z             3    MH\n2        Y             2    KA",
            "text/html": "<div>\n<table border=\"1\" class=\"dataframe\">\n  <thead>\n    <tr style=\"text-align: right;\">\n      <th></th>\n      <th>customer</th>\n      <th>product_code</th>\n      <th>state</th>\n    </tr>\n  </thead>\n  <tbody>\n    <tr>\n      <th>0</th>\n      <td>Z</td>\n      <td>1</td>\n      <td>MH</td>\n    </tr>\n    <tr>\n      <th>1</th>\n      <td>Z</td>\n      <td>3</td>\n      <td>MH</td>\n    </tr>\n    <tr>\n      <th>2</th>\n      <td>Y</td>\n      <td>2</td>\n      <td>KA</td>\n    </tr>\n  </tbody>\n</table>\n</div>"
          },
          "metadata": {}
        }
      ]
    },
    {
      "metadata": {
        "trusted": true
      },
      "cell_type": "code",
      "source": "my_merged_dframe = pd.merge(dframe1,dframe2,left_on = 'customer', right_on = 'customer') # explicitly specify which column to merge by",
      "execution_count": 9,
      "outputs": []
    },
    {
      "metadata": {
        "trusted": true
      },
      "cell_type": "code",
      "source": "my_merged_dframe",
      "execution_count": 10,
      "outputs": [
        {
          "output_type": "execute_result",
          "execution_count": 10,
          "data": {
            "text/plain": "  customer  product_code state\n0        Z             1    MH\n1        Z             3    MH\n2        Y             2    KA",
            "text/html": "<div>\n<table border=\"1\" class=\"dataframe\">\n  <thead>\n    <tr style=\"text-align: right;\">\n      <th></th>\n      <th>customer</th>\n      <th>product_code</th>\n      <th>state</th>\n    </tr>\n  </thead>\n  <tbody>\n    <tr>\n      <th>0</th>\n      <td>Z</td>\n      <td>1</td>\n      <td>MH</td>\n    </tr>\n    <tr>\n      <th>1</th>\n      <td>Z</td>\n      <td>3</td>\n      <td>MH</td>\n    </tr>\n    <tr>\n      <th>2</th>\n      <td>Y</td>\n      <td>2</td>\n      <td>KA</td>\n    </tr>\n  </tbody>\n</table>\n</div>"
          },
          "metadata": {}
        }
      ]
    },
    {
      "metadata": {
        "trusted": true
      },
      "cell_type": "code",
      "source": "pd.merge(dframe1,dframe2,on = 'customer',how = 'left') # left join",
      "execution_count": 11,
      "outputs": [
        {
          "output_type": "execute_result",
          "execution_count": 11,
          "data": {
            "text/plain": "  customer  product_code state\n0        X             0   NaN\n1        Z             1    MH\n2        Y             2    KA\n3        Z             3    MH\n4        X             4   NaN\n5        X             5   NaN",
            "text/html": "<div>\n<table border=\"1\" class=\"dataframe\">\n  <thead>\n    <tr style=\"text-align: right;\">\n      <th></th>\n      <th>customer</th>\n      <th>product_code</th>\n      <th>state</th>\n    </tr>\n  </thead>\n  <tbody>\n    <tr>\n      <th>0</th>\n      <td>X</td>\n      <td>0</td>\n      <td>NaN</td>\n    </tr>\n    <tr>\n      <th>1</th>\n      <td>Z</td>\n      <td>1</td>\n      <td>MH</td>\n    </tr>\n    <tr>\n      <th>2</th>\n      <td>Y</td>\n      <td>2</td>\n      <td>KA</td>\n    </tr>\n    <tr>\n      <th>3</th>\n      <td>Z</td>\n      <td>3</td>\n      <td>MH</td>\n    </tr>\n    <tr>\n      <th>4</th>\n      <td>X</td>\n      <td>4</td>\n      <td>NaN</td>\n    </tr>\n    <tr>\n      <th>5</th>\n      <td>X</td>\n      <td>5</td>\n      <td>NaN</td>\n    </tr>\n  </tbody>\n</table>\n</div>"
          },
          "metadata": {}
        }
      ]
    },
    {
      "metadata": {
        "trusted": true
      },
      "cell_type": "code",
      "source": "pd.merge(dframe1,dframe2,on='customer',how = 'right') # right join",
      "execution_count": 12,
      "outputs": [
        {
          "output_type": "execute_result",
          "execution_count": 12,
          "data": {
            "text/plain": "  customer  product_code state\n0        Z           1.0    MH\n1        Z           3.0    MH\n2        Y           2.0    KA\n3        Q           NaN    TN",
            "text/html": "<div>\n<table border=\"1\" class=\"dataframe\">\n  <thead>\n    <tr style=\"text-align: right;\">\n      <th></th>\n      <th>customer</th>\n      <th>product_code</th>\n      <th>state</th>\n    </tr>\n  </thead>\n  <tbody>\n    <tr>\n      <th>0</th>\n      <td>Z</td>\n      <td>1.0</td>\n      <td>MH</td>\n    </tr>\n    <tr>\n      <th>1</th>\n      <td>Z</td>\n      <td>3.0</td>\n      <td>MH</td>\n    </tr>\n    <tr>\n      <th>2</th>\n      <td>Y</td>\n      <td>2.0</td>\n      <td>KA</td>\n    </tr>\n    <tr>\n      <th>3</th>\n      <td>Q</td>\n      <td>NaN</td>\n      <td>TN</td>\n    </tr>\n  </tbody>\n</table>\n</div>"
          },
          "metadata": {}
        }
      ]
    },
    {
      "metadata": {
        "trusted": true
      },
      "cell_type": "code",
      "source": "pd.merge(dframe1,dframe2,on='customer',how = 'outer') # outer join",
      "execution_count": 13,
      "outputs": [
        {
          "output_type": "execute_result",
          "execution_count": 13,
          "data": {
            "text/plain": "  customer  product_code state\n0        X           0.0   NaN\n1        X           4.0   NaN\n2        X           5.0   NaN\n3        Z           1.0    MH\n4        Z           3.0    MH\n5        Y           2.0    KA\n6        Q           NaN    TN",
            "text/html": "<div>\n<table border=\"1\" class=\"dataframe\">\n  <thead>\n    <tr style=\"text-align: right;\">\n      <th></th>\n      <th>customer</th>\n      <th>product_code</th>\n      <th>state</th>\n    </tr>\n  </thead>\n  <tbody>\n    <tr>\n      <th>0</th>\n      <td>X</td>\n      <td>0.0</td>\n      <td>NaN</td>\n    </tr>\n    <tr>\n      <th>1</th>\n      <td>X</td>\n      <td>4.0</td>\n      <td>NaN</td>\n    </tr>\n    <tr>\n      <th>2</th>\n      <td>X</td>\n      <td>5.0</td>\n      <td>NaN</td>\n    </tr>\n    <tr>\n      <th>3</th>\n      <td>Z</td>\n      <td>1.0</td>\n      <td>MH</td>\n    </tr>\n    <tr>\n      <th>4</th>\n      <td>Z</td>\n      <td>3.0</td>\n      <td>MH</td>\n    </tr>\n    <tr>\n      <th>5</th>\n      <td>Y</td>\n      <td>2.0</td>\n      <td>KA</td>\n    </tr>\n    <tr>\n      <th>6</th>\n      <td>Q</td>\n      <td>NaN</td>\n      <td>TN</td>\n    </tr>\n  </tbody>\n</table>\n</div>"
          },
          "metadata": {}
        }
      ]
    },
    {
      "metadata": {},
      "cell_type": "markdown",
      "source": "### Many-to-many merge"
    },
    {
      "metadata": {
        "trusted": true
      },
      "cell_type": "code",
      "source": "dframe3 = DataFrame({'key': ['X', 'X', 'X', 'Y', 'Z', 'Z'],'data_set_3': range(6)})\ndframe3",
      "execution_count": 14,
      "outputs": [
        {
          "output_type": "execute_result",
          "execution_count": 14,
          "data": {
            "text/plain": "   data_set_3 key\n0           0   X\n1           1   X\n2           2   X\n3           3   Y\n4           4   Z\n5           5   Z",
            "text/html": "<div>\n<table border=\"1\" class=\"dataframe\">\n  <thead>\n    <tr style=\"text-align: right;\">\n      <th></th>\n      <th>data_set_3</th>\n      <th>key</th>\n    </tr>\n  </thead>\n  <tbody>\n    <tr>\n      <th>0</th>\n      <td>0</td>\n      <td>X</td>\n    </tr>\n    <tr>\n      <th>1</th>\n      <td>1</td>\n      <td>X</td>\n    </tr>\n    <tr>\n      <th>2</th>\n      <td>2</td>\n      <td>X</td>\n    </tr>\n    <tr>\n      <th>3</th>\n      <td>3</td>\n      <td>Y</td>\n    </tr>\n    <tr>\n      <th>4</th>\n      <td>4</td>\n      <td>Z</td>\n    </tr>\n    <tr>\n      <th>5</th>\n      <td>5</td>\n      <td>Z</td>\n    </tr>\n  </tbody>\n</table>\n</div>"
          },
          "metadata": {}
        }
      ]
    },
    {
      "metadata": {
        "trusted": true
      },
      "cell_type": "code",
      "source": "dframe4 = DataFrame({'key': ['Y', 'Y', 'X', 'X', 'Z'],'data_set_4': range(5)})\ndframe4",
      "execution_count": 15,
      "outputs": [
        {
          "output_type": "execute_result",
          "execution_count": 15,
          "data": {
            "text/plain": "   data_set_4 key\n0           0   Y\n1           1   Y\n2           2   X\n3           3   X\n4           4   Z",
            "text/html": "<div>\n<table border=\"1\" class=\"dataframe\">\n  <thead>\n    <tr style=\"text-align: right;\">\n      <th></th>\n      <th>data_set_4</th>\n      <th>key</th>\n    </tr>\n  </thead>\n  <tbody>\n    <tr>\n      <th>0</th>\n      <td>0</td>\n      <td>Y</td>\n    </tr>\n    <tr>\n      <th>1</th>\n      <td>1</td>\n      <td>Y</td>\n    </tr>\n    <tr>\n      <th>2</th>\n      <td>2</td>\n      <td>X</td>\n    </tr>\n    <tr>\n      <th>3</th>\n      <td>3</td>\n      <td>X</td>\n    </tr>\n    <tr>\n      <th>4</th>\n      <td>4</td>\n      <td>Z</td>\n    </tr>\n  </tbody>\n</table>\n</div>"
          },
          "metadata": {}
        }
      ]
    },
    {
      "metadata": {
        "trusted": true
      },
      "cell_type": "code",
      "source": "pd.merge(dframe3,dframe4)",
      "execution_count": 16,
      "outputs": [
        {
          "output_type": "execute_result",
          "execution_count": 16,
          "data": {
            "text/plain": "   data_set_3 key  data_set_4\n0           0   X           2\n1           0   X           3\n2           1   X           2\n3           1   X           3\n4           2   X           2\n5           2   X           3\n6           3   Y           0\n7           3   Y           1\n8           4   Z           4\n9           5   Z           4",
            "text/html": "<div>\n<table border=\"1\" class=\"dataframe\">\n  <thead>\n    <tr style=\"text-align: right;\">\n      <th></th>\n      <th>data_set_3</th>\n      <th>key</th>\n      <th>data_set_4</th>\n    </tr>\n  </thead>\n  <tbody>\n    <tr>\n      <th>0</th>\n      <td>0</td>\n      <td>X</td>\n      <td>2</td>\n    </tr>\n    <tr>\n      <th>1</th>\n      <td>0</td>\n      <td>X</td>\n      <td>3</td>\n    </tr>\n    <tr>\n      <th>2</th>\n      <td>1</td>\n      <td>X</td>\n      <td>2</td>\n    </tr>\n    <tr>\n      <th>3</th>\n      <td>1</td>\n      <td>X</td>\n      <td>3</td>\n    </tr>\n    <tr>\n      <th>4</th>\n      <td>2</td>\n      <td>X</td>\n      <td>2</td>\n    </tr>\n    <tr>\n      <th>5</th>\n      <td>2</td>\n      <td>X</td>\n      <td>3</td>\n    </tr>\n    <tr>\n      <th>6</th>\n      <td>3</td>\n      <td>Y</td>\n      <td>0</td>\n    </tr>\n    <tr>\n      <th>7</th>\n      <td>3</td>\n      <td>Y</td>\n      <td>1</td>\n    </tr>\n    <tr>\n      <th>8</th>\n      <td>4</td>\n      <td>Z</td>\n      <td>4</td>\n    </tr>\n    <tr>\n      <th>9</th>\n      <td>5</td>\n      <td>Z</td>\n      <td>4</td>\n    </tr>\n  </tbody>\n</table>\n</div>"
          },
          "metadata": {}
        }
      ]
    },
    {
      "metadata": {
        "trusted": true
      },
      "cell_type": "code",
      "source": "# Merging with multiple keys\ndf_left = DataFrame({'key1': ['SF', 'SF', 'LA'],'key2': ['one', 'two', 'one'],'left_data': [10,20,30]})\ndf_left",
      "execution_count": 17,
      "outputs": [
        {
          "output_type": "execute_result",
          "execution_count": 17,
          "data": {
            "text/plain": "  key1 key2  left_data\n0   SF  one         10\n1   SF  two         20\n2   LA  one         30",
            "text/html": "<div>\n<table border=\"1\" class=\"dataframe\">\n  <thead>\n    <tr style=\"text-align: right;\">\n      <th></th>\n      <th>key1</th>\n      <th>key2</th>\n      <th>left_data</th>\n    </tr>\n  </thead>\n  <tbody>\n    <tr>\n      <th>0</th>\n      <td>SF</td>\n      <td>one</td>\n      <td>10</td>\n    </tr>\n    <tr>\n      <th>1</th>\n      <td>SF</td>\n      <td>two</td>\n      <td>20</td>\n    </tr>\n    <tr>\n      <th>2</th>\n      <td>LA</td>\n      <td>one</td>\n      <td>30</td>\n    </tr>\n  </tbody>\n</table>\n</div>"
          },
          "metadata": {}
        }
      ]
    },
    {
      "metadata": {
        "trusted": true
      },
      "cell_type": "code",
      "source": "df_right = DataFrame({'key1': ['SF', 'SF', 'LA', 'LA'],'key2': ['one', 'one', 'one', 'two'],'right_data': [40,50,60,70]})\ndf_right",
      "execution_count": 18,
      "outputs": [
        {
          "output_type": "execute_result",
          "execution_count": 18,
          "data": {
            "text/plain": "  key1 key2  right_data\n0   SF  one          40\n1   SF  one          50\n2   LA  one          60\n3   LA  two          70",
            "text/html": "<div>\n<table border=\"1\" class=\"dataframe\">\n  <thead>\n    <tr style=\"text-align: right;\">\n      <th></th>\n      <th>key1</th>\n      <th>key2</th>\n      <th>right_data</th>\n    </tr>\n  </thead>\n  <tbody>\n    <tr>\n      <th>0</th>\n      <td>SF</td>\n      <td>one</td>\n      <td>40</td>\n    </tr>\n    <tr>\n      <th>1</th>\n      <td>SF</td>\n      <td>one</td>\n      <td>50</td>\n    </tr>\n    <tr>\n      <th>2</th>\n      <td>LA</td>\n      <td>one</td>\n      <td>60</td>\n    </tr>\n    <tr>\n      <th>3</th>\n      <td>LA</td>\n      <td>two</td>\n      <td>70</td>\n    </tr>\n  </tbody>\n</table>\n</div>"
          },
          "metadata": {}
        }
      ]
    },
    {
      "metadata": {
        "trusted": true
      },
      "cell_type": "code",
      "source": "pd.merge(df_left,df_right,how = 'inner')",
      "execution_count": 19,
      "outputs": [
        {
          "output_type": "execute_result",
          "execution_count": 19,
          "data": {
            "text/plain": "  key1 key2  left_data  right_data\n0   SF  one         10          40\n1   SF  one         10          50\n2   LA  one         30          60",
            "text/html": "<div>\n<table border=\"1\" class=\"dataframe\">\n  <thead>\n    <tr style=\"text-align: right;\">\n      <th></th>\n      <th>key1</th>\n      <th>key2</th>\n      <th>left_data</th>\n      <th>right_data</th>\n    </tr>\n  </thead>\n  <tbody>\n    <tr>\n      <th>0</th>\n      <td>SF</td>\n      <td>one</td>\n      <td>10</td>\n      <td>40</td>\n    </tr>\n    <tr>\n      <th>1</th>\n      <td>SF</td>\n      <td>one</td>\n      <td>10</td>\n      <td>50</td>\n    </tr>\n    <tr>\n      <th>2</th>\n      <td>LA</td>\n      <td>one</td>\n      <td>30</td>\n      <td>60</td>\n    </tr>\n  </tbody>\n</table>\n</div>"
          },
          "metadata": {}
        }
      ]
    },
    {
      "metadata": {
        "trusted": true
      },
      "cell_type": "code",
      "source": "pd.merge(df_left, df_right, on=['key1', 'key2'], how = 'inner')",
      "execution_count": 20,
      "outputs": [
        {
          "output_type": "execute_result",
          "execution_count": 20,
          "data": {
            "text/plain": "  key1 key2  left_data  right_data\n0   SF  one         10          40\n1   SF  one         10          50\n2   LA  one         30          60",
            "text/html": "<div>\n<table border=\"1\" class=\"dataframe\">\n  <thead>\n    <tr style=\"text-align: right;\">\n      <th></th>\n      <th>key1</th>\n      <th>key2</th>\n      <th>left_data</th>\n      <th>right_data</th>\n    </tr>\n  </thead>\n  <tbody>\n    <tr>\n      <th>0</th>\n      <td>SF</td>\n      <td>one</td>\n      <td>10</td>\n      <td>40</td>\n    </tr>\n    <tr>\n      <th>1</th>\n      <td>SF</td>\n      <td>one</td>\n      <td>10</td>\n      <td>50</td>\n    </tr>\n    <tr>\n      <th>2</th>\n      <td>LA</td>\n      <td>one</td>\n      <td>30</td>\n      <td>60</td>\n    </tr>\n  </tbody>\n</table>\n</div>"
          },
          "metadata": {}
        }
      ]
    },
    {
      "metadata": {
        "trusted": true
      },
      "cell_type": "code",
      "source": "pd.merge(df_left,df_right,on = 'key1') # merging on a single key when there is more than common column",
      "execution_count": 21,
      "outputs": [
        {
          "output_type": "execute_result",
          "execution_count": 21,
          "data": {
            "text/plain": "  key1 key2_x  left_data key2_y  right_data\n0   SF    one         10    one          40\n1   SF    one         10    one          50\n2   SF    two         20    one          40\n3   SF    two         20    one          50\n4   LA    one         30    one          60\n5   LA    one         30    two          70",
            "text/html": "<div>\n<table border=\"1\" class=\"dataframe\">\n  <thead>\n    <tr style=\"text-align: right;\">\n      <th></th>\n      <th>key1</th>\n      <th>key2_x</th>\n      <th>left_data</th>\n      <th>key2_y</th>\n      <th>right_data</th>\n    </tr>\n  </thead>\n  <tbody>\n    <tr>\n      <th>0</th>\n      <td>SF</td>\n      <td>one</td>\n      <td>10</td>\n      <td>one</td>\n      <td>40</td>\n    </tr>\n    <tr>\n      <th>1</th>\n      <td>SF</td>\n      <td>one</td>\n      <td>10</td>\n      <td>one</td>\n      <td>50</td>\n    </tr>\n    <tr>\n      <th>2</th>\n      <td>SF</td>\n      <td>two</td>\n      <td>20</td>\n      <td>one</td>\n      <td>40</td>\n    </tr>\n    <tr>\n      <th>3</th>\n      <td>SF</td>\n      <td>two</td>\n      <td>20</td>\n      <td>one</td>\n      <td>50</td>\n    </tr>\n    <tr>\n      <th>4</th>\n      <td>LA</td>\n      <td>one</td>\n      <td>30</td>\n      <td>one</td>\n      <td>60</td>\n    </tr>\n    <tr>\n      <th>5</th>\n      <td>LA</td>\n      <td>one</td>\n      <td>30</td>\n      <td>two</td>\n      <td>70</td>\n    </tr>\n  </tbody>\n</table>\n</div>"
          },
          "metadata": {}
        }
      ]
    },
    {
      "metadata": {},
      "cell_type": "markdown",
      "source": "Automatically renames the columns to identify which is from which df, by adding suffixes _x and _y; \n\n<i>Or we can specify the suffices we want:</i>"
    },
    {
      "metadata": {
        "trusted": true
      },
      "cell_type": "code",
      "source": "pd.merge(df_left,df_right,on = 'key1',suffixes=['_left','_right'])",
      "execution_count": 22,
      "outputs": [
        {
          "output_type": "execute_result",
          "execution_count": 22,
          "data": {
            "text/plain": "  key1 key2_left  left_data key2_right  right_data\n0   SF       one         10        one          40\n1   SF       one         10        one          50\n2   SF       two         20        one          40\n3   SF       two         20        one          50\n4   LA       one         30        one          60\n5   LA       one         30        two          70",
            "text/html": "<div>\n<table border=\"1\" class=\"dataframe\">\n  <thead>\n    <tr style=\"text-align: right;\">\n      <th></th>\n      <th>key1</th>\n      <th>key2_left</th>\n      <th>left_data</th>\n      <th>key2_right</th>\n      <th>right_data</th>\n    </tr>\n  </thead>\n  <tbody>\n    <tr>\n      <th>0</th>\n      <td>SF</td>\n      <td>one</td>\n      <td>10</td>\n      <td>one</td>\n      <td>40</td>\n    </tr>\n    <tr>\n      <th>1</th>\n      <td>SF</td>\n      <td>one</td>\n      <td>10</td>\n      <td>one</td>\n      <td>50</td>\n    </tr>\n    <tr>\n      <th>2</th>\n      <td>SF</td>\n      <td>two</td>\n      <td>20</td>\n      <td>one</td>\n      <td>40</td>\n    </tr>\n    <tr>\n      <th>3</th>\n      <td>SF</td>\n      <td>two</td>\n      <td>20</td>\n      <td>one</td>\n      <td>50</td>\n    </tr>\n    <tr>\n      <th>4</th>\n      <td>LA</td>\n      <td>one</td>\n      <td>30</td>\n      <td>one</td>\n      <td>60</td>\n    </tr>\n    <tr>\n      <th>5</th>\n      <td>LA</td>\n      <td>one</td>\n      <td>30</td>\n      <td>two</td>\n      <td>70</td>\n    </tr>\n  </tbody>\n</table>\n</div>"
          },
          "metadata": {}
        }
      ]
    },
    {
      "metadata": {},
      "cell_type": "markdown",
      "source": "# Merge on index"
    },
    {
      "metadata": {
        "trusted": true
      },
      "cell_type": "code",
      "source": "df_left = DataFrame({'key': ['X','Y','Z','X','Y'],'data': range(5)})\ndf_left",
      "execution_count": 23,
      "outputs": [
        {
          "output_type": "execute_result",
          "execution_count": 23,
          "data": {
            "text/plain": "   data key\n0     0   X\n1     1   Y\n2     2   Z\n3     3   X\n4     4   Y",
            "text/html": "<div>\n<table border=\"1\" class=\"dataframe\">\n  <thead>\n    <tr style=\"text-align: right;\">\n      <th></th>\n      <th>data</th>\n      <th>key</th>\n    </tr>\n  </thead>\n  <tbody>\n    <tr>\n      <th>0</th>\n      <td>0</td>\n      <td>X</td>\n    </tr>\n    <tr>\n      <th>1</th>\n      <td>1</td>\n      <td>Y</td>\n    </tr>\n    <tr>\n      <th>2</th>\n      <td>2</td>\n      <td>Z</td>\n    </tr>\n    <tr>\n      <th>3</th>\n      <td>3</td>\n      <td>X</td>\n    </tr>\n    <tr>\n      <th>4</th>\n      <td>4</td>\n      <td>Y</td>\n    </tr>\n  </tbody>\n</table>\n</div>"
          },
          "metadata": {}
        }
      ]
    },
    {
      "metadata": {
        "trusted": true
      },
      "cell_type": "code",
      "source": "df_right = DataFrame({'group_data': [10, 20]}, index=['X', 'Y'])\ndf_right",
      "execution_count": 24,
      "outputs": [
        {
          "output_type": "execute_result",
          "execution_count": 24,
          "data": {
            "text/plain": "   group_data\nX          10\nY          20",
            "text/html": "<div>\n<table border=\"1\" class=\"dataframe\">\n  <thead>\n    <tr style=\"text-align: right;\">\n      <th></th>\n      <th>group_data</th>\n    </tr>\n  </thead>\n  <tbody>\n    <tr>\n      <th>X</th>\n      <td>10</td>\n    </tr>\n    <tr>\n      <th>Y</th>\n      <td>20</td>\n    </tr>\n  </tbody>\n</table>\n</div>"
          },
          "metadata": {}
        }
      ]
    },
    {
      "metadata": {
        "trusted": true
      },
      "cell_type": "code",
      "source": "pd.merge(df_left,df_right,left_on = 'key',right_index = True)",
      "execution_count": 25,
      "outputs": [
        {
          "output_type": "execute_result",
          "execution_count": 25,
          "data": {
            "text/plain": "   data key  group_data\n0     0   X          10\n3     3   X          10\n1     1   Y          20\n4     4   Y          20",
            "text/html": "<div>\n<table border=\"1\" class=\"dataframe\">\n  <thead>\n    <tr style=\"text-align: right;\">\n      <th></th>\n      <th>data</th>\n      <th>key</th>\n      <th>group_data</th>\n    </tr>\n  </thead>\n  <tbody>\n    <tr>\n      <th>0</th>\n      <td>0</td>\n      <td>X</td>\n      <td>10</td>\n    </tr>\n    <tr>\n      <th>3</th>\n      <td>3</td>\n      <td>X</td>\n      <td>10</td>\n    </tr>\n    <tr>\n      <th>1</th>\n      <td>1</td>\n      <td>Y</td>\n      <td>20</td>\n    </tr>\n    <tr>\n      <th>4</th>\n      <td>4</td>\n      <td>Y</td>\n      <td>20</td>\n    </tr>\n  </tbody>\n</table>\n</div>"
          },
          "metadata": {}
        }
      ]
    },
    {
      "metadata": {
        "trusted": true
      },
      "cell_type": "code",
      "source": "df_left_hr = DataFrame({'key1': ['SF','SF','SF','LA','LA'],\n                   'key2': [10, 20, 30, 20, 30],\n                   'data_set': np.arange(5.)})\ndf_left_hr",
      "execution_count": 26,
      "outputs": [
        {
          "output_type": "execute_result",
          "execution_count": 26,
          "data": {
            "text/plain": "   data_set key1  key2\n0       0.0   SF    10\n1       1.0   SF    20\n2       2.0   SF    30\n3       3.0   LA    20\n4       4.0   LA    30",
            "text/html": "<div>\n<table border=\"1\" class=\"dataframe\">\n  <thead>\n    <tr style=\"text-align: right;\">\n      <th></th>\n      <th>data_set</th>\n      <th>key1</th>\n      <th>key2</th>\n    </tr>\n  </thead>\n  <tbody>\n    <tr>\n      <th>0</th>\n      <td>0.0</td>\n      <td>SF</td>\n      <td>10</td>\n    </tr>\n    <tr>\n      <th>1</th>\n      <td>1.0</td>\n      <td>SF</td>\n      <td>20</td>\n    </tr>\n    <tr>\n      <th>2</th>\n      <td>2.0</td>\n      <td>SF</td>\n      <td>30</td>\n    </tr>\n    <tr>\n      <th>3</th>\n      <td>3.0</td>\n      <td>LA</td>\n      <td>20</td>\n    </tr>\n    <tr>\n      <th>4</th>\n      <td>4.0</td>\n      <td>LA</td>\n      <td>30</td>\n    </tr>\n  </tbody>\n</table>\n</div>"
          },
          "metadata": {}
        }
      ]
    },
    {
      "metadata": {
        "trusted": true
      },
      "cell_type": "code",
      "source": "df_right_hr = DataFrame(np.arange(10).reshape((5, 2)),\n                   index=[['LA','LA','SF','SF','SF'],[20, 10, 10, 10, 20]],\n                   columns=['col_1', 'col_2'])\ndf_right_hr",
      "execution_count": 30,
      "outputs": [
        {
          "output_type": "execute_result",
          "execution_count": 30,
          "data": {
            "text/plain": "       col_1  col_2\nLA 20      0      1\n   10      2      3\nSF 10      4      5\n   10      6      7\n   20      8      9",
            "text/html": "<div>\n<table border=\"1\" class=\"dataframe\">\n  <thead>\n    <tr style=\"text-align: right;\">\n      <th></th>\n      <th></th>\n      <th>col_1</th>\n      <th>col_2</th>\n    </tr>\n  </thead>\n  <tbody>\n    <tr>\n      <th rowspan=\"2\" valign=\"top\">LA</th>\n      <th>20</th>\n      <td>0</td>\n      <td>1</td>\n    </tr>\n    <tr>\n      <th>10</th>\n      <td>2</td>\n      <td>3</td>\n    </tr>\n    <tr>\n      <th rowspan=\"3\" valign=\"top\">SF</th>\n      <th>10</th>\n      <td>4</td>\n      <td>5</td>\n    </tr>\n    <tr>\n      <th>10</th>\n      <td>6</td>\n      <td>7</td>\n    </tr>\n    <tr>\n      <th>20</th>\n      <td>8</td>\n      <td>9</td>\n    </tr>\n  </tbody>\n</table>\n</div>"
          },
          "metadata": {}
        }
      ]
    },
    {
      "metadata": {
        "trusted": true
      },
      "cell_type": "code",
      "source": "pd.merge(df_left_hr,df_right_hr,left_on=['key1','key2'],right_index=True)",
      "execution_count": 31,
      "outputs": [
        {
          "output_type": "execute_result",
          "execution_count": 31,
          "data": {
            "text/plain": "   data_set key1  key2  col_1  col_2\n0       0.0   SF    10      4      5\n0       0.0   SF    10      6      7\n1       1.0   SF    20      8      9\n3       3.0   LA    20      0      1",
            "text/html": "<div>\n<table border=\"1\" class=\"dataframe\">\n  <thead>\n    <tr style=\"text-align: right;\">\n      <th></th>\n      <th>data_set</th>\n      <th>key1</th>\n      <th>key2</th>\n      <th>col_1</th>\n      <th>col_2</th>\n    </tr>\n  </thead>\n  <tbody>\n    <tr>\n      <th>0</th>\n      <td>0.0</td>\n      <td>SF</td>\n      <td>10</td>\n      <td>4</td>\n      <td>5</td>\n    </tr>\n    <tr>\n      <th>0</th>\n      <td>0.0</td>\n      <td>SF</td>\n      <td>10</td>\n      <td>6</td>\n      <td>7</td>\n    </tr>\n    <tr>\n      <th>1</th>\n      <td>1.0</td>\n      <td>SF</td>\n      <td>20</td>\n      <td>8</td>\n      <td>9</td>\n    </tr>\n    <tr>\n      <th>3</th>\n      <td>3.0</td>\n      <td>LA</td>\n      <td>20</td>\n      <td>0</td>\n      <td>1</td>\n    </tr>\n  </tbody>\n</table>\n</div>"
          },
          "metadata": {}
        }
      ]
    },
    {
      "metadata": {},
      "cell_type": "markdown",
      "source": "Alternative to merge - join"
    },
    {
      "metadata": {
        "trusted": true
      },
      "cell_type": "code",
      "source": "df_left.join(df_right)",
      "execution_count": 29,
      "outputs": [
        {
          "output_type": "execute_result",
          "execution_count": 29,
          "data": {
            "text/plain": "   data key  group_data\n0     0   X         NaN\n1     1   Y         NaN\n2     2   Z         NaN\n3     3   X         NaN\n4     4   Y         NaN",
            "text/html": "<div>\n<table border=\"1\" class=\"dataframe\">\n  <thead>\n    <tr style=\"text-align: right;\">\n      <th></th>\n      <th>data</th>\n      <th>key</th>\n      <th>group_data</th>\n    </tr>\n  </thead>\n  <tbody>\n    <tr>\n      <th>0</th>\n      <td>0</td>\n      <td>X</td>\n      <td>NaN</td>\n    </tr>\n    <tr>\n      <th>1</th>\n      <td>1</td>\n      <td>Y</td>\n      <td>NaN</td>\n    </tr>\n    <tr>\n      <th>2</th>\n      <td>2</td>\n      <td>Z</td>\n      <td>NaN</td>\n    </tr>\n    <tr>\n      <th>3</th>\n      <td>3</td>\n      <td>X</td>\n      <td>NaN</td>\n    </tr>\n    <tr>\n      <th>4</th>\n      <td>4</td>\n      <td>Y</td>\n      <td>NaN</td>\n    </tr>\n  </tbody>\n</table>\n</div>"
          },
          "metadata": {}
        }
      ]
    },
    {
      "metadata": {
        "trusted": true
      },
      "cell_type": "code",
      "source": "df_left",
      "execution_count": 32,
      "outputs": [
        {
          "output_type": "execute_result",
          "execution_count": 32,
          "data": {
            "text/plain": "   data key\n0     0   X\n1     1   Y\n2     2   Z\n3     3   X\n4     4   Y",
            "text/html": "<div>\n<table border=\"1\" class=\"dataframe\">\n  <thead>\n    <tr style=\"text-align: right;\">\n      <th></th>\n      <th>data</th>\n      <th>key</th>\n    </tr>\n  </thead>\n  <tbody>\n    <tr>\n      <th>0</th>\n      <td>0</td>\n      <td>X</td>\n    </tr>\n    <tr>\n      <th>1</th>\n      <td>1</td>\n      <td>Y</td>\n    </tr>\n    <tr>\n      <th>2</th>\n      <td>2</td>\n      <td>Z</td>\n    </tr>\n    <tr>\n      <th>3</th>\n      <td>3</td>\n      <td>X</td>\n    </tr>\n    <tr>\n      <th>4</th>\n      <td>4</td>\n      <td>Y</td>\n    </tr>\n  </tbody>\n</table>\n</div>"
          },
          "metadata": {}
        }
      ]
    },
    {
      "metadata": {
        "trusted": true
      },
      "cell_type": "code",
      "source": "df_right",
      "execution_count": null,
      "outputs": []
    },
    {
      "metadata": {
        "trusted": true
      },
      "cell_type": "code",
      "source": "dframe1",
      "execution_count": null,
      "outputs": []
    },
    {
      "metadata": {
        "trusted": true
      },
      "cell_type": "code",
      "source": "dframe2",
      "execution_count": null,
      "outputs": []
    },
    {
      "metadata": {},
      "cell_type": "markdown",
      "source": "<a name=\"concatenate\"></a>\n# Concatenate"
    },
    {
      "metadata": {
        "trusted": true
      },
      "cell_type": "code",
      "source": "arr1 = np.arange(9).reshape((3,3))\narr1",
      "execution_count": 33,
      "outputs": [
        {
          "output_type": "execute_result",
          "execution_count": 33,
          "data": {
            "text/plain": "array([[0, 1, 2],\n       [3, 4, 5],\n       [6, 7, 8]])"
          },
          "metadata": {}
        }
      ]
    },
    {
      "metadata": {
        "trusted": true
      },
      "cell_type": "code",
      "source": "arr2 = (np.arange(9) + 9).reshape((3,3))\narr2",
      "execution_count": 34,
      "outputs": [
        {
          "output_type": "execute_result",
          "execution_count": 34,
          "data": {
            "text/plain": "array([[ 9, 10, 11],\n       [12, 13, 14],\n       [15, 16, 17]])"
          },
          "metadata": {}
        }
      ]
    },
    {
      "metadata": {},
      "cell_type": "markdown",
      "source": "### Concatenate with <i>numpy</i>"
    },
    {
      "metadata": {
        "trusted": true
      },
      "cell_type": "code",
      "source": "np.concatenate([arr1,arr2],axis=1) # similar to R:cbind",
      "execution_count": 35,
      "outputs": [
        {
          "output_type": "execute_result",
          "execution_count": 35,
          "data": {
            "text/plain": "array([[ 0,  1,  2,  9, 10, 11],\n       [ 3,  4,  5, 12, 13, 14],\n       [ 6,  7,  8, 15, 16, 17]])"
          },
          "metadata": {}
        }
      ]
    },
    {
      "metadata": {
        "trusted": true
      },
      "cell_type": "code",
      "source": "np.concatenate([arr1,arr2],axis=0) # similar to R:rbind",
      "execution_count": 36,
      "outputs": [
        {
          "output_type": "execute_result",
          "execution_count": 36,
          "data": {
            "text/plain": "array([[ 0,  1,  2],\n       [ 3,  4,  5],\n       [ 6,  7,  8],\n       [ 9, 10, 11],\n       [12, 13, 14],\n       [15, 16, 17]])"
          },
          "metadata": {}
        }
      ]
    },
    {
      "metadata": {},
      "cell_type": "markdown",
      "source": "### Concatenate with <i>pandas</i>"
    },
    {
      "metadata": {
        "trusted": true
      },
      "cell_type": "code",
      "source": "ser1 =  Series([0,1,2],index=['T','U','V'])\nser1",
      "execution_count": 37,
      "outputs": [
        {
          "output_type": "execute_result",
          "execution_count": 37,
          "data": {
            "text/plain": "T    0\nU    1\nV    2\ndtype: int64"
          },
          "metadata": {}
        }
      ]
    },
    {
      "metadata": {
        "trusted": true
      },
      "cell_type": "code",
      "source": "ser2 = Series([3,4],index=['X','Y'])\nser2",
      "execution_count": 38,
      "outputs": [
        {
          "output_type": "execute_result",
          "execution_count": 38,
          "data": {
            "text/plain": "X    3\nY    4\ndtype: int64"
          },
          "metadata": {}
        }
      ]
    },
    {
      "metadata": {
        "trusted": true
      },
      "cell_type": "code",
      "source": "pd.concat([ser1,ser2]) # default is by row (axis = 0) - result is a series",
      "execution_count": 39,
      "outputs": [
        {
          "output_type": "execute_result",
          "execution_count": 39,
          "data": {
            "text/plain": "T    0\nU    1\nV    2\nX    3\nY    4\ndtype: int64"
          },
          "metadata": {}
        }
      ]
    },
    {
      "metadata": {
        "trusted": true
      },
      "cell_type": "code",
      "source": "pd.concat([ser1,ser2],axis=1) # by column (axis = 1) - result is a data frame",
      "execution_count": 40,
      "outputs": [
        {
          "output_type": "execute_result",
          "execution_count": 40,
          "data": {
            "text/plain": "     0    1\nT  0.0  NaN\nU  1.0  NaN\nV  2.0  NaN\nX  NaN  3.0\nY  NaN  4.0",
            "text/html": "<div>\n<table border=\"1\" class=\"dataframe\">\n  <thead>\n    <tr style=\"text-align: right;\">\n      <th></th>\n      <th>0</th>\n      <th>1</th>\n    </tr>\n  </thead>\n  <tbody>\n    <tr>\n      <th>T</th>\n      <td>0.0</td>\n      <td>NaN</td>\n    </tr>\n    <tr>\n      <th>U</th>\n      <td>1.0</td>\n      <td>NaN</td>\n    </tr>\n    <tr>\n      <th>V</th>\n      <td>2.0</td>\n      <td>NaN</td>\n    </tr>\n    <tr>\n      <th>X</th>\n      <td>NaN</td>\n      <td>3.0</td>\n    </tr>\n    <tr>\n      <th>Y</th>\n      <td>NaN</td>\n      <td>4.0</td>\n    </tr>\n  </tbody>\n</table>\n</div>"
          },
          "metadata": {}
        }
      ]
    },
    {
      "metadata": {
        "trusted": true
      },
      "cell_type": "code",
      "source": "pd.concat([ser1,ser2],keys = ['cat1','cat2']) # creates an additional (hierarchical) index",
      "execution_count": 41,
      "outputs": [
        {
          "output_type": "execute_result",
          "execution_count": 41,
          "data": {
            "text/plain": "cat1  T    0\n      U    1\n      V    2\ncat2  X    3\n      Y    4\ndtype: int64"
          },
          "metadata": {}
        }
      ]
    },
    {
      "metadata": {
        "trusted": true
      },
      "cell_type": "code",
      "source": "pd.concat([ser1,ser2],keys=['cat1','cat2'],axis = 1) # if we concatenate by column, the keys become column names",
      "execution_count": 42,
      "outputs": [
        {
          "output_type": "execute_result",
          "execution_count": 42,
          "data": {
            "text/plain": "   cat1  cat2\nT   0.0   NaN\nU   1.0   NaN\nV   2.0   NaN\nX   NaN   3.0\nY   NaN   4.0",
            "text/html": "<div>\n<table border=\"1\" class=\"dataframe\">\n  <thead>\n    <tr style=\"text-align: right;\">\n      <th></th>\n      <th>cat1</th>\n      <th>cat2</th>\n    </tr>\n  </thead>\n  <tbody>\n    <tr>\n      <th>T</th>\n      <td>0.0</td>\n      <td>NaN</td>\n    </tr>\n    <tr>\n      <th>U</th>\n      <td>1.0</td>\n      <td>NaN</td>\n    </tr>\n    <tr>\n      <th>V</th>\n      <td>2.0</td>\n      <td>NaN</td>\n    </tr>\n    <tr>\n      <th>X</th>\n      <td>NaN</td>\n      <td>3.0</td>\n    </tr>\n    <tr>\n      <th>Y</th>\n      <td>NaN</td>\n      <td>4.0</td>\n    </tr>\n  </tbody>\n</table>\n</div>"
          },
          "metadata": {}
        }
      ]
    },
    {
      "metadata": {},
      "cell_type": "markdown",
      "source": "### Works the same way for data frames"
    },
    {
      "metadata": {
        "trusted": true
      },
      "cell_type": "code",
      "source": "from numpy.random import randn # if I don't do this, I can still use function randn by calling np.random.randn",
      "execution_count": 43,
      "outputs": []
    },
    {
      "metadata": {
        "trusted": true
      },
      "cell_type": "code",
      "source": "dframe1 = DataFrame(randn(4,3), columns=['X', 'Y', 'Z'])\ndframe1",
      "execution_count": 44,
      "outputs": [
        {
          "output_type": "execute_result",
          "execution_count": 44,
          "data": {
            "text/plain": "          X         Y         Z\n0  2.040587  0.293902  1.581005\n1  1.495358  0.179171  0.503788\n2 -0.059655 -1.263747 -1.599024\n3 -0.332712 -0.373135 -0.975478",
            "text/html": "<div>\n<table border=\"1\" class=\"dataframe\">\n  <thead>\n    <tr style=\"text-align: right;\">\n      <th></th>\n      <th>X</th>\n      <th>Y</th>\n      <th>Z</th>\n    </tr>\n  </thead>\n  <tbody>\n    <tr>\n      <th>0</th>\n      <td>2.040587</td>\n      <td>0.293902</td>\n      <td>1.581005</td>\n    </tr>\n    <tr>\n      <th>1</th>\n      <td>1.495358</td>\n      <td>0.179171</td>\n      <td>0.503788</td>\n    </tr>\n    <tr>\n      <th>2</th>\n      <td>-0.059655</td>\n      <td>-1.263747</td>\n      <td>-1.599024</td>\n    </tr>\n    <tr>\n      <th>3</th>\n      <td>-0.332712</td>\n      <td>-0.373135</td>\n      <td>-0.975478</td>\n    </tr>\n  </tbody>\n</table>\n</div>"
          },
          "metadata": {}
        }
      ]
    },
    {
      "metadata": {
        "trusted": true
      },
      "cell_type": "code",
      "source": "dframe2 = DataFrame(randn(3, 3), columns=['Y', 'Q', 'X'])\ndframe2",
      "execution_count": 45,
      "outputs": [
        {
          "output_type": "execute_result",
          "execution_count": 45,
          "data": {
            "text/plain": "          Y         Q         X\n0 -0.566628  1.733644  0.396353\n1  0.540905  0.809348 -0.782278\n2  0.268566  1.376580 -2.219010",
            "text/html": "<div>\n<table border=\"1\" class=\"dataframe\">\n  <thead>\n    <tr style=\"text-align: right;\">\n      <th></th>\n      <th>Y</th>\n      <th>Q</th>\n      <th>X</th>\n    </tr>\n  </thead>\n  <tbody>\n    <tr>\n      <th>0</th>\n      <td>-0.566628</td>\n      <td>1.733644</td>\n      <td>0.396353</td>\n    </tr>\n    <tr>\n      <th>1</th>\n      <td>0.540905</td>\n      <td>0.809348</td>\n      <td>-0.782278</td>\n    </tr>\n    <tr>\n      <th>2</th>\n      <td>0.268566</td>\n      <td>1.376580</td>\n      <td>-2.219010</td>\n    </tr>\n  </tbody>\n</table>\n</div>"
          },
          "metadata": {}
        }
      ]
    },
    {
      "metadata": {
        "trusted": true
      },
      "cell_type": "code",
      "source": "pd.concat([dframe1,dframe2]) # preserves the original indices",
      "execution_count": 46,
      "outputs": [
        {
          "output_type": "execute_result",
          "execution_count": 46,
          "data": {
            "text/plain": "          Q         X         Y         Z\n0       NaN  2.040587  0.293902  1.581005\n1       NaN  1.495358  0.179171  0.503788\n2       NaN -0.059655 -1.263747 -1.599024\n3       NaN -0.332712 -0.373135 -0.975478\n0  1.733644  0.396353 -0.566628       NaN\n1  0.809348 -0.782278  0.540905       NaN\n2  1.376580 -2.219010  0.268566       NaN",
            "text/html": "<div>\n<table border=\"1\" class=\"dataframe\">\n  <thead>\n    <tr style=\"text-align: right;\">\n      <th></th>\n      <th>Q</th>\n      <th>X</th>\n      <th>Y</th>\n      <th>Z</th>\n    </tr>\n  </thead>\n  <tbody>\n    <tr>\n      <th>0</th>\n      <td>NaN</td>\n      <td>2.040587</td>\n      <td>0.293902</td>\n      <td>1.581005</td>\n    </tr>\n    <tr>\n      <th>1</th>\n      <td>NaN</td>\n      <td>1.495358</td>\n      <td>0.179171</td>\n      <td>0.503788</td>\n    </tr>\n    <tr>\n      <th>2</th>\n      <td>NaN</td>\n      <td>-0.059655</td>\n      <td>-1.263747</td>\n      <td>-1.599024</td>\n    </tr>\n    <tr>\n      <th>3</th>\n      <td>NaN</td>\n      <td>-0.332712</td>\n      <td>-0.373135</td>\n      <td>-0.975478</td>\n    </tr>\n    <tr>\n      <th>0</th>\n      <td>1.733644</td>\n      <td>0.396353</td>\n      <td>-0.566628</td>\n      <td>NaN</td>\n    </tr>\n    <tr>\n      <th>1</th>\n      <td>0.809348</td>\n      <td>-0.782278</td>\n      <td>0.540905</td>\n      <td>NaN</td>\n    </tr>\n    <tr>\n      <th>2</th>\n      <td>1.376580</td>\n      <td>-2.219010</td>\n      <td>0.268566</td>\n      <td>NaN</td>\n    </tr>\n  </tbody>\n</table>\n</div>"
          },
          "metadata": {}
        }
      ]
    },
    {
      "metadata": {
        "trusted": true
      },
      "cell_type": "code",
      "source": "pd.concat([dframe1,dframe2],ignore_index = True) # ignores original index and creates new (continuous) index",
      "execution_count": 47,
      "outputs": [
        {
          "output_type": "execute_result",
          "execution_count": 47,
          "data": {
            "text/plain": "          Q         X         Y         Z\n0       NaN  2.040587  0.293902  1.581005\n1       NaN  1.495358  0.179171  0.503788\n2       NaN -0.059655 -1.263747 -1.599024\n3       NaN -0.332712 -0.373135 -0.975478\n4  1.733644  0.396353 -0.566628       NaN\n5  0.809348 -0.782278  0.540905       NaN\n6  1.376580 -2.219010  0.268566       NaN",
            "text/html": "<div>\n<table border=\"1\" class=\"dataframe\">\n  <thead>\n    <tr style=\"text-align: right;\">\n      <th></th>\n      <th>Q</th>\n      <th>X</th>\n      <th>Y</th>\n      <th>Z</th>\n    </tr>\n  </thead>\n  <tbody>\n    <tr>\n      <th>0</th>\n      <td>NaN</td>\n      <td>2.040587</td>\n      <td>0.293902</td>\n      <td>1.581005</td>\n    </tr>\n    <tr>\n      <th>1</th>\n      <td>NaN</td>\n      <td>1.495358</td>\n      <td>0.179171</td>\n      <td>0.503788</td>\n    </tr>\n    <tr>\n      <th>2</th>\n      <td>NaN</td>\n      <td>-0.059655</td>\n      <td>-1.263747</td>\n      <td>-1.599024</td>\n    </tr>\n    <tr>\n      <th>3</th>\n      <td>NaN</td>\n      <td>-0.332712</td>\n      <td>-0.373135</td>\n      <td>-0.975478</td>\n    </tr>\n    <tr>\n      <th>4</th>\n      <td>1.733644</td>\n      <td>0.396353</td>\n      <td>-0.566628</td>\n      <td>NaN</td>\n    </tr>\n    <tr>\n      <th>5</th>\n      <td>0.809348</td>\n      <td>-0.782278</td>\n      <td>0.540905</td>\n      <td>NaN</td>\n    </tr>\n    <tr>\n      <th>6</th>\n      <td>1.376580</td>\n      <td>-2.219010</td>\n      <td>0.268566</td>\n      <td>NaN</td>\n    </tr>\n  </tbody>\n</table>\n</div>"
          },
          "metadata": {}
        }
      ]
    },
    {
      "metadata": {
        "trusted": true
      },
      "cell_type": "code",
      "source": "pd.concat([dframe1,dframe2],axis = 1)",
      "execution_count": 48,
      "outputs": [
        {
          "output_type": "execute_result",
          "execution_count": 48,
          "data": {
            "text/plain": "          X         Y         Z         Y         Q         X\n0  2.040587  0.293902  1.581005 -0.566628  1.733644  0.396353\n1  1.495358  0.179171  0.503788  0.540905  0.809348 -0.782278\n2 -0.059655 -1.263747 -1.599024  0.268566  1.376580 -2.219010\n3 -0.332712 -0.373135 -0.975478       NaN       NaN       NaN",
            "text/html": "<div>\n<table border=\"1\" class=\"dataframe\">\n  <thead>\n    <tr style=\"text-align: right;\">\n      <th></th>\n      <th>X</th>\n      <th>Y</th>\n      <th>Z</th>\n      <th>Y</th>\n      <th>Q</th>\n      <th>X</th>\n    </tr>\n  </thead>\n  <tbody>\n    <tr>\n      <th>0</th>\n      <td>2.040587</td>\n      <td>0.293902</td>\n      <td>1.581005</td>\n      <td>-0.566628</td>\n      <td>1.733644</td>\n      <td>0.396353</td>\n    </tr>\n    <tr>\n      <th>1</th>\n      <td>1.495358</td>\n      <td>0.179171</td>\n      <td>0.503788</td>\n      <td>0.540905</td>\n      <td>0.809348</td>\n      <td>-0.782278</td>\n    </tr>\n    <tr>\n      <th>2</th>\n      <td>-0.059655</td>\n      <td>-1.263747</td>\n      <td>-1.599024</td>\n      <td>0.268566</td>\n      <td>1.376580</td>\n      <td>-2.219010</td>\n    </tr>\n    <tr>\n      <th>3</th>\n      <td>-0.332712</td>\n      <td>-0.373135</td>\n      <td>-0.975478</td>\n      <td>NaN</td>\n      <td>NaN</td>\n      <td>NaN</td>\n    </tr>\n  </tbody>\n</table>\n</div>"
          },
          "metadata": {}
        }
      ]
    },
    {
      "metadata": {},
      "cell_type": "markdown",
      "source": "## End of part 6"
    }
  ],
  "metadata": {
    "kernelspec": {
      "name": "python3",
      "display_name": "Python 3",
      "language": "python"
    },
    "language_info": {
      "mimetype": "text/x-python",
      "nbconvert_exporter": "python",
      "name": "python",
      "pygments_lexer": "ipython3",
      "version": "3.5.4",
      "file_extension": ".py",
      "codemirror_mode": {
        "version": 3,
        "name": "ipython"
      }
    }
  },
  "nbformat": 4,
  "nbformat_minor": 1
}